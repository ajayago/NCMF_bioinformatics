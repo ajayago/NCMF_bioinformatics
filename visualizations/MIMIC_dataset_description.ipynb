{
 "cells": [
  {
   "cell_type": "markdown",
   "metadata": {},
   "source": [
    "This notebook is based on the file mimic_dataset_labels_creation.py and obtains the labels for diseases and drugs from the MIMIC dataset.\n",
    "\n",
    "Ensure the following files from MIMIC3 are available in the present directory:\n",
    "* PRESCRIPTIONS.csv\n",
    "* nsides_rxcui_icd9.csv\n",
    "* ndc_map 2020_06_17 (atc5 atc4 ingredients).csv\n",
    "* DIAGNOSES_ICD.csv"
   ]
  },
  {
   "cell_type": "code",
   "execution_count": 1,
   "metadata": {},
   "outputs": [],
   "source": [
    "import numpy as np\n",
    "import pandas as pd\n",
    "import pickle as pkl"
   ]
  },
  {
   "cell_type": "code",
   "execution_count": 3,
   "metadata": {},
   "outputs": [],
   "source": [
    "# step 1\n",
    "#load MIMIC3\n",
    "dname = \"./\"\n",
    "dname_nsides = \"./\"\n",
    "\n",
    "fname_prescrip = dname + \"PRESCRIPTIONS.csv\"\n",
    "fname_drugs = dname_nsides + \"nsides_rxcui_icd9.csv\"\n",
    "fname_map = \"./ndc_map 2020_06_17 (atc5 atc4 ingredients).csv\"\n",
    "fname_diagnosis = dname + \"DIAGNOSES_ICD.csv\"\n",
    "\n",
    "df_pres = pd.read_csv(fname_prescrip,dtype={\"NDC\":str})\n",
    "df_drugs = pd.read_csv(fname_drugs,dtype={\"RXCUI\":str,\"ICD9_CODE\":str})\n",
    "df_map = pd.read_csv(fname_map,dtype={\"in_rxcui\":str})\n",
    "df_diag = pd.read_csv(fname_diagnosis)\n"
   ]
  },
  {
   "cell_type": "code",
   "execution_count": 4,
   "metadata": {},
   "outputs": [],
   "source": [
    "#from: https://github.com/chb/py-umls/blob/d4ba79245b146c1a59363668d0ef4918689c25d1/rxnorm.py#L45\n",
    "def ndc_normalize(ndc):\n",
    "    \"\"\" Normalizes an NDC (National Drug Code) number.\n",
    "\n",
    "    The pseudo-code published by NIH\n",
    "    (http://www.nlm.nih.gov/research/umls/rxnorm/NDC_Normalization_Code.rtf)\n",
    "    first identifies the format (e.g. \"6-3-2\") and then normalizes based on\n",
    "    that finding. However since the normalized string is always 5-4-2,\n",
    "    padded with leading zeroes and removing all dashes afterwards, this\n",
    "    implementation goes a much simpler route.\n",
    "\n",
    "    NDCs that only contain one dash are treated as if they were missing the\n",
    "    package specifier, so they get a \"-00\" appended before normalization.\n",
    "\n",
    "    :param str ndc: The NDC to normalize as string\n",
    "    :returns: A string with the normalized NDC, or `None` if the number\n",
    "        couldn't be normalized\n",
    "    \"\"\"\n",
    "    if ndc is None or 0 == len(ndc) or len(ndc) > 14:\n",
    "        return None\n",
    "\n",
    "    # replace '*' with '0' as some of the NDCs from MTHFDA contain * instead of 0\n",
    "    norm = ndc.replace('*', '0')\n",
    "\n",
    "    # split at dashes, pad with leading zeroes, cut to desired length\n",
    "    parts = norm.split('-')\n",
    "\n",
    "    # Code with only one dash; this is NOT mentioned in the above cited\n",
    "    # reference but I see a lot of codes with 6-4 format.\n",
    "    # These are likely codes without package specifier, though some that I\n",
    "    # checked seem to not or no longer exist.\n",
    "    # We append \"-00\" to get a 6-4-2 format and are done with it.\n",
    "    if 2 == len(parts):\n",
    "        parts.append('00')\n",
    "\n",
    "    # two dashes, 6-4-1 or 5-3-2 or similar formats, concat to 5-4-2\n",
    "    if 3 == len(parts):\n",
    "        norm = '{}{}{}'.format(('00000'+parts[0])[-5:], ('0000'+parts[1])[-4:], ('00'+parts[2])[-2:])\n",
    "\n",
    "    # no dashes\n",
    "    elif 1 == len(parts):\n",
    "\n",
    "        # \"if NDC passed has 12 digits and first char is '0' and it's from\n",
    "        # VANDF then trim first char\". We do NOT check if it's from the VA\n",
    "        # as this would require more information than just the NDC\n",
    "        if 12 == len(norm) and '0' == norm[:1]:\n",
    "            norm = norm[1:]\n",
    "\n",
    "        # only valid if it's 11 digits\n",
    "        elif 11 != len(norm):\n",
    "            return None\n",
    "\n",
    "    # reject NDCs that still contain non-numeric chars\n",
    "    return norm if norm.isdigit() else None\n",
    "\n",
    "##################"
   ]
  },
  {
   "cell_type": "code",
   "execution_count": 5,
   "metadata": {},
   "outputs": [],
   "source": [
    "#Add ndc_norm to external data \"df_map\" and subset only the reqd columns\n",
    "\n",
    "list_ndc_norm = []\n",
    "for idx,row in df_map.iterrows():\n",
    "    cur_ndc = row[\"ndc\"]\n",
    "    cur_ndc_norm = ndc_normalize(cur_ndc)\n",
    "    list_ndc_norm.append(cur_ndc_norm)\n",
    "\n",
    "df_map[\"NDC_NORM\"] = list_ndc_norm\n",
    "\n",
    "df_map_cols_subset = df_map[[\"in_rxcui\",\"NDC_NORM\"]].drop_duplicates()\n",
    "\n",
    "\n",
    "#Add ndc_norm to MIMIC prescriptions \"df_pres\" and subset only the reqd columns\n",
    "\n",
    "df_pres = pd.merge(left=df_pres,right=df_map_cols_subset,\\\n",
    "                          how='left',left_on=\"NDC\",right_on=\"NDC_NORM\").drop_duplicates()\n"
   ]
  },
  {
   "cell_type": "code",
   "execution_count": 6,
   "metadata": {},
   "outputs": [],
   "source": [
    "###################\n",
    "# Drugs\n",
    "###################\n",
    "\n",
    "#step 2\n",
    "#our dataset\n",
    "#TODO: replace with the version of data pkl file used in our experiment\n",
    "fname_data = \"./dict_nsides_mimic_data_v1_case1_part.pkl\"\n",
    "data = pkl.load(open(fname_data,\"rb\"))\n",
    "#\n",
    "list_drugs_id_rxcui = list(data[\"metadata\"][\"dict_r_id_idx_map\"].keys())\n",
    "list_drugs_id_rxcui_num = [float(cur_num) for cur_num in list_drugs_id_rxcui]\n",
    "#\n",
    "list_pat_id = list(data[\"metadata\"][\"dict_p_id_idx_map\"].keys())\n",
    "list_d_id = list(data[\"metadata\"][\"dict_d_id_idx_map\"].keys())\n"
   ]
  },
  {
   "cell_type": "code",
   "execution_count": 7,
   "metadata": {},
   "outputs": [
    {
     "name": "stdout",
     "output_type": "stream",
     "text": [
      "1321\n",
      "5891\n",
      "596\n"
     ]
    }
   ],
   "source": [
    "# confirm sizes against what was used in NCMF\n",
    "print(len(list_d_id))\n",
    "print(len(list_pat_id))\n",
    "print(len(list_drugs_id_rxcui))"
   ]
  },
  {
   "cell_type": "code",
   "execution_count": 8,
   "metadata": {},
   "outputs": [],
   "source": [
    "#step 3\n",
    "# Find the subset of MIMIC containing our dataset's patients and drugs\n",
    "df_pres_subset = df_pres[(df_pres[\"in_rxcui\"].isin(list_drugs_id_rxcui))&(df_pres[\"SUBJECT_ID\"].isin(list_pat_id))]\n"
   ]
  },
  {
   "cell_type": "code",
   "execution_count": 9,
   "metadata": {},
   "outputs": [
    {
     "data": {
      "text/html": [
       "<div>\n",
       "<style scoped>\n",
       "    .dataframe tbody tr th:only-of-type {\n",
       "        vertical-align: middle;\n",
       "    }\n",
       "\n",
       "    .dataframe tbody tr th {\n",
       "        vertical-align: top;\n",
       "    }\n",
       "\n",
       "    .dataframe thead th {\n",
       "        text-align: right;\n",
       "    }\n",
       "</style>\n",
       "<table border=\"1\" class=\"dataframe\">\n",
       "  <thead>\n",
       "    <tr style=\"text-align: right;\">\n",
       "      <th></th>\n",
       "      <th>ROW_ID</th>\n",
       "      <th>SUBJECT_ID</th>\n",
       "      <th>HADM_ID</th>\n",
       "      <th>ICUSTAY_ID</th>\n",
       "      <th>STARTDATE</th>\n",
       "      <th>ENDDATE</th>\n",
       "      <th>DRUG_TYPE</th>\n",
       "      <th>DRUG</th>\n",
       "      <th>DRUG_NAME_POE</th>\n",
       "      <th>DRUG_NAME_GENERIC</th>\n",
       "      <th>...</th>\n",
       "      <th>GSN</th>\n",
       "      <th>NDC</th>\n",
       "      <th>PROD_STRENGTH</th>\n",
       "      <th>DOSE_VAL_RX</th>\n",
       "      <th>DOSE_UNIT_RX</th>\n",
       "      <th>FORM_VAL_DISP</th>\n",
       "      <th>FORM_UNIT_DISP</th>\n",
       "      <th>ROUTE</th>\n",
       "      <th>in_rxcui</th>\n",
       "      <th>NDC_NORM</th>\n",
       "    </tr>\n",
       "  </thead>\n",
       "  <tbody>\n",
       "    <tr>\n",
       "      <th>638</th>\n",
       "      <td>2982464</td>\n",
       "      <td>11</td>\n",
       "      <td>194540</td>\n",
       "      <td>229441.0</td>\n",
       "      <td>2178-04-16 00:00:00</td>\n",
       "      <td>2178-04-21 00:00:00</td>\n",
       "      <td>MAIN</td>\n",
       "      <td>Dexamethasone</td>\n",
       "      <td>Dexamethasone</td>\n",
       "      <td>Dexamethasone</td>\n",
       "      <td>...</td>\n",
       "      <td>006789</td>\n",
       "      <td>00054418425</td>\n",
       "      <td>4mg Tab</td>\n",
       "      <td>4</td>\n",
       "      <td>mg</td>\n",
       "      <td>1</td>\n",
       "      <td>TAB</td>\n",
       "      <td>PO</td>\n",
       "      <td>3264</td>\n",
       "      <td>00054418425</td>\n",
       "    </tr>\n",
       "    <tr>\n",
       "      <th>640</th>\n",
       "      <td>2982467</td>\n",
       "      <td>11</td>\n",
       "      <td>194540</td>\n",
       "      <td>229441.0</td>\n",
       "      <td>2178-04-16 00:00:00</td>\n",
       "      <td>2178-04-22 00:00:00</td>\n",
       "      <td>MAIN</td>\n",
       "      <td>Phenytoin</td>\n",
       "      <td>Phenytoin</td>\n",
       "      <td>Phenytoin Sodium Extended</td>\n",
       "      <td>...</td>\n",
       "      <td>004521</td>\n",
       "      <td>51079090520</td>\n",
       "      <td>100mg Capsule</td>\n",
       "      <td>100</td>\n",
       "      <td>mg</td>\n",
       "      <td>1</td>\n",
       "      <td>CAP</td>\n",
       "      <td>PO</td>\n",
       "      <td>8183</td>\n",
       "      <td>51079090520</td>\n",
       "    </tr>\n",
       "    <tr>\n",
       "      <th>647</th>\n",
       "      <td>2981780</td>\n",
       "      <td>11</td>\n",
       "      <td>194540</td>\n",
       "      <td>229441.0</td>\n",
       "      <td>2178-04-17 00:00:00</td>\n",
       "      <td>2178-04-17 00:00:00</td>\n",
       "      <td>BASE</td>\n",
       "      <td>Potassium Chl 20 mEq / 1000 mL D5 1/2 NS</td>\n",
       "      <td>NaN</td>\n",
       "      <td>NaN</td>\n",
       "      <td>...</td>\n",
       "      <td>002003</td>\n",
       "      <td>00338067104</td>\n",
       "      <td>1000 mL Bag</td>\n",
       "      <td>1000</td>\n",
       "      <td>ml</td>\n",
       "      <td>1</td>\n",
       "      <td>BAG</td>\n",
       "      <td>IV</td>\n",
       "      <td>4850</td>\n",
       "      <td>00338067104</td>\n",
       "    </tr>\n",
       "    <tr>\n",
       "      <th>649</th>\n",
       "      <td>2981780</td>\n",
       "      <td>11</td>\n",
       "      <td>194540</td>\n",
       "      <td>229441.0</td>\n",
       "      <td>2178-04-17 00:00:00</td>\n",
       "      <td>2178-04-17 00:00:00</td>\n",
       "      <td>BASE</td>\n",
       "      <td>Potassium Chl 20 mEq / 1000 mL D5 1/2 NS</td>\n",
       "      <td>NaN</td>\n",
       "      <td>NaN</td>\n",
       "      <td>...</td>\n",
       "      <td>002003</td>\n",
       "      <td>00338067104</td>\n",
       "      <td>1000 mL Bag</td>\n",
       "      <td>1000</td>\n",
       "      <td>ml</td>\n",
       "      <td>1</td>\n",
       "      <td>BAG</td>\n",
       "      <td>IV</td>\n",
       "      <td>8591</td>\n",
       "      <td>00338067104</td>\n",
       "    </tr>\n",
       "    <tr>\n",
       "      <th>650</th>\n",
       "      <td>2981780</td>\n",
       "      <td>11</td>\n",
       "      <td>194540</td>\n",
       "      <td>229441.0</td>\n",
       "      <td>2178-04-17 00:00:00</td>\n",
       "      <td>2178-04-17 00:00:00</td>\n",
       "      <td>BASE</td>\n",
       "      <td>Potassium Chl 20 mEq / 1000 mL D5 1/2 NS</td>\n",
       "      <td>NaN</td>\n",
       "      <td>NaN</td>\n",
       "      <td>...</td>\n",
       "      <td>002003</td>\n",
       "      <td>00338067104</td>\n",
       "      <td>1000 mL Bag</td>\n",
       "      <td>1000</td>\n",
       "      <td>ml</td>\n",
       "      <td>1</td>\n",
       "      <td>BAG</td>\n",
       "      <td>IV</td>\n",
       "      <td>9863</td>\n",
       "      <td>00338067104</td>\n",
       "    </tr>\n",
       "  </tbody>\n",
       "</table>\n",
       "<p>5 rows × 21 columns</p>\n",
       "</div>"
      ],
      "text/plain": [
       "      ROW_ID  SUBJECT_ID  HADM_ID  ICUSTAY_ID            STARTDATE  \\\n",
       "638  2982464          11   194540    229441.0  2178-04-16 00:00:00   \n",
       "640  2982467          11   194540    229441.0  2178-04-16 00:00:00   \n",
       "647  2981780          11   194540    229441.0  2178-04-17 00:00:00   \n",
       "649  2981780          11   194540    229441.0  2178-04-17 00:00:00   \n",
       "650  2981780          11   194540    229441.0  2178-04-17 00:00:00   \n",
       "\n",
       "                 ENDDATE DRUG_TYPE                                      DRUG  \\\n",
       "638  2178-04-21 00:00:00      MAIN                             Dexamethasone   \n",
       "640  2178-04-22 00:00:00      MAIN                                 Phenytoin   \n",
       "647  2178-04-17 00:00:00      BASE  Potassium Chl 20 mEq / 1000 mL D5 1/2 NS   \n",
       "649  2178-04-17 00:00:00      BASE  Potassium Chl 20 mEq / 1000 mL D5 1/2 NS   \n",
       "650  2178-04-17 00:00:00      BASE  Potassium Chl 20 mEq / 1000 mL D5 1/2 NS   \n",
       "\n",
       "     DRUG_NAME_POE          DRUG_NAME_GENERIC  ...     GSN          NDC  \\\n",
       "638  Dexamethasone              Dexamethasone  ...  006789  00054418425   \n",
       "640      Phenytoin  Phenytoin Sodium Extended  ...  004521  51079090520   \n",
       "647            NaN                        NaN  ...  002003  00338067104   \n",
       "649            NaN                        NaN  ...  002003  00338067104   \n",
       "650            NaN                        NaN  ...  002003  00338067104   \n",
       "\n",
       "     PROD_STRENGTH DOSE_VAL_RX DOSE_UNIT_RX FORM_VAL_DISP FORM_UNIT_DISP  \\\n",
       "638        4mg Tab           4           mg             1            TAB   \n",
       "640  100mg Capsule         100           mg             1            CAP   \n",
       "647    1000 mL Bag        1000           ml             1            BAG   \n",
       "649    1000 mL Bag        1000           ml             1            BAG   \n",
       "650    1000 mL Bag        1000           ml             1            BAG   \n",
       "\n",
       "    ROUTE in_rxcui     NDC_NORM  \n",
       "638    PO     3264  00054418425  \n",
       "640    PO     8183  51079090520  \n",
       "647    IV     4850  00338067104  \n",
       "649    IV     8591  00338067104  \n",
       "650    IV     9863  00338067104  \n",
       "\n",
       "[5 rows x 21 columns]"
      ]
     },
     "execution_count": 9,
     "metadata": {},
     "output_type": "execute_result"
    }
   ],
   "source": [
    "df_pres_subset.head()"
   ]
  },
  {
   "cell_type": "code",
   "execution_count": 10,
   "metadata": {},
   "outputs": [
    {
     "data": {
      "text/plain": [
       "Index(['ROW_ID', 'SUBJECT_ID', 'HADM_ID', 'ICUSTAY_ID', 'STARTDATE', 'ENDDATE',\n",
       "       'DRUG_TYPE', 'DRUG', 'DRUG_NAME_POE', 'DRUG_NAME_GENERIC',\n",
       "       'FORMULARY_DRUG_CD', 'GSN', 'NDC', 'PROD_STRENGTH', 'DOSE_VAL_RX',\n",
       "       'DOSE_UNIT_RX', 'FORM_VAL_DISP', 'FORM_UNIT_DISP', 'ROUTE', 'in_rxcui',\n",
       "       'NDC_NORM'],\n",
       "      dtype='object')"
      ]
     },
     "execution_count": 10,
     "metadata": {},
     "output_type": "execute_result"
    }
   ],
   "source": [
    "df_pres_subset.columns"
   ]
  },
  {
   "cell_type": "code",
   "execution_count": 11,
   "metadata": {},
   "outputs": [
    {
     "data": {
      "text/plain": [
       "538"
      ]
     },
     "execution_count": 11,
     "metadata": {},
     "output_type": "execute_result"
    }
   ],
   "source": [
    "len(df_pres_subset.in_rxcui.unique())"
   ]
  },
  {
   "cell_type": "code",
   "execution_count": 12,
   "metadata": {},
   "outputs": [
    {
     "data": {
      "text/plain": [
       "5891"
      ]
     },
     "execution_count": 12,
     "metadata": {},
     "output_type": "execute_result"
    }
   ],
   "source": [
    "len(df_pres_subset.SUBJECT_ID.unique())"
   ]
  },
  {
   "cell_type": "code",
   "execution_count": 13,
   "metadata": {},
   "outputs": [
    {
     "data": {
      "text/plain": [
       "(540856, 21)"
      ]
     },
     "execution_count": 13,
     "metadata": {},
     "output_type": "execute_result"
    }
   ],
   "source": [
    "df_pres_subset.shape"
   ]
  },
  {
   "cell_type": "code",
   "execution_count": 14,
   "metadata": {},
   "outputs": [],
   "source": [
    "# drugs with embeddings available\n",
    "available_drugs = df_pres_subset[\"in_rxcui\"].unique()"
   ]
  },
  {
   "cell_type": "code",
   "execution_count": 15,
   "metadata": {},
   "outputs": [],
   "source": [
    "# df_pres_subset.to_csv(\"MIMIC_drug_patient_info.csv\")"
   ]
  },
  {
   "cell_type": "code",
   "execution_count": 16,
   "metadata": {},
   "outputs": [
    {
     "data": {
      "text/plain": [
       "538"
      ]
     },
     "execution_count": 16,
     "metadata": {},
     "output_type": "execute_result"
    }
   ],
   "source": [
    "len(available_drugs)"
   ]
  },
  {
   "cell_type": "code",
   "execution_count": 17,
   "metadata": {},
   "outputs": [
    {
     "data": {
      "text/plain": [
       "58"
      ]
     },
     "execution_count": 17,
     "metadata": {},
     "output_type": "execute_result"
    }
   ],
   "source": [
    "len(set(list_drugs_id_rxcui) - set(available_drugs))"
   ]
  },
  {
   "cell_type": "code",
   "execution_count": 18,
   "metadata": {},
   "outputs": [
    {
     "data": {
      "text/plain": [
       "array(['MAIN', 'BASE', 'ADDITIVE'], dtype=object)"
      ]
     },
     "execution_count": 18,
     "metadata": {},
     "output_type": "execute_result"
    }
   ],
   "source": [
    "#step 4\n",
    "# Use the above dataframe to find a drug's DRUG_TYPE / ROUTE for each (SUBJECT_ID and DRUG) pair in our dataset\n",
    "# Select a drug metadata as label\n",
    "# Potential drug labels\n",
    "df_pres_subset[\"DRUG_TYPE\"].unique()\n"
   ]
  },
  {
   "cell_type": "code",
   "execution_count": 19,
   "metadata": {},
   "outputs": [
    {
     "data": {
      "text/plain": [
       "array(['PO', 'IV', 'PR', 'IV DRIP', 'IH', 'OU', 'PB', 'TP', 'SC', 'ED',\n",
       "       'NU', 'IM', 'ET', 'TD', 'IR', 'DWELL', 'VG', 'LEFT EYE', 'NG',\n",
       "       'BOTH EYES', 'ID', 'PO/NG', 'DIALYS', 'NEB', 'ORAL', 'IV BOLUS',\n",
       "       'LOCK', 'IT', 'OD', 'IN', 'OS', 'SL', 'NAS', 'IRR', 'NS', 'G TUBE',\n",
       "       'IP', 'PL', 'BU', 'BOTH EARS', 'AU', 'IVPCA', 'RIGHT EYE', 'IJ',\n",
       "       'TT', 'SUBCUT', 'J TUBE', 'AD', 'RIGHT EAR', 'BUCCAL', 'LEFT EAR',\n",
       "       'IA', 'AS', 'OG', nan, 'EX-VIVO', 'ND', 'NG/OG', 'INHALATION',\n",
       "       'INTRAPERICARDIAL', 'PERIPHNERVE', 'PO/OG', 'IVT', 'INTERSPACE',\n",
       "       'REPLACE'], dtype=object)"
      ]
     },
     "execution_count": 19,
     "metadata": {},
     "output_type": "execute_result"
    }
   ],
   "source": [
    "df_pres_subset[\"ROUTE\"].unique()"
   ]
  },
  {
   "cell_type": "code",
   "execution_count": 20,
   "metadata": {},
   "outputs": [
    {
     "data": {
      "text/plain": [
       "1          2.0\n",
       "4          5.0\n",
       "6          7.0\n",
       "8          9.0\n",
       "10        11.0\n",
       "          ... \n",
       "650949    21.0\n",
       "650950    22.0\n",
       "650953    25.0\n",
       "650955    27.0\n",
       "650958    30.0\n",
       "Name: SEQ_NUM, Length: 34754, dtype: float64"
      ]
     },
     "execution_count": 20,
     "metadata": {},
     "output_type": "execute_result"
    }
   ],
   "source": [
    "###################\n",
    "# Disease\n",
    "###################\n",
    "\n",
    "df_diag_subset = df_diag[df_diag[\"SUBJECT_ID\"].isin(list_pat_id) & df_diag[\"ICD9_CODE\"].isin(list_d_id)]\n",
    "\n",
    "#df_diag_subset2 = df_diag_subset[df_diag_subset[\"\"].isin([117,124])]\n",
    "\n",
    "#potential labels for diseases\n",
    "df_diag_subset[\"SEQ_NUM\"]\n"
   ]
  },
  {
   "cell_type": "code",
   "execution_count": 21,
   "metadata": {},
   "outputs": [
    {
     "data": {
      "text/html": [
       "<div>\n",
       "<style scoped>\n",
       "    .dataframe tbody tr th:only-of-type {\n",
       "        vertical-align: middle;\n",
       "    }\n",
       "\n",
       "    .dataframe tbody tr th {\n",
       "        vertical-align: top;\n",
       "    }\n",
       "\n",
       "    .dataframe thead th {\n",
       "        text-align: right;\n",
       "    }\n",
       "</style>\n",
       "<table border=\"1\" class=\"dataframe\">\n",
       "  <thead>\n",
       "    <tr style=\"text-align: right;\">\n",
       "      <th></th>\n",
       "      <th>ROW_ID</th>\n",
       "      <th>SUBJECT_ID</th>\n",
       "      <th>HADM_ID</th>\n",
       "      <th>SEQ_NUM</th>\n",
       "      <th>ICD9_CODE</th>\n",
       "    </tr>\n",
       "  </thead>\n",
       "  <tbody>\n",
       "    <tr>\n",
       "      <th>1</th>\n",
       "      <td>1298</td>\n",
       "      <td>109</td>\n",
       "      <td>172335</td>\n",
       "      <td>2.0</td>\n",
       "      <td>486</td>\n",
       "    </tr>\n",
       "    <tr>\n",
       "      <th>4</th>\n",
       "      <td>1301</td>\n",
       "      <td>109</td>\n",
       "      <td>172335</td>\n",
       "      <td>5.0</td>\n",
       "      <td>4254</td>\n",
       "    </tr>\n",
       "    <tr>\n",
       "      <th>6</th>\n",
       "      <td>1303</td>\n",
       "      <td>109</td>\n",
       "      <td>172335</td>\n",
       "      <td>7.0</td>\n",
       "      <td>7100</td>\n",
       "    </tr>\n",
       "    <tr>\n",
       "      <th>8</th>\n",
       "      <td>1305</td>\n",
       "      <td>109</td>\n",
       "      <td>172335</td>\n",
       "      <td>9.0</td>\n",
       "      <td>7243</td>\n",
       "    </tr>\n",
       "    <tr>\n",
       "      <th>10</th>\n",
       "      <td>1307</td>\n",
       "      <td>109</td>\n",
       "      <td>172335</td>\n",
       "      <td>11.0</td>\n",
       "      <td>2875</td>\n",
       "    </tr>\n",
       "  </tbody>\n",
       "</table>\n",
       "</div>"
      ],
      "text/plain": [
       "    ROW_ID  SUBJECT_ID  HADM_ID  SEQ_NUM ICD9_CODE\n",
       "1     1298         109   172335      2.0       486\n",
       "4     1301         109   172335      5.0      4254\n",
       "6     1303         109   172335      7.0      7100\n",
       "8     1305         109   172335      9.0      7243\n",
       "10    1307         109   172335     11.0      2875"
      ]
     },
     "execution_count": 21,
     "metadata": {},
     "output_type": "execute_result"
    }
   ],
   "source": [
    "df_diag_subset.head()"
   ]
  },
  {
   "cell_type": "code",
   "execution_count": 22,
   "metadata": {},
   "outputs": [
    {
     "data": {
      "text/plain": [
       "907"
      ]
     },
     "execution_count": 22,
     "metadata": {},
     "output_type": "execute_result"
    }
   ],
   "source": [
    "len(df_diag_subset.ICD9_CODE.unique())"
   ]
  },
  {
   "cell_type": "code",
   "execution_count": 23,
   "metadata": {},
   "outputs": [
    {
     "data": {
      "text/plain": [
       "39"
      ]
     },
     "execution_count": 23,
     "metadata": {},
     "output_type": "execute_result"
    }
   ],
   "source": [
    "len(df_diag_subset[\"SEQ_NUM\"].unique())"
   ]
  },
  {
   "cell_type": "code",
   "execution_count": 24,
   "metadata": {},
   "outputs": [
    {
     "data": {
      "text/plain": [
       "5677"
      ]
     },
     "execution_count": 24,
     "metadata": {},
     "output_type": "execute_result"
    }
   ],
   "source": [
    "len(df_diag_subset[\"SUBJECT_ID\"].unique())"
   ]
  },
  {
   "cell_type": "code",
   "execution_count": 25,
   "metadata": {},
   "outputs": [],
   "source": [
    "# df_diag_subset.to_csv(\"MIMIC_drug_disease_info.csv\")"
   ]
  },
  {
   "cell_type": "code",
   "execution_count": null,
   "metadata": {},
   "outputs": [],
   "source": []
  }
 ],
 "metadata": {
  "kernelspec": {
   "display_name": "Python 3",
   "language": "python",
   "name": "python3"
  },
  "language_info": {
   "codemirror_mode": {
    "name": "ipython",
    "version": 3
   },
   "file_extension": ".py",
   "mimetype": "text/x-python",
   "name": "python",
   "nbconvert_exporter": "python",
   "pygments_lexer": "ipython3",
   "version": "3.7.7"
  }
 },
 "nbformat": 4,
 "nbformat_minor": 4
}
