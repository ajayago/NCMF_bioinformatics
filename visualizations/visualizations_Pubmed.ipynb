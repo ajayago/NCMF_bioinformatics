{
 "cells": [
  {
   "cell_type": "markdown",
   "metadata": {},
   "source": [
    "This notebook executes the following steps on the PubMed dataset:\n",
    "1. Load gene, disease, chemical, species embeddings from NCMF and DFMF\n",
    "2. Load labels for diseases from original benchmark dataset\n",
    "3. Make k clusters of the disease embeddings from the above files\n",
    "4. Choose top e label entities that are relevant in each cluster \n",
    "5. Plt distribution of label entities in each cluster\n",
    "6. Calculate silhouette score and ARI score\n",
    "7. Visualize clusters using hypertools\n",
    "8. Visualize groups based on existing labels"
   ]
  },
  {
   "cell_type": "code",
   "execution_count": 1,
   "metadata": {},
   "outputs": [],
   "source": [
    "import pandas as pd\n",
    "import numpy as np\n",
    "import seaborn as sns\n",
    "import matplotlib.pyplot as plt"
   ]
  },
  {
   "cell_type": "code",
   "execution_count": 2,
   "metadata": {},
   "outputs": [],
   "source": [
    "disease_clusters = 4\n",
    "tope = 3"
   ]
  },
  {
   "cell_type": "markdown",
   "metadata": {},
   "source": [
    "#### Step 1 - Load embeddings for NCMF and DFMF"
   ]
  },
  {
   "cell_type": "code",
   "execution_count": 3,
   "metadata": {},
   "outputs": [],
   "source": [
    "def load(emb_file_path):\n",
    "    emb_dict = {}\n",
    "    with open(emb_file_path, 'r') as emb_file:\n",
    "        for i, line in enumerate(emb_file):\n",
    "            if i == 0:\n",
    "                train_para = line[:-1]\n",
    "            else:\n",
    "                index, emb = line[:-1].split('\\t')\n",
    "                emb_dict[index] = np.array(emb.split()).astype(np.float32)\n",
    "\n",
    "    return train_para, emb_dict"
   ]
  },
  {
   "cell_type": "code",
   "execution_count": 4,
   "metadata": {},
   "outputs": [],
   "source": [
    "ncmf_emb_file = \"../datasets/NCMF/PubMed/emb_sample_1.dat\"\n",
    "dfmf_emb_file = \"../scikit-fusion/experiments/dfmf_s1_emb_pubmed.dat\"\n",
    "dcmf_emb_file = \"../DCMF/experiments/emb_PubMed_sample_1.dat\"\n",
    "cmf_emb_file = \"../CMF/experiments/cmf_s1_emb_pubmed.dat\"\n",
    "gcmf_emb_file = \"../CMF/experiments/gcmf_s1_emb_pubmed.dat\""
   ]
  },
  {
   "cell_type": "code",
   "execution_count": 5,
   "metadata": {},
   "outputs": [],
   "source": [
    "train_para, emb_dict = load(ncmf_emb_file)"
   ]
  },
  {
   "cell_type": "code",
   "execution_count": 6,
   "metadata": {},
   "outputs": [],
   "source": [
    "train_para_dfmf, emb_dict_dfmf = load(dfmf_emb_file)"
   ]
  },
  {
   "cell_type": "code",
   "execution_count": 7,
   "metadata": {},
   "outputs": [],
   "source": [
    "train_para_dcmf, emb_dict_dcmf = load(dcmf_emb_file)\n",
    "train_para_cmf, emb_dict_cmf = load(cmf_emb_file)\n",
    "train_para_gcmf, emb_dict_gcmf = load(gcmf_emb_file)"
   ]
  },
  {
   "cell_type": "code",
   "execution_count": 8,
   "metadata": {},
   "outputs": [
    {
     "name": "stdout",
     "output_type": "stream",
     "text": [
      "(100,)\n",
      "(100,)\n",
      "(50,)\n",
      "(50,)\n"
     ]
    }
   ],
   "source": [
    "print(emb_dict['0'].shape)\n",
    "print(emb_dict_dcmf['0'].shape)\n",
    "print(emb_dict_cmf['1'].shape)\n",
    "print(emb_dict_gcmf['1'].shape)"
   ]
  },
  {
   "cell_type": "markdown",
   "metadata": {},
   "source": [
    "#### Step 2  - Load labels for all diseases"
   ]
  },
  {
   "cell_type": "code",
   "execution_count": 9,
   "metadata": {},
   "outputs": [
    {
     "name": "stdout",
     "output_type": "stream",
     "text": [
      "(241, 4)\n"
     ]
    },
    {
     "data": {
      "text/html": [
       "<div>\n",
       "<style scoped>\n",
       "    .dataframe tbody tr th:only-of-type {\n",
       "        vertical-align: middle;\n",
       "    }\n",
       "\n",
       "    .dataframe tbody tr th {\n",
       "        vertical-align: top;\n",
       "    }\n",
       "\n",
       "    .dataframe thead th {\n",
       "        text-align: right;\n",
       "    }\n",
       "</style>\n",
       "<table border=\"1\" class=\"dataframe\">\n",
       "  <thead>\n",
       "    <tr style=\"text-align: right;\">\n",
       "      <th></th>\n",
       "      <th>disease_emb_idx</th>\n",
       "      <th>disease_name</th>\n",
       "      <th>node_type</th>\n",
       "      <th>label</th>\n",
       "    </tr>\n",
       "  </thead>\n",
       "  <tbody>\n",
       "    <tr>\n",
       "      <th>0</th>\n",
       "      <td>5381</td>\n",
       "      <td>seminomas</td>\n",
       "      <td>1</td>\n",
       "      <td>7</td>\n",
       "    </tr>\n",
       "    <tr>\n",
       "      <th>1</th>\n",
       "      <td>5428</td>\n",
       "      <td>skin_disorders</td>\n",
       "      <td>1</td>\n",
       "      <td>6</td>\n",
       "    </tr>\n",
       "    <tr>\n",
       "      <th>2</th>\n",
       "      <td>5551</td>\n",
       "      <td>deprivations</td>\n",
       "      <td>1</td>\n",
       "      <td>5</td>\n",
       "    </tr>\n",
       "    <tr>\n",
       "      <th>3</th>\n",
       "      <td>5598</td>\n",
       "      <td>Thyrotoxicosis</td>\n",
       "      <td>1</td>\n",
       "      <td>1</td>\n",
       "    </tr>\n",
       "    <tr>\n",
       "      <th>4</th>\n",
       "      <td>5502</td>\n",
       "      <td>Helminthiasis</td>\n",
       "      <td>1</td>\n",
       "      <td>1</td>\n",
       "    </tr>\n",
       "  </tbody>\n",
       "</table>\n",
       "</div>"
      ],
      "text/plain": [
       "   disease_emb_idx    disease_name  node_type  label\n",
       "0             5381       seminomas          1      7\n",
       "1             5428  skin_disorders          1      6\n",
       "2             5551    deprivations          1      5\n",
       "3             5598  Thyrotoxicosis          1      1\n",
       "4             5502   Helminthiasis          1      1"
      ]
     },
     "execution_count": 9,
     "metadata": {},
     "output_type": "execute_result"
    }
   ],
   "source": [
    "labels_df = pd.read_csv(\"../datasets/NCMF/PubMed/sampled1_label.dat\", sep=\"\\t\", header=None)\n",
    "labels_df.columns = [\"disease_emb_idx\", \"disease_name\", \"node_type\", \"label\"]\n",
    "print(labels_df.shape)\n",
    "labels_df.head()"
   ]
  },
  {
   "cell_type": "markdown",
   "metadata": {},
   "source": [
    "#### Step 3 - Map disease embeddings and cluster"
   ]
  },
  {
   "cell_type": "code",
   "execution_count": 10,
   "metadata": {},
   "outputs": [],
   "source": [
    "import hypertools as hyp"
   ]
  },
  {
   "cell_type": "code",
   "execution_count": 11,
   "metadata": {},
   "outputs": [],
   "source": [
    "labels_df[\"ncmf_emb\"] = labels_df[\"disease_emb_idx\"].apply(lambda x: emb_dict[str(x)])\n",
    "labels_df[\"dfmf_emb\"] = labels_df[\"disease_emb_idx\"].apply(lambda x: emb_dict_dfmf[str(x)])\n",
    "labels_df[\"dcmf_emb\"] = labels_df[\"disease_emb_idx\"].apply(lambda x: emb_dict_dcmf[str(x)])\n",
    "labels_df[\"cmf_emb\"] = labels_df[\"disease_emb_idx\"].apply(lambda x: emb_dict_cmf[str(x + 1)])\n",
    "labels_df[\"gcmf_emb\"] = labels_df[\"disease_emb_idx\"].apply(lambda x: emb_dict_gcmf[str(x + 1)])"
   ]
  },
  {
   "cell_type": "code",
   "execution_count": 12,
   "metadata": {},
   "outputs": [],
   "source": [
    "labels_df[[f\"emb_ncmf_{i}\" for i in range(100)]] = pd.DataFrame(labels_df.ncmf_emb.tolist(), index= labels_df.index)\n",
    "labels_df[[f\"emb_dfmf_{i}\" for i in range(50)]] = pd.DataFrame(labels_df.dfmf_emb.tolist(), index= labels_df.index)\n",
    "labels_df[[f\"emb_dcmf_{i}\" for i in range(100)]] = pd.DataFrame(labels_df.dcmf_emb.tolist(), index= labels_df.index)\n",
    "labels_df[[f\"emb_cmf_{i}\" for i in range(50)]] = pd.DataFrame(labels_df.cmf_emb.tolist(), index= labels_df.index)\n",
    "labels_df[[f\"emb_gcmf_{i}\" for i in range(50)]] = pd.DataFrame(labels_df.gcmf_emb.tolist(), index= labels_df.index)"
   ]
  },
  {
   "cell_type": "code",
   "execution_count": 13,
   "metadata": {},
   "outputs": [],
   "source": [
    "labels_df[\"ncmf_clusters\"] = hyp.cluster(labels_df[[f\"emb_ncmf_{i}\" for i in range(100)]], n_clusters=disease_clusters)\n",
    "labels_df[\"dfmf_clusters\"] = hyp.cluster(labels_df[[f\"emb_dfmf_{i}\" for i in range(50)]], n_clusters=disease_clusters)\n",
    "labels_df[\"dcmf_clusters\"] = hyp.cluster(labels_df[[f\"emb_dcmf_{i}\" for i in range(100)]], n_clusters=disease_clusters)\n",
    "labels_df[\"cmf_clusters\"] = hyp.cluster(labels_df[[f\"emb_cmf_{i}\" for i in range(50)]], n_clusters=disease_clusters)\n",
    "labels_df[\"gcmf_clusters\"] = hyp.cluster(labels_df[[f\"emb_gcmf_{i}\" for i in range(50)]], n_clusters=disease_clusters)"
   ]
  },
  {
   "cell_type": "code",
   "execution_count": 14,
   "metadata": {},
   "outputs": [
    {
     "data": {
      "text/html": [
       "<div>\n",
       "<style scoped>\n",
       "    .dataframe tbody tr th:only-of-type {\n",
       "        vertical-align: middle;\n",
       "    }\n",
       "\n",
       "    .dataframe tbody tr th {\n",
       "        vertical-align: top;\n",
       "    }\n",
       "\n",
       "    .dataframe thead th {\n",
       "        text-align: right;\n",
       "    }\n",
       "</style>\n",
       "<table border=\"1\" class=\"dataframe\">\n",
       "  <thead>\n",
       "    <tr style=\"text-align: right;\">\n",
       "      <th></th>\n",
       "      <th>disease_emb_idx</th>\n",
       "      <th>disease_name</th>\n",
       "      <th>node_type</th>\n",
       "      <th>label</th>\n",
       "      <th>ncmf_emb</th>\n",
       "      <th>dfmf_emb</th>\n",
       "      <th>dcmf_emb</th>\n",
       "      <th>cmf_emb</th>\n",
       "      <th>gcmf_emb</th>\n",
       "      <th>emb_ncmf_0</th>\n",
       "      <th>...</th>\n",
       "      <th>emb_gcmf_45</th>\n",
       "      <th>emb_gcmf_46</th>\n",
       "      <th>emb_gcmf_47</th>\n",
       "      <th>emb_gcmf_48</th>\n",
       "      <th>emb_gcmf_49</th>\n",
       "      <th>ncmf_clusters</th>\n",
       "      <th>dfmf_clusters</th>\n",
       "      <th>dcmf_clusters</th>\n",
       "      <th>cmf_clusters</th>\n",
       "      <th>gcmf_clusters</th>\n",
       "    </tr>\n",
       "  </thead>\n",
       "  <tbody>\n",
       "    <tr>\n",
       "      <th>0</th>\n",
       "      <td>5381</td>\n",
       "      <td>seminomas</td>\n",
       "      <td>1</td>\n",
       "      <td>7</td>\n",
       "      <td>[0.039218076, -0.10880231, -0.11040516, -0.142...</td>\n",
       "      <td>[9.168477e-06, 1.0043364e-05, 9.7526345e-06, 9...</td>\n",
       "      <td>[-0.0040499615, -0.079954244, -0.02527629, 0.0...</td>\n",
       "      <td>[0.36665744, -0.70602626, 0.15052007, -0.21628...</td>\n",
       "      <td>[0.7071266, -0.2261474, -0.15311117, -0.409303...</td>\n",
       "      <td>0.039218</td>\n",
       "      <td>...</td>\n",
       "      <td>0.556046</td>\n",
       "      <td>0.569458</td>\n",
       "      <td>-0.410925</td>\n",
       "      <td>0.061749</td>\n",
       "      <td>0.387311</td>\n",
       "      <td>0</td>\n",
       "      <td>0</td>\n",
       "      <td>0</td>\n",
       "      <td>2</td>\n",
       "      <td>1</td>\n",
       "    </tr>\n",
       "    <tr>\n",
       "      <th>1</th>\n",
       "      <td>5428</td>\n",
       "      <td>skin_disorders</td>\n",
       "      <td>1</td>\n",
       "      <td>6</td>\n",
       "      <td>[0.04371442, -0.10804627, -0.11262052, -0.1476...</td>\n",
       "      <td>[0.0, 0.0, 0.0, 0.0, 0.0, 0.0, 0.0, 0.0, 0.0, ...</td>\n",
       "      <td>[-0.0040502157, -0.07995368, -0.025276173, 0.0...</td>\n",
       "      <td>[0.59546715, 0.06316175, -0.107499525, 0.24771...</td>\n",
       "      <td>[-0.236532, -0.071145035, -0.34386808, 0.92683...</td>\n",
       "      <td>0.043714</td>\n",
       "      <td>...</td>\n",
       "      <td>-0.333583</td>\n",
       "      <td>-0.111507</td>\n",
       "      <td>-0.252665</td>\n",
       "      <td>0.344557</td>\n",
       "      <td>-0.353011</td>\n",
       "      <td>0</td>\n",
       "      <td>0</td>\n",
       "      <td>0</td>\n",
       "      <td>3</td>\n",
       "      <td>1</td>\n",
       "    </tr>\n",
       "    <tr>\n",
       "      <th>2</th>\n",
       "      <td>5551</td>\n",
       "      <td>deprivations</td>\n",
       "      <td>1</td>\n",
       "      <td>5</td>\n",
       "      <td>[0.039074566, -0.10814933, -0.10505157, -0.154...</td>\n",
       "      <td>[9.239907e-06, 1.0170687e-05, 9.763689e-06, 9....</td>\n",
       "      <td>[-0.004050037, -0.079954356, -0.025276253, 0.0...</td>\n",
       "      <td>[0.41201326, -0.077316105, 0.20223369, -0.0685...</td>\n",
       "      <td>[-0.029424367, 0.77552223, 0.09477476, 0.09763...</td>\n",
       "      <td>0.039075</td>\n",
       "      <td>...</td>\n",
       "      <td>-0.445432</td>\n",
       "      <td>-0.350428</td>\n",
       "      <td>-0.633141</td>\n",
       "      <td>0.557396</td>\n",
       "      <td>0.019915</td>\n",
       "      <td>0</td>\n",
       "      <td>0</td>\n",
       "      <td>0</td>\n",
       "      <td>3</td>\n",
       "      <td>2</td>\n",
       "    </tr>\n",
       "    <tr>\n",
       "      <th>3</th>\n",
       "      <td>5598</td>\n",
       "      <td>Thyrotoxicosis</td>\n",
       "      <td>1</td>\n",
       "      <td>1</td>\n",
       "      <td>[0.059308853, -0.13439126, -0.13757455, -0.170...</td>\n",
       "      <td>[6.1049013e-06, 3.1111692e-06, 8.340742e-06, 5...</td>\n",
       "      <td>[-0.0040501663, -0.07995446, -0.025276102, 0.0...</td>\n",
       "      <td>[-0.29483974, -0.12810852, -0.0058772024, 0.63...</td>\n",
       "      <td>[-0.05437758, -0.6633611, -0.18252818, -0.9043...</td>\n",
       "      <td>0.059309</td>\n",
       "      <td>...</td>\n",
       "      <td>0.501628</td>\n",
       "      <td>-0.253000</td>\n",
       "      <td>0.058249</td>\n",
       "      <td>0.098042</td>\n",
       "      <td>-0.052049</td>\n",
       "      <td>2</td>\n",
       "      <td>0</td>\n",
       "      <td>0</td>\n",
       "      <td>2</td>\n",
       "      <td>2</td>\n",
       "    </tr>\n",
       "    <tr>\n",
       "      <th>4</th>\n",
       "      <td>5502</td>\n",
       "      <td>Helminthiasis</td>\n",
       "      <td>1</td>\n",
       "      <td>1</td>\n",
       "      <td>[0.036177903, -0.105292745, -0.11135381, -0.14...</td>\n",
       "      <td>[0.0010293882, 0.0026271737, 0.00016782607, 0....</td>\n",
       "      <td>[-0.0040503815, -0.07995407, -0.025276044, 0.0...</td>\n",
       "      <td>[-0.18512802, -0.23811783, 0.25528032, -0.4919...</td>\n",
       "      <td>[-0.041436747, 0.45704305, 0.8910488, 0.391075...</td>\n",
       "      <td>0.036178</td>\n",
       "      <td>...</td>\n",
       "      <td>-0.722274</td>\n",
       "      <td>0.022574</td>\n",
       "      <td>0.047068</td>\n",
       "      <td>0.764854</td>\n",
       "      <td>-0.055105</td>\n",
       "      <td>0</td>\n",
       "      <td>0</td>\n",
       "      <td>0</td>\n",
       "      <td>0</td>\n",
       "      <td>0</td>\n",
       "    </tr>\n",
       "  </tbody>\n",
       "</table>\n",
       "<p>5 rows × 364 columns</p>\n",
       "</div>"
      ],
      "text/plain": [
       "   disease_emb_idx    disease_name  node_type  label  \\\n",
       "0             5381       seminomas          1      7   \n",
       "1             5428  skin_disorders          1      6   \n",
       "2             5551    deprivations          1      5   \n",
       "3             5598  Thyrotoxicosis          1      1   \n",
       "4             5502   Helminthiasis          1      1   \n",
       "\n",
       "                                            ncmf_emb  \\\n",
       "0  [0.039218076, -0.10880231, -0.11040516, -0.142...   \n",
       "1  [0.04371442, -0.10804627, -0.11262052, -0.1476...   \n",
       "2  [0.039074566, -0.10814933, -0.10505157, -0.154...   \n",
       "3  [0.059308853, -0.13439126, -0.13757455, -0.170...   \n",
       "4  [0.036177903, -0.105292745, -0.11135381, -0.14...   \n",
       "\n",
       "                                            dfmf_emb  \\\n",
       "0  [9.168477e-06, 1.0043364e-05, 9.7526345e-06, 9...   \n",
       "1  [0.0, 0.0, 0.0, 0.0, 0.0, 0.0, 0.0, 0.0, 0.0, ...   \n",
       "2  [9.239907e-06, 1.0170687e-05, 9.763689e-06, 9....   \n",
       "3  [6.1049013e-06, 3.1111692e-06, 8.340742e-06, 5...   \n",
       "4  [0.0010293882, 0.0026271737, 0.00016782607, 0....   \n",
       "\n",
       "                                            dcmf_emb  \\\n",
       "0  [-0.0040499615, -0.079954244, -0.02527629, 0.0...   \n",
       "1  [-0.0040502157, -0.07995368, -0.025276173, 0.0...   \n",
       "2  [-0.004050037, -0.079954356, -0.025276253, 0.0...   \n",
       "3  [-0.0040501663, -0.07995446, -0.025276102, 0.0...   \n",
       "4  [-0.0040503815, -0.07995407, -0.025276044, 0.0...   \n",
       "\n",
       "                                             cmf_emb  \\\n",
       "0  [0.36665744, -0.70602626, 0.15052007, -0.21628...   \n",
       "1  [0.59546715, 0.06316175, -0.107499525, 0.24771...   \n",
       "2  [0.41201326, -0.077316105, 0.20223369, -0.0685...   \n",
       "3  [-0.29483974, -0.12810852, -0.0058772024, 0.63...   \n",
       "4  [-0.18512802, -0.23811783, 0.25528032, -0.4919...   \n",
       "\n",
       "                                            gcmf_emb  emb_ncmf_0  ...  \\\n",
       "0  [0.7071266, -0.2261474, -0.15311117, -0.409303...    0.039218  ...   \n",
       "1  [-0.236532, -0.071145035, -0.34386808, 0.92683...    0.043714  ...   \n",
       "2  [-0.029424367, 0.77552223, 0.09477476, 0.09763...    0.039075  ...   \n",
       "3  [-0.05437758, -0.6633611, -0.18252818, -0.9043...    0.059309  ...   \n",
       "4  [-0.041436747, 0.45704305, 0.8910488, 0.391075...    0.036178  ...   \n",
       "\n",
       "   emb_gcmf_45  emb_gcmf_46  emb_gcmf_47  emb_gcmf_48  emb_gcmf_49  \\\n",
       "0     0.556046     0.569458    -0.410925     0.061749     0.387311   \n",
       "1    -0.333583    -0.111507    -0.252665     0.344557    -0.353011   \n",
       "2    -0.445432    -0.350428    -0.633141     0.557396     0.019915   \n",
       "3     0.501628    -0.253000     0.058249     0.098042    -0.052049   \n",
       "4    -0.722274     0.022574     0.047068     0.764854    -0.055105   \n",
       "\n",
       "   ncmf_clusters  dfmf_clusters  dcmf_clusters  cmf_clusters  gcmf_clusters  \n",
       "0              0              0              0             2              1  \n",
       "1              0              0              0             3              1  \n",
       "2              0              0              0             3              2  \n",
       "3              2              0              0             2              2  \n",
       "4              0              0              0             0              0  \n",
       "\n",
       "[5 rows x 364 columns]"
      ]
     },
     "execution_count": 14,
     "metadata": {},
     "output_type": "execute_result"
    }
   ],
   "source": [
    "labels_df.head()"
   ]
  },
  {
   "cell_type": "code",
   "execution_count": 15,
   "metadata": {},
   "outputs": [
    {
     "name": "stdout",
     "output_type": "stream",
     "text": [
      "(241, 5)\n",
      "(241, 5)\n",
      "(241, 5)\n",
      "(241, 5)\n",
      "(241, 5)\n"
     ]
    }
   ],
   "source": [
    "# KMeans on PCA\n",
    "from sklearn.decomposition import PCA\n",
    "pca = PCA(n_components=5, random_state=42)\n",
    "pca_ncmf = pca.fit_transform(labels_df[[f\"emb_ncmf_{i}\" for i in range(100)]])\n",
    "pca_dfmf = pca.fit_transform(labels_df[[f\"emb_dfmf_{i}\" for i in range(50)]])\n",
    "pca_dcmf = pca.fit_transform(labels_df[[f\"emb_dcmf_{i}\" for i in range(100)]])\n",
    "pca_cmf = pca.fit_transform(labels_df[[f\"emb_cmf_{i}\" for i in range(50)]])\n",
    "pca_gcmf = pca.fit_transform(labels_df[[f\"emb_gcmf_{i}\" for i in range(50)]])\n",
    "print(pca_ncmf.shape)\n",
    "print(pca_dfmf.shape)\n",
    "print(pca_dcmf.shape)\n",
    "print(pca_cmf.shape)\n",
    "print(pca_gcmf.shape)"
   ]
  },
  {
   "cell_type": "code",
   "execution_count": 16,
   "metadata": {},
   "outputs": [],
   "source": [
    "labels_df[\"ncmf_clusters_pca\"] = hyp.cluster(pca_ncmf, n_clusters=disease_clusters)\n",
    "labels_df[\"dfmf_clusters_pca\"] = hyp.cluster(pca_dfmf, n_clusters=disease_clusters)\n",
    "labels_df[\"dcmf_clusters_pca\"] = hyp.cluster(pca_dcmf, n_clusters=disease_clusters)\n",
    "labels_df[\"cmf_clusters_pca\"] = hyp.cluster(pca_cmf, n_clusters=disease_clusters)\n",
    "labels_df[\"gcmf_clusters_pca\"] = hyp.cluster(pca_gcmf, n_clusters=disease_clusters)"
   ]
  },
  {
   "cell_type": "markdown",
   "metadata": {},
   "source": [
    "#### Step 4 - Get top entities in each cluster"
   ]
  },
  {
   "cell_type": "code",
   "execution_count": 17,
   "metadata": {},
   "outputs": [
    {
     "name": "stdout",
     "output_type": "stream",
     "text": [
      "{0: {4: 42, 0: 28, 5: 26}, 1: {6: 2, 5: 1, 4: 1}, 2: {1: 9, 4: 7, 0: 7}, 3: {5: 1}}\n",
      "{0: {4: 48, 0: 34, 5: 31}, 1: {5: 1}, 2: {5: 1, 4: 1, 3: 1}, 3: {1: 2, 7: 1, 6: 1}}\n"
     ]
    }
   ],
   "source": [
    "tope_labels_ncmf = {}\n",
    "tope_labels_dfmf = {}\n",
    "for i in range(disease_clusters):\n",
    "    tope_labels_ncmf[i] = labels_df[labels_df.ncmf_clusters == i][\"label\"].value_counts()[:tope].to_dict()\n",
    "    tope_labels_dfmf[i] = labels_df[labels_df.dfmf_clusters == i][\"label\"].value_counts()[:tope].to_dict()\n",
    "print(tope_labels_ncmf)\n",
    "print(tope_labels_dfmf)"
   ]
  },
  {
   "cell_type": "markdown",
   "metadata": {},
   "source": [
    "#### Step 5 - Plot distributions of entities in each cluster"
   ]
  },
  {
   "cell_type": "code",
   "execution_count": 18,
   "metadata": {},
   "outputs": [],
   "source": [
    "offset = 0.17\n",
    "from matplotlib import colors\n",
    "from matplotlib.lines import Line2D\n",
    "bar_colors = [\"darkblue\", \"darkorange\", \"sienna\", \"darkred\", \"salmon\", \"darkgreen\", \"black\", \"darkviolet\"]\n",
    "custom_lines = [Line2D([0], [0], color=c, lw=4) for c in bar_colors]"
   ]
  },
  {
   "cell_type": "code",
   "execution_count": 19,
   "metadata": {},
   "outputs": [
    {
     "data": {
      "image/png": "[encoded data removed]",
      "text/plain": [
       "<Figure size 720x720 with 8 Axes>"
      ]
     },
     "metadata": {
      "needs_background": "light"
     },
     "output_type": "display_data"
    }
   ],
   "source": [
    "fig, ax = plt.subplots(disease_clusters, 2, figsize=(10,10))\n",
    "for i in range(disease_clusters):\n",
    "    pal=[]\n",
    "    for b in range(len(bar_colors)):\n",
    "        if b in list(sorted(tope_labels_ncmf[i].keys())):\n",
    "            pal.append(bar_colors[b])\n",
    "    sns.barplot(x = list(tope_labels_ncmf[i].keys()), y = list(tope_labels_ncmf[i].values()), ax = ax[i][0], palette=pal)\n",
    "    ax[i][0].set_title(f\"NCMF cluster {i}\")\n",
    "    ax[i][0].set_ylim(0, 55)\n",
    "    x_list = list(sorted(tope_labels_ncmf[i].keys()))\n",
    "    y_list = [tope_labels_ncmf[i][k] for k in x_list]\n",
    "    for j in range(len(y_list)):\n",
    "        ax[i][0].text(j, y_list[j]+2, str(y_list[j]), fontsize=14)\n",
    "    ax[i][0].spines['top'].set_visible(False)\n",
    "    ax[i][0].spines['right'].set_visible(False)\n",
    "    pal=[]\n",
    "    pal=[]\n",
    "    for b in range(len(bar_colors)):\n",
    "        if b in list(sorted(tope_labels_dfmf[i].keys())):\n",
    "            pal.append(bar_colors[b])\n",
    "    sns.barplot(x = list(tope_labels_dfmf[i].keys()), y = list(tope_labels_dfmf[i].values()), ax = ax[i][1], palette=pal)\n",
    "    ax[i][1].set_title(f\"DFMF cluster {i}\")\n",
    "    ax[i][1].set_ylim(0, 55)\n",
    "    x_list = list(sorted(tope_labels_dfmf[i].keys()))\n",
    "    y_list = [tope_labels_dfmf[i][k] for k in x_list]\n",
    "    for j in range(len(y_list)):\n",
    "        ax[i][1].text(j, y_list[j]+2, str(y_list[j]), fontsize=14)\n",
    "    ax[i][1].spines['top'].set_visible(False)\n",
    "    ax[i][1].spines['right'].set_visible(False)\n",
    "fig.legend(custom_lines, [\"0 - cardiovascular disease\", \"1 - glandular disease\", \"2 - nervous disorder\", \"3 - communicable disease\", \\\n",
    "            \"4 - inflammatory disease\", \"5 - pycnosis\", \"6 - skin disease\", \"7 - cancer\"],\\\n",
    "          bbox_to_anchor = (0.52,1.02), loc=\"center\", ncol=5)\n",
    "plt.tight_layout()\n",
    "# plt.savefig(\"PubMed_cluster_label_distribution.png\", bbox_inches=\"tight\")"
   ]
  },
  {
   "cell_type": "markdown",
   "metadata": {},
   "source": [
    "#### Step 6 - Calculate scores - silhouette and ARI"
   ]
  },
  {
   "cell_type": "code",
   "execution_count": 20,
   "metadata": {},
   "outputs": [],
   "source": [
    "from sklearn.metrics import adjusted_rand_score, silhouette_score"
   ]
  },
  {
   "cell_type": "code",
   "execution_count": 21,
   "metadata": {},
   "outputs": [
    {
     "name": "stdout",
     "output_type": "stream",
     "text": [
      "NCMF adjusted rand score = 0.002344898972250166\n",
      "DFMF adjusted rand score = 0.0008538723551865633\n",
      "DCMF adjusted rand score = 0.0043499600016368625\n",
      "CMF adjusted rand score = -0.0027777627126716067\n",
      "gCMF adjusted rand score = 0.00013756749201333581\n"
     ]
    }
   ],
   "source": [
    "print(f\"NCMF adjusted rand score = {adjusted_rand_score(labels_df['label'], labels_df['ncmf_clusters'])}\")\n",
    "print(f\"DFMF adjusted rand score = {adjusted_rand_score(labels_df['label'], labels_df['dfmf_clusters'])}\")\n",
    "print(f\"DCMF adjusted rand score = {adjusted_rand_score(labels_df['label'], labels_df['dcmf_clusters'])}\")\n",
    "print(f\"CMF adjusted rand score = {adjusted_rand_score(labels_df['label'], labels_df['cmf_clusters'])}\")\n",
    "print(f\"gCMF adjusted rand score = {adjusted_rand_score(labels_df['label'], labels_df['gcmf_clusters'])}\")"
   ]
  },
  {
   "cell_type": "code",
   "execution_count": 22,
   "metadata": {},
   "outputs": [
    {
     "name": "stdout",
     "output_type": "stream",
     "text": [
      "NCMF adjusted rand score = 0.001557529307292065\n",
      "DFMF adjusted rand score = 0.0002936782430808431\n",
      "DCMF adjusted rand score = 0.0043499600016368625\n",
      "CMF adjusted rand score = 0.0021765217505295446\n",
      "gCMF adjusted rand score = 0.0071917663888431725\n"
     ]
    }
   ],
   "source": [
    "# PCA scores\n",
    "print(f\"NCMF adjusted rand score = {adjusted_rand_score(labels_df['label'], labels_df['ncmf_clusters_pca'])}\")\n",
    "print(f\"DFMF adjusted rand score = {adjusted_rand_score(labels_df['label'], labels_df['dfmf_clusters_pca'])}\")\n",
    "print(f\"DCMF adjusted rand score = {adjusted_rand_score(labels_df['label'], labels_df['dcmf_clusters_pca'])}\")\n",
    "print(f\"CMF adjusted rand score = {adjusted_rand_score(labels_df['label'], labels_df['cmf_clusters_pca'])}\")\n",
    "print(f\"gCMF adjusted rand score = {adjusted_rand_score(labels_df['label'], labels_df['gcmf_clusters_pca'])}\")"
   ]
  },
  {
   "cell_type": "code",
   "execution_count": 23,
   "metadata": {},
   "outputs": [
    {
     "name": "stdout",
     "output_type": "stream",
     "text": [
      "NCMF silhoeutte score for 4 clusters = 0.6566465967004971\n",
      "DFMF silhoeutte score for 4 clusters = 0.8688619544322023\n"
     ]
    }
   ],
   "source": [
    "print(f\"NCMF silhoeutte score for {disease_clusters} clusters = {silhouette_score(labels_df[[f'emb_ncmf_{i}' for i in range(100)]], labels_df['ncmf_clusters'])}\")\n",
    "print(f\"DFMF silhoeutte score for {disease_clusters} clusters = {silhouette_score(labels_df[[f'emb_dfmf_{i}' for i in range(50)]], labels_df['dfmf_clusters'])}\")"
   ]
  },
  {
   "cell_type": "markdown",
   "metadata": {},
   "source": [
    "#### Step 7 - Visualize clusters using hypertools"
   ]
  },
  {
   "cell_type": "code",
   "execution_count": 24,
   "metadata": {},
   "outputs": [
    {
     "name": "stderr",
     "output_type": "stream",
     "text": [
      "/home/ajayago/anaconda3/envs/ncmf/lib/python3.7/site-packages/hypertools/plot/plot.py:250: UserWarning: Group will be deprecated. Please use hue keyword argument. See docs for details: http://hypertools.readthedocs.io/en/latest/hypertools.plot.html#hypertools.plot\n",
      "  warnings.warn('Group will be deprecated. Please use '\n",
      "/home/ajayago/anaconda3/envs/ncmf/lib/python3.7/site-packages/hypertools/plot/plot.py:250: UserWarning: Group will be deprecated. Please use hue keyword argument. See docs for details: http://hypertools.readthedocs.io/en/latest/hypertools.plot.html#hypertools.plot\n",
      "  warnings.warn('Group will be deprecated. Please use '\n"
     ]
    },
    {
     "data": {
      "text/plain": [
       "<matplotlib.legend.Legend at 0x7f7ac6037990>"
      ]
     },
     "execution_count": 24,
     "metadata": {},
     "output_type": "execute_result"
    },
    {
     "data": {
      "image/png": "[encoded data removed]",
      "text/plain": [
       "<Figure size 720x288 with 2 Axes>"
      ]
     },
     "metadata": {
      "needs_background": "light"
     },
     "output_type": "display_data"
    }
   ],
   "source": [
    "fig, ax = plt.subplots(1, 2, figsize=(10,4))\n",
    "# fig.suptitle(\"Clusters for disease labels\", y = 1.1)\n",
    "hyp.plot(labels_df[[f\"emb_ncmf_{i}\" for i in range(100)]], \".\", group=labels_df[\"ncmf_clusters\"], ndims=2, ax=ax[0])\n",
    "ax[0].set_title(\"NCMF\", fontsize=16)\n",
    "ax[0].set_ylim(0.5,0.99)\n",
    "ax[0].set_xlim(-0.99, 0.99)\n",
    "hyp.plot(labels_df[[f\"emb_dfmf_{i}\" for i in range(50)]], \".\", group=labels_df[\"dfmf_clusters\"], ndims=2, ax=ax[1])\n",
    "ax[1].set_title(\"DFMF\", fontsize=16)\n",
    "ax[1].set_ylim(-0.99,-0.5)\n",
    "ax[1].set_xlim(-0.99, 0.99)\n",
    "plt.legend([\"cluster 0\", \"cluster 1\", \"cluster 2\", \"cluster 3\"], bbox_to_anchor = (0, 1.2), loc=\"center\", ncol=4, fontsize=16)\n",
    "# plt.savefig(\"PubMed_cluster_scatterplot.png\", bbox_inches=\"tight\")"
   ]
  },
  {
   "cell_type": "code",
   "execution_count": 25,
   "metadata": {},
   "outputs": [
    {
     "name": "stderr",
     "output_type": "stream",
     "text": [
      "/home/ajayago/anaconda3/envs/ncmf/lib/python3.7/site-packages/hypertools/plot/plot.py:250: UserWarning: Group will be deprecated. Please use hue keyword argument. See docs for details: http://hypertools.readthedocs.io/en/latest/hypertools.plot.html#hypertools.plot\n",
      "  warnings.warn('Group will be deprecated. Please use '\n",
      "/home/ajayago/anaconda3/envs/ncmf/lib/python3.7/site-packages/hypertools/plot/plot.py:250: UserWarning: Group will be deprecated. Please use hue keyword argument. See docs for details: http://hypertools.readthedocs.io/en/latest/hypertools.plot.html#hypertools.plot\n",
      "  warnings.warn('Group will be deprecated. Please use '\n"
     ]
    },
    {
     "data": {
      "text/plain": [
       "<hypertools.datageometry.DataGeometry at 0x7f7ac4d7f110>"
      ]
     },
     "execution_count": 25,
     "metadata": {},
     "output_type": "execute_result"
    },
    {
     "data": {
      "image/png": "[encoded data removed]",
      "text/plain": [
       "<Figure size 432x288 with 1 Axes>"
      ]
     },
     "metadata": {},
     "output_type": "display_data"
    },
    {
     "data": {
      "image/png": "[encoded data removed]",
      "text/plain": [
       "<Figure size 432x288 with 1 Axes>"
      ]
     },
     "metadata": {},
     "output_type": "display_data"
    }
   ],
   "source": [
    "# fig, ax = plt.subplots(1, 2, figsize=(10,5))\n",
    "# fig.suptitle(\"Clusters for disease labels\", y = 1.05)\n",
    "hyp.plot(labels_df[[f\"emb_ncmf_{i}\" for i in range(100)]], \".\", group=labels_df[\"ncmf_clusters\"], ndims=3, title=f\"NCMF {disease_clusters} clusters\", legend=list(labels_df[\"ncmf_clusters\"].unique()))\n",
    "hyp.plot(labels_df[[f\"emb_dfmf_{i}\" for i in range(50)]], \".\", group=labels_df[\"dfmf_clusters\"], ndims=3, title=f\"DFMF {disease_clusters} clusters\", legend=list(labels_df[\"dfmf_clusters\"].unique()))"
   ]
  },
  {
   "cell_type": "markdown",
   "metadata": {},
   "source": [
    "#### Step 8 - Visualize existing labels"
   ]
  },
  {
   "cell_type": "code",
   "execution_count": 26,
   "metadata": {},
   "outputs": [
    {
     "name": "stderr",
     "output_type": "stream",
     "text": [
      "/home/ajayago/anaconda3/envs/ncmf/lib/python3.7/site-packages/hypertools/plot/plot.py:250: UserWarning: Group will be deprecated. Please use hue keyword argument. See docs for details: http://hypertools.readthedocs.io/en/latest/hypertools.plot.html#hypertools.plot\n",
      "  warnings.warn('Group will be deprecated. Please use '\n",
      "/home/ajayago/anaconda3/envs/ncmf/lib/python3.7/site-packages/hypertools/plot/plot.py:250: UserWarning: Group will be deprecated. Please use hue keyword argument. See docs for details: http://hypertools.readthedocs.io/en/latest/hypertools.plot.html#hypertools.plot\n",
      "  warnings.warn('Group will be deprecated. Please use '\n"
     ]
    },
    {
     "data": {
      "text/plain": [
       "<matplotlib.legend.Legend at 0x7f7ac4db2110>"
      ]
     },
     "execution_count": 26,
     "metadata": {},
     "output_type": "execute_result"
    },
    {
     "data": {
      "image/png": "[encoded data removed]",
      "text/plain": [
       "<Figure size 720x360 with 2 Axes>"
      ]
     },
     "metadata": {
      "needs_background": "light"
     },
     "output_type": "display_data"
    }
   ],
   "source": [
    "fig, ax = plt.subplots(1, 2, figsize=(10,5))\n",
    "# fig.suptitle(\"Groups for disease labels\", y = 1.15)\n",
    "hyp.plot(labels_df[[f\"emb_ncmf_{i}\" for i in range(100)]], \".\", group=labels_df[\"label\"], ndims=2, ax=ax[0])\n",
    "ax[0].set_title(\"NCMF\", fontsize=16)\n",
    "ax[0].set_ylim(0.5,0.99)\n",
    "ax[0].set_xlim(-0.99, 0.99)\n",
    "\n",
    "hyp.plot(labels_df[[f\"emb_dfmf_{i}\" for i in range(50)]], \".\", group=labels_df[\"label\"], ndims=2, ax=ax[1], legend=list(labels_df[\"label\"].unique()))\n",
    "ax[1].set_title(\"DFMF\", fontsize=16)\n",
    "ax[1].set_ylim(-0.99,-0.5)\n",
    "ax[1].set_xlim(-0.99, -0.5)\n",
    "labels = [\"7 - cancer\", \"6 - skin disease\", \"5 - pycnosis\", \"1 - glandular disease\", \"4 - inflammatory disease\", \"0 - cardiovascular disease\",\\\n",
    "\"3 - communicable disease\", \"2 - nervous disorder\"]\n",
    "plt.legend(labels, bbox_to_anchor = (0, 1.2), loc=\"center\", ncol=3, fontsize=16)\n",
    "# plt.savefig(\"PubMed_actual_label_scatterplot.png\", bbox_inches=\"tight\")"
   ]
  },
  {
   "cell_type": "code",
   "execution_count": null,
   "metadata": {},
   "outputs": [],
   "source": []
  }
 ],
 "metadata": {
  "kernelspec": {
   "display_name": "Python 3",
   "language": "python",
   "name": "python3"
  },
  "language_info": {
   "codemirror_mode": {
    "name": "ipython",
    "version": 3
   },
   "file_extension": ".py",
   "mimetype": "text/x-python",
   "name": "python",
   "nbconvert_exporter": "python",
   "pygments_lexer": "ipython3",
   "version": "3.7.7"
  }
 },
 "nbformat": 4,
 "nbformat_minor": 4
}
