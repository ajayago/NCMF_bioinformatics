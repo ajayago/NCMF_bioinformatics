{
 "cells": [
  {
   "cell_type": "markdown",
   "metadata": {},
   "source": [
    "This notebook does the following on the Polypharmacy dataset:\n",
    "\n",
    "1. Load drug and protein embeddings from NCMF and DCMF\n",
    "2. Load single side effect dataset and polypharmacy side effect dataset\n",
    "3. Make k clusters of the drug embeddings(single drug embedding or concatenated drug embedding) - PCA+KMeans\n",
    "4. Choose top k categories of side effects from polypharmacy, top k side effect names from single side effect dataset.\n",
    "5. Plot distribution of k side effects/ k categories in each case\n",
    "6. Calculate silhouette and ARI scores\n",
    "7. Visualize clusters using hypertools (TSNE, Spectral, Incremental PCA)\n",
    "8. Visualize groups based on existing labels"
   ]
  },
  {
   "cell_type": "code",
   "execution_count": 1,
   "metadata": {},
   "outputs": [],
   "source": [
    "import pandas as pd\n",
    "import numpy as np\n",
    "import seaborn as sns\n",
    "import matplotlib.pyplot as plt"
   ]
  },
  {
   "cell_type": "code",
   "execution_count": 2,
   "metadata": {},
   "outputs": [],
   "source": [
    "k_single = 5\n",
    "k_poly = 5\n",
    "topk_single = 5\n",
    "topk_poly =5"
   ]
  },
  {
   "cell_type": "markdown",
   "metadata": {},
   "source": [
    "#### Step 1 Load embeddings for drugs and proteins - NCMF and DCMF"
   ]
  },
  {
   "cell_type": "code",
   "execution_count": 3,
   "metadata": {},
   "outputs": [],
   "source": [
    "def load(emb_file_path):\n",
    "    emb_dict = {}\n",
    "    with open(emb_file_path, 'r') as emb_file:\n",
    "        for i, line in enumerate(emb_file):\n",
    "            if i == 0:\n",
    "                train_para = line[:-1]\n",
    "            else:\n",
    "                index, emb = line[:-1].split('\\t')\n",
    "                emb_dict[index] = np.array(emb.split()).astype(np.float32)\n",
    "\n",
    "    return train_para, emb_dict"
   ]
  },
  {
   "cell_type": "code",
   "execution_count": 4,
   "metadata": {},
   "outputs": [],
   "source": [
    "ncmf_emb_file = \"../datasets/NCMF/Polypharmacy/emb_sample_1.dat\"\n",
    "dcmf_emb_file = \"../DCMF/experiments/emb_Polypharmacy_sample_1.dat\"\n",
    "dfmf_emb_file = \"../scikit-fusion/experiments/dfmf_s1_emb_polypharmacy.dat\"\n",
    "cmf_emb_file = \"../CMF/experiments/cmf_s1_polypharmacy_emb.dat\"\n",
    "gcmf_emb_file = \"../CMF/experiments/gcmf_s1_emb_polypharmacy.dat\""
   ]
  },
  {
   "cell_type": "code",
   "execution_count": 5,
   "metadata": {},
   "outputs": [],
   "source": [
    "train_para, emb_dict = load(ncmf_emb_file)"
   ]
  },
  {
   "cell_type": "code",
   "execution_count": 6,
   "metadata": {},
   "outputs": [],
   "source": [
    "train_para_dcmf, emb_dict_dcmf = load(dcmf_emb_file)"
   ]
  },
  {
   "cell_type": "code",
   "execution_count": 7,
   "metadata": {},
   "outputs": [],
   "source": [
    "train_para_dfmf, emb_dict_dfmf = load(dfmf_emb_file)\n",
    "train_para_cmf, emb_dict_cmf = load(cmf_emb_file)\n",
    "train_para_gcmf, emb_dict_gcmf = load(gcmf_emb_file)"
   ]
  },
  {
   "cell_type": "code",
   "execution_count": 8,
   "metadata": {},
   "outputs": [
    {
     "name": "stdout",
     "output_type": "stream",
     "text": [
      "(50,)\n",
      "(50,)\n",
      "(50,)\n"
     ]
    }
   ],
   "source": [
    "print(emb_dict_dfmf['0'].shape)\n",
    "print(emb_dict_cmf['0'].shape)\n",
    "print(emb_dict_gcmf['0'].shape)"
   ]
  },
  {
   "cell_type": "markdown",
   "metadata": {},
   "source": [
    "#### Step 2 - Load single side effect and polypharmacy datasets"
   ]
  },
  {
   "cell_type": "code",
   "execution_count": 9,
   "metadata": {},
   "outputs": [
    {
     "data": {
      "text/html": [
       "<div>\n",
       "<style scoped>\n",
       "    .dataframe tbody tr th:only-of-type {\n",
       "        vertical-align: middle;\n",
       "    }\n",
       "\n",
       "    .dataframe tbody tr th {\n",
       "        vertical-align: top;\n",
       "    }\n",
       "\n",
       "    .dataframe thead th {\n",
       "        text-align: right;\n",
       "    }\n",
       "</style>\n",
       "<table border=\"1\" class=\"dataframe\">\n",
       "  <thead>\n",
       "    <tr style=\"text-align: right;\">\n",
       "      <th></th>\n",
       "      <th>Drug ID</th>\n",
       "    </tr>\n",
       "    <tr>\n",
       "      <th>Drug Name</th>\n",
       "      <th></th>\n",
       "    </tr>\n",
       "  </thead>\n",
       "  <tbody>\n",
       "    <tr>\n",
       "      <th>CID000000085</th>\n",
       "      <td>0</td>\n",
       "    </tr>\n",
       "    <tr>\n",
       "      <th>CID000000119</th>\n",
       "      <td>1</td>\n",
       "    </tr>\n",
       "    <tr>\n",
       "      <th>CID000000143</th>\n",
       "      <td>2</td>\n",
       "    </tr>\n",
       "    <tr>\n",
       "      <th>CID000000158</th>\n",
       "      <td>3</td>\n",
       "    </tr>\n",
       "    <tr>\n",
       "      <th>CID000000159</th>\n",
       "      <td>4</td>\n",
       "    </tr>\n",
       "  </tbody>\n",
       "</table>\n",
       "</div>"
      ],
      "text/plain": [
       "              Drug ID\n",
       "Drug Name            \n",
       "CID000000085        0\n",
       "CID000000119        1\n",
       "CID000000143        2\n",
       "CID000000158        3\n",
       "CID000000159        4"
      ]
     },
     "execution_count": 9,
     "metadata": {},
     "output_type": "execute_result"
    }
   ],
   "source": [
    "all_drugs_df = pd.read_csv(\"./drug2ID.csv\", index_col=0)\n",
    "all_drugs_df.head()"
   ]
  },
  {
   "cell_type": "code",
   "execution_count": 10,
   "metadata": {},
   "outputs": [],
   "source": [
    "def drug2IDmap(x):\n",
    "    drug_id_for_x = all_drugs_df.loc[x][\"Drug ID\"]\n",
    "    return drug_id_for_x"
   ]
  },
  {
   "cell_type": "code",
   "execution_count": 11,
   "metadata": {},
   "outputs": [
    {
     "data": {
      "text/html": [
       "<div>\n",
       "<style scoped>\n",
       "    .dataframe tbody tr th:only-of-type {\n",
       "        vertical-align: middle;\n",
       "    }\n",
       "\n",
       "    .dataframe tbody tr th {\n",
       "        vertical-align: top;\n",
       "    }\n",
       "\n",
       "    .dataframe thead th {\n",
       "        text-align: right;\n",
       "    }\n",
       "</style>\n",
       "<table border=\"1\" class=\"dataframe\">\n",
       "  <thead>\n",
       "    <tr style=\"text-align: right;\">\n",
       "      <th></th>\n",
       "      <th>STITCH</th>\n",
       "      <th>Individual Side Effect</th>\n",
       "      <th>Side Effect Name</th>\n",
       "    </tr>\n",
       "  </thead>\n",
       "  <tbody>\n",
       "    <tr>\n",
       "      <th>0</th>\n",
       "      <td>CID003062316</td>\n",
       "      <td>C1096328</td>\n",
       "      <td>central nervous system mass</td>\n",
       "    </tr>\n",
       "    <tr>\n",
       "      <th>1</th>\n",
       "      <td>CID003062316</td>\n",
       "      <td>C0162830</td>\n",
       "      <td>Photosensitivity reaction</td>\n",
       "    </tr>\n",
       "    <tr>\n",
       "      <th>2</th>\n",
       "      <td>CID003062316</td>\n",
       "      <td>C1611725</td>\n",
       "      <td>leukaemic infiltration brain</td>\n",
       "    </tr>\n",
       "    <tr>\n",
       "      <th>3</th>\n",
       "      <td>CID003062316</td>\n",
       "      <td>C0541767</td>\n",
       "      <td>platelet adhesiveness abnormal</td>\n",
       "    </tr>\n",
       "    <tr>\n",
       "      <th>4</th>\n",
       "      <td>CID003062316</td>\n",
       "      <td>C0242973</td>\n",
       "      <td>Ventricular dysfunction</td>\n",
       "    </tr>\n",
       "  </tbody>\n",
       "</table>\n",
       "</div>"
      ],
      "text/plain": [
       "         STITCH Individual Side Effect                Side Effect Name\n",
       "0  CID003062316               C1096328     central nervous system mass\n",
       "1  CID003062316               C0162830       Photosensitivity reaction\n",
       "2  CID003062316               C1611725    leukaemic infiltration brain\n",
       "3  CID003062316               C0541767  platelet adhesiveness abnormal\n",
       "4  CID003062316               C0242973         Ventricular dysfunction"
      ]
     },
     "execution_count": 11,
     "metadata": {},
     "output_type": "execute_result"
    }
   ],
   "source": [
    "single_se_df = pd.read_csv(\"./bio-decagon-mono.csv\")\n",
    "single_se_df.head()"
   ]
  },
  {
   "cell_type": "code",
   "execution_count": 12,
   "metadata": {},
   "outputs": [
    {
     "data": {
      "text/html": [
       "<div>\n",
       "<style scoped>\n",
       "    .dataframe tbody tr th:only-of-type {\n",
       "        vertical-align: middle;\n",
       "    }\n",
       "\n",
       "    .dataframe tbody tr th {\n",
       "        vertical-align: top;\n",
       "    }\n",
       "\n",
       "    .dataframe thead th {\n",
       "        text-align: right;\n",
       "    }\n",
       "</style>\n",
       "<table border=\"1\" class=\"dataframe\">\n",
       "  <thead>\n",
       "    <tr style=\"text-align: right;\">\n",
       "      <th></th>\n",
       "      <th>STITCH</th>\n",
       "      <th>Individual Side Effect</th>\n",
       "      <th>Side Effect Name</th>\n",
       "      <th>drug</th>\n",
       "    </tr>\n",
       "  </thead>\n",
       "  <tbody>\n",
       "    <tr>\n",
       "      <th>0</th>\n",
       "      <td>CID003062316</td>\n",
       "      <td>C1096328</td>\n",
       "      <td>central nervous system mass</td>\n",
       "      <td>608</td>\n",
       "    </tr>\n",
       "    <tr>\n",
       "      <th>1</th>\n",
       "      <td>CID003062316</td>\n",
       "      <td>C0162830</td>\n",
       "      <td>Photosensitivity reaction</td>\n",
       "      <td>608</td>\n",
       "    </tr>\n",
       "    <tr>\n",
       "      <th>2</th>\n",
       "      <td>CID003062316</td>\n",
       "      <td>C1611725</td>\n",
       "      <td>leukaemic infiltration brain</td>\n",
       "      <td>608</td>\n",
       "    </tr>\n",
       "    <tr>\n",
       "      <th>3</th>\n",
       "      <td>CID003062316</td>\n",
       "      <td>C0541767</td>\n",
       "      <td>platelet adhesiveness abnormal</td>\n",
       "      <td>608</td>\n",
       "    </tr>\n",
       "    <tr>\n",
       "      <th>4</th>\n",
       "      <td>CID003062316</td>\n",
       "      <td>C0242973</td>\n",
       "      <td>Ventricular dysfunction</td>\n",
       "      <td>608</td>\n",
       "    </tr>\n",
       "  </tbody>\n",
       "</table>\n",
       "</div>"
      ],
      "text/plain": [
       "         STITCH Individual Side Effect                Side Effect Name  drug\n",
       "0  CID003062316               C1096328     central nervous system mass   608\n",
       "1  CID003062316               C0162830       Photosensitivity reaction   608\n",
       "2  CID003062316               C1611725    leukaemic infiltration brain   608\n",
       "3  CID003062316               C0541767  platelet adhesiveness abnormal   608\n",
       "4  CID003062316               C0242973         Ventricular dysfunction   608"
      ]
     },
     "execution_count": 12,
     "metadata": {},
     "output_type": "execute_result"
    }
   ],
   "source": [
    "single_se_df[\"drug\"] = single_se_df[\"STITCH\"].apply(lambda x: drug2IDmap(x))\n",
    "single_se_df.head()"
   ]
  },
  {
   "cell_type": "code",
   "execution_count": 13,
   "metadata": {},
   "outputs": [
    {
     "data": {
      "text/html": [
       "<div>\n",
       "<style scoped>\n",
       "    .dataframe tbody tr th:only-of-type {\n",
       "        vertical-align: middle;\n",
       "    }\n",
       "\n",
       "    .dataframe tbody tr th {\n",
       "        vertical-align: top;\n",
       "    }\n",
       "\n",
       "    .dataframe thead th {\n",
       "        text-align: right;\n",
       "    }\n",
       "</style>\n",
       "<table border=\"1\" class=\"dataframe\">\n",
       "  <thead>\n",
       "    <tr style=\"text-align: right;\">\n",
       "      <th></th>\n",
       "      <th>STITCH 1</th>\n",
       "      <th>STITCH 2</th>\n",
       "      <th>Polypharmacy Side Effect</th>\n",
       "      <th>Side Effect Name</th>\n",
       "    </tr>\n",
       "  </thead>\n",
       "  <tbody>\n",
       "    <tr>\n",
       "      <th>0</th>\n",
       "      <td>CID000002173</td>\n",
       "      <td>CID000003345</td>\n",
       "      <td>C0151714</td>\n",
       "      <td>hypermagnesemia</td>\n",
       "    </tr>\n",
       "    <tr>\n",
       "      <th>1</th>\n",
       "      <td>CID000002173</td>\n",
       "      <td>CID000003345</td>\n",
       "      <td>C0035344</td>\n",
       "      <td>retinopathy of prematurity</td>\n",
       "    </tr>\n",
       "    <tr>\n",
       "      <th>2</th>\n",
       "      <td>CID000002173</td>\n",
       "      <td>CID000003345</td>\n",
       "      <td>C0004144</td>\n",
       "      <td>atelectasis</td>\n",
       "    </tr>\n",
       "    <tr>\n",
       "      <th>3</th>\n",
       "      <td>CID000002173</td>\n",
       "      <td>CID000003345</td>\n",
       "      <td>C0002063</td>\n",
       "      <td>alkalosis</td>\n",
       "    </tr>\n",
       "    <tr>\n",
       "      <th>4</th>\n",
       "      <td>CID000002173</td>\n",
       "      <td>CID000003345</td>\n",
       "      <td>C0004604</td>\n",
       "      <td>Back Ache</td>\n",
       "    </tr>\n",
       "  </tbody>\n",
       "</table>\n",
       "</div>"
      ],
      "text/plain": [
       "       STITCH 1      STITCH 2 Polypharmacy Side Effect  \\\n",
       "0  CID000002173  CID000003345                 C0151714   \n",
       "1  CID000002173  CID000003345                 C0035344   \n",
       "2  CID000002173  CID000003345                 C0004144   \n",
       "3  CID000002173  CID000003345                 C0002063   \n",
       "4  CID000002173  CID000003345                 C0004604   \n",
       "\n",
       "             Side Effect Name  \n",
       "0             hypermagnesemia  \n",
       "1  retinopathy of prematurity  \n",
       "2                 atelectasis  \n",
       "3                   alkalosis  \n",
       "4                   Back Ache  "
      ]
     },
     "execution_count": 13,
     "metadata": {},
     "output_type": "execute_result"
    }
   ],
   "source": [
    "ddi_df = pd.read_csv(\"./bio-decagon-combo.csv\")\n",
    "ddi_df.head()"
   ]
  },
  {
   "cell_type": "code",
   "execution_count": 14,
   "metadata": {},
   "outputs": [
    {
     "data": {
      "text/html": [
       "<div>\n",
       "<style scoped>\n",
       "    .dataframe tbody tr th:only-of-type {\n",
       "        vertical-align: middle;\n",
       "    }\n",
       "\n",
       "    .dataframe tbody tr th {\n",
       "        vertical-align: top;\n",
       "    }\n",
       "\n",
       "    .dataframe thead th {\n",
       "        text-align: right;\n",
       "    }\n",
       "</style>\n",
       "<table border=\"1\" class=\"dataframe\">\n",
       "  <thead>\n",
       "    <tr style=\"text-align: right;\">\n",
       "      <th></th>\n",
       "      <th>STITCH 1</th>\n",
       "      <th>STITCH 2</th>\n",
       "      <th>Polypharmacy Side Effect</th>\n",
       "      <th>Side Effect Name</th>\n",
       "      <th>drugA</th>\n",
       "    </tr>\n",
       "  </thead>\n",
       "  <tbody>\n",
       "    <tr>\n",
       "      <th>0</th>\n",
       "      <td>CID000002173</td>\n",
       "      <td>CID000003345</td>\n",
       "      <td>C0151714</td>\n",
       "      <td>hypermagnesemia</td>\n",
       "      <td>55</td>\n",
       "    </tr>\n",
       "    <tr>\n",
       "      <th>1</th>\n",
       "      <td>CID000002173</td>\n",
       "      <td>CID000003345</td>\n",
       "      <td>C0035344</td>\n",
       "      <td>retinopathy of prematurity</td>\n",
       "      <td>55</td>\n",
       "    </tr>\n",
       "    <tr>\n",
       "      <th>2</th>\n",
       "      <td>CID000002173</td>\n",
       "      <td>CID000003345</td>\n",
       "      <td>C0004144</td>\n",
       "      <td>atelectasis</td>\n",
       "      <td>55</td>\n",
       "    </tr>\n",
       "    <tr>\n",
       "      <th>3</th>\n",
       "      <td>CID000002173</td>\n",
       "      <td>CID000003345</td>\n",
       "      <td>C0002063</td>\n",
       "      <td>alkalosis</td>\n",
       "      <td>55</td>\n",
       "    </tr>\n",
       "    <tr>\n",
       "      <th>4</th>\n",
       "      <td>CID000002173</td>\n",
       "      <td>CID000003345</td>\n",
       "      <td>C0004604</td>\n",
       "      <td>Back Ache</td>\n",
       "      <td>55</td>\n",
       "    </tr>\n",
       "  </tbody>\n",
       "</table>\n",
       "</div>"
      ],
      "text/plain": [
       "       STITCH 1      STITCH 2 Polypharmacy Side Effect  \\\n",
       "0  CID000002173  CID000003345                 C0151714   \n",
       "1  CID000002173  CID000003345                 C0035344   \n",
       "2  CID000002173  CID000003345                 C0004144   \n",
       "3  CID000002173  CID000003345                 C0002063   \n",
       "4  CID000002173  CID000003345                 C0004604   \n",
       "\n",
       "             Side Effect Name  drugA  \n",
       "0             hypermagnesemia     55  \n",
       "1  retinopathy of prematurity     55  \n",
       "2                 atelectasis     55  \n",
       "3                   alkalosis     55  \n",
       "4                   Back Ache     55  "
      ]
     },
     "execution_count": 14,
     "metadata": {},
     "output_type": "execute_result"
    }
   ],
   "source": [
    "ddi_df[\"drugA\"] = ddi_df[\"STITCH 1\"].apply(lambda x:drug2IDmap(x))\n",
    "ddi_df.head()"
   ]
  },
  {
   "cell_type": "code",
   "execution_count": null,
   "metadata": {},
   "outputs": [],
   "source": [
    "ddi_df[\"drugB\"] = ddi_df[\"STITCH 2\"].apply(lambda x:drug2IDmap(x))\n",
    "ddi_df.head()"
   ]
  },
  {
   "cell_type": "code",
   "execution_count": null,
   "metadata": {},
   "outputs": [],
   "source": [
    "### Reading the side effect category file from SNAP\n",
    "se_file = pd.read_csv(\"./bio-decagon-effectcategories.csv\")\n",
    "se_file.head()"
   ]
  },
  {
   "cell_type": "code",
   "execution_count": null,
   "metadata": {},
   "outputs": [],
   "source": [
    "def get_se_category(x):\n",
    "    res = list(se_file[se_file[\"Side Effect\"] == x][\"Disease Class\"])\n",
    "    if res == []:\n",
    "        return \"No information\"\n",
    "    else:\n",
    "        return res[0]"
   ]
  },
  {
   "cell_type": "code",
   "execution_count": null,
   "metadata": {},
   "outputs": [],
   "source": [
    "ddi_df[\"side_effect_category\"] = ddi_df[\"Polypharmacy Side Effect\"].apply(lambda x: get_se_category(x))\n",
    "ddi_df.head()"
   ]
  },
  {
   "cell_type": "code",
   "execution_count": null,
   "metadata": {},
   "outputs": [],
   "source": [
    "ddi_df = ddi_df[ddi_df.side_effect_category != \"No information\"]\n",
    "ddi_df.head()"
   ]
  },
  {
   "cell_type": "code",
   "execution_count": null,
   "metadata": {},
   "outputs": [],
   "source": [
    "single_se_df_subset = single_se_df.drop_duplicates(\"STITCH\")\n",
    "print(single_se_df.shape)\n",
    "print(single_se_df_subset.shape)\n",
    "single_se_df_subset.head()"
   ]
  },
  {
   "cell_type": "code",
   "execution_count": null,
   "metadata": {},
   "outputs": [],
   "source": [
    "len(single_se_df_subset[\"Side Effect Name\"].unique())"
   ]
  },
  {
   "cell_type": "code",
   "execution_count": null,
   "metadata": {},
   "outputs": [],
   "source": [
    "ddi_df_subset = ddi_df.drop_duplicates([\"drugA\", \"drugB\"])\n",
    "print(ddi_df.shape)\n",
    "print(ddi_df_subset.shape)\n",
    "ddi_df_subset.head()"
   ]
  },
  {
   "cell_type": "code",
   "execution_count": null,
   "metadata": {},
   "outputs": [],
   "source": [
    "len(ddi_df_subset[\"side_effect_category\"].unique())"
   ]
  },
  {
   "cell_type": "markdown",
   "metadata": {},
   "source": [
    "#### Step 3 - get drug embeddings and obtain k clusters using PCA + KMeans/hypertools"
   ]
  },
  {
   "cell_type": "code",
   "execution_count": null,
   "metadata": {},
   "outputs": [],
   "source": [
    "def get_emb(drug_ID, alg):\n",
    "    if alg == \"ncmf\":\n",
    "        left = emb_dict[str(drug_ID)]\n",
    "    elif alg == \"dcmf\":\n",
    "        left = emb_dict_dcmf[str(drug_ID)]\n",
    "    elif alg == \"dfmf\":\n",
    "        left = emb_dict_dfmf[str(drug_ID)]\n",
    "    elif alg == \"cmf\":\n",
    "        left = emb_dict_cmf[str(drug_ID)]\n",
    "    elif alg == \"gcmf\":\n",
    "        left = emb_dict_gcmf[str(drug_ID)]\n",
    "    return list(left)"
   ]
  },
  {
   "cell_type": "markdown",
   "metadata": {},
   "source": [
    "##### Single Side effect"
   ]
  },
  {
   "cell_type": "code",
   "execution_count": null,
   "metadata": {},
   "outputs": [],
   "source": [
    "single_se_df_subset[\"drug_emb_ncmf\"] = single_se_df_subset[\"drug\"].apply(lambda x: get_emb(x, \"ncmf\"))\n",
    "single_se_df_subset.head()"
   ]
  },
  {
   "cell_type": "code",
   "execution_count": null,
   "metadata": {},
   "outputs": [],
   "source": [
    "single_se_df_subset[\"drug_emb_dcmf\"] = single_se_df_subset[\"drug\"].apply(lambda x: get_emb(x, \"dcmf\"))\n",
    "single_se_df_subset.head()"
   ]
  },
  {
   "cell_type": "code",
   "execution_count": null,
   "metadata": {},
   "outputs": [],
   "source": [
    "single_se_df_subset[\"drug_emb_cmf\"] = single_se_df_subset[\"drug\"].apply(lambda x: get_emb(x, \"cmf\"))\n",
    "single_se_df_subset[\"drug_emb_gcmf\"] = single_se_df_subset[\"drug\"].apply(lambda x: get_emb(x, \"gcmf\"))\n",
    "single_se_df_subset[\"drug_emb_dfmf\"] = single_se_df_subset[\"drug\"].apply(lambda x: get_emb(x, \"dfmf\"))"
   ]
  },
  {
   "cell_type": "code",
   "execution_count": null,
   "metadata": {},
   "outputs": [],
   "source": [
    "single_se_df_subset[[f\"emb_ncmf_{i}\" for i in range(50)]] = pd.DataFrame(single_se_df_subset.drug_emb_ncmf.tolist(), index=single_se_df_subset.index)\n",
    "single_se_df_subset[[f\"emb_dcmf_{i}\" for i in range(100)]] = pd.DataFrame(single_se_df_subset.drug_emb_dcmf.tolist(), index=single_se_df_subset.index)\n",
    "single_se_df_subset[[f\"emb_cmf_{i}\" for i in range(50)]] = pd.DataFrame(single_se_df_subset.drug_emb_cmf.tolist(), index=single_se_df_subset.index)\n",
    "single_se_df_subset[[f\"emb_gcmf_{i}\" for i in range(50)]] = pd.DataFrame(single_se_df_subset.drug_emb_gcmf.tolist(), index=single_se_df_subset.index)\n",
    "single_se_df_subset[[f\"emb_dfmf_{i}\" for i in range(50)]] = pd.DataFrame(single_se_df_subset.drug_emb_dfmf.tolist(), index=single_se_df_subset.index)\n",
    "single_se_df_subset.head()"
   ]
  },
  {
   "cell_type": "code",
   "execution_count": null,
   "metadata": {},
   "outputs": [],
   "source": [
    "import hypertools as hyp"
   ]
  },
  {
   "cell_type": "code",
   "execution_count": null,
   "metadata": {},
   "outputs": [],
   "source": [
    "from sklearn.decomposition import PCA\n",
    "pca = PCA(n_components=5, random_state=42)\n",
    "single_se_ncmf_pca = pca.fit_transform(single_se_df_subset[[f\"emb_ncmf_{i}\" for i in range(50)]].values)\n",
    "single_se_dcmf_pca = pca.fit_transform(single_se_df_subset[[f\"emb_dcmf_{i}\" for i in range(100)]].values)\n",
    "single_se_cmf_pca = pca.fit_transform(single_se_df_subset[[f\"emb_cmf_{i}\" for i in range(50)]].values)\n",
    "single_se_gcmf_pca = pca.fit_transform(single_se_df_subset[[f\"emb_gcmf_{i}\" for i in range(50)]].values)\n",
    "single_se_dfmf_pca = pca.fit_transform(single_se_df_subset[[f\"emb_dfmf_{i}\" for i in range(50)]].values)\n",
    "print(single_se_ncmf_pca.shape)\n",
    "print(single_se_dcmf_pca.shape)\n",
    "print(single_se_cmf_pca.shape)\n",
    "print(single_se_gcmf_pca.shape)\n",
    "print(single_se_dfmf_pca.shape)"
   ]
  },
  {
   "cell_type": "code",
   "execution_count": null,
   "metadata": {},
   "outputs": [],
   "source": [
    "single_se_df_subset[\"ncmf_clusters\"] = hyp.cluster(single_se_ncmf_pca, n_clusters = k_single)"
   ]
  },
  {
   "cell_type": "code",
   "execution_count": null,
   "metadata": {},
   "outputs": [],
   "source": [
    "single_se_df_subset[\"dcmf_clusters\"] = hyp.cluster(single_se_dcmf_pca, n_clusters = k_single)"
   ]
  },
  {
   "cell_type": "code",
   "execution_count": null,
   "metadata": {},
   "outputs": [],
   "source": [
    "single_se_df_subset[\"cmf_clusters\"] = hyp.cluster(single_se_cmf_pca, n_clusters = k_single)\n",
    "single_se_df_subset[\"gcmf_clusters\"] = hyp.cluster(single_se_gcmf_pca, n_clusters = k_single)\n",
    "single_se_df_subset[\"dfmf_clusters\"] = hyp.cluster(single_se_dfmf_pca, n_clusters = k_single)"
   ]
  },
  {
   "cell_type": "code",
   "execution_count": null,
   "metadata": {},
   "outputs": [],
   "source": [
    "single_se_df_subset.head()"
   ]
  },
  {
   "cell_type": "markdown",
   "metadata": {},
   "source": [
    "##### Polypharmacy side effect"
   ]
  },
  {
   "cell_type": "code",
   "execution_count": null,
   "metadata": {},
   "outputs": [],
   "source": [
    "ddi_df_subset[\"drug_emb_ncmf\"] = ddi_df_subset[\"drugA\"].apply(lambda x: get_emb(x, \"ncmf\"))\n",
    "ddi_df_subset.head()"
   ]
  },
  {
   "cell_type": "code",
   "execution_count": null,
   "metadata": {},
   "outputs": [],
   "source": [
    "ddi_df_subset.rename(columns = {\"drug_emb_ncmf\": \"drugA_emb_ncmf\"}, inplace = True)\n",
    "ddi_df_subset.head()"
   ]
  },
  {
   "cell_type": "code",
   "execution_count": null,
   "metadata": {},
   "outputs": [],
   "source": [
    "ddi_df_subset[\"drugB_emb_ncmf\"] = ddi_df_subset[\"drugB\"].apply(lambda x: get_emb(x, \"ncmf\"))\n",
    "ddi_df_subset.head()"
   ]
  },
  {
   "cell_type": "code",
   "execution_count": null,
   "metadata": {},
   "outputs": [],
   "source": [
    "def get_concat_emb(row, alg):\n",
    "    if alg == \"ncmf\":\n",
    "        left = emb_dict[str(row[\"drugA\"])]\n",
    "        right = emb_dict[str(row[\"drugB\"])]\n",
    "    elif alg == \"dcmf\":\n",
    "        left = emb_dict_dcmf[str(row[\"drugA\"])]\n",
    "        right = emb_dict_dcmf[str(row[\"drugB\"])]\n",
    "    emb_concat = np.concatenate((left, right))\n",
    "    return list(emb_concat)"
   ]
  },
  {
   "cell_type": "code",
   "execution_count": null,
   "metadata": {},
   "outputs": [],
   "source": [
    "ddi_df_subset[\"drug_pair_emb_ncmf\"] = ddi_df_subset.apply(lambda row: get_concat_emb(row, \"ncmf\"), axis = 1)\n",
    "ddi_df_subset.head()"
   ]
  },
  {
   "cell_type": "code",
   "execution_count": null,
   "metadata": {},
   "outputs": [],
   "source": [
    "ddi_df_subset[\"drug_pair_emb_dcmf\"] = ddi_df_subset.apply(lambda row: get_concat_emb(row, \"dcmf\"), axis = 1)\n",
    "ddi_df_subset.head()"
   ]
  },
  {
   "cell_type": "code",
   "execution_count": null,
   "metadata": {},
   "outputs": [],
   "source": [
    "ddi_df_subset[[f\"emb_ncmf_{i}\" for i in range(100)]] = pd.DataFrame(ddi_df_subset.drug_pair_emb_ncmf.tolist(), index=ddi_df_subset.index)\n",
    "ddi_df_subset[[f\"emb_dcmf_{i}\" for i in range(200)]] = pd.DataFrame(ddi_df_subset.drug_pair_emb_dcmf.tolist(), index=ddi_df_subset.index)\n",
    "ddi_df_subset.head()"
   ]
  },
  {
   "cell_type": "code",
   "execution_count": null,
   "metadata": {},
   "outputs": [],
   "source": [
    "pca = PCA(n_components=5, random_state=42)\n",
    "ddi_ncmf_pca = pca.fit_transform(ddi_df_subset[[f\"emb_ncmf_{i}\" for i in range(100)]].values)\n",
    "ddi_dcmf_pca = pca.fit_transform(ddi_df_subset[[f\"emb_dcmf_{i}\" for i in range(200)]].values)\n",
    "print(ddi_ncmf_pca.shape)\n",
    "print(ddi_dcmf_pca.shape)"
   ]
  },
  {
   "cell_type": "code",
   "execution_count": null,
   "metadata": {},
   "outputs": [],
   "source": [
    "ddi_df_subset[\"ncmf_clusters\"] = hyp.cluster(ddi_ncmf_pca, n_clusters = k_poly)"
   ]
  },
  {
   "cell_type": "code",
   "execution_count": null,
   "metadata": {},
   "outputs": [],
   "source": [
    "ddi_df_subset[\"dcmf_clusters\"] = hyp.cluster(ddi_dcmf_pca, n_clusters = k_poly)"
   ]
  },
  {
   "cell_type": "code",
   "execution_count": null,
   "metadata": {},
   "outputs": [],
   "source": [
    "ddi_df_subset.head()"
   ]
  },
  {
   "cell_type": "markdown",
   "metadata": {},
   "source": [
    "#### Step 4 - FInd top k categories in each cluster"
   ]
  },
  {
   "cell_type": "code",
   "execution_count": null,
   "metadata": {},
   "outputs": [],
   "source": [
    "# Single side effect dataset\n",
    "topk_single_ncmf = {}\n",
    "topk_single_dcmf = {}\n",
    "for i in range(k_single):\n",
    "    topk_single_ncmf[i] = single_se_df_subset[single_se_df_subset.ncmf_clusters == i][\"Side Effect Name\"].value_counts()[:topk_single].to_dict()\n",
    "    topk_single_dcmf[i] = single_se_df_subset[single_se_df_subset.dcmf_clusters == i][\"Side Effect Name\"].value_counts()[:topk_single].to_dict()\n",
    "print(topk_single_ncmf)\n",
    "print(topk_single_dcmf)"
   ]
  },
  {
   "cell_type": "code",
   "execution_count": null,
   "metadata": {},
   "outputs": [],
   "source": [
    "# Polypha side effect dataset\n",
    "topk_poly_ncmf = {}\n",
    "topk_poly_dcmf = {}\n",
    "for i in range(k_poly):\n",
    "    topk_poly_ncmf[i] = ddi_df_subset[ddi_df_subset.ncmf_clusters == i][\"side_effect_category\"].value_counts()[:topk_poly].to_dict()\n",
    "    topk_poly_dcmf[i] = ddi_df_subset[ddi_df_subset.dcmf_clusters == i][\"side_effect_category\"].value_counts()[:topk_poly].to_dict()\n",
    "print(topk_poly_ncmf)\n",
    "print(topk_poly_dcmf)"
   ]
  },
  {
   "cell_type": "markdown",
   "metadata": {},
   "source": [
    "#### Step 5 - Plot distribution of side effects in each cluster"
   ]
  },
  {
   "cell_type": "code",
   "execution_count": null,
   "metadata": {},
   "outputs": [],
   "source": [
    "from textwrap import wrap"
   ]
  },
  {
   "cell_type": "code",
   "execution_count": null,
   "metadata": {},
   "outputs": [],
   "source": [
    "# Single side effects\n",
    "fig, ax = plt.subplots(k_single, 2, figsize=(25,25))\n",
    "for i in range(k_single):\n",
    "    sns.barplot(x = list(topk_single_ncmf[i].keys()), y = list(topk_single_ncmf[i].values()), ax = ax[i][0])\n",
    "    ax[i][0].set_xticklabels(list(topk_single_ncmf[i].keys()), rotation=10)\n",
    "    ax[i][0].set_title(f\"NCMF cluster {i}\")\n",
    "    sns.barplot(x = list(topk_single_dcmf[i].keys()), y = list(topk_single_dcmf[i].values()), ax = ax[i][1])\n",
    "    ax[i][1].set_xticklabels(list(topk_single_dcmf[i].keys()), rotation=10)\n",
    "    ax[i][1].set_title(f\"DCMF cluster {i}\")\n",
    "fig.suptitle(f\"Single side effects - {k_single} most common in each cluster\", y=1.005)\n",
    "plt.tight_layout()"
   ]
  },
  {
   "cell_type": "code",
   "execution_count": null,
   "metadata": {},
   "outputs": [],
   "source": [
    "# Polypharmacy side effects\n",
    "fig, ax = plt.subplots(k_poly, 2, figsize=(25,25))\n",
    "for i in range(k_poly):\n",
    "    sns.barplot(x = list(topk_poly_ncmf[i].keys()), y = list(topk_poly_ncmf[i].values()), ax = ax[i][0])\n",
    "    ax[i][0].set_xticklabels(list(topk_poly_ncmf[i].keys()), rotation=10)\n",
    "    ax[i][0].set_title(f\"NCMF cluster {i}\")\n",
    "    sns.barplot(x = list(topk_poly_dcmf[i].keys()), y = list(topk_poly_dcmf[i].values()), ax = ax[i][1])\n",
    "    ax[i][1].set_xticklabels(list(topk_poly_dcmf[i].keys()), rotation=10)\n",
    "    ax[i][1].set_title(f\"DCMF cluster {i}\")\n",
    "fig.suptitle(f\"Polypharmacy side effects - {k_poly} most common in each cluster\", y=1.005)\n",
    "plt.tight_layout()"
   ]
  },
  {
   "cell_type": "markdown",
   "metadata": {},
   "source": [
    "#### Step 6 - Calculate ARI score and silhouette scores"
   ]
  },
  {
   "cell_type": "code",
   "execution_count": null,
   "metadata": {},
   "outputs": [],
   "source": [
    "from sklearn.metrics import adjusted_rand_score, silhouette_score"
   ]
  },
  {
   "cell_type": "code",
   "execution_count": null,
   "metadata": {},
   "outputs": [],
   "source": [
    "# Single side effect\n",
    "print(f\"NCMF adjusted rand score = {adjusted_rand_score(single_se_df_subset['Side Effect Name'], single_se_df_subset['ncmf_clusters'])}\")\n",
    "print(f\"DCMF adjusted rand score = {adjusted_rand_score(single_se_df_subset['Side Effect Name'], single_se_df_subset['dcmf_clusters'])}\")"
   ]
  },
  {
   "cell_type": "code",
   "execution_count": null,
   "metadata": {},
   "outputs": [],
   "source": [
    "print(f\"NCMF silhoeutte score for {k_single} clusters = {silhouette_score(single_se_df_subset[[f'emb_ncmf_{i}' for i in range(50)]], single_se_df_subset['ncmf_clusters'])}\")\n",
    "print(f\"DCMF silhoeutte score for {k_single} clusters = {silhouette_score(single_se_df_subset[[f'emb_dcmf_{i}' for i in range(100)]], single_se_df_subset['dcmf_clusters'])}\")"
   ]
  },
  {
   "cell_type": "code",
   "execution_count": null,
   "metadata": {},
   "outputs": [],
   "source": [
    "# Polypharmacy side effect\n",
    "print(f\"NCMF adjusted rand score = {adjusted_rand_score(ddi_df_subset['side_effect_category'], ddi_df_subset['ncmf_clusters'])}\")\n",
    "print(f\"DCMF adjusted rand score = {adjusted_rand_score(ddi_df_subset['side_effect_category'], ddi_df_subset['dcmf_clusters'])}\")"
   ]
  },
  {
   "cell_type": "code",
   "execution_count": null,
   "metadata": {},
   "outputs": [],
   "source": [
    "print(f\"NCMF silhoeutte score for {k_poly} clusters = {silhouette_score(ddi_df_subset[[f'emb_ncmf_{i}' for i in range(50)]], ddi_df_subset['ncmf_clusters'])}\")\n",
    "print(f\"DCMF silhoeutte score for {k_poly} clusters = {silhouette_score(ddi_df_subset[[f'emb_dcmf_{i}' for i in range(100)]], ddi_df_subset['dcmf_clusters'])}\")"
   ]
  },
  {
   "cell_type": "markdown",
   "metadata": {},
   "source": [
    "#### Step 7 - Visualize clusters using hypertools"
   ]
  },
  {
   "cell_type": "code",
   "execution_count": null,
   "metadata": {},
   "outputs": [],
   "source": [
    "# Single side effect\n",
    "fig, ax = plt.subplots(1, 2, figsize=(10,10))\n",
    "fig.suptitle(\"Clusters for single side effect\", y = 1.05)\n",
    "hyp.plot(single_se_df_subset[[f\"emb_ncmf_{i}\" for i in range(50)]], \".\", group=single_se_df_subset[\"ncmf_clusters\"], ndims=2, title=f\"NCMF {k_single} clusters\", ax=ax[0])\n",
    "hyp.plot(single_se_df_subset[[f\"emb_dcmf_{i}\" for i in range(100)]], \".\", group=single_se_df_subset[\"dcmf_clusters\"], ndims=2, title=f\"DCMF {k_single} clusters\", ax=ax[1])"
   ]
  },
  {
   "cell_type": "code",
   "execution_count": null,
   "metadata": {},
   "outputs": [],
   "source": [
    "# Polypharmacy side effect\n",
    "fig, ax = plt.subplots(1, 2, figsize=(10,10))\n",
    "fig.suptitle(\"Clusters for polypharmacy side effect\", y = 1.05)\n",
    "hyp.plot(ddi_df_subset[[f\"emb_ncmf_{i}\" for i in range(100)]], \".\", group=ddi_df_subset[\"ncmf_clusters\"], ndims=2, title=f\"NCMF {k_poly} clusters\", ax=ax[0])\n",
    "hyp.plot(ddi_df_subset[[f\"emb_dcmf_{i}\" for i in range(200)]], \".\", group=ddi_df_subset[\"dcmf_clusters\"], ndims=2, title=f\"DCMF {k_poly} clusters\", ax=ax[1])"
   ]
  },
  {
   "cell_type": "markdown",
   "metadata": {},
   "source": [
    "#### Visualize existing labels using hypertools"
   ]
  },
  {
   "cell_type": "code",
   "execution_count": null,
   "metadata": {},
   "outputs": [],
   "source": [
    "# Single side effect\n",
    "fig, ax = plt.subplots(1, 2, figsize=(10,10))\n",
    "fig.suptitle(\"Groups for single side effect\", y = 1.05)\n",
    "hyp.plot(single_se_df_subset[[f\"emb_ncmf_{i}\" for i in range(50)]], \".\", group=single_se_df_subset[\"Side Effect Name\"], ndims=2, title=f\"NCMF side effect groups\", ax=ax[0])\n",
    "hyp.plot(single_se_df_subset[[f\"emb_dcmf_{i}\" for i in range(100)]], \".\", group=single_se_df_subset[\"Side Effect Name\"], ndims=2, title=f\"DCMF side effect groups\", ax=ax[1])"
   ]
  },
  {
   "cell_type": "code",
   "execution_count": null,
   "metadata": {},
   "outputs": [],
   "source": [
    "# Polypharmacy side effect\n",
    "fig, ax = plt.subplots(1, 2, figsize=(10,10))\n",
    "fig.suptitle(\"Groups for polypharmacy side effect\", y = 1.05)\n",
    "hyp.plot(ddi_df_subset[[f\"emb_ncmf_{i}\" for i in range(100)]], \".\", group=ddi_df_subset[\"side_effect_category\"], ndims=2, title=f\"NCMF side effect groups\", ax=ax[0])\n",
    "hyp.plot(ddi_df_subset[[f\"emb_dcmf_{i}\" for i in range(200)]], \".\", group=ddi_df_subset[\"side_effect_category\"], ndims=2, title=f\"DCMF side effect groups\", ax=ax[1])"
   ]
  },
  {
   "cell_type": "markdown",
   "metadata": {},
   "source": [
    "#### Extra Visualization experiments"
   ]
  },
  {
   "cell_type": "markdown",
   "metadata": {},
   "source": [
    "1. Read in drug-protein interactions from SNAP\n",
    "2. Remove all duplicate drugs\n",
    "3. Map all drugs in single side effect to the proteins they interact with\n",
    "4. Cluster the drugs\n",
    "5. For each cluster of drugs, find the protein that they interact with most"
   ]
  },
  {
   "cell_type": "code",
   "execution_count": null,
   "metadata": {},
   "outputs": [],
   "source": [
    "# Load drug-protein associations from SNAP\n",
    "drug_protein_df = pd.read_csv(\"./bio-decagon-targets.csv\")\n",
    "print(drug_protein_df.shape)\n",
    "drug_protein_df.head()"
   ]
  },
  {
   "cell_type": "code",
   "execution_count": null,
   "metadata": {},
   "outputs": [],
   "source": [
    "drug_protein_df_subset = drug_protein_df.drop_duplicates(\"STITCH\")"
   ]
  },
  {
   "cell_type": "code",
   "execution_count": null,
   "metadata": {},
   "outputs": [],
   "source": [
    "drug_protein_df_subset.Gene.value_counts()"
   ]
  },
  {
   "cell_type": "code",
   "execution_count": null,
   "metadata": {},
   "outputs": [],
   "source": [
    "single_se_df_subset.head()"
   ]
  },
  {
   "cell_type": "code",
   "execution_count": null,
   "metadata": {},
   "outputs": [],
   "source": [
    "single_se_df_subset[\"ncmf_pca1\"] = single_se_ncmf_pca[:, 0]\n",
    "single_se_df_subset[\"ncmf_pca2\"] = single_se_ncmf_pca[:, 1]\n",
    "single_se_df_subset[\"ncmf_pca3\"] = single_se_ncmf_pca[:, 2]\n",
    "single_se_df_subset[\"ncmf_pca4\"] = single_se_ncmf_pca[:, 3]\n",
    "single_se_df_subset[\"ncmf_pca5\"] = single_se_ncmf_pca[:, 4]\n",
    "single_se_df_subset[\"dcmf_pca1\"] = single_se_dcmf_pca[:, 0]\n",
    "single_se_df_subset[\"dcmf_pca2\"] = single_se_dcmf_pca[:, 1]\n",
    "single_se_df_subset[\"dcmf_pca3\"] = single_se_dcmf_pca[:, 2]\n",
    "single_se_df_subset[\"dcmf_pca4\"] = single_se_dcmf_pca[:, 3]\n",
    "single_se_df_subset[\"dcmf_pca5\"] = single_se_dcmf_pca[:, 4]\n",
    "\n",
    "single_se_df_subset[\"cmf_pca1\"] = single_se_cmf_pca[:, 0]\n",
    "single_se_df_subset[\"cmf_pca2\"] = single_se_cmf_pca[:, 1]\n",
    "single_se_df_subset[\"cmf_pca3\"] = single_se_cmf_pca[:, 2]\n",
    "single_se_df_subset[\"cmf_pca4\"] = single_se_cmf_pca[:, 3]\n",
    "single_se_df_subset[\"cmf_pca5\"] = single_se_cmf_pca[:, 4]\n",
    "\n",
    "single_se_df_subset[\"gcmf_pca1\"] = single_se_gcmf_pca[:, 0]\n",
    "single_se_df_subset[\"gcmf_pca2\"] = single_se_gcmf_pca[:, 1]\n",
    "single_se_df_subset[\"gcmf_pca3\"] = single_se_gcmf_pca[:, 2]\n",
    "single_se_df_subset[\"gcmf_pca4\"] = single_se_gcmf_pca[:, 3]\n",
    "single_se_df_subset[\"gcmf_pca5\"] = single_se_gcmf_pca[:, 4]\n",
    "\n",
    "single_se_df_subset[\"dfmf_pca1\"] = single_se_dfmf_pca[:, 0]\n",
    "single_se_df_subset[\"dfmf_pca2\"] = single_se_dfmf_pca[:, 1]\n",
    "single_se_df_subset[\"dfmf_pca3\"] = single_se_dfmf_pca[:, 2]\n",
    "single_se_df_subset[\"dfmf_pca4\"] = single_se_dfmf_pca[:, 3]\n",
    "single_se_df_subset[\"dfmf_pca5\"] = single_se_dfmf_pca[:, 4]"
   ]
  },
  {
   "cell_type": "code",
   "execution_count": null,
   "metadata": {},
   "outputs": [],
   "source": [
    "single_se_df_subset_with_proteins = single_se_df_subset.merge(drug_protein_df_subset, on = \"STITCH\")\n",
    "single_se_df_subset_with_proteins.shape"
   ]
  },
  {
   "cell_type": "code",
   "execution_count": null,
   "metadata": {},
   "outputs": [],
   "source": [
    "len(single_se_df_subset_with_proteins.Gene.unique())"
   ]
  },
  {
   "cell_type": "code",
   "execution_count": null,
   "metadata": {},
   "outputs": [],
   "source": [
    "single_se_df_subset_with_proteins.head()"
   ]
  },
  {
   "cell_type": "code",
   "execution_count": null,
   "metadata": {},
   "outputs": [],
   "source": [
    "single_se_df_subset_with_proteins[\"ncmf_clusters\"] = hyp.cluster(single_se_df_subset_with_proteins[[f\"ncmf_pca{i}\" for i in range(1,6)]], n_clusters = k_single)\n",
    "single_se_df_subset_with_proteins[\"dcmf_clusters\"] = hyp.cluster(single_se_df_subset_with_proteins[[f\"dcmf_pca{i}\" for i in range(1,6)]], n_clusters = k_single)\n",
    "single_se_df_subset_with_proteins[\"cmf_clusters\"] = hyp.cluster(single_se_df_subset_with_proteins[[f\"cmf_pca{i}\" for i in range(1,6)]], n_clusters = k_single)\n",
    "single_se_df_subset_with_proteins[\"gcmf_clusters\"] = hyp.cluster(single_se_df_subset_with_proteins[[f\"gcmf_pca{i}\" for i in range(1,6)]], n_clusters = k_single)\n",
    "single_se_df_subset_with_proteins[\"dfmf_clusters\"] = hyp.cluster(single_se_df_subset_with_proteins[[f\"dfmf_pca{i}\" for i in range(1,6)]], n_clusters = k_single)"
   ]
  },
  {
   "cell_type": "markdown",
   "metadata": {},
   "source": [
    "##### Finding top 5 proteins in each drug cluster"
   ]
  },
  {
   "cell_type": "code",
   "execution_count": null,
   "metadata": {},
   "outputs": [],
   "source": [
    "# Single side effect dataset\n",
    "topk_single_genes_ncmf = dict()\n",
    "topk_single_genes_dcmf = dict()\n",
    "topk_single_genes_cmf = dict()\n",
    "topk_single_genes_gcmf = dict()\n",
    "topk_single_genes_dfmf = dict()\n",
    "for i in range(k_single):\n",
    "    topk_single_genes_ncmf[i] = single_se_df_subset_with_proteins[single_se_df_subset_with_proteins.ncmf_clusters == i][\"Gene\"].value_counts()[:topk_single].to_dict()\n",
    "    topk_single_genes_dcmf[i] = single_se_df_subset_with_proteins[single_se_df_subset_with_proteins.dcmf_clusters == i][\"Gene\"].value_counts()[:topk_single].to_dict()\n",
    "    topk_single_genes_cmf[i] = single_se_df_subset_with_proteins[single_se_df_subset_with_proteins.cmf_clusters == i][\"Gene\"].value_counts()[:topk_single].to_dict()\n",
    "    topk_single_genes_gcmf[i] = single_se_df_subset_with_proteins[single_se_df_subset_with_proteins.gcmf_clusters == i][\"Gene\"].value_counts()[:topk_single].to_dict()\n",
    "    topk_single_genes_dfmf[i] = single_se_df_subset_with_proteins[single_se_df_subset_with_proteins.dfmf_clusters == i][\"Gene\"].value_counts()[:topk_single].to_dict()\n",
    "print(topk_single_genes_ncmf)\n",
    "print(topk_single_genes_dcmf)\n",
    "print(topk_single_genes_cmf)\n",
    "print(topk_single_genes_gcmf)\n",
    "print(topk_single_genes_dfmf)"
   ]
  },
  {
   "cell_type": "code",
   "execution_count": null,
   "metadata": {},
   "outputs": [],
   "source": [
    "fig, ax = plt.subplots(k_single, 2, figsize=(10,10))\n",
    "for i in range(k_single):\n",
    "    sns.barplot(x = list(topk_single_genes_ncmf[i].keys()), y = list(topk_single_genes_ncmf[i].values()), ax=ax[i][0])\n",
    "    ax[i][0].set_title(f\"NCMF cluster {i}\")\n",
    "    ax[i][0].set_ylim(0, 65)\n",
    "    x_list = list(sorted(topk_single_genes_ncmf[i].keys()))\n",
    "    y_list = [topk_single_genes_ncmf[i][k] for k in x_list]\n",
    "    for j in range(len(y_list)):\n",
    "        ax[i][0].text(j, y_list[j]+2, str(y_list[j]), fontsize=14)\n",
    "    ax[i][0].spines['top'].set_visible(False)\n",
    "    ax[i][0].spines['right'].set_visible(False)\n",
    "    sns.barplot(x = list(topk_single_genes_dcmf[i].keys()), y = list(topk_single_genes_dcmf[i].values()), ax=ax[i][1])\n",
    "    ax[i][1].set_title(f\"DCMF cluster {i}\")\n",
    "    ax[i][1].set_ylim(0, 65)\n",
    "    x_list = list(sorted(topk_single_genes_dcmf[i].keys()))\n",
    "    y_list = [topk_single_genes_dcmf[i][k] for k in x_list]\n",
    "    for j in range(len(y_list)):\n",
    "        ax[i][1].text(j, y_list[j]+2, str(y_list[j]), fontsize=14)\n",
    "    ax[i][1].spines['top'].set_visible(False)\n",
    "    ax[i][1].spines['right'].set_visible(False)\n",
    "plt.tight_layout()\n",
    "# plt.savefig(\"Polypharmacy_traditional_cluster_label_distribution.png\")"
   ]
  },
  {
   "cell_type": "markdown",
   "metadata": {},
   "source": [
    "#### Cluster visualization"
   ]
  },
  {
   "cell_type": "code",
   "execution_count": null,
   "metadata": {},
   "outputs": [],
   "source": [
    "fig, ax = plt.subplots(1, 2, figsize=(10,5))\n",
    "# fig.suptitle(\"Clusters for drug embeddings\", y = 1.1)\n",
    "\n",
    "hyp.plot(single_se_df_subset_with_proteins[[f\"emb_ncmf_{i}\" for i in range(50)]], \".\", group=single_se_df_subset_with_proteins[\"ncmf_clusters\"], ndims=2, ax=ax[0])\n",
    "ax[0].set_title(\"NCMF\", fontsize=16)\n",
    "ax[0].set_ylim(-0.9, 0.9)\n",
    "ax[0].set_xlim(-0.99, 0.99)\n",
    "\n",
    "hyp.plot(single_se_df_subset_with_proteins[[f\"emb_dcmf_{i}\" for i in range(100)]], \".\", group=single_se_df_subset_with_proteins[\"dcmf_clusters\"], ndims=2, ax=ax[1], legend = list(single_se_df_subset_with_proteins[\"dcmf_clusters\"].unique()))\n",
    "ax[1].set_title(\"DCMF\", fontsize=16)\n",
    "ax[1].set_ylim(-0.5, 0.9)\n",
    "ax[1].set_xlim(-0.99, 0.999)\n",
    "\n",
    "plt.legend([\"cluster 0\", \"cluster 1\", \"cluster 2\", \"cluster 3\", \"cluster4\"], bbox_to_anchor = (0, 1.2), loc=\"center\", ncol=5, fontsize=16)\n",
    "# plt.savefig(\"Polypharmacy_traditional_cluster_scatterplot.png\", bbox_inches=\"tight\")"
   ]
  },
  {
   "cell_type": "markdown",
   "metadata": {},
   "source": [
    "##### Finding ARI score based on drug-protein association for each protein.\n",
    "\n",
    "For each protein, create a list of size 645(for each drug), with value 0 if the protein is not associated with the drug from the drug-protein interaction matrix, and 1 otherwise. This is the true label. Also create a list that has value 1 if the protein is amongst the top 5 in the cluster the drug is associated with, 0 otherwise. This is the predicted label. These two lists are used to calculate ARI score for each protein."
   ]
  },
  {
   "cell_type": "code",
   "execution_count": null,
   "metadata": {},
   "outputs": [],
   "source": [
    "# get list of proteins\n",
    "proteins_list_ncmf = []\n",
    "proteins_list_dcmf = []\n",
    "proteins_list_cmf = []\n",
    "proteins_list_gcmf = []\n",
    "proteins_list_dfmf = []\n",
    "for i in range(k_single):\n",
    "    for k in topk_single_genes_ncmf[i].keys():\n",
    "        if k not in proteins_list_ncmf:\n",
    "            proteins_list_ncmf.append(k)\n",
    "    for j in topk_single_genes_dcmf[i].keys():\n",
    "        if j not in proteins_list_dcmf:\n",
    "            proteins_list_dcmf.append(j)\n",
    "    for l in topk_single_genes_cmf[i].keys():\n",
    "        if l not in proteins_list_cmf:\n",
    "            proteins_list_cmf.append(l)\n",
    "    for m in topk_single_genes_gcmf[i].keys():\n",
    "        if m not in proteins_list_gcmf:\n",
    "            proteins_list_gcmf.append(m)\n",
    "    for n in topk_single_genes_dfmf[i].keys():\n",
    "        if n not in proteins_list_dfmf:\n",
    "            proteins_list_dfmf.append(n)\n",
    "\n",
    "print(proteins_list_ncmf)\n",
    "print(proteins_list_dcmf)\n",
    "print(proteins_list_cmf)\n",
    "print(proteins_list_gcmf)\n",
    "print(proteins_list_dfmf)"
   ]
  },
  {
   "cell_type": "code",
   "execution_count": null,
   "metadata": {},
   "outputs": [],
   "source": [
    "# creating true labels - we consider only the proteins in the top 5 of all clusters shown above.\n",
    "true_labels_ncmf = [] # only for ncmf proteins\n",
    "for p in proteins_list_ncmf:\n",
    "    true_label_p = [0] * single_se_df_subset_with_proteins.shape[0]\n",
    "    ones_idx = list(single_se_df_subset_with_proteins[single_se_df_subset_with_proteins[\"Gene\"] == p].index)\n",
    "    for o in ones_idx:\n",
    "        true_label_p[o] = 1\n",
    "    true_labels_ncmf.append(true_label_p)"
   ]
  },
  {
   "cell_type": "code",
   "execution_count": null,
   "metadata": {},
   "outputs": [],
   "source": [
    "true_labels_ncmf = np.array(true_labels_ncmf)"
   ]
  },
  {
   "cell_type": "code",
   "execution_count": null,
   "metadata": {},
   "outputs": [],
   "source": [
    "true_labels_dcmf = [] # only for dcmf proteins\n",
    "for p in proteins_list_dcmf:\n",
    "    true_label_p = [0] * single_se_df_subset_with_proteins.shape[0]\n",
    "    ones_idx = list(single_se_df_subset_with_proteins[single_se_df_subset_with_proteins[\"Gene\"] == p].index)\n",
    "    for o in ones_idx:\n",
    "        true_label_p[o] = 1\n",
    "    true_labels_dcmf.append(true_label_p)"
   ]
  },
  {
   "cell_type": "code",
   "execution_count": null,
   "metadata": {},
   "outputs": [],
   "source": [
    "true_labels_dcmf = np.array(true_labels_dcmf)"
   ]
  },
  {
   "cell_type": "code",
   "execution_count": null,
   "metadata": {},
   "outputs": [],
   "source": [
    "true_labels_cmf = [] # only for cmf proteins\n",
    "for p in proteins_list_cmf:\n",
    "    true_label_p = [0] * single_se_df_subset_with_proteins.shape[0]\n",
    "    ones_idx = list(single_se_df_subset_with_proteins[single_se_df_subset_with_proteins[\"Gene\"] == p].index)\n",
    "    for o in ones_idx:\n",
    "        true_label_p[o] = 1\n",
    "    true_labels_cmf.append(true_label_p)\n",
    "true_labels_cmf = np.array(true_labels_cmf)"
   ]
  },
  {
   "cell_type": "code",
   "execution_count": null,
   "metadata": {},
   "outputs": [],
   "source": [
    "true_labels_gcmf = [] # only for gcmf proteins\n",
    "for p in proteins_list_gcmf:\n",
    "    true_label_p = [0] * single_se_df_subset_with_proteins.shape[0]\n",
    "    ones_idx = list(single_se_df_subset_with_proteins[single_se_df_subset_with_proteins[\"Gene\"] == p].index)\n",
    "    for o in ones_idx:\n",
    "        true_label_p[o] = 1\n",
    "    true_labels_gcmf.append(true_label_p)\n",
    "true_labels_gcmf = np.array(true_labels_gcmf)"
   ]
  },
  {
   "cell_type": "code",
   "execution_count": null,
   "metadata": {},
   "outputs": [],
   "source": [
    "true_labels_dfmf = [] # only for dfmf proteins\n",
    "for p in proteins_list_dfmf:\n",
    "    true_label_p = [0] * single_se_df_subset_with_proteins.shape[0]\n",
    "    ones_idx = list(single_se_df_subset_with_proteins[single_se_df_subset_with_proteins[\"Gene\"] == p].index)\n",
    "    for o in ones_idx:\n",
    "        true_label_p[o] = 1\n",
    "    true_labels_dfmf.append(true_label_p)\n",
    "true_labels_dfmf = np.array(true_labels_dfmf)"
   ]
  },
  {
   "cell_type": "code",
   "execution_count": null,
   "metadata": {},
   "outputs": [],
   "source": [
    "# creating predicted labels from clusters\n",
    "pred_labels_ncmf = []\n",
    "for p in proteins_list_ncmf:\n",
    "    pred_label_p = [0] * single_se_df_subset_with_proteins.shape[0]\n",
    "    # all drugs that are part of the cluster where this protein belongs to gets a value 1\n",
    "    clusters_p = []\n",
    "    for k,v in topk_single_genes_ncmf.items():\n",
    "        if p in v.keys():\n",
    "            clusters_p.append(k)\n",
    "    ones_idx = []\n",
    "    for c in clusters_p:\n",
    "        ones_idx.extend(list(single_se_df_subset_with_proteins[single_se_df_subset_with_proteins.ncmf_clusters == c].index))\n",
    "    for o in ones_idx:\n",
    "        pred_label_p[o] = 1\n",
    "    pred_labels_ncmf.append(pred_label_p)\n",
    "    "
   ]
  },
  {
   "cell_type": "code",
   "execution_count": null,
   "metadata": {},
   "outputs": [],
   "source": [
    "pred_labels_ncmf = np.array(pred_labels_ncmf)"
   ]
  },
  {
   "cell_type": "code",
   "execution_count": null,
   "metadata": {},
   "outputs": [],
   "source": [
    "pred_labels_dcmf = []\n",
    "for p in proteins_list_dcmf:\n",
    "    pred_label_p = [0] * single_se_df_subset_with_proteins.shape[0]\n",
    "    # all drugs that are part of the cluster where this protein belongs to gets a value 1\n",
    "    clusters_p = []\n",
    "    for k,v in topk_single_genes_dcmf.items():\n",
    "        if p in v.keys():\n",
    "            clusters_p.append(k)\n",
    "    ones_idx = []\n",
    "    for c in clusters_p:\n",
    "        ones_idx.extend(list(single_se_df_subset_with_proteins[single_se_df_subset_with_proteins.dcmf_clusters == c].index))\n",
    "    for o in ones_idx:\n",
    "        pred_label_p[o] = 1\n",
    "    pred_labels_dcmf.append(pred_label_p)"
   ]
  },
  {
   "cell_type": "code",
   "execution_count": null,
   "metadata": {},
   "outputs": [],
   "source": [
    "pred_labels_dcmf = np.array(pred_labels_dcmf)"
   ]
  },
  {
   "cell_type": "code",
   "execution_count": null,
   "metadata": {},
   "outputs": [],
   "source": [
    "pred_labels_cmf = []\n",
    "for p in proteins_list_cmf:\n",
    "    pred_label_p = [0] * single_se_df_subset_with_proteins.shape[0]\n",
    "    # all drugs that are part of the cluster where this protein belongs to gets a value 1\n",
    "    clusters_p = []\n",
    "    for k,v in topk_single_genes_cmf.items():\n",
    "        if p in v.keys():\n",
    "            clusters_p.append(k)\n",
    "    ones_idx = []\n",
    "    for c in clusters_p:\n",
    "        ones_idx.extend(list(single_se_df_subset_with_proteins[single_se_df_subset_with_proteins.cmf_clusters == c].index))\n",
    "    for o in ones_idx:\n",
    "        pred_label_p[o] = 1\n",
    "    pred_labels_cmf.append(pred_label_p)\n",
    "pred_labels_cmf = np.array(pred_labels_cmf)"
   ]
  },
  {
   "cell_type": "code",
   "execution_count": null,
   "metadata": {},
   "outputs": [],
   "source": [
    "pred_labels_gcmf = []\n",
    "for p in proteins_list_gcmf:\n",
    "    pred_label_p = [0] * single_se_df_subset_with_proteins.shape[0]\n",
    "    # all drugs that are part of the cluster where this protein belongs to gets a value 1\n",
    "    clusters_p = []\n",
    "    for k,v in topk_single_genes_gcmf.items():\n",
    "        if p in v.keys():\n",
    "            clusters_p.append(k)\n",
    "    ones_idx = []\n",
    "    for c in clusters_p:\n",
    "        ones_idx.extend(list(single_se_df_subset_with_proteins[single_se_df_subset_with_proteins.gcmf_clusters == c].index))\n",
    "    for o in ones_idx:\n",
    "        pred_label_p[o] = 1\n",
    "    pred_labels_gcmf.append(pred_label_p)\n",
    "pred_labels_gcmf = np.array(pred_labels_gcmf)"
   ]
  },
  {
   "cell_type": "code",
   "execution_count": null,
   "metadata": {},
   "outputs": [],
   "source": [
    "pred_labels_dfmf = []\n",
    "for p in proteins_list_dfmf:\n",
    "    pred_label_p = [0] * single_se_df_subset_with_proteins.shape[0]\n",
    "    # all drugs that are part of the cluster where this protein belongs to gets a value 1\n",
    "    clusters_p = []\n",
    "    for k,v in topk_single_genes_dfmf.items():\n",
    "        if p in v.keys():\n",
    "            clusters_p.append(k)\n",
    "    ones_idx = []\n",
    "    for c in clusters_p:\n",
    "        ones_idx.extend(list(single_se_df_subset_with_proteins[single_se_df_subset_with_proteins.dfmf_clusters == c].index))\n",
    "    for o in ones_idx:\n",
    "        pred_label_p[o] = 1\n",
    "    pred_labels_dfmf.append(pred_label_p)\n",
    "pred_labels_dfmf = np.array(pred_labels_dfmf)"
   ]
  },
  {
   "cell_type": "code",
   "execution_count": null,
   "metadata": {},
   "outputs": [],
   "source": [
    "ari_proteins_ncmf = pd.DataFrame(columns = [\"protein\", \"ari\"])\n",
    "print(\"ARI scores for proteins in NCMF clusters:\")\n",
    "for p in range(len(proteins_list_ncmf)):\n",
    "    ari_proteins_ncmf = ari_proteins_ncmf.append({\"protein\": proteins_list_ncmf[p], \"ari\": adjusted_rand_score(true_labels_ncmf[p], pred_labels_ncmf[p])}, ignore_index=True)\n",
    "ari_proteins_ncmf"
   ]
  },
  {
   "cell_type": "code",
   "execution_count": null,
   "metadata": {},
   "outputs": [],
   "source": [
    "ari_proteins_ncmf.describe()[\"ari\"]"
   ]
  },
  {
   "cell_type": "code",
   "execution_count": null,
   "metadata": {},
   "outputs": [],
   "source": [
    "ari_proteins_dcmf = pd.DataFrame(columns = [\"protein\", \"ari\"])\n",
    "print(\"ARI scores for proteins in DCMF clusters:\")\n",
    "for p in range(len(proteins_list_dcmf)):\n",
    "    ari_proteins_dcmf = ari_proteins_dcmf.append({\"protein\": proteins_list_dcmf[p], \"ari\": adjusted_rand_score(true_labels_dcmf[p], pred_labels_dcmf[p])}, ignore_index=True)\n",
    "ari_proteins_dcmf"
   ]
  },
  {
   "cell_type": "code",
   "execution_count": null,
   "metadata": {},
   "outputs": [],
   "source": [
    "ari_proteins_dcmf.describe()[\"ari\"]"
   ]
  },
  {
   "cell_type": "code",
   "execution_count": null,
   "metadata": {},
   "outputs": [],
   "source": [
    "ari_proteins_cmf = pd.DataFrame(columns = [\"protein\", \"ari\"])\n",
    "print(\"ARI scores for proteins in CMF clusters:\")\n",
    "for p in range(len(proteins_list_cmf)):\n",
    "    ari_proteins_cmf = ari_proteins_cmf.append({\"protein\": proteins_list_cmf[p], \"ari\": adjusted_rand_score(true_labels_cmf[p], pred_labels_cmf[p])}, ignore_index=True)\n",
    "ari_proteins_cmf.describe()[\"ari\"]"
   ]
  },
  {
   "cell_type": "code",
   "execution_count": null,
   "metadata": {},
   "outputs": [],
   "source": [
    "ari_proteins_gcmf = pd.DataFrame(columns = [\"protein\", \"ari\"])\n",
    "print(\"ARI scores for proteins in gCMF clusters:\")\n",
    "for p in range(len(proteins_list_gcmf)):\n",
    "    ari_proteins_gcmf = ari_proteins_gcmf.append({\"protein\": proteins_list_gcmf[p], \"ari\": adjusted_rand_score(true_labels_gcmf[p], pred_labels_gcmf[p])}, ignore_index=True)\n",
    "ari_proteins_gcmf.describe()[\"ari\"]"
   ]
  },
  {
   "cell_type": "code",
   "execution_count": null,
   "metadata": {},
   "outputs": [],
   "source": [
    "ari_proteins_dfmf = pd.DataFrame(columns = [\"protein\", \"ari\"])\n",
    "print(\"ARI scores for proteins in DFMF clusters:\")\n",
    "for p in range(len(proteins_list_dfmf)):\n",
    "    ari_proteins_dfmf = ari_proteins_dfmf.append({\"protein\": proteins_list_dfmf[p], \"ari\": adjusted_rand_score(true_labels_dfmf[p], pred_labels_dfmf[p])}, ignore_index=True)\n",
    "ari_proteins_dfmf.describe()[\"ari\"]"
   ]
  },
  {
   "cell_type": "code",
   "execution_count": null,
   "metadata": {},
   "outputs": [],
   "source": [
    "# silhoeutte score\n",
    "print(f\"NCMF silhoeutte score {silhouette_score(single_se_df_subset_with_proteins[[f'ncmf_pca{i}' for i in range(1,6)]], single_se_df_subset_with_proteins['ncmf_clusters'])}\")\n",
    "print(f\"DCMF silhoeutte score {silhouette_score(single_se_df_subset_with_proteins[[f'dcmf_pca{i}' for i in range(1,6)]], single_se_df_subset_with_proteins['dcmf_clusters'])}\")"
   ]
  },
  {
   "cell_type": "code",
   "execution_count": null,
   "metadata": {},
   "outputs": [],
   "source": [
    "ari_proteins_ncmf.merge(ari_proteins_dcmf, on=\"protein\", suffixes=(\"_ncmf\", \"_dcmf\")).merge(ari_proteins_cmf, on=\"protein\").rename(columns={\"ari\": \"ari_cmf\"}).merge(ari_proteins_gcmf, on=\"protein\").rename(columns={\"ari\": \"ari_gcmf\"}).merge(ari_proteins_dfmf, on=\"protein\").rename(columns={\"ari\": \"ari_dfmf\"})"
   ]
  },
  {
   "cell_type": "code",
   "execution_count": null,
   "metadata": {},
   "outputs": [],
   "source": [
    "ari_proteins_ncmf.merge(ari_proteins_dcmf, on=\"protein\", suffixes=(\"_ncmf\", \"_dcmf\")).merge(ari_proteins_cmf, on=\"protein\").rename(columns={\"ari\": \"ari_cmf\"}).merge(ari_proteins_gcmf, on=\"protein\").rename(columns={\"ari\": \"ari_gcmf\"}).merge(ari_proteins_dfmf, on=\"protein\").rename(columns={\"ari\": \"ari_dfmf\"}).describe()"
   ]
  },
  {
   "cell_type": "code",
   "execution_count": null,
   "metadata": {},
   "outputs": [],
   "source": [
    "# method 2 pred labels are the same as the cluster labels\n",
    "pred_labels_ncmf_2 = np.array(single_se_df_subset_with_proteins[\"ncmf_clusters\"])\n",
    "pred_labels_dcmf_2 = np.array(single_se_df_subset_with_proteins[\"dcmf_clusters\"])\n",
    "pred_labels_cmf_2 = np.array(single_se_df_subset_with_proteins[\"cmf_clusters\"])\n",
    "pred_labels_gcmf_2 = np.array(single_se_df_subset_with_proteins[\"gcmf_clusters\"])\n",
    "pred_labels_dfmf_2 = np.array(single_se_df_subset_with_proteins[\"dfmf_clusters\"])"
   ]
  },
  {
   "cell_type": "code",
   "execution_count": null,
   "metadata": {},
   "outputs": [],
   "source": [
    "ari_proteins_ncmf_2 = pd.DataFrame(columns = [\"protein\", \"ari\"])\n",
    "print(\"ARI scores for proteins in NCMF clusters:\")\n",
    "for p in range(len(proteins_list_ncmf)):\n",
    "    ari_proteins_ncmf_2 = ari_proteins_ncmf_2.append({\"protein\": proteins_list_ncmf[p], \"ari\": adjusted_rand_score(true_labels_ncmf[p], pred_labels_ncmf_2)}, ignore_index=True)\n",
    "ari_proteins_ncmf_2"
   ]
  },
  {
   "cell_type": "code",
   "execution_count": null,
   "metadata": {},
   "outputs": [],
   "source": [
    "ari_proteins_dcmf_2 = pd.DataFrame(columns = [\"protein\", \"ari\"])\n",
    "print(\"ARI scores for proteins in DCMF clusters:\")\n",
    "for p in range(len(proteins_list_dcmf)):\n",
    "    ari_proteins_dcmf_2 = ari_proteins_dcmf_2.append({\"protein\": proteins_list_dcmf[p], \"ari\": adjusted_rand_score(true_labels_dcmf[p], pred_labels_dcmf_2)}, ignore_index=True)\n",
    "ari_proteins_dcmf_2"
   ]
  },
  {
   "cell_type": "code",
   "execution_count": null,
   "metadata": {},
   "outputs": [],
   "source": [
    "ari_proteins_ncmf_2.describe()[\"ari\"]"
   ]
  },
  {
   "cell_type": "code",
   "execution_count": null,
   "metadata": {},
   "outputs": [],
   "source": [
    "ari_proteins_dcmf_2.describe()[\"ari\"]"
   ]
  },
  {
   "cell_type": "code",
   "execution_count": null,
   "metadata": {},
   "outputs": [],
   "source": [
    "merged = ari_proteins_ncmf_2.merge(ari_proteins_dcmf_2, on=\"protein\", suffixes=(\"_ncmf\", \"_dcmf\"))"
   ]
  },
  {
   "cell_type": "code",
   "execution_count": null,
   "metadata": {},
   "outputs": [],
   "source": [
    "ari_proteins_cmf_2 = pd.DataFrame(columns = [\"protein\", \"ari\"])\n",
    "print(\"ARI scores for proteins in CMF clusters:\")\n",
    "for p in range(len(proteins_list_cmf)):\n",
    "    ari_proteins_cmf_2 = ari_proteins_cmf_2.append({\"protein\": proteins_list_cmf[p], \"ari\": adjusted_rand_score(true_labels_cmf[p], pred_labels_cmf_2)}, ignore_index=True)\n",
    "ari_proteins_cmf_2"
   ]
  },
  {
   "cell_type": "code",
   "execution_count": null,
   "metadata": {},
   "outputs": [],
   "source": [
    "ari_proteins_gcmf_2 = pd.DataFrame(columns = [\"protein\", \"ari\"])\n",
    "print(\"ARI scores for proteins in gCMF clusters:\")\n",
    "for p in range(len(proteins_list_gcmf)):\n",
    "    ari_proteins_gcmf_2 = ari_proteins_gcmf_2.append({\"protein\": proteins_list_gcmf[p], \"ari\": adjusted_rand_score(true_labels_gcmf[p], pred_labels_gcmf_2)}, ignore_index=True)\n",
    "ari_proteins_gcmf_2"
   ]
  },
  {
   "cell_type": "code",
   "execution_count": null,
   "metadata": {},
   "outputs": [],
   "source": [
    "ari_proteins_dfmf_2 = pd.DataFrame(columns = [\"protein\", \"ari\"])\n",
    "print(\"ARI scores for proteins in DFMF clusters:\")\n",
    "for p in range(len(proteins_list_dfmf)):\n",
    "    ari_proteins_dfmf_2 = ari_proteins_dfmf_2.append({\"protein\": proteins_list_dfmf[p], \"ari\": adjusted_rand_score(true_labels_dfmf[p], pred_labels_dfmf_2)}, ignore_index=True)\n",
    "ari_proteins_dfmf_2"
   ]
  },
  {
   "cell_type": "code",
   "execution_count": null,
   "metadata": {},
   "outputs": [],
   "source": [
    "merged = merged.merge(ari_proteins_cmf_2, on=\"protein\").rename(columns={\"ari\": \"ari_cmf\"}).merge(ari_proteins_gcmf_2, on=\"protein\").rename(columns={\"ari\": \"ari_gcmf\"}).merge(ari_proteins_dfmf_2, on=\"protein\").rename(columns={\"ari\": \"ari_dfmf\"})"
   ]
  },
  {
   "cell_type": "code",
   "execution_count": null,
   "metadata": {},
   "outputs": [],
   "source": [
    "merged.describe()"
   ]
  },
  {
   "cell_type": "code",
   "execution_count": null,
   "metadata": {},
   "outputs": [],
   "source": []
  }
 ],
 "metadata": {
  "kernelspec": {
   "display_name": "Python 3",
   "language": "python",
   "name": "python3"
  },
  "language_info": {
   "codemirror_mode": {
    "name": "ipython",
    "version": 3
   },
   "file_extension": ".py",
   "mimetype": "text/x-python",
   "name": "python",
   "nbconvert_exporter": "python",
   "pygments_lexer": "ipython3",
   "version": "3.7.7"
  }
 },
 "nbformat": 4,
 "nbformat_minor": 4
}
