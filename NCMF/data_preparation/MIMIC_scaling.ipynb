{
 "cells": [
  {
   "cell_type": "markdown",
   "metadata": {},
   "source": [
    "This notebook performs scaling on the dataset, i.e. link.dat before learning embeddings from it"
   ]
  },
  {
   "cell_type": "code",
   "execution_count": 1,
   "metadata": {},
   "outputs": [],
   "source": [
    "import pandas as pd\n",
    "import numpy as np"
   ]
  },
  {
   "cell_type": "code",
   "execution_count": 2,
   "metadata": {},
   "outputs": [],
   "source": [
    "sample_no = 1\n",
    "link_file = f\"sampled{sample_no}_link.dat\"\n",
    "dataset_folder = f\"../../datasets/NCMF/MIMIC/\"\n",
    "filename = f'dict_nsides_mimic_data_v{sample_no}_case1_part.pkl'\n",
    "np.random.seed(42)"
   ]
  },
  {
   "cell_type": "code",
   "execution_count": 3,
   "metadata": {},
   "outputs": [
    {
     "data": {
      "text/html": [
       "<div>\n",
       "<style scoped>\n",
       "    .dataframe tbody tr th:only-of-type {\n",
       "        vertical-align: middle;\n",
       "    }\n",
       "\n",
       "    .dataframe tbody tr th {\n",
       "        vertical-align: top;\n",
       "    }\n",
       "\n",
       "    .dataframe thead th {\n",
       "        text-align: right;\n",
       "    }\n",
       "</style>\n",
       "<table border=\"1\" class=\"dataframe\">\n",
       "  <thead>\n",
       "    <tr style=\"text-align: right;\">\n",
       "      <th></th>\n",
       "      <th>left</th>\n",
       "      <th>right</th>\n",
       "      <th>link_type</th>\n",
       "      <th>link_weight</th>\n",
       "    </tr>\n",
       "  </thead>\n",
       "  <tbody>\n",
       "    <tr>\n",
       "      <th>0</th>\n",
       "      <td>1</td>\n",
       "      <td>6015</td>\n",
       "      <td>0</td>\n",
       "      <td>1.0</td>\n",
       "    </tr>\n",
       "    <tr>\n",
       "      <th>1</th>\n",
       "      <td>1</td>\n",
       "      <td>6679</td>\n",
       "      <td>0</td>\n",
       "      <td>1.0</td>\n",
       "    </tr>\n",
       "    <tr>\n",
       "      <th>2</th>\n",
       "      <td>1</td>\n",
       "      <td>6954</td>\n",
       "      <td>0</td>\n",
       "      <td>1.0</td>\n",
       "    </tr>\n",
       "    <tr>\n",
       "      <th>3</th>\n",
       "      <td>2</td>\n",
       "      <td>6154</td>\n",
       "      <td>0</td>\n",
       "      <td>1.0</td>\n",
       "    </tr>\n",
       "    <tr>\n",
       "      <th>4</th>\n",
       "      <td>2</td>\n",
       "      <td>6230</td>\n",
       "      <td>0</td>\n",
       "      <td>1.0</td>\n",
       "    </tr>\n",
       "  </tbody>\n",
       "</table>\n",
       "</div>"
      ],
      "text/plain": [
       "   left  right  link_type  link_weight\n",
       "0     1   6015          0          1.0\n",
       "1     1   6679          0          1.0\n",
       "2     1   6954          0          1.0\n",
       "3     2   6154          0          1.0\n",
       "4     2   6230          0          1.0"
      ]
     },
     "execution_count": 3,
     "metadata": {},
     "output_type": "execute_result"
    }
   ],
   "source": [
    "# Perform scaling on only the values part of the link\n",
    "link_df = pd.read_csv(dataset_folder + link_file, header = None, sep = \"\\t\")\n",
    "link_df.columns = [\"left\", \"right\", \"link_type\", \"link_weight\"]\n",
    "link_df.head()"
   ]
  },
  {
   "cell_type": "code",
   "execution_count": 4,
   "metadata": {},
   "outputs": [],
   "source": [
    "# Reconstruct all three matrices from original data\n",
    "object_pd = pd.read_pickle(dataset_folder + filename)\n",
    "patient_disease_np = object_pd['matrices_data']['mat_pat_dis_treat']\n",
    "disease_drug_np = np.transpose(object_pd['matrices_data']['mat_drugs_dis_side'])\n",
    "drug_patient_np = np.transpose(object_pd['matrices_data']['mat_pat_drugs'])"
   ]
  },
  {
   "cell_type": "code",
   "execution_count": 5,
   "metadata": {},
   "outputs": [],
   "source": [
    "from sklearn.preprocessing import StandardScaler\n",
    "scaler = StandardScaler()\n",
    "patient_disease_scaled_np = scaler.fit_transform(patient_disease_np) # type 0\n",
    "disease_drug_scaled_np = scaler.fit_transform(disease_drug_np) # type 1\n",
    "drug_patient_scaled_np = scaler.fit_transform(drug_patient_np) # typw 2"
   ]
  },
  {
   "cell_type": "code",
   "execution_count": 6,
   "metadata": {},
   "outputs": [],
   "source": [
    "patient_count = len(object_pd['metadata']['dict_p_idx_id_map'])\n",
    "disease_count = len(object_pd['metadata']['dict_d_idx_id_map'])\n",
    "drug_count = len(object_pd['metadata']['dict_r_idx_id_map'])"
   ]
  },
  {
   "cell_type": "code",
   "execution_count": 7,
   "metadata": {},
   "outputs": [
    {
     "data": {
      "text/html": [
       "<div>\n",
       "<style scoped>\n",
       "    .dataframe tbody tr th:only-of-type {\n",
       "        vertical-align: middle;\n",
       "    }\n",
       "\n",
       "    .dataframe tbody tr th {\n",
       "        vertical-align: top;\n",
       "    }\n",
       "\n",
       "    .dataframe thead th {\n",
       "        text-align: right;\n",
       "    }\n",
       "</style>\n",
       "<table border=\"1\" class=\"dataframe\">\n",
       "  <thead>\n",
       "    <tr style=\"text-align: right;\">\n",
       "      <th></th>\n",
       "      <th>left</th>\n",
       "      <th>right</th>\n",
       "      <th>link_type</th>\n",
       "      <th>link_weight</th>\n",
       "    </tr>\n",
       "  </thead>\n",
       "  <tbody>\n",
       "    <tr>\n",
       "      <th>0</th>\n",
       "      <td>1</td>\n",
       "      <td>6015</td>\n",
       "      <td>0</td>\n",
       "      <td>1.0</td>\n",
       "    </tr>\n",
       "    <tr>\n",
       "      <th>1</th>\n",
       "      <td>1</td>\n",
       "      <td>6679</td>\n",
       "      <td>0</td>\n",
       "      <td>1.0</td>\n",
       "    </tr>\n",
       "    <tr>\n",
       "      <th>2</th>\n",
       "      <td>1</td>\n",
       "      <td>6954</td>\n",
       "      <td>0</td>\n",
       "      <td>1.0</td>\n",
       "    </tr>\n",
       "    <tr>\n",
       "      <th>3</th>\n",
       "      <td>2</td>\n",
       "      <td>6154</td>\n",
       "      <td>0</td>\n",
       "      <td>1.0</td>\n",
       "    </tr>\n",
       "    <tr>\n",
       "      <th>4</th>\n",
       "      <td>2</td>\n",
       "      <td>6230</td>\n",
       "      <td>0</td>\n",
       "      <td>1.0</td>\n",
       "    </tr>\n",
       "  </tbody>\n",
       "</table>\n",
       "</div>"
      ],
      "text/plain": [
       "   left  right  link_type  link_weight\n",
       "0     1   6015          0          1.0\n",
       "1     1   6679          0          1.0\n",
       "2     1   6954          0          1.0\n",
       "3     2   6154          0          1.0\n",
       "4     2   6230          0          1.0"
      ]
     },
     "execution_count": 7,
     "metadata": {},
     "output_type": "execute_result"
    }
   ],
   "source": [
    "link_df.head()"
   ]
  },
  {
   "cell_type": "code",
   "execution_count": 8,
   "metadata": {},
   "outputs": [],
   "source": [
    "def assign_values(l, r, ltype):\n",
    "    l = int(l)\n",
    "    r = int(r)\n",
    "    ltype = int(ltype)\n",
    "    if ltype == 0:\n",
    "        return patient_disease_scaled_np[l][r - patient_count]\n",
    "    if ltype == 1:\n",
    "        return disease_drug_scaled_np[l - patient_count][r - patient_count - disease_count]\n",
    "    if ltype == 2:\n",
    "        return drug_patient_scaled_np[l - patient_count - disease_count][r]"
   ]
  },
  {
   "cell_type": "code",
   "execution_count": 9,
   "metadata": {},
   "outputs": [],
   "source": [
    "link_df[\"scaled_link_weight\"] = link_df.apply(lambda row: assign_values(row[\"left\"], row[\"right\"], row[\"link_type\"]), axis = 1)"
   ]
  },
  {
   "cell_type": "code",
   "execution_count": 10,
   "metadata": {},
   "outputs": [
    {
     "data": {
      "text/plain": [
       "-0.0483896667850337"
      ]
     },
     "execution_count": 10,
     "metadata": {},
     "output_type": "execute_result"
    }
   ],
   "source": [
    "patient_disease_scaled_np[1][6177- 5911]"
   ]
  },
  {
   "cell_type": "code",
   "execution_count": 11,
   "metadata": {},
   "outputs": [
    {
     "data": {
      "text/html": [
       "<div>\n",
       "<style scoped>\n",
       "    .dataframe tbody tr th:only-of-type {\n",
       "        vertical-align: middle;\n",
       "    }\n",
       "\n",
       "    .dataframe tbody tr th {\n",
       "        vertical-align: top;\n",
       "    }\n",
       "\n",
       "    .dataframe thead th {\n",
       "        text-align: right;\n",
       "    }\n",
       "</style>\n",
       "<table border=\"1\" class=\"dataframe\">\n",
       "  <thead>\n",
       "    <tr style=\"text-align: right;\">\n",
       "      <th></th>\n",
       "      <th>left</th>\n",
       "      <th>right</th>\n",
       "      <th>link_type</th>\n",
       "      <th>link_weight</th>\n",
       "      <th>scaled_link_weight</th>\n",
       "    </tr>\n",
       "  </thead>\n",
       "  <tbody>\n",
       "    <tr>\n",
       "      <th>432511</th>\n",
       "      <td>7807</td>\n",
       "      <td>5861</td>\n",
       "      <td>2</td>\n",
       "      <td>2.0</td>\n",
       "      <td>1.167023</td>\n",
       "    </tr>\n",
       "    <tr>\n",
       "      <th>432512</th>\n",
       "      <td>7807</td>\n",
       "      <td>5864</td>\n",
       "      <td>2</td>\n",
       "      <td>3.0</td>\n",
       "      <td>0.285719</td>\n",
       "    </tr>\n",
       "    <tr>\n",
       "      <th>432513</th>\n",
       "      <td>7807</td>\n",
       "      <td>5868</td>\n",
       "      <td>2</td>\n",
       "      <td>2.0</td>\n",
       "      <td>0.572921</td>\n",
       "    </tr>\n",
       "    <tr>\n",
       "      <th>432514</th>\n",
       "      <td>7807</td>\n",
       "      <td>5882</td>\n",
       "      <td>2</td>\n",
       "      <td>1.0</td>\n",
       "      <td>0.317220</td>\n",
       "    </tr>\n",
       "    <tr>\n",
       "      <th>432515</th>\n",
       "      <td>7807</td>\n",
       "      <td>5884</td>\n",
       "      <td>2</td>\n",
       "      <td>5.0</td>\n",
       "      <td>1.393184</td>\n",
       "    </tr>\n",
       "  </tbody>\n",
       "</table>\n",
       "</div>"
      ],
      "text/plain": [
       "        left  right  link_type  link_weight  scaled_link_weight\n",
       "432511  7807   5861          2          2.0            1.167023\n",
       "432512  7807   5864          2          3.0            0.285719\n",
       "432513  7807   5868          2          2.0            0.572921\n",
       "432514  7807   5882          2          1.0            0.317220\n",
       "432515  7807   5884          2          5.0            1.393184"
      ]
     },
     "execution_count": 11,
     "metadata": {},
     "output_type": "execute_result"
    }
   ],
   "source": [
    "link_df.tail()"
   ]
  },
  {
   "cell_type": "code",
   "execution_count": 13,
   "metadata": {},
   "outputs": [],
   "source": [
    "scaled_link_file = link_file\n",
    "link_df[[\"left\", \"right\", \"link_type\", \"scaled_link_weight\"]].to_csv(dataset_folder + scaled_link_file, sep = \"\\t\", header = None, index = None)"
   ]
  },
  {
   "cell_type": "code",
   "execution_count": null,
   "metadata": {},
   "outputs": [],
   "source": []
  }
 ],
 "metadata": {
  "kernelspec": {
   "display_name": "Python 3",
   "language": "python",
   "name": "python3"
  },
  "language_info": {
   "codemirror_mode": {
    "name": "ipython",
    "version": 3
   },
   "file_extension": ".py",
   "mimetype": "text/x-python",
   "name": "python",
   "nbconvert_exporter": "python",
   "pygments_lexer": "ipython3",
   "version": "3.7.7"
  }
 },
 "nbformat": 4,
 "nbformat_minor": 4
}
