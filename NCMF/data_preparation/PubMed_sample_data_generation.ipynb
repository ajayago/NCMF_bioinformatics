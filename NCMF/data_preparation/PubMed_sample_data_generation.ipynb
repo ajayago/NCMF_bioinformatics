{
 "cells": [
  {
   "cell_type": "markdown",
   "metadata": {},
   "source": [
    "# Sampling Example"
   ]
  },
  {
   "cell_type": "code",
   "execution_count": 1,
   "metadata": {},
   "outputs": [],
   "source": [
    "from utils import *\n",
    "from data_utils import *\n",
    "from sample import *"
   ]
  },
  {
   "cell_type": "markdown",
   "metadata": {},
   "source": [
    "## Data Directory"
   ]
  },
  {
   "cell_type": "code",
   "execution_count": 2,
   "metadata": {},
   "outputs": [],
   "source": [
    "seed = 0\n",
    "\n",
    "data_folder = './datasets'\n",
    "dataset = 'PubMed'\n",
    "model = 'DataFusion'\n",
    "\n",
    "read_node_file = 'node.dat'\n",
    "read_link_file = 'link.dat'\n",
    "read_link_test_file = 'link.dat.test'\n",
    "read_label_file = 'label.dat'\n",
    "read_label_test_file = 'label.dat.test'\n",
    "read_meta_file = 'meta.dat'\n",
    "read_info_file = 'info.dat'\n",
    "\n",
    "sample_id = '1'\n",
    "sampled_node_file = f'sampled{sample_id}_node.dat'\n",
    "sampled_link_file = f'sampled{sample_id}_link.dat'\n",
    "sampled_link_test_file = f'sampled{sample_id}_link.dat.test'\n",
    "sampled_label_file = f'sampled{sample_id}_label.dat'\n",
    "sampled_label_test_file = f'sampled{sample_id}_label.dat.test'\n",
    "sampled_meta_file = f'sampled{sample_id}_meta.dat'\n",
    "sampled_info_file = f'sampled{sample_id}_info.dat'"
   ]
  },
  {
   "cell_type": "markdown",
   "metadata": {},
   "source": [
    "## Sampling Data"
   ]
  },
  {
   "cell_type": "code",
   "execution_count": 3,
   "metadata": {
    "tags": []
   },
   "outputs": [
    {
     "name": "stdout",
     "output_type": "stream",
     "text": [
      "Num labelled nodes: 306\n"
     ]
    }
   ],
   "source": [
    "set_seed(seed)\n",
    "\n",
    "data = read_data(\n",
    "    data_folder=data_folder,\n",
    "    dataset=dataset,\n",
    "    node_file=read_node_file,\n",
    "    link_file=read_link_file,\n",
    "    test_link_file=read_link_test_file,\n",
    "    label_file=read_label_file,\n",
    "    test_label_file=read_label_test_file,\n",
    "    meta_file=read_meta_file,\n",
    "    info_file=read_info_file\n",
    ")\n",
    "node_df, link_df, test_link_df, label_df, test_label_df, node_info_df, link_info_df, label_info_df, node_meta_df, link_meta_df, label_meta_df = data\n",
    "sampled_data = sample(\n",
    "    data, \n",
    "    sample_frac=0.33, \n",
    "    test_link_frac=0.01, \n",
    "    test_label_frac=0.2, \n",
    "    min_labels=300\n",
    ")\n",
    "\n",
    "# write_data(\n",
    "#     data=sampled_data,\n",
    "#     data_folder=data_folder,\n",
    "#     dataset=dataset,\n",
    "#     node_file=sampled_node_file,\n",
    "#     link_file=sampled_link_file,\n",
    "#     test_link_file=sampled_link_test_file,\n",
    "#     label_file=sampled_label_file,\n",
    "#     test_label_file=sampled_label_test_file,\n",
    "#     meta_file=sampled_meta_file,\n",
    "#     info_file=sampled_info_file\n",
    "# )"
   ]
  },
  {
   "cell_type": "markdown",
   "metadata": {},
   "source": [
    "## Data statistics"
   ]
  },
  {
   "cell_type": "code",
   "execution_count": 4,
   "metadata": {},
   "outputs": [
    {
     "name": "stdout",
     "output_type": "stream",
     "text": [
      "Sparsity: 0.0001946580480972659\n",
      "Same num nodes?: (13087, 4) (13087,)\n",
      "node count\n",
      " 0    2661\n",
      "1    4288\n",
      "2    5546\n",
      "3     592\n",
      "Name: node_type, dtype: int64\n",
      "\n",
      "edge count (33339, 4)\n",
      "0    4553\n",
      "1    5163\n",
      "2    5836\n",
      "3    4366\n",
      "4    6478\n",
      "5    5360\n",
      "6     491\n",
      "7     399\n",
      "8     620\n",
      "9      73\n",
      "Name: link_type, dtype: int64\n",
      "\n",
      "label count (241, 4)\n",
      "0    35\n",
      "1    29\n",
      "2    26\n",
      "3    22\n",
      "4    50\n",
      "5    33\n",
      "6    22\n",
      "7    24\n",
      "Name: node_label, dtype: int64\n",
      "\n",
      "test label count\n",
      "0     9\n",
      "1     8\n",
      "2     7\n",
      "3     5\n",
      "4    13\n",
      "5     8\n",
      "6     5\n",
      "7     6\n",
      "Name: node_label, dtype: int64\n",
      "\n"
     ]
    }
   ],
   "source": [
    "sampled_data = read_data(\n",
    "    data_folder=data_folder,\n",
    "    dataset=dataset,\n",
    "    node_file=sampled_node_file,\n",
    "    link_file=sampled_link_file,\n",
    "    test_link_file=sampled_link_test_file,\n",
    "    label_file=sampled_label_file,\n",
    "    test_label_file=sampled_label_test_file,\n",
    "    meta_file=sampled_meta_file,\n",
    "    info_file=sampled_info_file\n",
    ")\n",
    "node_df, link_df, test_link_df, label_df, test_label_df, node_info_df, link_info_df, label_info_df, node_meta_df, link_meta_df, label_meta_df = sampled_data\n",
    "\n",
    "print(f'Sparsity: {len(link_df) / len(node_df) ** 2}')\n",
    "print('Same num nodes?:', node_df.shape, pd.unique(link_df[['node_id_from', 'node_id_to']].values.ravel()).shape)\n",
    "print('node count\\n', node_df['node_type'].value_counts().sort_index())\n",
    "print()\n",
    "\n",
    "print('edge count', link_df.shape)\n",
    "print(link_df['link_type'].value_counts().sort_index())\n",
    "print()\n",
    "\n",
    "print('label count', label_df.shape)\n",
    "print(label_df['node_label'].value_counts().sort_index())\n",
    "print()\n",
    "\n",
    "print('test label count')\n",
    "print(test_label_df['node_label'].value_counts().sort_index())\n",
    "print()"
   ]
  }
 ],
 "metadata": {
  "kernelspec": {
   "display_name": "Python 3",
   "language": "python",
   "name": "python3"
  },
  "language_info": {
   "codemirror_mode": {
    "name": "ipython",
    "version": 3
   },
   "file_extension": ".py",
   "mimetype": "text/x-python",
   "name": "python",
   "nbconvert_exporter": "python",
   "pygments_lexer": "ipython3",
   "version": "3.7.7"
  }
 },
 "nbformat": 4,
 "nbformat_minor": 2
}
