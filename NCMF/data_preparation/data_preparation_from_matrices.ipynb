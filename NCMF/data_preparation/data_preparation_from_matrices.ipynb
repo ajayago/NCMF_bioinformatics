{
 "cells": [
  {
   "cell_type": "markdown",
   "metadata": {},
   "source": [
    "This notebook takes in a list of matrices as inputs and generates the dat files needed by NCMF. This also involves sampling the target matrix for creation of train and test files as well.\n",
    "\n",
    "Input given to this notebook:\n",
    "1. List of matrices used for learning embeddings\n",
    "2. Matrix being used by the link prediction task - this will be divided into train and test sets, with the embeddings being learnt from the train set; link prediction is done by a classifier trained on the train dataset and tested on the test set generated. The matrices must be saved as csv files.\n",
    "3. entity.csv containing all the entity names in the order E0, E1, ... as they appear in the matrices. If a particular node type can be of differing labels(eg: node type is disease, node label is Asthma), this info must be present in a column called \"Entity labels\" in this csv. If this column is absent, node_label and node_type are considered to be the same.\n",
    "\n",
    "Output from notebook:\n",
    "1. sampled#_node.dat\n",
    "2. sampled#_link.dat\n",
    "3. sampled#_link.dat.test\n",
    "4. sampled#_label.dat\n",
    "5. sampled#_label.dat.test\n",
    "6. sampled#_meta.dat\n",
    "7. sampled#_info.dat"
   ]
  },
  {
   "cell_type": "markdown",
   "metadata": {},
   "source": [
    "#### User inputs (Values to be modified as per the dataset)"
   ]
  },
  {
   "cell_type": "code",
   "execution_count": 1,
   "metadata": {},
   "outputs": [],
   "source": [
    "# Fill out the following values as per the dataset\n",
    "sample_id = 1 # update sample ID number\n",
    "data_folder = \"../../datasets/NCMF/ESP/\" # path to the folder with the matrices\n",
    "all_matrices = [\"reduced_X0_train.npy\", \"X1.npy\", \"X2.npy\"] # provide a comma separated list of file names; each matrix must be mapped to a separate file\n",
    "# These are used for learning the embeddings\n",
    "test_matrix = \"reduced_X0_test.npy\" # provide the test matrix that makes up link.dat.test\n",
    "test_indices_file = \"reduced_drug_drug_se_test_idx.csv\"\n",
    "entity_mapping = {'X0': ['E0', 'E1'],\n",
    "                 'X1': ['E0', 'E2'],\n",
    "                 'X2': ['E2', 'E2']}\n",
    "entity_name_mapping = {'E0': \"drug\", \"E1\": \"drug_sideeffect\", \"E2\": \"protein\"} # Modify this as per the dataset for all entities\n",
    "target_matrix_index = 0 # Set this to match the index of the matrix file as per the list all_matrices; this matrix is divided into train and test\n",
    "rng = 3 # random number seed; edit this to create different samples\n",
    "threshold = 0 # change this value based on the test data to decide between positive and negative links"
   ]
  },
  {
   "cell_type": "markdown",
   "metadata": {},
   "source": [
    "#### Output files generated"
   ]
  },
  {
   "cell_type": "code",
   "execution_count": 2,
   "metadata": {},
   "outputs": [],
   "source": [
    "# Output files\n",
    "sampled_node_file = data_folder + f'sampled{sample_id}_node.dat'\n",
    "sampled_link_file = data_folder + f'sampled{sample_id}_link.dat'\n",
    "sampled_link_test_file = data_folder + f'sampled{sample_id}_link.dat.test'\n",
    "sampled_label_file = data_folder + f'sampled{sample_id}_label.dat'\n",
    "sampled_label_test_file = data_folder + f'sampled{sample_id}_label.dat.test'\n",
    "sampled_meta_file = data_folder + f'sampled{sample_id}_meta.dat'\n",
    "sampled_info_file = data_folder + f'sampled{sample_id}_info.dat'"
   ]
  },
  {
   "cell_type": "markdown",
   "metadata": {},
   "source": [
    "#### Data Processing\n",
    "The following steps are carried out in the section below:\n",
    "1. Find number of entities in all the matrices and assign unique IDs to each entity\n",
    "2. Flatten the matrix into a list of triplets\n",
    "3. From the target_matrix, sample 20% for use as test data\n",
    "4. Create node.dat, link.dat, link.dat.test, label.dat, label.dat.test, meta.dat for the dataset"
   ]
  },
  {
   "cell_type": "code",
   "execution_count": 3,
   "metadata": {},
   "outputs": [],
   "source": [
    "import pandas as pd\n",
    "import numpy as np\n",
    "import random\n",
    "random.seed(rng)"
   ]
  },
  {
   "cell_type": "code",
   "execution_count": 4,
   "metadata": {},
   "outputs": [],
   "source": [
    "for i in range(len(all_matrices)):\n",
    "    if \"csv\" in all_matrices[i]:\n",
    "        exec(f\"X{i} = pd.read_csv(data_folder + all_matrices[i], header = None).to_numpy()\")\n",
    "    elif \"pkl\" in all_matrices[i]:\n",
    "        exec(f\"X{i} = pd.read_pickle(data_folder + all_matrices[i])\")\n",
    "    elif \"npy\" in all_matrices[i]:\n",
    "        exec(f\"X{i} = np.load(data_folder + all_matrices[i])\")\n",
    "# This block assigns each of the matrices to variables X0, X1, X2,..."
   ]
  },
  {
   "cell_type": "code",
   "execution_count": 5,
   "metadata": {},
   "outputs": [
    {
     "name": "stdout",
     "output_type": "stream",
     "text": [
      "Shape of X0 (645, 425883)\n",
      "Shape of X1 (645, 22583)\n",
      "Shape of X2 (22583, 22583)\n"
     ]
    }
   ],
   "source": [
    "for i in range(len(all_matrices)):\n",
    "    print(f\"Shape of X{i}\", end = \" \")\n",
    "    exec(f\"print(X{i}.shape)\")"
   ]
  },
  {
   "cell_type": "code",
   "execution_count": 6,
   "metadata": {},
   "outputs": [
    {
     "name": "stdout",
     "output_type": "stream",
     "text": [
      "449111\n"
     ]
    }
   ],
   "source": [
    "# Get entity IDs - uses matrix_entity_similarity to get total number of unique entries\n",
    "total_entities = 0\n",
    "matrices_seen = []\n",
    "for k,v in entity_mapping.items():\n",
    "    if v[0] not in matrices_seen:\n",
    "        matrices_seen.append(v[0])\n",
    "        total_entities += eval(f\"{k}.shape[0]\")\n",
    "        exec(f\"{v[0]}_size = {k}.shape[0]\")\n",
    "    if v[1] not in matrices_seen:\n",
    "        matrices_seen.append(v[1])\n",
    "        total_entities += eval(f\"{k}.shape[1]\")\n",
    "        exec(f\"{v[1]}_size = {k}.shape[1]\")\n",
    "print(total_entities)\n"
   ]
  },
  {
   "cell_type": "code",
   "execution_count": 7,
   "metadata": {},
   "outputs": [
    {
     "name": "stdout",
     "output_type": "stream",
     "text": [
      "645\n"
     ]
    }
   ],
   "source": [
    "print(E0_size)"
   ]
  },
  {
   "cell_type": "code",
   "execution_count": 8,
   "metadata": {},
   "outputs": [],
   "source": [
    "full_df = pd.DataFrame(columns = [\"left\", \"right\", \"value\", \"link_type\"])"
   ]
  },
  {
   "cell_type": "code",
   "execution_count": 9,
   "metadata": {},
   "outputs": [
    {
     "name": "stdout",
     "output_type": "stream",
     "text": [
      "Considering X0\n",
      "Considering X1\n",
      "Considering X2\n"
     ]
    }
   ],
   "source": [
    "for k,v in entity_mapping.items(): # iterate over all matrices\n",
    "    print(f\"Considering {k}\")\n",
    "    link_type = int(k[1:])\n",
    "    total_left_ents_so_far = 0\n",
    "    for m in matrices_seen:\n",
    "        if v[0] == m:\n",
    "            break\n",
    "        else:\n",
    "            total_left_ents_so_far += eval(f\"{m}_size\")\n",
    "    \n",
    "    total_right_ents_so_far = 0\n",
    "    for m in matrices_seen:\n",
    "        if v[1] == m:\n",
    "            break\n",
    "        else:\n",
    "            total_right_ents_so_far += eval(f\"{m}_size\")\n",
    "            \n",
    "#     for i in range(eval(f\"{v[0]}_size\")):\n",
    "#         for j in range(eval(f\"{v[1]}_size\")):\n",
    "#             left_id = i + total_left_ents_so_far\n",
    "#             right_id = j + total_right_ents_so_far\n",
    "#             value = eval(f\"{k}[i][j]\")\n",
    "#             print(f\"left = {left_id}, right = {right_id}, value = {value}\")\n",
    "#             full_df = full_df.append({\"left\": left_id, \"right\": right_id, \"value\": value, \"link_type\": link_type}, ignore_index = True)\n",
    "    temp_df = pd.DataFrame(columns = [\"left\", \"right\", \"value\", \"link_type\"])\n",
    "    temp_df[\"left\"] = sorted(list(range(total_left_ents_so_far, total_left_ents_so_far + eval(f\"{v[0]}_size\"))) * eval(f\"{v[1]}_size\"))\n",
    "    temp_df[\"right\"] = list(range(total_right_ents_so_far, total_right_ents_so_far + eval(f\"{v[1]}_size\"))) * eval(f\"{v[0]}_size\")\n",
    "    temp_df[\"value\"] = eval(f\"{k}\").flatten()\n",
    "    temp_df[\"link_type\"] = [link_type] * len(temp_df[\"left\"])\n",
    "    full_df = pd.concat([full_df, temp_df], axis = 0, ignore_index = True)"
   ]
  },
  {
   "cell_type": "code",
   "execution_count": 10,
   "metadata": {},
   "outputs": [
    {
     "data": {
      "text/plain": [
       "(799252459, 4)"
      ]
     },
     "execution_count": 10,
     "metadata": {},
     "output_type": "execute_result"
    }
   ],
   "source": [
    "full_df.shape"
   ]
  },
  {
   "cell_type": "code",
   "execution_count": 11,
   "metadata": {},
   "outputs": [
    {
     "data": {
      "text/html": [
       "<div>\n",
       "<style scoped>\n",
       "    .dataframe tbody tr th:only-of-type {\n",
       "        vertical-align: middle;\n",
       "    }\n",
       "\n",
       "    .dataframe tbody tr th {\n",
       "        vertical-align: top;\n",
       "    }\n",
       "\n",
       "    .dataframe thead th {\n",
       "        text-align: right;\n",
       "    }\n",
       "</style>\n",
       "<table border=\"1\" class=\"dataframe\">\n",
       "  <thead>\n",
       "    <tr style=\"text-align: right;\">\n",
       "      <th></th>\n",
       "      <th>left</th>\n",
       "      <th>right</th>\n",
       "      <th>value</th>\n",
       "      <th>link_type</th>\n",
       "    </tr>\n",
       "  </thead>\n",
       "  <tbody>\n",
       "    <tr>\n",
       "      <th>0</th>\n",
       "      <td>0</td>\n",
       "      <td>645</td>\n",
       "      <td>0.0</td>\n",
       "      <td>0</td>\n",
       "    </tr>\n",
       "    <tr>\n",
       "      <th>1</th>\n",
       "      <td>0</td>\n",
       "      <td>646</td>\n",
       "      <td>0.0</td>\n",
       "      <td>0</td>\n",
       "    </tr>\n",
       "    <tr>\n",
       "      <th>2</th>\n",
       "      <td>0</td>\n",
       "      <td>647</td>\n",
       "      <td>0.0</td>\n",
       "      <td>0</td>\n",
       "    </tr>\n",
       "    <tr>\n",
       "      <th>3</th>\n",
       "      <td>0</td>\n",
       "      <td>648</td>\n",
       "      <td>1.0</td>\n",
       "      <td>0</td>\n",
       "    </tr>\n",
       "    <tr>\n",
       "      <th>4</th>\n",
       "      <td>0</td>\n",
       "      <td>649</td>\n",
       "      <td>0.0</td>\n",
       "      <td>0</td>\n",
       "    </tr>\n",
       "  </tbody>\n",
       "</table>\n",
       "</div>"
      ],
      "text/plain": [
       "  left right  value link_type\n",
       "0    0   645    0.0         0\n",
       "1    0   646    0.0         0\n",
       "2    0   647    0.0         0\n",
       "3    0   648    1.0         0\n",
       "4    0   649    0.0         0"
      ]
     },
     "execution_count": 11,
     "metadata": {},
     "output_type": "execute_result"
    }
   ],
   "source": [
    "full_df.head()"
   ]
  },
  {
   "cell_type": "code",
   "execution_count": 12,
   "metadata": {},
   "outputs": [
    {
     "data": {
      "text/html": [
       "<div>\n",
       "<style scoped>\n",
       "    .dataframe tbody tr th:only-of-type {\n",
       "        vertical-align: middle;\n",
       "    }\n",
       "\n",
       "    .dataframe tbody tr th {\n",
       "        vertical-align: top;\n",
       "    }\n",
       "\n",
       "    .dataframe thead th {\n",
       "        text-align: right;\n",
       "    }\n",
       "</style>\n",
       "<table border=\"1\" class=\"dataframe\">\n",
       "  <thead>\n",
       "    <tr style=\"text-align: right;\">\n",
       "      <th></th>\n",
       "      <th>left</th>\n",
       "      <th>right</th>\n",
       "      <th>value</th>\n",
       "      <th>link_type</th>\n",
       "    </tr>\n",
       "  </thead>\n",
       "  <tbody>\n",
       "    <tr>\n",
       "      <th>799252454</th>\n",
       "      <td>449110</td>\n",
       "      <td>449106</td>\n",
       "      <td>0.0</td>\n",
       "      <td>2</td>\n",
       "    </tr>\n",
       "    <tr>\n",
       "      <th>799252455</th>\n",
       "      <td>449110</td>\n",
       "      <td>449107</td>\n",
       "      <td>0.0</td>\n",
       "      <td>2</td>\n",
       "    </tr>\n",
       "    <tr>\n",
       "      <th>799252456</th>\n",
       "      <td>449110</td>\n",
       "      <td>449108</td>\n",
       "      <td>0.0</td>\n",
       "      <td>2</td>\n",
       "    </tr>\n",
       "    <tr>\n",
       "      <th>799252457</th>\n",
       "      <td>449110</td>\n",
       "      <td>449109</td>\n",
       "      <td>0.0</td>\n",
       "      <td>2</td>\n",
       "    </tr>\n",
       "    <tr>\n",
       "      <th>799252458</th>\n",
       "      <td>449110</td>\n",
       "      <td>449110</td>\n",
       "      <td>0.0</td>\n",
       "      <td>2</td>\n",
       "    </tr>\n",
       "  </tbody>\n",
       "</table>\n",
       "</div>"
      ],
      "text/plain": [
       "             left   right  value link_type\n",
       "799252454  449110  449106    0.0         2\n",
       "799252455  449110  449107    0.0         2\n",
       "799252456  449110  449108    0.0         2\n",
       "799252457  449110  449109    0.0         2\n",
       "799252458  449110  449110    0.0         2"
      ]
     },
     "execution_count": 12,
     "metadata": {},
     "output_type": "execute_result"
    }
   ],
   "source": [
    "full_df.tail()"
   ]
  },
  {
   "cell_type": "code",
   "execution_count": 13,
   "metadata": {},
   "outputs": [
    {
     "data": {
      "text/plain": [
       "left           0\n",
       "right        653\n",
       "value          0\n",
       "link_type      0\n",
       "Name: 8, dtype: object"
      ]
     },
     "execution_count": 13,
     "metadata": {},
     "output_type": "execute_result"
    }
   ],
   "source": [
    "full_df.iloc[8]"
   ]
  },
  {
   "cell_type": "markdown",
   "metadata": {},
   "source": [
    "#### Link file generation\n",
    "\n",
    "The link.dat.test file is of the format left_node_id, right_node_id, link_value. It has both positive and negative links, and is used to train and test the SVM classifier in the downstream link prediction task.\n",
    "\n",
    "The link.dat file is of the format left_node_id, right_node_id, link_type, link_value. It is made up of only positive links, i.e link_value is 1. This file is used to learn the embeddings of all the entities in the graph."
   ]
  },
  {
   "cell_type": "code",
   "execution_count": 14,
   "metadata": {},
   "outputs": [],
   "source": [
    "np.random.seed(rng)\n",
    "target_matrix_R_ent_count = eval(f\"X{target_matrix_index}.shape[0]\")\n",
    "target_matrix_C_ent_count = eval(f\"X{target_matrix_index}.shape[1]\")"
   ]
  },
  {
   "cell_type": "code",
   "execution_count": 15,
   "metadata": {},
   "outputs": [],
   "source": [
    "if \"csv\" in test_matrix:\n",
    "    test_data_np = pd.read_csv(data_folder + test_matrix).values\n",
    "    test_data_indices = pd.read_csv(data_folder + test_indices_file)\n",
    "elif \"pkl\" in test_matrix:\n",
    "    test_data_np = pd.read_pickle(data_folder +  test_matrix)\n",
    "    test_data_indices = pd.DataFrame(pd.read_pickle(data_folder + test_indices_file))\n",
    "elif \"npy\" in test_matrix:\n",
    "    test_data_np = np.load(data_folder + test_matrix)\n",
    "    test_data_indices = pd.read_csv(data_folder + test_indices_file)\n",
    "test_data_indices.columns = [\"indices\"]"
   ]
  },
  {
   "cell_type": "code",
   "execution_count": 16,
   "metadata": {},
   "outputs": [],
   "source": [
    "orig_test_data_size = test_data_indices.shape[0]"
   ]
  },
  {
   "cell_type": "code",
   "execution_count": 17,
   "metadata": {},
   "outputs": [],
   "source": [
    "node1_offset = 0\n",
    "v = entity_mapping[f\"X{target_matrix_index}\"]\n",
    "for m in matrices_seen:\n",
    "    if v[0] == m:\n",
    "        break\n",
    "    else:\n",
    "        node1_offset += eval(f\"{m}_size\")"
   ]
  },
  {
   "cell_type": "code",
   "execution_count": 18,
   "metadata": {},
   "outputs": [
    {
     "data": {
      "text/plain": [
       "0"
      ]
     },
     "execution_count": 18,
     "metadata": {},
     "output_type": "execute_result"
    }
   ],
   "source": [
    "node1_offset"
   ]
  },
  {
   "cell_type": "code",
   "execution_count": 19,
   "metadata": {},
   "outputs": [],
   "source": [
    "node2_offset = 0\n",
    "v = entity_mapping[f\"X{target_matrix_index}\"]\n",
    "for m in matrices_seen:\n",
    "    if v[1] == m:\n",
    "        break\n",
    "    else:\n",
    "        node2_offset += eval(f\"{m}_size\")"
   ]
  },
  {
   "cell_type": "code",
   "execution_count": 20,
   "metadata": {},
   "outputs": [
    {
     "data": {
      "text/plain": [
       "645"
      ]
     },
     "execution_count": 20,
     "metadata": {},
     "output_type": "execute_result"
    }
   ],
   "source": [
    "node2_offset"
   ]
  },
  {
   "cell_type": "code",
   "execution_count": 21,
   "metadata": {},
   "outputs": [],
   "source": [
    "# from sklearn.preprocessing import StandardScaler\n",
    "# scaler = StandardScaler()\n",
    "# scaler.fit(full_df[full_df[\"link_type\"] == target_matrix_index][\"value\"])"
   ]
  },
  {
   "cell_type": "code",
   "execution_count": 22,
   "metadata": {},
   "outputs": [],
   "source": [
    "test_data = pd.DataFrame(columns = [\"left\", \"right\", \"value\", \"link_type\"])"
   ]
  },
  {
   "cell_type": "code",
   "execution_count": 23,
   "metadata": {},
   "outputs": [],
   "source": [
    "for index in test_data_indices[\"indices\"]:\n",
    "    r, c = index // target_matrix_C_ent_count, index % target_matrix_C_ent_count\n",
    "    #value_added = scaler.transform([[test_data_np[r][c]]])[0][0]\n",
    "    value_added = test_data_np[r][c]\n",
    "    test_data = test_data.append({\"left\": r + node1_offset, \"right\": c + node2_offset, \"value\": value_added, \"link_type\": target_matrix_index}, ignore_index = True)"
   ]
  },
  {
   "cell_type": "code",
   "execution_count": 24,
   "metadata": {},
   "outputs": [
    {
     "data": {
      "text/html": [
       "<div>\n",
       "<style scoped>\n",
       "    .dataframe tbody tr th:only-of-type {\n",
       "        vertical-align: middle;\n",
       "    }\n",
       "\n",
       "    .dataframe tbody tr th {\n",
       "        vertical-align: top;\n",
       "    }\n",
       "\n",
       "    .dataframe thead th {\n",
       "        text-align: right;\n",
       "    }\n",
       "</style>\n",
       "<table border=\"1\" class=\"dataframe\">\n",
       "  <thead>\n",
       "    <tr style=\"text-align: right;\">\n",
       "      <th></th>\n",
       "      <th>left</th>\n",
       "      <th>right</th>\n",
       "      <th>value</th>\n",
       "      <th>link_type</th>\n",
       "    </tr>\n",
       "  </thead>\n",
       "  <tbody>\n",
       "    <tr>\n",
       "      <th>0</th>\n",
       "      <td>143.0</td>\n",
       "      <td>645.0</td>\n",
       "      <td>1.0</td>\n",
       "      <td>0.0</td>\n",
       "    </tr>\n",
       "    <tr>\n",
       "      <th>1</th>\n",
       "      <td>427.0</td>\n",
       "      <td>646.0</td>\n",
       "      <td>1.0</td>\n",
       "      <td>0.0</td>\n",
       "    </tr>\n",
       "    <tr>\n",
       "      <th>2</th>\n",
       "      <td>210.0</td>\n",
       "      <td>647.0</td>\n",
       "      <td>1.0</td>\n",
       "      <td>0.0</td>\n",
       "    </tr>\n",
       "    <tr>\n",
       "      <th>3</th>\n",
       "      <td>445.0</td>\n",
       "      <td>648.0</td>\n",
       "      <td>1.0</td>\n",
       "      <td>0.0</td>\n",
       "    </tr>\n",
       "    <tr>\n",
       "      <th>4</th>\n",
       "      <td>282.0</td>\n",
       "      <td>649.0</td>\n",
       "      <td>1.0</td>\n",
       "      <td>0.0</td>\n",
       "    </tr>\n",
       "  </tbody>\n",
       "</table>\n",
       "</div>"
      ],
      "text/plain": [
       "    left  right  value  link_type\n",
       "0  143.0  645.0    1.0        0.0\n",
       "1  427.0  646.0    1.0        0.0\n",
       "2  210.0  647.0    1.0        0.0\n",
       "3  445.0  648.0    1.0        0.0\n",
       "4  282.0  649.0    1.0        0.0"
      ]
     },
     "execution_count": 24,
     "metadata": {},
     "output_type": "execute_result"
    }
   ],
   "source": [
    "test_data.head()"
   ]
  },
  {
   "cell_type": "code",
   "execution_count": 25,
   "metadata": {},
   "outputs": [
    {
     "data": {
      "text/html": [
       "<div>\n",
       "<style scoped>\n",
       "    .dataframe tbody tr th:only-of-type {\n",
       "        vertical-align: middle;\n",
       "    }\n",
       "\n",
       "    .dataframe tbody tr th {\n",
       "        vertical-align: top;\n",
       "    }\n",
       "\n",
       "    .dataframe thead th {\n",
       "        text-align: right;\n",
       "    }\n",
       "</style>\n",
       "<table border=\"1\" class=\"dataframe\">\n",
       "  <thead>\n",
       "    <tr style=\"text-align: right;\">\n",
       "      <th></th>\n",
       "      <th>left</th>\n",
       "      <th>right</th>\n",
       "      <th>value</th>\n",
       "      <th>link_type</th>\n",
       "    </tr>\n",
       "  </thead>\n",
       "  <tbody>\n",
       "    <tr>\n",
       "      <th>1828779</th>\n",
       "      <td>640.0</td>\n",
       "      <td>426525.0</td>\n",
       "      <td>0.0</td>\n",
       "      <td>0.0</td>\n",
       "    </tr>\n",
       "    <tr>\n",
       "      <th>1828780</th>\n",
       "      <td>432.0</td>\n",
       "      <td>221541.0</td>\n",
       "      <td>0.0</td>\n",
       "      <td>0.0</td>\n",
       "    </tr>\n",
       "    <tr>\n",
       "      <th>1828781</th>\n",
       "      <td>471.0</td>\n",
       "      <td>358298.0</td>\n",
       "      <td>0.0</td>\n",
       "      <td>0.0</td>\n",
       "    </tr>\n",
       "    <tr>\n",
       "      <th>1828782</th>\n",
       "      <td>380.0</td>\n",
       "      <td>426526.0</td>\n",
       "      <td>0.0</td>\n",
       "      <td>0.0</td>\n",
       "    </tr>\n",
       "    <tr>\n",
       "      <th>1828783</th>\n",
       "      <td>97.0</td>\n",
       "      <td>426527.0</td>\n",
       "      <td>0.0</td>\n",
       "      <td>0.0</td>\n",
       "    </tr>\n",
       "  </tbody>\n",
       "</table>\n",
       "</div>"
      ],
      "text/plain": [
       "          left     right  value  link_type\n",
       "1828779  640.0  426525.0    0.0        0.0\n",
       "1828780  432.0  221541.0    0.0        0.0\n",
       "1828781  471.0  358298.0    0.0        0.0\n",
       "1828782  380.0  426526.0    0.0        0.0\n",
       "1828783   97.0  426527.0    0.0        0.0"
      ]
     },
     "execution_count": 25,
     "metadata": {},
     "output_type": "execute_result"
    }
   ],
   "source": [
    "test_data.tail()"
   ]
  },
  {
   "cell_type": "code",
   "execution_count": 26,
   "metadata": {},
   "outputs": [
    {
     "data": {
      "text/html": [
       "<div>\n",
       "<style scoped>\n",
       "    .dataframe tbody tr th:only-of-type {\n",
       "        vertical-align: middle;\n",
       "    }\n",
       "\n",
       "    .dataframe tbody tr th {\n",
       "        vertical-align: top;\n",
       "    }\n",
       "\n",
       "    .dataframe thead th {\n",
       "        text-align: right;\n",
       "    }\n",
       "</style>\n",
       "<table border=\"1\" class=\"dataframe\">\n",
       "  <thead>\n",
       "    <tr style=\"text-align: right;\">\n",
       "      <th></th>\n",
       "      <th>left</th>\n",
       "      <th>right</th>\n",
       "      <th>link_type</th>\n",
       "    </tr>\n",
       "    <tr>\n",
       "      <th>value</th>\n",
       "      <th></th>\n",
       "      <th></th>\n",
       "      <th></th>\n",
       "    </tr>\n",
       "  </thead>\n",
       "  <tbody>\n",
       "    <tr>\n",
       "      <th>0.0</th>\n",
       "      <td>912110</td>\n",
       "      <td>912110</td>\n",
       "      <td>912110</td>\n",
       "    </tr>\n",
       "    <tr>\n",
       "      <th>1.0</th>\n",
       "      <td>916674</td>\n",
       "      <td>916674</td>\n",
       "      <td>916674</td>\n",
       "    </tr>\n",
       "  </tbody>\n",
       "</table>\n",
       "</div>"
      ],
      "text/plain": [
       "         left   right  link_type\n",
       "value                           \n",
       "0.0    912110  912110     912110\n",
       "1.0    916674  916674     916674"
      ]
     },
     "execution_count": 26,
     "metadata": {},
     "output_type": "execute_result"
    }
   ],
   "source": [
    "test_data.groupby(\"value\").count()"
   ]
  },
  {
   "cell_type": "code",
   "execution_count": 27,
   "metadata": {},
   "outputs": [],
   "source": [
    "# test_data[\"value\"] = test_data[\"value\"].apply(lambda x: 1 if x>threshold else 0)\n",
    "# test_data.head()"
   ]
  },
  {
   "cell_type": "code",
   "execution_count": 28,
   "metadata": {},
   "outputs": [
    {
     "data": {
      "text/plain": [
       "(1828784, 4)"
      ]
     },
     "execution_count": 28,
     "metadata": {},
     "output_type": "execute_result"
    }
   ],
   "source": [
    "test_data.shape"
   ]
  },
  {
   "cell_type": "code",
   "execution_count": 29,
   "metadata": {},
   "outputs": [],
   "source": [
    "test_data_numpy = test_data.to_numpy()"
   ]
  },
  {
   "cell_type": "code",
   "execution_count": 30,
   "metadata": {},
   "outputs": [
    {
     "name": "stdout",
     "output_type": "stream",
     "text": [
      "Percentage of non zeros in test data = 0.501247823690496\n",
      "Percentage of zeros in test data = 0.49875217630950397\n"
     ]
    }
   ],
   "source": [
    "print(f\"Percentage of non zeros in test data = {np.count_nonzero(test_data_numpy[:,2])/test_data_numpy.shape[0]}\")\n",
    "print(f\"Percentage of zeros in test data = {1-(np.count_nonzero(test_data_numpy[:,2])/test_data_numpy.shape[0])}\")"
   ]
  },
  {
   "cell_type": "code",
   "execution_count": 31,
   "metadata": {},
   "outputs": [],
   "source": [
    "# Create link.dat.test\n",
    "link_file_for_lp = open(sampled_link_test_file, \"w+\") # Same test file will be used by HIN2Vec and other algorithms too\n",
    "\n",
    "number_of_pairs = 0\n",
    "for i in range(test_data_numpy.shape[0]):\n",
    "        number_of_pairs += 1\n",
    "        link_file_for_lp.write(str(int(test_data_numpy[i][0])) + \"\\t\" + str(int(test_data_numpy[i][1])) + \"\\t\" + str(int(round(test_data_numpy[i][2]))) + \"\\n\")\n",
    "            \n",
    "link_file_for_lp.close()"
   ]
  },
  {
   "cell_type": "code",
   "execution_count": 32,
   "metadata": {},
   "outputs": [
    {
     "data": {
      "text/plain": [
       "(799252459, 4)"
      ]
     },
     "execution_count": 32,
     "metadata": {},
     "output_type": "execute_result"
    }
   ],
   "source": [
    "full_df.shape"
   ]
  },
  {
   "cell_type": "code",
   "execution_count": 33,
   "metadata": {},
   "outputs": [
    {
     "name": "stderr",
     "output_type": "stream",
     "text": [
      "/home/ajayago/anaconda3/envs/ncmf/lib/python3.7/site-packages/ipykernel_launcher.py:6: SettingWithCopyWarning: \n",
      "A value is trying to be set on a copy of a slice from a DataFrame.\n",
      "Try using .loc[row_indexer,col_indexer] = value instead\n",
      "\n",
      "See the caveats in the documentation: https://pandas.pydata.org/pandas-docs/stable/user_guide/indexing.html#returning-a-view-versus-a-copy\n",
      "  \n",
      "/home/ajayago/anaconda3/envs/ncmf/lib/python3.7/site-packages/ipykernel_launcher.py:7: SettingWithCopyWarning: \n",
      "A value is trying to be set on a copy of a slice from a DataFrame.\n",
      "Try using .loc[row_indexer,col_indexer] = value instead\n",
      "\n",
      "See the caveats in the documentation: https://pandas.pydata.org/pandas-docs/stable/user_guide/indexing.html#returning-a-view-versus-a-copy\n",
      "  import sys\n",
      "/home/ajayago/anaconda3/envs/ncmf/lib/python3.7/site-packages/ipykernel_launcher.py:8: SettingWithCopyWarning: \n",
      "A value is trying to be set on a copy of a slice from a DataFrame.\n",
      "Try using .loc[row_indexer,col_indexer] = value instead\n",
      "\n",
      "See the caveats in the documentation: https://pandas.pydata.org/pandas-docs/stable/user_guide/indexing.html#returning-a-view-versus-a-copy\n",
      "  \n"
     ]
    },
    {
     "data": {
      "text/html": [
       "<div>\n",
       "<style scoped>\n",
       "    .dataframe tbody tr th:only-of-type {\n",
       "        vertical-align: middle;\n",
       "    }\n",
       "\n",
       "    .dataframe tbody tr th {\n",
       "        vertical-align: top;\n",
       "    }\n",
       "\n",
       "    .dataframe thead th {\n",
       "        text-align: right;\n",
       "    }\n",
       "</style>\n",
       "<table border=\"1\" class=\"dataframe\">\n",
       "  <thead>\n",
       "    <tr style=\"text-align: right;\">\n",
       "      <th></th>\n",
       "      <th>left</th>\n",
       "      <th>right</th>\n",
       "      <th>link_type</th>\n",
       "      <th>value</th>\n",
       "    </tr>\n",
       "  </thead>\n",
       "  <tbody>\n",
       "    <tr>\n",
       "      <th>3</th>\n",
       "      <td>0</td>\n",
       "      <td>648</td>\n",
       "      <td>0</td>\n",
       "      <td>1.0</td>\n",
       "    </tr>\n",
       "    <tr>\n",
       "      <th>9</th>\n",
       "      <td>0</td>\n",
       "      <td>654</td>\n",
       "      <td>0</td>\n",
       "      <td>1.0</td>\n",
       "    </tr>\n",
       "    <tr>\n",
       "      <th>11</th>\n",
       "      <td>0</td>\n",
       "      <td>656</td>\n",
       "      <td>0</td>\n",
       "      <td>1.0</td>\n",
       "    </tr>\n",
       "    <tr>\n",
       "      <th>16</th>\n",
       "      <td>0</td>\n",
       "      <td>661</td>\n",
       "      <td>0</td>\n",
       "      <td>1.0</td>\n",
       "    </tr>\n",
       "    <tr>\n",
       "      <th>34</th>\n",
       "      <td>0</td>\n",
       "      <td>679</td>\n",
       "      <td>0</td>\n",
       "      <td>1.0</td>\n",
       "    </tr>\n",
       "  </tbody>\n",
       "</table>\n",
       "</div>"
      ],
      "text/plain": [
       "    left  right  link_type  value\n",
       "3      0    648          0    1.0\n",
       "9      0    654          0    1.0\n",
       "11     0    656          0    1.0\n",
       "16     0    661          0    1.0\n",
       "34     0    679          0    1.0"
      ]
     },
     "execution_count": 33,
     "metadata": {},
     "output_type": "execute_result"
    }
   ],
   "source": [
    "# Create link.dat file\n",
    "emb_df = full_df[full_df[\"value\"] != 0] # remove negative links\n",
    "# min_val = min(emb_df[\"value\"])\n",
    "# max_val = max(emb_df[\"value\"])\n",
    "#emb_df[\"value\"] = scaler.transform(emb_df[[\"value\"]]) # transform the value of the link to differentiate between positive and negative links\n",
    "emb_df[\"left\"] = emb_df[\"left\"].astype(int)\n",
    "emb_df[\"right\"] = emb_df[\"right\"].astype(int)\n",
    "emb_df[\"link_type\"] = emb_df[\"link_type\"].astype(int)\n",
    "emb_df = emb_df[[\"left\", \"right\", \"link_type\", \"value\"]]\n",
    "emb_df.head()"
   ]
  },
  {
   "cell_type": "code",
   "execution_count": 34,
   "metadata": {},
   "outputs": [
    {
     "name": "stdout",
     "output_type": "stream",
     "text": [
      "(9913104, 4)\n"
     ]
    }
   ],
   "source": [
    "# print(min(emb_df[\"value\"]))\n",
    "# print(max(emb_df[\"value\"]))\n",
    "print(emb_df.shape)"
   ]
  },
  {
   "cell_type": "code",
   "execution_count": 35,
   "metadata": {
    "scrolled": true
   },
   "outputs": [],
   "source": [
    "emb_df = emb_df[emb_df[\"value\"] != 0] # retain only positive links for representation learning"
   ]
  },
  {
   "cell_type": "code",
   "execution_count": 37,
   "metadata": {},
   "outputs": [
    {
     "data": {
      "text/plain": [
       "0    8581324\n",
       "2    1296040\n",
       "1      35740\n",
       "Name: link_type, dtype: int64"
      ]
     },
     "execution_count": 37,
     "metadata": {},
     "output_type": "execute_result"
    }
   ],
   "source": [
    "emb_df[\"link_type\"].value_counts()"
   ]
  },
  {
   "cell_type": "code",
   "execution_count": 36,
   "metadata": {},
   "outputs": [],
   "source": [
    "emb_df.to_csv(sampled_link_file, sep=\"\\t\", header=False, index=False)"
   ]
  },
  {
   "cell_type": "markdown",
   "metadata": {},
   "source": [
    "#### Label files generation\n",
    "\n",
    "The label.dat file has the following format: node_id, node_name, node_type, node_label.\n",
    "\n",
    "The file label.dat.test has the following format: node_id, node_name, node_type, node_label"
   ]
  },
  {
   "cell_type": "code",
   "execution_count": 88,
   "metadata": {},
   "outputs": [],
   "source": [
    "entity_file = data_folder + \"reduced_entity_df.csv\""
   ]
  },
  {
   "cell_type": "code",
   "execution_count": 89,
   "metadata": {},
   "outputs": [],
   "source": [
    "entity_df = pd.read_csv(entity_file)"
   ]
  },
  {
   "cell_type": "code",
   "execution_count": 90,
   "metadata": {},
   "outputs": [
    {
     "data": {
      "text/html": [
       "<div>\n",
       "<style scoped>\n",
       "    .dataframe tbody tr th:only-of-type {\n",
       "        vertical-align: middle;\n",
       "    }\n",
       "\n",
       "    .dataframe tbody tr th {\n",
       "        vertical-align: top;\n",
       "    }\n",
       "\n",
       "    .dataframe thead th {\n",
       "        text-align: right;\n",
       "    }\n",
       "</style>\n",
       "<table border=\"1\" class=\"dataframe\">\n",
       "  <thead>\n",
       "    <tr style=\"text-align: right;\">\n",
       "      <th></th>\n",
       "      <th>Unnamed: 0</th>\n",
       "      <th>Entity Names</th>\n",
       "      <th>entity_ID</th>\n",
       "    </tr>\n",
       "  </thead>\n",
       "  <tbody>\n",
       "    <tr>\n",
       "      <th>0</th>\n",
       "      <td>0</td>\n",
       "      <td>clobetasol</td>\n",
       "      <td>0</td>\n",
       "    </tr>\n",
       "    <tr>\n",
       "      <th>1</th>\n",
       "      <td>1</td>\n",
       "      <td>ibandronate</td>\n",
       "      <td>1</td>\n",
       "    </tr>\n",
       "    <tr>\n",
       "      <th>2</th>\n",
       "      <td>2</td>\n",
       "      <td>minoxidil</td>\n",
       "      <td>2</td>\n",
       "    </tr>\n",
       "    <tr>\n",
       "      <th>3</th>\n",
       "      <td>3</td>\n",
       "      <td>cefuroxime</td>\n",
       "      <td>3</td>\n",
       "    </tr>\n",
       "    <tr>\n",
       "      <th>4</th>\n",
       "      <td>4</td>\n",
       "      <td>chloramphenicol</td>\n",
       "      <td>4</td>\n",
       "    </tr>\n",
       "  </tbody>\n",
       "</table>\n",
       "</div>"
      ],
      "text/plain": [
       "   Unnamed: 0     Entity Names  entity_ID\n",
       "0           0       clobetasol          0\n",
       "1           1      ibandronate          1\n",
       "2           2        minoxidil          2\n",
       "3           3       cefuroxime          3\n",
       "4           4  chloramphenicol          4"
      ]
     },
     "execution_count": 90,
     "metadata": {},
     "output_type": "execute_result"
    }
   ],
   "source": [
    "entity_df.head()"
   ]
  },
  {
   "cell_type": "code",
   "execution_count": 91,
   "metadata": {},
   "outputs": [
    {
     "data": {
      "text/plain": [
       "(449111, 3)"
      ]
     },
     "execution_count": 91,
     "metadata": {},
     "output_type": "execute_result"
    }
   ],
   "source": [
    "entity_df.shape"
   ]
  },
  {
   "cell_type": "code",
   "execution_count": 92,
   "metadata": {},
   "outputs": [
    {
     "data": {
      "text/plain": [
       "['E0', 'E1', 'E2']"
      ]
     },
     "execution_count": 92,
     "metadata": {},
     "output_type": "execute_result"
    }
   ],
   "source": [
    "matrices_seen # this is the list of entities in the dataset"
   ]
  },
  {
   "cell_type": "code",
   "execution_count": 93,
   "metadata": {},
   "outputs": [
    {
     "name": "stdout",
     "output_type": "stream",
     "text": [
      "Node labels are the same as node types\n"
     ]
    }
   ],
   "source": [
    "if \"Entity labels\" in entity_df.columns:\n",
    "    isNodeLabelSeparate = True\n",
    "    print(\"Node labels are different from node types\")\n",
    "else:\n",
    "    isNodeLabelSeparate = False\n",
    "    print(\"Node labels are the same as node types\")\n",
    "    "
   ]
  },
  {
   "cell_type": "code",
   "execution_count": 94,
   "metadata": {},
   "outputs": [
    {
     "name": "stdout",
     "output_type": "stream",
     "text": [
      "Entity E0\n",
      "Entity E1\n",
      "Entity E2\n",
      "449111\n"
     ]
    }
   ],
   "source": [
    "count = 0\n",
    "node_type = []\n",
    "node_label = []\n",
    "for entity in matrices_seen:\n",
    "    print(f\"Entity {entity}\")\n",
    "    entity_size = eval(f\"{entity}_size\")\n",
    "    node_type_val = int(entity[1:])\n",
    "    node_type.extend([node_type_val] * entity_size)\n",
    "    if not isNodeLabelSeparate:\n",
    "        node_label.extend([node_type_val] * entity_size)\n",
    "    count += entity_size\n",
    "    \n",
    "print(len(node_label))\n",
    "entity_df[\"Node label\"] = node_label if not isNodeLabelSeparate else list(entity_df[\"Entity Labels\"])\n",
    "entity_df[\"Node type\"] = node_type"
   ]
  },
  {
   "cell_type": "code",
   "execution_count": 95,
   "metadata": {},
   "outputs": [
    {
     "data": {
      "text/html": [
       "<div>\n",
       "<style scoped>\n",
       "    .dataframe tbody tr th:only-of-type {\n",
       "        vertical-align: middle;\n",
       "    }\n",
       "\n",
       "    .dataframe tbody tr th {\n",
       "        vertical-align: top;\n",
       "    }\n",
       "\n",
       "    .dataframe thead th {\n",
       "        text-align: right;\n",
       "    }\n",
       "</style>\n",
       "<table border=\"1\" class=\"dataframe\">\n",
       "  <thead>\n",
       "    <tr style=\"text-align: right;\">\n",
       "      <th></th>\n",
       "      <th>Unnamed: 0</th>\n",
       "      <th>Entity Names</th>\n",
       "      <th>entity_ID</th>\n",
       "      <th>Node label</th>\n",
       "      <th>Node type</th>\n",
       "    </tr>\n",
       "  </thead>\n",
       "  <tbody>\n",
       "    <tr>\n",
       "      <th>0</th>\n",
       "      <td>0</td>\n",
       "      <td>clobetasol</td>\n",
       "      <td>0</td>\n",
       "      <td>0</td>\n",
       "      <td>0</td>\n",
       "    </tr>\n",
       "    <tr>\n",
       "      <th>1</th>\n",
       "      <td>1</td>\n",
       "      <td>ibandronate</td>\n",
       "      <td>1</td>\n",
       "      <td>0</td>\n",
       "      <td>0</td>\n",
       "    </tr>\n",
       "    <tr>\n",
       "      <th>2</th>\n",
       "      <td>2</td>\n",
       "      <td>minoxidil</td>\n",
       "      <td>2</td>\n",
       "      <td>0</td>\n",
       "      <td>0</td>\n",
       "    </tr>\n",
       "    <tr>\n",
       "      <th>3</th>\n",
       "      <td>3</td>\n",
       "      <td>cefuroxime</td>\n",
       "      <td>3</td>\n",
       "      <td>0</td>\n",
       "      <td>0</td>\n",
       "    </tr>\n",
       "    <tr>\n",
       "      <th>4</th>\n",
       "      <td>4</td>\n",
       "      <td>chloramphenicol</td>\n",
       "      <td>4</td>\n",
       "      <td>0</td>\n",
       "      <td>0</td>\n",
       "    </tr>\n",
       "  </tbody>\n",
       "</table>\n",
       "</div>"
      ],
      "text/plain": [
       "   Unnamed: 0     Entity Names  entity_ID  Node label  Node type\n",
       "0           0       clobetasol          0           0          0\n",
       "1           1      ibandronate          1           0          0\n",
       "2           2        minoxidil          2           0          0\n",
       "3           3       cefuroxime          3           0          0\n",
       "4           4  chloramphenicol          4           0          0"
      ]
     },
     "execution_count": 95,
     "metadata": {},
     "output_type": "execute_result"
    }
   ],
   "source": [
    "entity_df.head()"
   ]
  },
  {
   "cell_type": "code",
   "execution_count": 96,
   "metadata": {},
   "outputs": [
    {
     "data": {
      "text/html": [
       "<div>\n",
       "<style scoped>\n",
       "    .dataframe tbody tr th:only-of-type {\n",
       "        vertical-align: middle;\n",
       "    }\n",
       "\n",
       "    .dataframe tbody tr th {\n",
       "        vertical-align: top;\n",
       "    }\n",
       "\n",
       "    .dataframe thead th {\n",
       "        text-align: right;\n",
       "    }\n",
       "</style>\n",
       "<table border=\"1\" class=\"dataframe\">\n",
       "  <thead>\n",
       "    <tr style=\"text-align: right;\">\n",
       "      <th></th>\n",
       "      <th>Unnamed: 0</th>\n",
       "      <th>Entity Names</th>\n",
       "      <th>entity_ID</th>\n",
       "      <th>Node label</th>\n",
       "      <th>Node type</th>\n",
       "    </tr>\n",
       "  </thead>\n",
       "  <tbody>\n",
       "    <tr>\n",
       "      <th>449106</th>\n",
       "      <td>449106</td>\n",
       "      <td>729438</td>\n",
       "      <td>449106</td>\n",
       "      <td>2</td>\n",
       "      <td>2</td>\n",
       "    </tr>\n",
       "    <tr>\n",
       "      <th>449107</th>\n",
       "      <td>449107</td>\n",
       "      <td>26046</td>\n",
       "      <td>449107</td>\n",
       "      <td>2</td>\n",
       "      <td>2</td>\n",
       "    </tr>\n",
       "    <tr>\n",
       "      <th>449108</th>\n",
       "      <td>449108</td>\n",
       "      <td>3417</td>\n",
       "      <td>449108</td>\n",
       "      <td>2</td>\n",
       "      <td>2</td>\n",
       "    </tr>\n",
       "    <tr>\n",
       "      <th>449109</th>\n",
       "      <td>449109</td>\n",
       "      <td>26049</td>\n",
       "      <td>449109</td>\n",
       "      <td>2</td>\n",
       "      <td>2</td>\n",
       "    </tr>\n",
       "    <tr>\n",
       "      <th>449110</th>\n",
       "      <td>449110</td>\n",
       "      <td>26050</td>\n",
       "      <td>449110</td>\n",
       "      <td>2</td>\n",
       "      <td>2</td>\n",
       "    </tr>\n",
       "  </tbody>\n",
       "</table>\n",
       "</div>"
      ],
      "text/plain": [
       "        Unnamed: 0 Entity Names  entity_ID  Node label  Node type\n",
       "449106      449106       729438     449106           2          2\n",
       "449107      449107        26046     449107           2          2\n",
       "449108      449108         3417     449108           2          2\n",
       "449109      449109        26049     449109           2          2\n",
       "449110      449110        26050     449110           2          2"
      ]
     },
     "execution_count": 96,
     "metadata": {},
     "output_type": "execute_result"
    }
   ],
   "source": [
    "entity_df.tail()"
   ]
  },
  {
   "cell_type": "code",
   "execution_count": 97,
   "metadata": {},
   "outputs": [
    {
     "data": {
      "text/html": [
       "<div>\n",
       "<style scoped>\n",
       "    .dataframe tbody tr th:only-of-type {\n",
       "        vertical-align: middle;\n",
       "    }\n",
       "\n",
       "    .dataframe tbody tr th {\n",
       "        vertical-align: top;\n",
       "    }\n",
       "\n",
       "    .dataframe thead th {\n",
       "        text-align: right;\n",
       "    }\n",
       "</style>\n",
       "<table border=\"1\" class=\"dataframe\">\n",
       "  <thead>\n",
       "    <tr style=\"text-align: right;\">\n",
       "      <th></th>\n",
       "      <th>Entity Names</th>\n",
       "      <th>Node type</th>\n",
       "      <th>Node label</th>\n",
       "    </tr>\n",
       "  </thead>\n",
       "  <tbody>\n",
       "    <tr>\n",
       "      <th>269993</th>\n",
       "      <td>('ibandronate', 'BACTERIAL_INFECTION')</td>\n",
       "      <td>1</td>\n",
       "      <td>1</td>\n",
       "    </tr>\n",
       "    <tr>\n",
       "      <th>107823</th>\n",
       "      <td>('ofloxacin', 'DIFFICULTY_IN_WALKING')</td>\n",
       "      <td>1</td>\n",
       "      <td>1</td>\n",
       "    </tr>\n",
       "    <tr>\n",
       "      <th>224851</th>\n",
       "      <td>('ethacrynic_acid', 'HYPOGLYCAEMIA')</td>\n",
       "      <td>1</td>\n",
       "      <td>1</td>\n",
       "    </tr>\n",
       "    <tr>\n",
       "      <th>35092</th>\n",
       "      <td>('baclofen', 'SKIN_LESION')</td>\n",
       "      <td>1</td>\n",
       "      <td>1</td>\n",
       "    </tr>\n",
       "    <tr>\n",
       "      <th>283627</th>\n",
       "      <td>('pancuronium', 'AORTIC_REGURGITATION')</td>\n",
       "      <td>1</td>\n",
       "      <td>1</td>\n",
       "    </tr>\n",
       "  </tbody>\n",
       "</table>\n",
       "</div>"
      ],
      "text/plain": [
       "                                   Entity Names  Node type  Node label\n",
       "269993   ('ibandronate', 'BACTERIAL_INFECTION')          1           1\n",
       "107823   ('ofloxacin', 'DIFFICULTY_IN_WALKING')          1           1\n",
       "224851     ('ethacrynic_acid', 'HYPOGLYCAEMIA')          1           1\n",
       "35092               ('baclofen', 'SKIN_LESION')          1           1\n",
       "283627  ('pancuronium', 'AORTIC_REGURGITATION')          1           1"
      ]
     },
     "execution_count": 97,
     "metadata": {},
     "output_type": "execute_result"
    }
   ],
   "source": [
    "test_labels_df = entity_df.sample(frac = 0.2, replace = False, random_state = rng)\n",
    "test_labels_df = test_labels_df[[\"Entity Names\", \"Node type\", \"Node label\"]]\n",
    "test_labels_df.head()"
   ]
  },
  {
   "cell_type": "code",
   "execution_count": 98,
   "metadata": {},
   "outputs": [
    {
     "data": {
      "text/plain": [
       "(89822, 3)"
      ]
     },
     "execution_count": 98,
     "metadata": {},
     "output_type": "execute_result"
    }
   ],
   "source": [
    "test_labels_df.shape"
   ]
  },
  {
   "cell_type": "code",
   "execution_count": 99,
   "metadata": {},
   "outputs": [
    {
     "data": {
      "text/html": [
       "<div>\n",
       "<style scoped>\n",
       "    .dataframe tbody tr th:only-of-type {\n",
       "        vertical-align: middle;\n",
       "    }\n",
       "\n",
       "    .dataframe tbody tr th {\n",
       "        vertical-align: top;\n",
       "    }\n",
       "\n",
       "    .dataframe thead th {\n",
       "        text-align: right;\n",
       "    }\n",
       "</style>\n",
       "<table border=\"1\" class=\"dataframe\">\n",
       "  <thead>\n",
       "    <tr style=\"text-align: right;\">\n",
       "      <th></th>\n",
       "      <th>Entity Names</th>\n",
       "      <th>Node type</th>\n",
       "      <th>Node label</th>\n",
       "    </tr>\n",
       "  </thead>\n",
       "  <tbody>\n",
       "    <tr>\n",
       "      <th>0</th>\n",
       "      <td>clobetasol</td>\n",
       "      <td>0</td>\n",
       "      <td>0</td>\n",
       "    </tr>\n",
       "    <tr>\n",
       "      <th>1</th>\n",
       "      <td>ibandronate</td>\n",
       "      <td>0</td>\n",
       "      <td>0</td>\n",
       "    </tr>\n",
       "    <tr>\n",
       "      <th>2</th>\n",
       "      <td>minoxidil</td>\n",
       "      <td>0</td>\n",
       "      <td>0</td>\n",
       "    </tr>\n",
       "    <tr>\n",
       "      <th>3</th>\n",
       "      <td>cefuroxime</td>\n",
       "      <td>0</td>\n",
       "      <td>0</td>\n",
       "    </tr>\n",
       "    <tr>\n",
       "      <th>4</th>\n",
       "      <td>chloramphenicol</td>\n",
       "      <td>0</td>\n",
       "      <td>0</td>\n",
       "    </tr>\n",
       "  </tbody>\n",
       "</table>\n",
       "</div>"
      ],
      "text/plain": [
       "      Entity Names  Node type  Node label\n",
       "0       clobetasol          0           0\n",
       "1      ibandronate          0           0\n",
       "2        minoxidil          0           0\n",
       "3       cefuroxime          0           0\n",
       "4  chloramphenicol          0           0"
      ]
     },
     "execution_count": 99,
     "metadata": {},
     "output_type": "execute_result"
    }
   ],
   "source": [
    "remaining_labels_df = entity_df.drop(test_labels_df.index)\n",
    "remaining_labels_df = remaining_labels_df[[\"Entity Names\", \"Node type\", \"Node label\"]]\n",
    "remaining_labels_df.head()"
   ]
  },
  {
   "cell_type": "code",
   "execution_count": 100,
   "metadata": {},
   "outputs": [
    {
     "data": {
      "text/plain": [
       "(359289, 3)"
      ]
     },
     "execution_count": 100,
     "metadata": {},
     "output_type": "execute_result"
    }
   ],
   "source": [
    "remaining_labels_df.shape"
   ]
  },
  {
   "cell_type": "code",
   "execution_count": 101,
   "metadata": {},
   "outputs": [],
   "source": [
    "test_labels_df.to_csv(sampled_label_test_file, sep = \"\\t\", header = False)"
   ]
  },
  {
   "cell_type": "code",
   "execution_count": 102,
   "metadata": {},
   "outputs": [],
   "source": [
    "remaining_labels_df.to_csv(sampled_label_file, sep = \"\\t\", header = False)"
   ]
  },
  {
   "cell_type": "markdown",
   "metadata": {},
   "source": [
    "#### Node file generation\n",
    "\n",
    "Node file node.dat is of the format node id, node_name, node_type."
   ]
  },
  {
   "cell_type": "code",
   "execution_count": 103,
   "metadata": {},
   "outputs": [],
   "source": [
    "entity_df[[\"Entity Names\", \"Node type\"]].to_csv(sampled_node_file, sep = \"\\t\", header = False)"
   ]
  },
  {
   "cell_type": "markdown",
   "metadata": {},
   "source": [
    "#### Meta file generation\n",
    "This file is of the format\n",
    "\n",
    "Node Total: Count <total number of entities>\n",
    "Node Type_0: Count <E0_size>\n",
    "...\n",
    "Edge Total: Count <total number of links>\n",
    "Edge Type_0: Count <number of positive links in E0>\n",
    "...\n",
    "Label Total: Count <total number of node label types>\n",
    "Label Class_0_Total: Count <total number of nodes in E0>\n",
    "Label Class_0_Type_0: Count <total number of nodes in E0 of label 0>\n",
    "..."
   ]
  },
  {
   "cell_type": "code",
   "execution_count": 104,
   "metadata": {},
   "outputs": [
    {
     "name": "stdout",
     "output_type": "stream",
     "text": [
      "[645, 425883, 22583]\n"
     ]
    }
   ],
   "source": [
    "# Getting node counts\n",
    "node_values = list(entity_df.groupby(\"Node type\").count()[\"Entity Names\"])\n",
    "print(node_values)"
   ]
  },
  {
   "cell_type": "code",
   "execution_count": 105,
   "metadata": {},
   "outputs": [
    {
     "name": "stdout",
     "output_type": "stream",
     "text": [
      "[9497998, 35740, 1296040]\n"
     ]
    }
   ],
   "source": [
    "# Getting link counts\n",
    "emb_count = list(emb_df.groupby(\"link_type\").count()[\"value\"])\n",
    "test_count = list(test_data[test_data[\"value\"] != 0].groupby(\"link_type\").count()['value'])[0]\n",
    "emb_count[target_matrix_index] += test_count\n",
    "print(emb_count)"
   ]
  },
  {
   "cell_type": "code",
   "execution_count": 106,
   "metadata": {},
   "outputs": [
    {
     "data": {
      "text/html": [
       "<div>\n",
       "<style scoped>\n",
       "    .dataframe tbody tr th:only-of-type {\n",
       "        vertical-align: middle;\n",
       "    }\n",
       "\n",
       "    .dataframe tbody tr th {\n",
       "        vertical-align: top;\n",
       "    }\n",
       "\n",
       "    .dataframe thead th {\n",
       "        text-align: right;\n",
       "    }\n",
       "</style>\n",
       "<table border=\"1\" class=\"dataframe\">\n",
       "  <thead>\n",
       "    <tr style=\"text-align: right;\">\n",
       "      <th></th>\n",
       "      <th></th>\n",
       "      <th>Unnamed: 0</th>\n",
       "      <th>Entity Names</th>\n",
       "      <th>entity_ID</th>\n",
       "    </tr>\n",
       "    <tr>\n",
       "      <th>Node type</th>\n",
       "      <th>Node label</th>\n",
       "      <th></th>\n",
       "      <th></th>\n",
       "      <th></th>\n",
       "    </tr>\n",
       "  </thead>\n",
       "  <tbody>\n",
       "    <tr>\n",
       "      <th>0</th>\n",
       "      <th>0</th>\n",
       "      <td>645</td>\n",
       "      <td>645</td>\n",
       "      <td>645</td>\n",
       "    </tr>\n",
       "    <tr>\n",
       "      <th>1</th>\n",
       "      <th>1</th>\n",
       "      <td>425883</td>\n",
       "      <td>425883</td>\n",
       "      <td>425883</td>\n",
       "    </tr>\n",
       "    <tr>\n",
       "      <th>2</th>\n",
       "      <th>2</th>\n",
       "      <td>22583</td>\n",
       "      <td>22583</td>\n",
       "      <td>22583</td>\n",
       "    </tr>\n",
       "  </tbody>\n",
       "</table>\n",
       "</div>"
      ],
      "text/plain": [
       "                      Unnamed: 0  Entity Names  entity_ID\n",
       "Node type Node label                                     \n",
       "0         0                  645           645        645\n",
       "1         1               425883        425883     425883\n",
       "2         2                22583         22583      22583"
      ]
     },
     "execution_count": 106,
     "metadata": {},
     "output_type": "execute_result"
    }
   ],
   "source": [
    "# Getting label counts\n",
    "entity_df.groupby([\"Node type\", \"Node label\"]).count()"
   ]
  },
  {
   "cell_type": "code",
   "execution_count": 107,
   "metadata": {},
   "outputs": [
    {
     "name": "stdout",
     "output_type": "stream",
     "text": [
      "{'Unnamed: 0': {(0, 0): 645, (1, 1): 425883, (2, 2): 22583}, 'Entity Names': {(0, 0): 645, (1, 1): 425883, (2, 2): 22583}, 'entity_ID': {(0, 0): 645, (1, 1): 425883, (2, 2): 22583}}\n"
     ]
    }
   ],
   "source": [
    "label_counts = entity_df.groupby(['Node type','Node label']).count().apply(list).to_dict()\n",
    "print(label_counts)"
   ]
  },
  {
   "cell_type": "code",
   "execution_count": 108,
   "metadata": {},
   "outputs": [],
   "source": [
    "meta_file_writer = open(sampled_meta_file, \"w+\")\n",
    "\n",
    "meta_file_writer.write(f\"Node Total: Count {sum(node_values)}\" + \"\\n\")\n",
    "for i in range(len(node_values)):\n",
    "    meta_file_writer.write(f\"Node Type_{i}: Count {node_values[i]}\" + \"\\n\")\n",
    "meta_file_writer.write(f\"Edge Total: Count {sum(emb_count)}\" + \"\\n\")\n",
    "for i in range(len(emb_count)):\n",
    "    meta_file_writer.write(f\"Edge Type_{i}: Count {emb_count[i]}\" + \"\\n\")\n",
    "meta_file_writer.write(f\"Label Total: Count {sum(label_counts['Entity Names'].values())}\" + \"\\n\")\n",
    "\n",
    "for i in range(len(node_values)):\n",
    "    meta_file_writer.write(f\"Label Class_{i}_Total: Count {node_values[i]}\" + \"\\n\")\n",
    "    for k in sorted(label_counts[\"Entity Names\"]):\n",
    "        if k[0] == i:\n",
    "            meta_file_writer.write(f\"Label Class_{k[0]}_Type_{k[1]}: Count {label_counts['Entity Names'][k]}\" + \"\\n\")\n",
    "        \n",
    "meta_file_writer.close()"
   ]
  },
  {
   "cell_type": "markdown",
   "metadata": {},
   "source": [
    "#### Info file generation\n",
    "\n",
    "Info file is of the format\n",
    "\n",
    "node.dat\n",
    "\n",
    "TYPE    MEANING\n",
    "\n",
    "0       DRUG\n",
    "\n",
    "1       PROTEIN\n",
    "\n",
    "-----------------------------------------------\n",
    "\n",
    "link.dat\n",
    "\n",
    "LINK    START   END     MEANING\n",
    "\n",
    "0       0       0       DRUG-and-DRUG\n",
    "\n",
    "1       0       1       DRUG-and-PROTEIN\n",
    "\n",
    "2       1       1       PROTEIN-and-PROTEIN\n",
    "\n",
    "-----------------------------------------------\n",
    "\n",
    "label.dat\n",
    "\n",
    "TYPE    CLASS   MEANING\n",
    "\n",
    "0       0       DRUG\n",
    "\n",
    "1       1       PROTEIN\n"
   ]
  },
  {
   "cell_type": "code",
   "execution_count": 109,
   "metadata": {},
   "outputs": [],
   "source": [
    "info_file_writer = open(sampled_info_file, \"w+\")\n",
    "\n",
    "info_file_writer.write(\"node.dat\\n\")\n",
    "info_file_writer.write(\"TYPE\\tMEANING\\n\")\n",
    "for k, v in entity_name_mapping.items():\n",
    "    info_file_writer.write(f\"{k[1:]}\"+\"\\t\"+f\"{v}\"+\"\\n\")\n",
    "\n",
    "info_file_writer.write(\"\\n-----------------------------------------------\\n\")\n",
    "\n",
    "info_file_writer.write(\"link.dat\\n\")\n",
    "info_file_writer.write(\"LINK\\tSTART\\tEND\\tMEANING\\n\")\n",
    "for k,v in entity_mapping.items():\n",
    "    info_file_writer.write(f\"{k[1:]}\" + \"\\t\" + f\"{v[0][1:]}\" + \"\\t\" + f\"{v[1][1:]}\" + \"\\t\" + f\"{entity_name_mapping[f'E{int(v[0][1:])}']}\" + \"-and-\" + f\"{entity_name_mapping[f'E{int(v[1][1:])}']}\" + \"\\n\")\n",
    "\n",
    "info_file_writer.write(\"\\n-----------------------------------------------\\n\")\n",
    "info_file_writer.write(\"label.dat\\n\")\n",
    "info_file_writer.write(\"TYPE\\tCLASS\\tMEANING\\n\")\n",
    "for i in range(len(node_values)):\n",
    "    for k in sorted(label_counts[\"Entity Names\"]):\n",
    "        if k[0] == i:\n",
    "            info_file_writer.write(f\"{i}\" + \"\\t\" + f\"{k[1]}\" + \"\\t\" + f\"{entity_name_mapping[f'E{int(k[1])}']}\" + \"\\n\")\n",
    "\n",
    "info_file_writer.close()"
   ]
  },
  {
   "cell_type": "code",
   "execution_count": null,
   "metadata": {},
   "outputs": [],
   "source": []
  }
 ],
 "metadata": {
  "kernelspec": {
   "display_name": "Python 3",
   "language": "python",
   "name": "python3"
  },
  "language_info": {
   "codemirror_mode": {
    "name": "ipython",
    "version": 3
   },
   "file_extension": ".py",
   "mimetype": "text/x-python",
   "name": "python",
   "nbconvert_exporter": "python",
   "pygments_lexer": "ipython3",
   "version": "3.7.7"
  }
 },
 "nbformat": 4,
 "nbformat_minor": 4
}
