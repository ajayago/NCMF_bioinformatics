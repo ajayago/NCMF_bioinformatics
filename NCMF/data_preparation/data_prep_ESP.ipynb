{
 "cells": [
  {
   "cell_type": "markdown",
   "metadata": {},
   "source": [
    "This notebook takes in a list of matrices as inputs and generates the dat files needed by NCMF. This also involves sampling the target matrix for creation of train and test files as well.\n",
    "\n",
    "Input given to this notebook:\n",
    "1. List of matrices\n",
    "2. Matrix being used by the link prediction task - this will be divided into train and test sets, with the embeddings being learnt from the train set; link prediction is done by a classifier trained on the train dataset and tested on the test set generated. The matrices must be saved as csv files.\n",
    "3. entity.csv containing all the entity names in the order E0, E1, ... as they appear in the matrices. If a particular node type can be of differing labels(eg: node type is disease, node label is Asthma), this info must be present in a column called \"Entity labels\" in this csv. If this column is absent, node_label and node_type are considered to be the same.\n",
    "\n",
    "Output from notebook:\n",
    "1. sampled#_node.dat\n",
    "2. sampled#_link.dat\n",
    "3. sampled#_link.dat.test\n",
    "4. sampled#_label.dat\n",
    "5. sampled#_label.dat.test\n",
    "6. sampled#_meta.dat\n",
    "7. sampled#_info.dat"
   ]
  },
  {
   "cell_type": "markdown",
   "metadata": {},
   "source": [
    "#### User inputs (Values to be modified as per the dataset)"
   ]
  },
  {
   "cell_type": "code",
   "execution_count": 1,
   "metadata": {},
   "outputs": [],
   "source": [
    "# Fill out the following values as per the dataset\n",
    "sample_id = 1 # update sample ID number\n",
    "data_folder = \"../../datasets/NCMF/ESP/\" # path to the folder with the matrices\n",
    "all_matrices = [\"X0_drug_dca.npy\", \"X1.npy\", \"X2.npy\"] # provide a comma separated list of file names; each matrix must be mapped to a separate file\n",
    "entity_mapping = {'X0': ['E0', 'E1'],\n",
    "                 'X1': ['E0', 'E2'],\n",
    "                 'X2': ['E2', 'E2']}\n",
    "entity_name_mapping = {'E0': \"drug\", \"E1\": \"drug_rep\", \"E2\": \"protein\"} # Modify this as per the dataset for all entities\n",
    "target_matrix_index = -1 # Set this to match the index of the matrix file as per the list all_matrices; this matrix is divided into train and test, set to -1 if you do not have a test set\n",
    "rng = 3 # random number seed; edit this to create different samples"
   ]
  },
  {
   "cell_type": "markdown",
   "metadata": {},
   "source": [
    "#### Output files generated"
   ]
  },
  {
   "cell_type": "code",
   "execution_count": 2,
   "metadata": {},
   "outputs": [],
   "source": [
    "# Output files\n",
    "sampled_node_file = data_folder + f'sampled{sample_id}_node.dat'\n",
    "sampled_link_file = data_folder + f'sampled{sample_id}_link.dat'\n",
    "sampled_link_test_file = data_folder + f'sampled{sample_id}_link.dat.test'\n",
    "sampled_label_file = data_folder + f'sampled{sample_id}_label.dat'\n",
    "sampled_label_test_file = data_folder + f'sampled{sample_id}_label.dat.test'\n",
    "sampled_meta_file = data_folder + f'sampled{sample_id}_meta.dat'\n",
    "sampled_info_file = data_folder + f'sampled{sample_id}_info.dat'"
   ]
  },
  {
   "cell_type": "markdown",
   "metadata": {},
   "source": [
    "#### Data Processing\n",
    "The following steps are carried out in the section below:\n",
    "1. Find number of entities in all the matrices and assign unique IDs to each entity\n",
    "2. Flatten the matrix into a list of triplets\n",
    "3. From the target_matrix, sample 20% for use as test data\n",
    "4. Create node.dat, link.dat, link.dat.test, label.dat, label.dat.test, meta.dat for the dataset"
   ]
  },
  {
   "cell_type": "code",
   "execution_count": 3,
   "metadata": {},
   "outputs": [],
   "source": [
    "import pandas as pd\n",
    "import numpy as np\n",
    "import random\n",
    "random.seed(rng)"
   ]
  },
  {
   "cell_type": "code",
   "execution_count": 5,
   "metadata": {},
   "outputs": [],
   "source": [
    "for i in range(len(all_matrices)):\n",
    "    if \"csv\" in all_matrices[i]:\n",
    "        exec(f\"X{i} = pd.read_csv(data_folder + all_matrices[i], header = None).to_numpy()\")\n",
    "    elif \"pkl\" in all_matrices[i]:\n",
    "        exec(f\"X{i} = pd.read_pickle(data_folder + all_matrices[i])\")\n",
    "    elif \"npy\" in all_matrices[i]:\n",
    "        exec(f\"X{i} = np.load(data_folder + all_matrices[i])\")\n",
    "# This block assigns each of the matrices to variables X0, X1, X2,..."
   ]
  },
  {
   "cell_type": "code",
   "execution_count": 6,
   "metadata": {},
   "outputs": [
    {
     "name": "stdout",
     "output_type": "stream",
     "text": [
      "Shape of X0 (645, 1024)\n",
      "Shape of X1 (645, 22583)\n",
      "Shape of X2 (22583, 22583)\n"
     ]
    }
   ],
   "source": [
    "for i in range(len(all_matrices)):\n",
    "    print(f\"Shape of X{i}\", end = \" \")\n",
    "    exec(f\"print(X{i}.shape)\")"
   ]
  },
  {
   "cell_type": "code",
   "execution_count": 7,
   "metadata": {},
   "outputs": [
    {
     "name": "stdout",
     "output_type": "stream",
     "text": [
      "24252\n"
     ]
    }
   ],
   "source": [
    "# Get entity IDs - uses matrix_entity_similarity to get total number of unique entries\n",
    "total_entities = 0\n",
    "matrices_seen = []\n",
    "for k,v in entity_mapping.items():\n",
    "    if v[0] not in matrices_seen:\n",
    "        matrices_seen.append(v[0])\n",
    "        total_entities += eval(f\"{k}.shape[0]\")\n",
    "        exec(f\"{v[0]}_size = {k}.shape[0]\")\n",
    "    if v[1] not in matrices_seen:\n",
    "        matrices_seen.append(v[1])\n",
    "        total_entities += eval(f\"{k}.shape[1]\")\n",
    "        exec(f\"{v[1]}_size = {k}.shape[1]\")\n",
    "print(total_entities)\n"
   ]
  },
  {
   "cell_type": "code",
   "execution_count": 8,
   "metadata": {},
   "outputs": [
    {
     "name": "stdout",
     "output_type": "stream",
     "text": [
      "645\n"
     ]
    }
   ],
   "source": [
    "print(E0_size)"
   ]
  },
  {
   "cell_type": "code",
   "execution_count": 9,
   "metadata": {},
   "outputs": [],
   "source": [
    "full_df = pd.DataFrame(columns = [\"left\", \"right\", \"value\", \"link_type\"])"
   ]
  },
  {
   "cell_type": "code",
   "execution_count": 10,
   "metadata": {},
   "outputs": [
    {
     "name": "stdout",
     "output_type": "stream",
     "text": [
      "Considering X0\n",
      "Considering X1\n",
      "Considering X2\n"
     ]
    }
   ],
   "source": [
    "for k,v in entity_mapping.items(): # iterate over all matrices\n",
    "    print(f\"Considering {k}\")\n",
    "    link_type = int(k[1:])\n",
    "    total_left_ents_so_far = 0\n",
    "    for m in matrices_seen:\n",
    "        if v[0] == m:\n",
    "            break\n",
    "        else:\n",
    "            total_left_ents_so_far += eval(f\"{m}_size\")\n",
    "    \n",
    "    total_right_ents_so_far = 0\n",
    "    for m in matrices_seen:\n",
    "        if v[1] == m:\n",
    "            break\n",
    "        else:\n",
    "            total_right_ents_so_far += eval(f\"{m}_size\")\n",
    "            \n",
    "#     for i in range(eval(f\"{v[0]}_size\")):\n",
    "#         for j in range(eval(f\"{v[1]}_size\")):\n",
    "#             left_id = i + total_left_ents_so_far\n",
    "#             right_id = j + total_right_ents_so_far\n",
    "#             value = eval(f\"{k}[i][j]\")\n",
    "#             print(f\"left = {left_id}, right = {right_id}, value = {value}\")\n",
    "#             full_df = full_df.append({\"left\": left_id, \"right\": right_id, \"value\": value, \"link_type\": link_type}, ignore_index = True)\n",
    "    temp_df = pd.DataFrame(columns = [\"left\", \"right\", \"value\", \"link_type\"])\n",
    "    temp_df[\"left\"] = sorted(list(range(total_left_ents_so_far, total_left_ents_so_far + eval(f\"{v[0]}_size\"))) * eval(f\"{v[1]}_size\"))\n",
    "    temp_df[\"right\"] = list(range(total_right_ents_so_far, total_right_ents_so_far + eval(f\"{v[1]}_size\"))) * eval(f\"{v[0]}_size\")\n",
    "    temp_df[\"value\"] = eval(f\"{k}\").flatten()\n",
    "    temp_df[\"link_type\"] = [link_type] * len(temp_df[\"left\"])\n",
    "    full_df = pd.concat([full_df, temp_df], axis = 0, ignore_index = True)"
   ]
  },
  {
   "cell_type": "code",
   "execution_count": 11,
   "metadata": {},
   "outputs": [
    {
     "data": {
      "text/plain": [
       "(525218404, 4)"
      ]
     },
     "execution_count": 11,
     "metadata": {},
     "output_type": "execute_result"
    }
   ],
   "source": [
    "full_df.shape"
   ]
  },
  {
   "cell_type": "code",
   "execution_count": 12,
   "metadata": {},
   "outputs": [
    {
     "data": {
      "text/html": [
       "<div>\n",
       "<style scoped>\n",
       "    .dataframe tbody tr th:only-of-type {\n",
       "        vertical-align: middle;\n",
       "    }\n",
       "\n",
       "    .dataframe tbody tr th {\n",
       "        vertical-align: top;\n",
       "    }\n",
       "\n",
       "    .dataframe thead th {\n",
       "        text-align: right;\n",
       "    }\n",
       "</style>\n",
       "<table border=\"1\" class=\"dataframe\">\n",
       "  <thead>\n",
       "    <tr style=\"text-align: right;\">\n",
       "      <th></th>\n",
       "      <th>left</th>\n",
       "      <th>right</th>\n",
       "      <th>value</th>\n",
       "      <th>link_type</th>\n",
       "    </tr>\n",
       "  </thead>\n",
       "  <tbody>\n",
       "    <tr>\n",
       "      <th>0</th>\n",
       "      <td>0</td>\n",
       "      <td>645</td>\n",
       "      <td>-1.477965</td>\n",
       "      <td>0</td>\n",
       "    </tr>\n",
       "    <tr>\n",
       "      <th>1</th>\n",
       "      <td>0</td>\n",
       "      <td>646</td>\n",
       "      <td>0.055263</td>\n",
       "      <td>0</td>\n",
       "    </tr>\n",
       "    <tr>\n",
       "      <th>2</th>\n",
       "      <td>0</td>\n",
       "      <td>647</td>\n",
       "      <td>-0.387671</td>\n",
       "      <td>0</td>\n",
       "    </tr>\n",
       "    <tr>\n",
       "      <th>3</th>\n",
       "      <td>0</td>\n",
       "      <td>648</td>\n",
       "      <td>-0.410348</td>\n",
       "      <td>0</td>\n",
       "    </tr>\n",
       "    <tr>\n",
       "      <th>4</th>\n",
       "      <td>0</td>\n",
       "      <td>649</td>\n",
       "      <td>-0.779983</td>\n",
       "      <td>0</td>\n",
       "    </tr>\n",
       "  </tbody>\n",
       "</table>\n",
       "</div>"
      ],
      "text/plain": [
       "  left right     value link_type\n",
       "0    0   645 -1.477965         0\n",
       "1    0   646  0.055263         0\n",
       "2    0   647 -0.387671         0\n",
       "3    0   648 -0.410348         0\n",
       "4    0   649 -0.779983         0"
      ]
     },
     "execution_count": 12,
     "metadata": {},
     "output_type": "execute_result"
    }
   ],
   "source": [
    "full_df.head()"
   ]
  },
  {
   "cell_type": "code",
   "execution_count": 13,
   "metadata": {},
   "outputs": [
    {
     "data": {
      "text/html": [
       "<div>\n",
       "<style scoped>\n",
       "    .dataframe tbody tr th:only-of-type {\n",
       "        vertical-align: middle;\n",
       "    }\n",
       "\n",
       "    .dataframe tbody tr th {\n",
       "        vertical-align: top;\n",
       "    }\n",
       "\n",
       "    .dataframe thead th {\n",
       "        text-align: right;\n",
       "    }\n",
       "</style>\n",
       "<table border=\"1\" class=\"dataframe\">\n",
       "  <thead>\n",
       "    <tr style=\"text-align: right;\">\n",
       "      <th></th>\n",
       "      <th>left</th>\n",
       "      <th>right</th>\n",
       "      <th>value</th>\n",
       "      <th>link_type</th>\n",
       "    </tr>\n",
       "  </thead>\n",
       "  <tbody>\n",
       "    <tr>\n",
       "      <th>525218399</th>\n",
       "      <td>24251</td>\n",
       "      <td>24247</td>\n",
       "      <td>0.0</td>\n",
       "      <td>2</td>\n",
       "    </tr>\n",
       "    <tr>\n",
       "      <th>525218400</th>\n",
       "      <td>24251</td>\n",
       "      <td>24248</td>\n",
       "      <td>0.0</td>\n",
       "      <td>2</td>\n",
       "    </tr>\n",
       "    <tr>\n",
       "      <th>525218401</th>\n",
       "      <td>24251</td>\n",
       "      <td>24249</td>\n",
       "      <td>0.0</td>\n",
       "      <td>2</td>\n",
       "    </tr>\n",
       "    <tr>\n",
       "      <th>525218402</th>\n",
       "      <td>24251</td>\n",
       "      <td>24250</td>\n",
       "      <td>0.0</td>\n",
       "      <td>2</td>\n",
       "    </tr>\n",
       "    <tr>\n",
       "      <th>525218403</th>\n",
       "      <td>24251</td>\n",
       "      <td>24251</td>\n",
       "      <td>0.0</td>\n",
       "      <td>2</td>\n",
       "    </tr>\n",
       "  </tbody>\n",
       "</table>\n",
       "</div>"
      ],
      "text/plain": [
       "            left  right  value link_type\n",
       "525218399  24251  24247    0.0         2\n",
       "525218400  24251  24248    0.0         2\n",
       "525218401  24251  24249    0.0         2\n",
       "525218402  24251  24250    0.0         2\n",
       "525218403  24251  24251    0.0         2"
      ]
     },
     "execution_count": 13,
     "metadata": {},
     "output_type": "execute_result"
    }
   ],
   "source": [
    "full_df.tail()"
   ]
  },
  {
   "cell_type": "code",
   "execution_count": 14,
   "metadata": {},
   "outputs": [
    {
     "data": {
      "text/plain": [
       "left                0\n",
       "right             653\n",
       "value        0.229604\n",
       "link_type           0\n",
       "Name: 8, dtype: object"
      ]
     },
     "execution_count": 14,
     "metadata": {},
     "output_type": "execute_result"
    }
   ],
   "source": [
    "full_df.iloc[8]"
   ]
  },
  {
   "cell_type": "markdown",
   "metadata": {},
   "source": [
    "#### Link file generation\n",
    "\n",
    "The link.dat.test file is of the format left_node_id, right_node_id, link_value. It has both positive and negative links, and is used to train and test the SVM classifier in the downstream link prediction task.\n",
    "\n",
    "The link.dat file is of the format left_node_id, right_node_id, link_type, link_value. It is made up of only positive links, i.e link_value is 1. This file is used to learn the embeddings of all the entities in the graph."
   ]
  },
  {
   "cell_type": "code",
   "execution_count": 15,
   "metadata": {},
   "outputs": [],
   "source": [
    "np.random.seed(rng)\n",
    "if target_matrix_index != -1:\n",
    "    target_matrix_R_ent_count = eval(f\"X{target_matrix_index}.shape[0]\")\n",
    "    target_matrix_C_ent_count = eval(f\"X{target_matrix_index}.shape[1]\")\n",
    "    sample = np.random.choice(target_matrix_R_ent_count * target_matrix_C_ent_count, int(0.2 * target_matrix_R_ent_count * target_matrix_C_ent_count) , replace = False) # sample 20 % of the data\n",
    "else:\n",
    "    sample = np.array([]) # no sampling"
   ]
  },
  {
   "cell_type": "code",
   "execution_count": 16,
   "metadata": {},
   "outputs": [
    {
     "name": "stdout",
     "output_type": "stream",
     "text": [
      "Offset for samples is 0\n"
     ]
    }
   ],
   "source": [
    "offset = 0\n",
    "if target_matrix_index >= 0:\n",
    "    for i in range(target_matrix_index):\n",
    "        offset += eval(f\"X{i}.shape[0] * X{i}.shape[1]\")\n",
    "print(f\"Offset for samples is {offset}\")"
   ]
  },
  {
   "cell_type": "code",
   "execution_count": 17,
   "metadata": {},
   "outputs": [],
   "source": [
    "sample = sample + offset"
   ]
  },
  {
   "cell_type": "code",
   "execution_count": 18,
   "metadata": {},
   "outputs": [
    {
     "data": {
      "text/plain": [
       "array([], dtype=float64)"
      ]
     },
     "execution_count": 18,
     "metadata": {},
     "output_type": "execute_result"
    }
   ],
   "source": [
    "sample"
   ]
  },
  {
   "cell_type": "code",
   "execution_count": 19,
   "metadata": {},
   "outputs": [],
   "source": [
    "test_data = full_df.iloc[sample]"
   ]
  },
  {
   "cell_type": "code",
   "execution_count": 20,
   "metadata": {},
   "outputs": [],
   "source": [
    "orig_test_data_size = test_data.shape[0]"
   ]
  },
  {
   "cell_type": "code",
   "execution_count": 21,
   "metadata": {},
   "outputs": [
    {
     "data": {
      "text/html": [
       "<div>\n",
       "<style scoped>\n",
       "    .dataframe tbody tr th:only-of-type {\n",
       "        vertical-align: middle;\n",
       "    }\n",
       "\n",
       "    .dataframe tbody tr th {\n",
       "        vertical-align: top;\n",
       "    }\n",
       "\n",
       "    .dataframe thead th {\n",
       "        text-align: right;\n",
       "    }\n",
       "</style>\n",
       "<table border=\"1\" class=\"dataframe\">\n",
       "  <thead>\n",
       "    <tr style=\"text-align: right;\">\n",
       "      <th></th>\n",
       "      <th>left</th>\n",
       "      <th>right</th>\n",
       "      <th>value</th>\n",
       "      <th>link_type</th>\n",
       "    </tr>\n",
       "  </thead>\n",
       "  <tbody>\n",
       "  </tbody>\n",
       "</table>\n",
       "</div>"
      ],
      "text/plain": [
       "Empty DataFrame\n",
       "Columns: [left, right, value, link_type]\n",
       "Index: []"
      ]
     },
     "execution_count": 21,
     "metadata": {},
     "output_type": "execute_result"
    }
   ],
   "source": [
    "test_data"
   ]
  },
  {
   "cell_type": "code",
   "execution_count": 22,
   "metadata": {},
   "outputs": [],
   "source": [
    "# Find all entries that are zeros in the test df\n",
    "zero_test_data = pd.DataFrame(test_data.groupby(\"left\").sum()[\"value\"]).reset_index()\n",
    "zero_test_data = zero_test_data[zero_test_data[\"value\"] == 0]"
   ]
  },
  {
   "cell_type": "code",
   "execution_count": 23,
   "metadata": {},
   "outputs": [
    {
     "data": {
      "text/plain": [
       "0"
      ]
     },
     "execution_count": 23,
     "metadata": {},
     "output_type": "execute_result"
    }
   ],
   "source": [
    "len(zero_test_data[\"left\"].unique())"
   ]
  },
  {
   "cell_type": "code",
   "execution_count": 24,
   "metadata": {},
   "outputs": [
    {
     "data": {
      "text/html": [
       "<div>\n",
       "<style scoped>\n",
       "    .dataframe tbody tr th:only-of-type {\n",
       "        vertical-align: middle;\n",
       "    }\n",
       "\n",
       "    .dataframe tbody tr th {\n",
       "        vertical-align: top;\n",
       "    }\n",
       "\n",
       "    .dataframe thead th {\n",
       "        text-align: right;\n",
       "    }\n",
       "</style>\n",
       "<table border=\"1\" class=\"dataframe\">\n",
       "  <thead>\n",
       "    <tr style=\"text-align: right;\">\n",
       "      <th></th>\n",
       "      <th>left</th>\n",
       "      <th>value</th>\n",
       "    </tr>\n",
       "  </thead>\n",
       "  <tbody>\n",
       "  </tbody>\n",
       "</table>\n",
       "</div>"
      ],
      "text/plain": [
       "Empty DataFrame\n",
       "Columns: [left, value]\n",
       "Index: []"
      ]
     },
     "execution_count": 24,
     "metadata": {},
     "output_type": "execute_result"
    }
   ],
   "source": [
    "zero_test_data"
   ]
  },
  {
   "cell_type": "code",
   "execution_count": 25,
   "metadata": {},
   "outputs": [],
   "source": [
    "node1_offset = 0\n",
    "if target_matrix_index >= 0:    \n",
    "    v = entity_mapping[f\"X{target_matrix_index}\"]\n",
    "    for m in matrices_seen:\n",
    "        if v[0] == m:\n",
    "            break\n",
    "        else:\n",
    "            node1_offset += eval(f\"{m}_size\")"
   ]
  },
  {
   "cell_type": "code",
   "execution_count": 26,
   "metadata": {},
   "outputs": [
    {
     "data": {
      "text/plain": [
       "0"
      ]
     },
     "execution_count": 26,
     "metadata": {},
     "output_type": "execute_result"
    }
   ],
   "source": [
    "node1_offset"
   ]
  },
  {
   "cell_type": "code",
   "execution_count": 27,
   "metadata": {},
   "outputs": [],
   "source": [
    "node2_offset = 0\n",
    "if target_matrix_index >= 0:\n",
    "    v = entity_mapping[f\"X{target_matrix_index}\"]\n",
    "    for m in matrices_seen:\n",
    "        if v[1] == m:\n",
    "            break\n",
    "        else:\n",
    "            node2_offset += eval(f\"{m}_size\")"
   ]
  },
  {
   "cell_type": "code",
   "execution_count": 28,
   "metadata": {},
   "outputs": [
    {
     "data": {
      "text/plain": [
       "0"
      ]
     },
     "execution_count": 28,
     "metadata": {},
     "output_type": "execute_result"
    }
   ],
   "source": [
    "node2_offset"
   ]
  },
  {
   "cell_type": "code",
   "execution_count": 29,
   "metadata": {},
   "outputs": [],
   "source": [
    "if target_matrix_index >=0:\n",
    "    for i in list(zero_test_data[\"left\"].unique()):\n",
    "        x = eval(f\"X{target_matrix_index}[{int(i) - node1_offset},:]\")\n",
    "        print(i)\n",
    "        non_zeros = np.where(x != 0)[0]\n",
    "        print(non_zeros)            \n",
    "        node_1 = int(i)\n",
    "        try:\n",
    "            node_2 = float(random.choice(non_zeros)) + node2_offset\n",
    "            print(f\"Node 1: {node_1}, Node 2: {node_2}\")\n",
    "            print(f\"sample val = {int((node_1 - node1_offset) * target_matrix_R_ent_count) + int(node_2 - node2_offset) + offset}\")\n",
    "            value_added = eval(f\"X{target_matrix_index}[{int(i) - node1_offset}][{node_2 - node2_offset}]\")\n",
    "            test_data = test_data.append({\"left\": node_1, \"right\": node_2, \"value\": value_added, \"link_type\": target_matrix_index}, ignore_index = True)\n",
    "            sample = np.append(sample, int((node_1 - node1_offset) * target_matrix_R_ent_count) + int(node_2 - node2_offset) + offset)\n",
    "        except:\n",
    "            print(f\"Cannot find a non zero entry for {node_1}\")"
   ]
  },
  {
   "cell_type": "code",
   "execution_count": 30,
   "metadata": {},
   "outputs": [
    {
     "data": {
      "text/plain": [
       "array([], dtype=float64)"
      ]
     },
     "execution_count": 30,
     "metadata": {},
     "output_type": "execute_result"
    }
   ],
   "source": [
    "sample[orig_test_data_size:]"
   ]
  },
  {
   "cell_type": "code",
   "execution_count": 31,
   "metadata": {},
   "outputs": [],
   "source": [
    "test_data[\"value\"] = test_data[\"value\"].apply(lambda x: 1 if x != 0 else 0) # convert value to indicate only presence/absence of link"
   ]
  },
  {
   "cell_type": "code",
   "execution_count": 32,
   "metadata": {},
   "outputs": [
    {
     "data": {
      "text/html": [
       "<div>\n",
       "<style scoped>\n",
       "    .dataframe tbody tr th:only-of-type {\n",
       "        vertical-align: middle;\n",
       "    }\n",
       "\n",
       "    .dataframe tbody tr th {\n",
       "        vertical-align: top;\n",
       "    }\n",
       "\n",
       "    .dataframe thead th {\n",
       "        text-align: right;\n",
       "    }\n",
       "</style>\n",
       "<table border=\"1\" class=\"dataframe\">\n",
       "  <thead>\n",
       "    <tr style=\"text-align: right;\">\n",
       "      <th></th>\n",
       "      <th>left</th>\n",
       "      <th>right</th>\n",
       "      <th>value</th>\n",
       "      <th>link_type</th>\n",
       "    </tr>\n",
       "  </thead>\n",
       "  <tbody>\n",
       "  </tbody>\n",
       "</table>\n",
       "</div>"
      ],
      "text/plain": [
       "Empty DataFrame\n",
       "Columns: [left, right, value, link_type]\n",
       "Index: []"
      ]
     },
     "execution_count": 32,
     "metadata": {},
     "output_type": "execute_result"
    }
   ],
   "source": [
    "test_data.head()"
   ]
  },
  {
   "cell_type": "code",
   "execution_count": 33,
   "metadata": {},
   "outputs": [
    {
     "data": {
      "text/plain": [
       "0"
      ]
     },
     "execution_count": 33,
     "metadata": {},
     "output_type": "execute_result"
    }
   ],
   "source": [
    "test_data.shape[0]"
   ]
  },
  {
   "cell_type": "code",
   "execution_count": 34,
   "metadata": {},
   "outputs": [],
   "source": [
    "test_data_np = test_data.to_numpy()"
   ]
  },
  {
   "cell_type": "code",
   "execution_count": 35,
   "metadata": {},
   "outputs": [],
   "source": [
    "if target_matrix_index >= 0:\n",
    "    print(f\"Percentage of ones in test data = {np.count_nonzero(test_data_np[:,2])/test_data_np.shape[0]}\")\n",
    "    print(f\"Percentage of zeros in test data = {1-(np.count_nonzero(test_data_np[:,2])/test_data_np.shape[0])}\")"
   ]
  },
  {
   "cell_type": "code",
   "execution_count": 36,
   "metadata": {},
   "outputs": [],
   "source": [
    "# Create link.dat.test\n",
    "link_file_for_lp = open(sampled_link_test_file, \"w+\") # Same test file will be used by HIN2Vec and other algorithms too\n",
    "\n",
    "number_of_pairs = 0\n",
    "for i in range(test_data_np.shape[0]):\n",
    "        number_of_pairs += 1\n",
    "        link_file_for_lp.write(str(int(test_data_np[i][0])) + \"\\t\" + str(int(test_data_np[i][1])) + \"\\t\" + str(int(test_data_np[i][2])) + \"\\n\")\n",
    "            \n",
    "link_file_for_lp.close()"
   ]
  },
  {
   "cell_type": "code",
   "execution_count": 37,
   "metadata": {},
   "outputs": [],
   "source": [
    "full_df.drop(sample, inplace = True, axis = 0)"
   ]
  },
  {
   "cell_type": "code",
   "execution_count": 38,
   "metadata": {},
   "outputs": [
    {
     "data": {
      "text/plain": [
       "(525218404, 4)"
      ]
     },
     "execution_count": 38,
     "metadata": {},
     "output_type": "execute_result"
    }
   ],
   "source": [
    "full_df.shape"
   ]
  },
  {
   "cell_type": "code",
   "execution_count": 39,
   "metadata": {},
   "outputs": [
    {
     "name": "stderr",
     "output_type": "stream",
     "text": [
      "/home/ajayago/anaconda3/envs/ncmf/lib/python3.7/site-packages/ipykernel_launcher.py:3: SettingWithCopyWarning: \n",
      "A value is trying to be set on a copy of a slice from a DataFrame.\n",
      "Try using .loc[row_indexer,col_indexer] = value instead\n",
      "\n",
      "See the caveats in the documentation: https://pandas.pydata.org/pandas-docs/stable/user_guide/indexing.html#returning-a-view-versus-a-copy\n",
      "  This is separate from the ipykernel package so we can avoid doing imports until\n",
      "/home/ajayago/anaconda3/envs/ncmf/lib/python3.7/site-packages/ipykernel_launcher.py:4: SettingWithCopyWarning: \n",
      "A value is trying to be set on a copy of a slice from a DataFrame.\n",
      "Try using .loc[row_indexer,col_indexer] = value instead\n",
      "\n",
      "See the caveats in the documentation: https://pandas.pydata.org/pandas-docs/stable/user_guide/indexing.html#returning-a-view-versus-a-copy\n",
      "  after removing the cwd from sys.path.\n",
      "/home/ajayago/anaconda3/envs/ncmf/lib/python3.7/site-packages/ipykernel_launcher.py:5: SettingWithCopyWarning: \n",
      "A value is trying to be set on a copy of a slice from a DataFrame.\n",
      "Try using .loc[row_indexer,col_indexer] = value instead\n",
      "\n",
      "See the caveats in the documentation: https://pandas.pydata.org/pandas-docs/stable/user_guide/indexing.html#returning-a-view-versus-a-copy\n",
      "  \"\"\"\n",
      "/home/ajayago/anaconda3/envs/ncmf/lib/python3.7/site-packages/ipykernel_launcher.py:6: SettingWithCopyWarning: \n",
      "A value is trying to be set on a copy of a slice from a DataFrame.\n",
      "Try using .loc[row_indexer,col_indexer] = value instead\n",
      "\n",
      "See the caveats in the documentation: https://pandas.pydata.org/pandas-docs/stable/user_guide/indexing.html#returning-a-view-versus-a-copy\n",
      "  \n"
     ]
    },
    {
     "data": {
      "text/html": [
       "<div>\n",
       "<style scoped>\n",
       "    .dataframe tbody tr th:only-of-type {\n",
       "        vertical-align: middle;\n",
       "    }\n",
       "\n",
       "    .dataframe tbody tr th {\n",
       "        vertical-align: top;\n",
       "    }\n",
       "\n",
       "    .dataframe thead th {\n",
       "        text-align: right;\n",
       "    }\n",
       "</style>\n",
       "<table border=\"1\" class=\"dataframe\">\n",
       "  <thead>\n",
       "    <tr style=\"text-align: right;\">\n",
       "      <th></th>\n",
       "      <th>left</th>\n",
       "      <th>right</th>\n",
       "      <th>link_type</th>\n",
       "      <th>value</th>\n",
       "    </tr>\n",
       "  </thead>\n",
       "  <tbody>\n",
       "    <tr>\n",
       "      <th>0</th>\n",
       "      <td>0</td>\n",
       "      <td>645</td>\n",
       "      <td>0</td>\n",
       "      <td>-1.477965</td>\n",
       "    </tr>\n",
       "    <tr>\n",
       "      <th>1</th>\n",
       "      <td>0</td>\n",
       "      <td>646</td>\n",
       "      <td>0</td>\n",
       "      <td>0.055263</td>\n",
       "    </tr>\n",
       "    <tr>\n",
       "      <th>2</th>\n",
       "      <td>0</td>\n",
       "      <td>647</td>\n",
       "      <td>0</td>\n",
       "      <td>-0.387671</td>\n",
       "    </tr>\n",
       "    <tr>\n",
       "      <th>3</th>\n",
       "      <td>0</td>\n",
       "      <td>648</td>\n",
       "      <td>0</td>\n",
       "      <td>-0.410348</td>\n",
       "    </tr>\n",
       "    <tr>\n",
       "      <th>4</th>\n",
       "      <td>0</td>\n",
       "      <td>649</td>\n",
       "      <td>0</td>\n",
       "      <td>-0.779983</td>\n",
       "    </tr>\n",
       "  </tbody>\n",
       "</table>\n",
       "</div>"
      ],
      "text/plain": [
       "   left  right  link_type     value\n",
       "0     0    645          0 -1.477965\n",
       "1     0    646          0  0.055263\n",
       "2     0    647          0 -0.387671\n",
       "3     0    648          0 -0.410348\n",
       "4     0    649          0 -0.779983"
      ]
     },
     "execution_count": 39,
     "metadata": {},
     "output_type": "execute_result"
    }
   ],
   "source": [
    "# Create link.dat file\n",
    "emb_df = full_df[full_df[\"value\"] != 0]\n",
    "emb_df[\"value\"] = emb_df[\"value\"]\n",
    "emb_df[\"left\"] = emb_df[\"left\"].astype(int)\n",
    "emb_df[\"right\"] = emb_df[\"right\"].astype(int)\n",
    "emb_df[\"link_type\"] = emb_df[\"link_type\"].astype(int)\n",
    "emb_df = emb_df[[\"left\", \"right\", \"link_type\", \"value\"]]\n",
    "emb_df.head()"
   ]
  },
  {
   "cell_type": "code",
   "execution_count": 40,
   "metadata": {},
   "outputs": [],
   "source": [
    "emb_df.to_csv(sampled_link_file, sep=\"\\t\", header=False, index=False)"
   ]
  },
  {
   "cell_type": "markdown",
   "metadata": {},
   "source": [
    "#### Label files generation\n",
    "\n",
    "The label.dat file has the following format: node_id, node_name, node_type, node_label.\n",
    "\n",
    "The file label.dat.test has the following format: node_id, node_name, node_type, node_label"
   ]
  },
  {
   "cell_type": "code",
   "execution_count": 43,
   "metadata": {},
   "outputs": [],
   "source": [
    "entity_file = data_folder + \"entity_dca.csv\""
   ]
  },
  {
   "cell_type": "code",
   "execution_count": 44,
   "metadata": {},
   "outputs": [],
   "source": [
    "entity_df = pd.read_csv(entity_file)"
   ]
  },
  {
   "cell_type": "code",
   "execution_count": 45,
   "metadata": {},
   "outputs": [
    {
     "data": {
      "text/html": [
       "<div>\n",
       "<style scoped>\n",
       "    .dataframe tbody tr th:only-of-type {\n",
       "        vertical-align: middle;\n",
       "    }\n",
       "\n",
       "    .dataframe tbody tr th {\n",
       "        vertical-align: top;\n",
       "    }\n",
       "\n",
       "    .dataframe thead th {\n",
       "        text-align: right;\n",
       "    }\n",
       "</style>\n",
       "<table border=\"1\" class=\"dataframe\">\n",
       "  <thead>\n",
       "    <tr style=\"text-align: right;\">\n",
       "      <th></th>\n",
       "      <th>Unnamed: 0</th>\n",
       "      <th>entity_name</th>\n",
       "    </tr>\n",
       "  </thead>\n",
       "  <tbody>\n",
       "    <tr>\n",
       "      <th>0</th>\n",
       "      <td>0</td>\n",
       "      <td>clobetasol</td>\n",
       "    </tr>\n",
       "    <tr>\n",
       "      <th>1</th>\n",
       "      <td>1</td>\n",
       "      <td>ibandronate</td>\n",
       "    </tr>\n",
       "    <tr>\n",
       "      <th>2</th>\n",
       "      <td>2</td>\n",
       "      <td>minoxidil</td>\n",
       "    </tr>\n",
       "    <tr>\n",
       "      <th>3</th>\n",
       "      <td>3</td>\n",
       "      <td>cefuroxime</td>\n",
       "    </tr>\n",
       "    <tr>\n",
       "      <th>4</th>\n",
       "      <td>4</td>\n",
       "      <td>chloramphenicol</td>\n",
       "    </tr>\n",
       "  </tbody>\n",
       "</table>\n",
       "</div>"
      ],
      "text/plain": [
       "   Unnamed: 0      entity_name\n",
       "0           0       clobetasol\n",
       "1           1      ibandronate\n",
       "2           2        minoxidil\n",
       "3           3       cefuroxime\n",
       "4           4  chloramphenicol"
      ]
     },
     "execution_count": 45,
     "metadata": {},
     "output_type": "execute_result"
    }
   ],
   "source": [
    "entity_df.head()"
   ]
  },
  {
   "cell_type": "code",
   "execution_count": 46,
   "metadata": {},
   "outputs": [
    {
     "data": {
      "text/plain": [
       "(24252, 2)"
      ]
     },
     "execution_count": 46,
     "metadata": {},
     "output_type": "execute_result"
    }
   ],
   "source": [
    "entity_df.shape"
   ]
  },
  {
   "cell_type": "code",
   "execution_count": 47,
   "metadata": {},
   "outputs": [
    {
     "data": {
      "text/plain": [
       "['E0', 'E1', 'E2']"
      ]
     },
     "execution_count": 47,
     "metadata": {},
     "output_type": "execute_result"
    }
   ],
   "source": [
    "matrices_seen # this is the list of entities in the dataset"
   ]
  },
  {
   "cell_type": "code",
   "execution_count": 48,
   "metadata": {},
   "outputs": [
    {
     "name": "stdout",
     "output_type": "stream",
     "text": [
      "Node labels are the same as node types\n"
     ]
    }
   ],
   "source": [
    "if \"Entity labels\" in entity_df.columns:\n",
    "    isNodeLabelSeparate = True\n",
    "    print(\"Node labels are different from node types\")\n",
    "else:\n",
    "    isNodeLabelSeparate = False\n",
    "    print(\"Node labels are the same as node types\")\n",
    "    "
   ]
  },
  {
   "cell_type": "code",
   "execution_count": 49,
   "metadata": {},
   "outputs": [
    {
     "name": "stdout",
     "output_type": "stream",
     "text": [
      "Entity E0\n",
      "Entity E1\n",
      "Entity E2\n"
     ]
    }
   ],
   "source": [
    "count = 0\n",
    "node_type = []\n",
    "node_label = []\n",
    "for entity in matrices_seen:\n",
    "    print(f\"Entity {entity}\")\n",
    "    entity_size = eval(f\"{entity}_size\")\n",
    "    node_type_val = int(entity[1:])\n",
    "    node_type.extend([node_type_val] * entity_size)\n",
    "    if not isNodeLabelSeparate:\n",
    "        node_label.extend([node_type_val] * entity_size)\n",
    "    count += entity_size\n",
    "    \n",
    "entity_df[\"Node label\"] = node_label if not isNodeLabelSeparate else list(entity_df[\"Entity Labels\"])\n",
    "entity_df[\"Node type\"] = node_type"
   ]
  },
  {
   "cell_type": "code",
   "execution_count": 50,
   "metadata": {},
   "outputs": [
    {
     "data": {
      "text/html": [
       "<div>\n",
       "<style scoped>\n",
       "    .dataframe tbody tr th:only-of-type {\n",
       "        vertical-align: middle;\n",
       "    }\n",
       "\n",
       "    .dataframe tbody tr th {\n",
       "        vertical-align: top;\n",
       "    }\n",
       "\n",
       "    .dataframe thead th {\n",
       "        text-align: right;\n",
       "    }\n",
       "</style>\n",
       "<table border=\"1\" class=\"dataframe\">\n",
       "  <thead>\n",
       "    <tr style=\"text-align: right;\">\n",
       "      <th></th>\n",
       "      <th>Unnamed: 0</th>\n",
       "      <th>entity_name</th>\n",
       "      <th>Node label</th>\n",
       "      <th>Node type</th>\n",
       "    </tr>\n",
       "  </thead>\n",
       "  <tbody>\n",
       "    <tr>\n",
       "      <th>0</th>\n",
       "      <td>0</td>\n",
       "      <td>clobetasol</td>\n",
       "      <td>0</td>\n",
       "      <td>0</td>\n",
       "    </tr>\n",
       "    <tr>\n",
       "      <th>1</th>\n",
       "      <td>1</td>\n",
       "      <td>ibandronate</td>\n",
       "      <td>0</td>\n",
       "      <td>0</td>\n",
       "    </tr>\n",
       "    <tr>\n",
       "      <th>2</th>\n",
       "      <td>2</td>\n",
       "      <td>minoxidil</td>\n",
       "      <td>0</td>\n",
       "      <td>0</td>\n",
       "    </tr>\n",
       "    <tr>\n",
       "      <th>3</th>\n",
       "      <td>3</td>\n",
       "      <td>cefuroxime</td>\n",
       "      <td>0</td>\n",
       "      <td>0</td>\n",
       "    </tr>\n",
       "    <tr>\n",
       "      <th>4</th>\n",
       "      <td>4</td>\n",
       "      <td>chloramphenicol</td>\n",
       "      <td>0</td>\n",
       "      <td>0</td>\n",
       "    </tr>\n",
       "  </tbody>\n",
       "</table>\n",
       "</div>"
      ],
      "text/plain": [
       "   Unnamed: 0      entity_name  Node label  Node type\n",
       "0           0       clobetasol           0          0\n",
       "1           1      ibandronate           0          0\n",
       "2           2        minoxidil           0          0\n",
       "3           3       cefuroxime           0          0\n",
       "4           4  chloramphenicol           0          0"
      ]
     },
     "execution_count": 50,
     "metadata": {},
     "output_type": "execute_result"
    }
   ],
   "source": [
    "entity_df.head()"
   ]
  },
  {
   "cell_type": "code",
   "execution_count": 51,
   "metadata": {},
   "outputs": [
    {
     "data": {
      "text/html": [
       "<div>\n",
       "<style scoped>\n",
       "    .dataframe tbody tr th:only-of-type {\n",
       "        vertical-align: middle;\n",
       "    }\n",
       "\n",
       "    .dataframe tbody tr th {\n",
       "        vertical-align: top;\n",
       "    }\n",
       "\n",
       "    .dataframe thead th {\n",
       "        text-align: right;\n",
       "    }\n",
       "</style>\n",
       "<table border=\"1\" class=\"dataframe\">\n",
       "  <thead>\n",
       "    <tr style=\"text-align: right;\">\n",
       "      <th></th>\n",
       "      <th>Unnamed: 0</th>\n",
       "      <th>entity_name</th>\n",
       "      <th>Node label</th>\n",
       "      <th>Node type</th>\n",
       "    </tr>\n",
       "  </thead>\n",
       "  <tbody>\n",
       "    <tr>\n",
       "      <th>24247</th>\n",
       "      <td>24247</td>\n",
       "      <td>729438</td>\n",
       "      <td>2</td>\n",
       "      <td>2</td>\n",
       "    </tr>\n",
       "    <tr>\n",
       "      <th>24248</th>\n",
       "      <td>24248</td>\n",
       "      <td>26046</td>\n",
       "      <td>2</td>\n",
       "      <td>2</td>\n",
       "    </tr>\n",
       "    <tr>\n",
       "      <th>24249</th>\n",
       "      <td>24249</td>\n",
       "      <td>3417</td>\n",
       "      <td>2</td>\n",
       "      <td>2</td>\n",
       "    </tr>\n",
       "    <tr>\n",
       "      <th>24250</th>\n",
       "      <td>24250</td>\n",
       "      <td>26049</td>\n",
       "      <td>2</td>\n",
       "      <td>2</td>\n",
       "    </tr>\n",
       "    <tr>\n",
       "      <th>24251</th>\n",
       "      <td>24251</td>\n",
       "      <td>26050</td>\n",
       "      <td>2</td>\n",
       "      <td>2</td>\n",
       "    </tr>\n",
       "  </tbody>\n",
       "</table>\n",
       "</div>"
      ],
      "text/plain": [
       "       Unnamed: 0 entity_name  Node label  Node type\n",
       "24247       24247      729438           2          2\n",
       "24248       24248       26046           2          2\n",
       "24249       24249        3417           2          2\n",
       "24250       24250       26049           2          2\n",
       "24251       24251       26050           2          2"
      ]
     },
     "execution_count": 51,
     "metadata": {},
     "output_type": "execute_result"
    }
   ],
   "source": [
    "entity_df.tail()"
   ]
  },
  {
   "cell_type": "code",
   "execution_count": 52,
   "metadata": {},
   "outputs": [],
   "source": [
    "test_labels_df = None\n",
    "if target_matrix_index >= 0:\n",
    "    test_labels_df = entity_df.sample(frac = 0.2, replace = False, random_state = rng)\n",
    "    test_labels_df = test_labels_df[[\"entity_name\", \"Node type\", \"Node label\"]]\n",
    "    test_labels_df.head()"
   ]
  },
  {
   "cell_type": "code",
   "execution_count": 53,
   "metadata": {},
   "outputs": [
    {
     "name": "stdout",
     "output_type": "stream",
     "text": [
      "No test labels\n"
     ]
    }
   ],
   "source": [
    "if target_matrix_index >= 0:\n",
    "    print(test_labels_df.shape)\n",
    "else:\n",
    "    print(\"No test labels\")"
   ]
  },
  {
   "cell_type": "code",
   "execution_count": 54,
   "metadata": {},
   "outputs": [],
   "source": [
    "if target_matrix_index >= 0:\n",
    "    remaining_labels_df = entity_df.drop(test_labels_df.index)\n",
    "    remaining_labels_df = remaining_labels_df[[\"entity_name\", \"Node type\", \"Node label\"]]\n",
    "    remaining_labels_df.head()\n",
    "else:\n",
    "    remaining_labels_df = entity_df"
   ]
  },
  {
   "cell_type": "code",
   "execution_count": 55,
   "metadata": {},
   "outputs": [
    {
     "data": {
      "text/plain": [
       "(24252, 4)"
      ]
     },
     "execution_count": 55,
     "metadata": {},
     "output_type": "execute_result"
    }
   ],
   "source": [
    "remaining_labels_df.shape"
   ]
  },
  {
   "cell_type": "code",
   "execution_count": 56,
   "metadata": {},
   "outputs": [],
   "source": [
    "if target_matrix_index >= 0:\n",
    "    test_labels_df.to_csv(sampled_label_test_file, sep = \"\\t\", header = False)\n",
    "else:\n",
    "    !> {sampled_label_test_file}"
   ]
  },
  {
   "cell_type": "code",
   "execution_count": 57,
   "metadata": {},
   "outputs": [],
   "source": [
    "remaining_labels_df.to_csv(sampled_label_file, sep = \"\\t\", header = False)"
   ]
  },
  {
   "cell_type": "markdown",
   "metadata": {},
   "source": [
    "#### Node file generation\n",
    "\n",
    "Node file node.dat is of the format node id, node_name, node_type."
   ]
  },
  {
   "cell_type": "code",
   "execution_count": 58,
   "metadata": {},
   "outputs": [],
   "source": [
    "entity_df[[\"entity_name\", \"Node type\"]].to_csv(sampled_node_file, sep = \"\\t\", header = False)"
   ]
  },
  {
   "cell_type": "markdown",
   "metadata": {},
   "source": [
    "#### Meta file generation\n",
    "This file is of the format\n",
    "\n",
    "Node Total: Count <total number of entities>\n",
    "Node Type_0: Count <E0_size>\n",
    "...\n",
    "Edge Total: Count <total number of links>\n",
    "Edge Type_0: Count <number of positive links in E0>\n",
    "...\n",
    "Label Total: Count <total number of node label types>\n",
    "Label Class_0_Total: Count <total number of nodes in E0>\n",
    "Label Class_0_Type_0: Count <total number of nodes in E0 of label 0>\n",
    "..."
   ]
  },
  {
   "cell_type": "code",
   "execution_count": 59,
   "metadata": {},
   "outputs": [
    {
     "name": "stdout",
     "output_type": "stream",
     "text": [
      "[645, 1024, 22583]\n"
     ]
    }
   ],
   "source": [
    "# Getting node counts\n",
    "node_values = list(entity_df.groupby(\"Node type\").count()[\"entity_name\"])\n",
    "print(node_values)"
   ]
  },
  {
   "cell_type": "code",
   "execution_count": 60,
   "metadata": {},
   "outputs": [
    {
     "name": "stdout",
     "output_type": "stream",
     "text": [
      "[660480, 35740, 1296040]\n"
     ]
    }
   ],
   "source": [
    "# Getting link counts\n",
    "emb_count = list(emb_df.groupby(\"link_type\").count()[\"value\"])\n",
    "if target_matrix_index >= 0:\n",
    "    test_count = list(test_data[test_data[\"value\"] != 0].groupby(\"link_type\").count()['value'])[0]\n",
    "    emb_count[target_matrix_index] += test_count\n",
    "print(emb_count)"
   ]
  },
  {
   "cell_type": "code",
   "execution_count": 61,
   "metadata": {},
   "outputs": [
    {
     "data": {
      "text/html": [
       "<div>\n",
       "<style scoped>\n",
       "    .dataframe tbody tr th:only-of-type {\n",
       "        vertical-align: middle;\n",
       "    }\n",
       "\n",
       "    .dataframe tbody tr th {\n",
       "        vertical-align: top;\n",
       "    }\n",
       "\n",
       "    .dataframe thead th {\n",
       "        text-align: right;\n",
       "    }\n",
       "</style>\n",
       "<table border=\"1\" class=\"dataframe\">\n",
       "  <thead>\n",
       "    <tr style=\"text-align: right;\">\n",
       "      <th></th>\n",
       "      <th></th>\n",
       "      <th>Unnamed: 0</th>\n",
       "      <th>entity_name</th>\n",
       "    </tr>\n",
       "    <tr>\n",
       "      <th>Node type</th>\n",
       "      <th>Node label</th>\n",
       "      <th></th>\n",
       "      <th></th>\n",
       "    </tr>\n",
       "  </thead>\n",
       "  <tbody>\n",
       "    <tr>\n",
       "      <th>0</th>\n",
       "      <th>0</th>\n",
       "      <td>645</td>\n",
       "      <td>645</td>\n",
       "    </tr>\n",
       "    <tr>\n",
       "      <th>1</th>\n",
       "      <th>1</th>\n",
       "      <td>1024</td>\n",
       "      <td>1024</td>\n",
       "    </tr>\n",
       "    <tr>\n",
       "      <th>2</th>\n",
       "      <th>2</th>\n",
       "      <td>22583</td>\n",
       "      <td>22583</td>\n",
       "    </tr>\n",
       "  </tbody>\n",
       "</table>\n",
       "</div>"
      ],
      "text/plain": [
       "                      Unnamed: 0  entity_name\n",
       "Node type Node label                         \n",
       "0         0                  645          645\n",
       "1         1                 1024         1024\n",
       "2         2                22583        22583"
      ]
     },
     "execution_count": 61,
     "metadata": {},
     "output_type": "execute_result"
    }
   ],
   "source": [
    "# Getting label counts\n",
    "entity_df.groupby([\"Node type\", \"Node label\"]).count()"
   ]
  },
  {
   "cell_type": "code",
   "execution_count": 62,
   "metadata": {},
   "outputs": [
    {
     "name": "stdout",
     "output_type": "stream",
     "text": [
      "{'Unnamed: 0': {(0, 0): 645, (1, 1): 1024, (2, 2): 22583}, 'entity_name': {(0, 0): 645, (1, 1): 1024, (2, 2): 22583}}\n"
     ]
    }
   ],
   "source": [
    "label_counts = entity_df.groupby(['Node type','Node label']).count().apply(list).to_dict()\n",
    "print(label_counts)"
   ]
  },
  {
   "cell_type": "code",
   "execution_count": 63,
   "metadata": {},
   "outputs": [],
   "source": [
    "meta_file_writer = open(sampled_meta_file, \"w+\")\n",
    "\n",
    "meta_file_writer.write(f\"Node Total: Count {sum(node_values)}\" + \"\\n\")\n",
    "for i in range(len(node_values)):\n",
    "    meta_file_writer.write(f\"Node Type_{i}: Count {node_values[i]}\" + \"\\n\")\n",
    "meta_file_writer.write(f\"Edge Total: Count {sum(emb_count)}\" + \"\\n\")\n",
    "for i in range(len(emb_count)):\n",
    "    meta_file_writer.write(f\"Edge Type_{i}: Count {emb_count[i]}\" + \"\\n\")\n",
    "meta_file_writer.write(f\"Label Total: Count {sum(label_counts['entity_name'].values())}\" + \"\\n\")\n",
    "\n",
    "for i in range(len(node_values)):\n",
    "    meta_file_writer.write(f\"Label Class_{i}_Total: Count {node_values[i]}\" + \"\\n\")\n",
    "    for k in sorted(label_counts[\"entity_name\"]):\n",
    "        if k[0] == i:\n",
    "            meta_file_writer.write(f\"Label Class_{k[0]}_Type_{k[1]}: Count {label_counts['entity_name'][k]}\" + \"\\n\")\n",
    "        \n",
    "meta_file_writer.close()"
   ]
  },
  {
   "cell_type": "markdown",
   "metadata": {},
   "source": [
    "#### Info file generation\n",
    "\n",
    "Info file is of the format\n",
    "\n",
    "node.dat\n",
    "\n",
    "TYPE    MEANING\n",
    "\n",
    "0       DRUG\n",
    "\n",
    "1       PROTEIN\n",
    "\n",
    "-----------------------------------------------\n",
    "\n",
    "link.dat\n",
    "\n",
    "LINK    START   END     MEANING\n",
    "\n",
    "0       0       0       DRUG-and-DRUG\n",
    "\n",
    "1       0       1       DRUG-and-PROTEIN\n",
    "\n",
    "2       1       1       PROTEIN-and-PROTEIN\n",
    "\n",
    "-----------------------------------------------\n",
    "\n",
    "label.dat\n",
    "\n",
    "TYPE    CLASS   MEANING\n",
    "\n",
    "0       0       DRUG\n",
    "\n",
    "1       1       PROTEIN\n"
   ]
  },
  {
   "cell_type": "code",
   "execution_count": 64,
   "metadata": {},
   "outputs": [],
   "source": [
    "info_file_writer = open(sampled_info_file, \"w+\")\n",
    "\n",
    "info_file_writer.write(\"node.dat\\n\")\n",
    "info_file_writer.write(\"TYPE\\tMEANING\\n\")\n",
    "for k, v in entity_name_mapping.items():\n",
    "    info_file_writer.write(f\"{k[1:]}\"+\"\\t\"+f\"{v}\"+\"\\n\")\n",
    "\n",
    "info_file_writer.write(\"\\n-----------------------------------------------\\n\")\n",
    "\n",
    "info_file_writer.write(\"link.dat\\n\")\n",
    "info_file_writer.write(\"LINK\\tSTART\\tEND\\tMEANING\\n\")\n",
    "for k,v in entity_mapping.items():\n",
    "    info_file_writer.write(f\"{k[1:]}\" + \"\\t\" + f\"{v[0][1:]}\" + \"\\t\" + f\"{v[1][1:]}\" + \"\\t\" + f\"{entity_name_mapping[f'E{int(v[0][1:])}']}\" + \"-and-\" + f\"{entity_name_mapping[f'E{int(v[1][1:])}']}\" + \"\\n\")\n",
    "\n",
    "info_file_writer.write(\"\\n-----------------------------------------------\\n\")\n",
    "info_file_writer.write(\"label.dat\\n\")\n",
    "info_file_writer.write(\"TYPE\\tCLASS\\tMEANING\\n\")\n",
    "for i in range(len(node_values)):\n",
    "    for k in sorted(label_counts[\"entity_name\"]):\n",
    "        if k[0] == i:\n",
    "            info_file_writer.write(f\"{i}\" + \"\\t\" + f\"{k[1]}\" + \"\\t\" + f\"{entity_name_mapping[f'E{int(k[1])}']}\" + \"\\n\")\n",
    "\n",
    "info_file_writer.close()"
   ]
  },
  {
   "cell_type": "code",
   "execution_count": null,
   "metadata": {},
   "outputs": [],
   "source": []
  }
 ],
 "metadata": {
  "kernelspec": {
   "display_name": "Python 3",
   "language": "python",
   "name": "python3"
  },
  "language_info": {
   "codemirror_mode": {
    "name": "ipython",
    "version": 3
   },
   "file_extension": ".py",
   "mimetype": "text/x-python",
   "name": "python",
   "nbconvert_exporter": "python",
   "pygments_lexer": "ipython3",
   "version": "3.7.7"
  }
 },
 "nbformat": 4,
 "nbformat_minor": 4
}
