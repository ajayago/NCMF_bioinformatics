{
 "cells": [
  {
   "cell_type": "markdown",
   "metadata": {},
   "source": [
    "This notebook generates two arbitrary matrices X0(real-valued) and X1(binary-valued). These are saved in csv files and used in the remaining notebooks."
   ]
  },
  {
   "cell_type": "code",
   "execution_count": 1,
   "metadata": {},
   "outputs": [],
   "source": [
    "import pandas as pd\n",
    "import numpy as np"
   ]
  },
  {
   "cell_type": "code",
   "execution_count": 2,
   "metadata": {},
   "outputs": [],
   "source": [
    "np.random.seed(0)"
   ]
  },
  {
   "cell_type": "code",
   "execution_count": 3,
   "metadata": {},
   "outputs": [],
   "source": [
    "data_folder = 'sample/'"
   ]
  },
  {
   "cell_type": "code",
   "execution_count": 4,
   "metadata": {},
   "outputs": [],
   "source": [
    "# 3 entities E0, E1, E2\n",
    "# matrix X0 - E0 x E1 - real\n",
    "# matrix X1 - E0 x E2 - binary\n",
    "# choosing E0 count as 200, E1 count as 400, E2 as 400 arbitrarily"
   ]
  },
  {
   "cell_type": "code",
   "execution_count": 5,
   "metadata": {},
   "outputs": [
    {
     "data": {
      "text/plain": [
       "(200, 400)"
      ]
     },
     "execution_count": 5,
     "metadata": {},
     "output_type": "execute_result"
    }
   ],
   "source": [
    "X0 = np.random.normal(size=(200, 400))\n",
    "X0.shape"
   ]
  },
  {
   "cell_type": "code",
   "execution_count": 6,
   "metadata": {},
   "outputs": [
    {
     "data": {
      "text/plain": [
       "array([[ 1.76405235,  0.40015721,  0.97873798, ...,  1.14110187,\n",
       "         1.46657872,  0.85255194],\n",
       "       [-0.59865394, -1.11589699,  0.76666318, ..., -1.07709907,\n",
       "        -0.4246633 , -0.8299646 ],\n",
       "       [ 1.41117206,  0.78580383, -0.05746952, ..., -0.59377745,\n",
       "        -2.01188032,  0.58970361],\n",
       "       ...,\n",
       "       [ 0.24556968, -0.80798499, -0.9959422 , ...,  0.06532704,\n",
       "        -0.55380986, -0.88254487],\n",
       "       [-0.18446167,  0.01261085, -0.56410585, ..., -0.13735252,\n",
       "        -1.53387548,  0.16212366],\n",
       "       [ 0.21179421, -0.93994507,  0.98749485, ..., -1.04873453,\n",
       "         0.37475842, -0.98731143]])"
      ]
     },
     "execution_count": 6,
     "metadata": {},
     "output_type": "execute_result"
    }
   ],
   "source": [
    "X0"
   ]
  },
  {
   "cell_type": "code",
   "execution_count": 7,
   "metadata": {},
   "outputs": [
    {
     "data": {
      "text/plain": [
       "(200, 400)"
      ]
     },
     "execution_count": 7,
     "metadata": {},
     "output_type": "execute_result"
    }
   ],
   "source": [
    "X1 = np.random.choice([0, 1], size = (200, 400), p=[0.9, 0.1])\n",
    "X1.shape"
   ]
  },
  {
   "cell_type": "code",
   "execution_count": 8,
   "metadata": {},
   "outputs": [
    {
     "data": {
      "text/plain": [
       "array([[0, 0, 0, ..., 1, 0, 0],\n",
       "       [0, 0, 0, ..., 0, 0, 0],\n",
       "       [0, 0, 0, ..., 0, 0, 0],\n",
       "       ...,\n",
       "       [0, 0, 0, ..., 0, 0, 0],\n",
       "       [0, 0, 0, ..., 0, 0, 0],\n",
       "       [0, 0, 0, ..., 0, 0, 0]])"
      ]
     },
     "execution_count": 8,
     "metadata": {},
     "output_type": "execute_result"
    }
   ],
   "source": [
    "X1"
   ]
  },
  {
   "cell_type": "code",
   "execution_count": 9,
   "metadata": {},
   "outputs": [],
   "source": [
    "! mkdir -p {data_folder}"
   ]
  },
  {
   "cell_type": "code",
   "execution_count": 10,
   "metadata": {},
   "outputs": [],
   "source": [
    "np.savetxt(data_folder + \"sample_X0.csv\", X0, delimiter=\",\")"
   ]
  },
  {
   "cell_type": "code",
   "execution_count": 11,
   "metadata": {},
   "outputs": [],
   "source": [
    "np.savetxt(data_folder + \"sample_X1.csv\", X1, delimiter=\",\")"
   ]
  },
  {
   "cell_type": "code",
   "execution_count": 12,
   "metadata": {},
   "outputs": [],
   "source": [
    "# generate entity.csv\n",
    "entity_df = pd.DataFrame(columns = [\"entity_name\"])\n",
    "for i in range(X0.shape[0]): # add E0\n",
    "    entity_df = entity_df.append({\"entity_name\": f\"E0_{i}\"}, ignore_index = True)\n",
    "for i in range(X0.shape[1]): # add E1\n",
    "    entity_df = entity_df.append({\"entity_name\": f\"E1_{i}\"}, ignore_index = True)\n",
    "for i in range(X1.shape[1]): # add E2\n",
    "    entity_df = entity_df.append({\"entity_name\": f\"E2_{i}\"}, ignore_index = True)"
   ]
  },
  {
   "cell_type": "code",
   "execution_count": 13,
   "metadata": {},
   "outputs": [],
   "source": [
    "entity_df.to_csv(data_folder + \"entity_df.csv\", index=False)"
   ]
  },
  {
   "cell_type": "code",
   "execution_count": null,
   "metadata": {},
   "outputs": [],
   "source": []
  }
 ],
 "metadata": {
  "kernelspec": {
   "display_name": "Python 3",
   "language": "python",
   "name": "python3"
  },
  "language_info": {
   "codemirror_mode": {
    "name": "ipython",
    "version": 3
   },
   "file_extension": ".py",
   "mimetype": "text/x-python",
   "name": "python",
   "nbconvert_exporter": "python",
   "pygments_lexer": "ipython3",
   "version": "3.7.7"
  }
 },
 "nbformat": 4,
 "nbformat_minor": 4
}
