{
 "cells": [
  {
   "cell_type": "markdown",
   "metadata": {},
   "source": [
    "## NCMF\n",
    "Example of running the \"NCMF\" module"
   ]
  },
  {
   "cell_type": "markdown",
   "metadata": {},
   "source": [
    "#### *User inputs*"
   ]
  },
  {
   "cell_type": "code",
   "execution_count": null,
   "metadata": {},
   "outputs": [],
   "source": [
    "sample_no = 1\n",
    "data_dir = \"../../datasets/NCMF/\"\n",
    "dataset_name = \"PubMed\""
   ]
  },
  {
   "cell_type": "markdown",
   "metadata": {},
   "source": [
    "#### *Loading all necessary modules*"
   ]
  },
  {
   "cell_type": "code",
   "execution_count": null,
   "metadata": {},
   "outputs": [],
   "source": [
    "import sys\n",
    "sys.path.append(\"..\")"
   ]
  },
  {
   "cell_type": "code",
   "execution_count": null,
   "metadata": {},
   "outputs": [],
   "source": [
    "import pprint\n",
    "import numpy as np\n",
    "import pickle as pkl\n",
    "import time\n",
    "import itertools\n",
    "import os\n",
    "import pprint\n",
    "from datetime import datetime"
   ]
  },
  {
   "cell_type": "code",
   "execution_count": null,
   "metadata": {},
   "outputs": [],
   "source": [
    "from src_without_ncf.ncmf import ncmf"
   ]
  },
  {
   "cell_type": "code",
   "execution_count": null,
   "metadata": {},
   "outputs": [],
   "source": [
    "import os\n",
    "os.environ[\"CUDA_VISIBLE_DEVICES\"]=\"1\" "
   ]
  },
  {
   "cell_type": "code",
   "execution_count": null,
   "metadata": {},
   "outputs": [],
   "source": [
    "import torch"
   ]
  },
  {
   "cell_type": "code",
   "execution_count": null,
   "metadata": {},
   "outputs": [],
   "source": [
    "pp = pprint.PrettyPrinter()"
   ]
  },
  {
   "cell_type": "markdown",
   "metadata": {},
   "source": [
    "#### *Instantiating the NCMF model with the specified hyper-parameters*"
   ]
  },
  {
   "cell_type": "code",
   "execution_count": null,
   "metadata": {},
   "outputs": [],
   "source": [
    "# Setting hyperparameters\n",
    "num_epochs = 350\n",
    "batch_size  = 1024\n",
    "weight_decay = 1e-4 # MIMIC 0.5\n",
    "learning_rate = 1e-5 # MIMIC 1e-6\n",
    "convergence_threshold = -1e-3 # MIMIC -1e-3\n",
    "entity_matrices = ['X1', 'X6'] \n",
    "pretrain = False\n",
    "max_norm = 1\n",
    "lamda = 1e-3\n",
    "anneal = 'cosine'\n",
    "num_cycles = 10\n",
    "proportion = 0.8\n",
    "ntrain_neg = 5\n",
    "nvalid_neg = 5\n",
    "autoencoder_k = 100\n",
    "autoencoder_k_factor = 0\n",
    "autoencoder_hidden_dim = 1024\n",
    "autoencoder_act_f = 'tanh'\n",
    "fusion_act_f = 'tanh'\n",
    "reconstructor_act_f = 'tanh'\n",
    "matrix_types = {\n",
    "    \"binary\": [\"X0\", \"X1\", \"X2\", \"X3\", \"X4\", \"X5\", \"X6\", \"X7\", \"X8\", \"X9\"],\n",
    "    \"real\": []\n",
    "}"
   ]
  },
  {
   "cell_type": "code",
   "execution_count": null,
   "metadata": {},
   "outputs": [],
   "source": [
    "ncmf_model = ncmf(sample_no, data_dir, dataset_name, matrix_types, num_epochs = num_epochs, learning_rate = learning_rate,\\\n",
    "                  weight_decay = weight_decay, convergence_threshold = convergence_threshold,\\\n",
    "                  train_batch_size = batch_size, valid_batch_size = batch_size,\\\n",
    "                  entity_matrices = entity_matrices,  pretrain = pretrain, max_norm = max_norm,\\\n",
    "                  lamda = lamda, anneal = anneal, num_cycles = num_cycles,\\\n",
    "                  proportion = proportion, ntrain_neg = ntrain_neg, nvalid_neg = nvalid_neg,\\\n",
    "                  autoencoder_k = autoencoder_k,\\\n",
    "                  autoencoder_k_factor = autoencoder_k_factor,\\\n",
    "                  autoencoder_hidden_dim = autoencoder_hidden_dim,\\\n",
    "                  autoencoder_act_f = autoencoder_act_f, fusion_act_f = fusion_act_f,\\\n",
    "                  reconstructor_act_f = reconstructor_act_f)"
   ]
  },
  {
   "cell_type": "markdown",
   "metadata": {},
   "source": [
    "#### *Fitting... *\n",
    "- Performs the input transformation and network construction\n",
    "- (Pre-trains and) trains the model to obtain the entity representations\n",
    "- Reconstruct the input matrices using the entity representations obtained"
   ]
  },
  {
   "cell_type": "code",
   "execution_count": null,
   "metadata": {},
   "outputs": [],
   "source": [
    "start_time = datetime.now()"
   ]
  },
  {
   "cell_type": "code",
   "execution_count": null,
   "metadata": {
    "scrolled": true
   },
   "outputs": [],
   "source": [
    "ncmf_model.fit()"
   ]
  },
  {
   "cell_type": "code",
   "execution_count": null,
   "metadata": {},
   "outputs": [],
   "source": [
    "end_time = datetime.now()\n",
    "runtime = end_time - start_time\n",
    "runtime_seconds = runtime.total_seconds()\n",
    "print(f\"Total runtime = {runtime_seconds}\")"
   ]
  },
  {
   "cell_type": "code",
   "execution_count": null,
   "metadata": {},
   "outputs": [],
   "source": []
  }
 ],
 "metadata": {
  "kernelspec": {
   "display_name": "Python 3",
   "language": "python",
   "name": "python3"
  },
  "language_info": {
   "codemirror_mode": {
    "name": "ipython",
    "version": 3
   },
   "file_extension": ".py",
   "mimetype": "text/x-python",
   "name": "python",
   "nbconvert_exporter": "python",
   "pygments_lexer": "ipython3",
   "version": "3.7.7"
  }
 },
 "nbformat": 4,
 "nbformat_minor": 2
}
