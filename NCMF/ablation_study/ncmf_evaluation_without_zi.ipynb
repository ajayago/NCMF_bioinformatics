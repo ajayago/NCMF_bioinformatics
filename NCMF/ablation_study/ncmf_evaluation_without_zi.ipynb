{
 "cells": [
  {
   "cell_type": "markdown",
   "metadata": {},
   "source": [
    "## NCMF\n",
    "Example of running the \"NCMF\" module"
   ]
  },
  {
   "cell_type": "markdown",
   "metadata": {},
   "source": [
    "#### *User inputs*"
   ]
  },
  {
   "cell_type": "code",
   "execution_count": 1,
   "metadata": {},
   "outputs": [],
   "source": [
    "sample_no = 3\n",
    "data_dir = f\"../../datasets/NCMF/\"\n",
    "dataset_name = \"PubMed\""
   ]
  },
  {
   "cell_type": "markdown",
   "metadata": {},
   "source": [
    "#### *Loading all necessary modules*"
   ]
  },
  {
   "cell_type": "code",
   "execution_count": 2,
   "metadata": {},
   "outputs": [],
   "source": [
    "import sys\n",
    "sys.path.append(\"..\")"
   ]
  },
  {
   "cell_type": "code",
   "execution_count": 3,
   "metadata": {},
   "outputs": [],
   "source": [
    "import pprint\n",
    "import numpy as np\n",
    "import pickle as pkl\n",
    "import time\n",
    "import itertools\n",
    "import os\n",
    "import pprint"
   ]
  },
  {
   "cell_type": "code",
   "execution_count": 4,
   "metadata": {},
   "outputs": [],
   "source": [
    "from src_without_zi.ncmf import ncmf"
   ]
  },
  {
   "cell_type": "code",
   "execution_count": 5,
   "metadata": {},
   "outputs": [],
   "source": [
    "import os\n",
    "os.environ[\"CUDA_VISIBLE_DEVICES\"]=\"1\" "
   ]
  },
  {
   "cell_type": "code",
   "execution_count": 6,
   "metadata": {},
   "outputs": [],
   "source": [
    "import torch"
   ]
  },
  {
   "cell_type": "code",
   "execution_count": 7,
   "metadata": {},
   "outputs": [],
   "source": [
    "pp = pprint.PrettyPrinter()"
   ]
  },
  {
   "cell_type": "markdown",
   "metadata": {},
   "source": [
    "#### *Instantiating the NCMF model for evaluation*"
   ]
  },
  {
   "cell_type": "code",
   "execution_count": 8,
   "metadata": {},
   "outputs": [],
   "source": [
    "ncmf_model = ncmf(sample_no, data_dir, dataset_name, matrix_types={\"real\": [], \"binary\": []})"
   ]
  },
  {
   "cell_type": "markdown",
   "metadata": {},
   "source": [
    "#### *Link prediction on NCMF embeddings*"
   ]
  },
  {
   "cell_type": "code",
   "execution_count": 9,
   "metadata": {},
   "outputs": [
    {
     "name": "stdout",
     "output_type": "stream",
     "text": [
      "Start eval\n",
      "Starting evaluation func\n",
      "Just before cross val\n",
      "Start Evaluation Fold 0!\n",
      "Start Evaluation Fold 1!\n",
      "Start Evaluation Fold 2!\n",
      "Start Evaluation Fold 3!\n",
      "Start Evaluation Fold 4!\n",
      "Record Results!\n",
      "NCMF eval done\n"
     ]
    }
   ],
   "source": [
    "ncmf_model.evaluate()"
   ]
  },
  {
   "cell_type": "markdown",
   "metadata": {},
   "source": [
    "#### *Result attributes:*\n",
    "- **out_dict_info**: dict, keys are loss/validation performance attributes and values are corresponding results.\n"
   ]
  },
  {
   "cell_type": "code",
   "execution_count": 10,
   "metadata": {},
   "outputs": [
    {
     "name": "stdout",
     "output_type": "stream",
     "text": [
      "AUC = 0.5815151515151514\n",
      "MRR = 0.9244444444444444\n",
      "Recall = 0.16303030303030303\n",
      "Precision = 0.8\n",
      "F1 score = 0.26456876456876455\n"
     ]
    }
   ],
   "source": [
    "print(f\"AUC = {ncmf_model.out_dict_info['auc']}\")\n",
    "print(f\"MRR = {ncmf_model.out_dict_info['mrr']}\")\n",
    "print(f\"Recall = {ncmf_model.out_dict_info['recall']}\")\n",
    "print(f\"Precision = {ncmf_model.out_dict_info['precision']}\")\n",
    "print(f\"F1 score = {ncmf_model.out_dict_info['F1']}\")"
   ]
  },
  {
   "cell_type": "code",
   "execution_count": null,
   "metadata": {},
   "outputs": [],
   "source": []
  }
 ],
 "metadata": {
  "kernelspec": {
   "display_name": "Python 3",
   "language": "python",
   "name": "python3"
  },
  "language_info": {
   "codemirror_mode": {
    "name": "ipython",
    "version": 3
   },
   "file_extension": ".py",
   "mimetype": "text/x-python",
   "name": "python",
   "nbconvert_exporter": "python",
   "pygments_lexer": "ipython3",
   "version": "3.7.7"
  }
 },
 "nbformat": 4,
 "nbformat_minor": 2
}
