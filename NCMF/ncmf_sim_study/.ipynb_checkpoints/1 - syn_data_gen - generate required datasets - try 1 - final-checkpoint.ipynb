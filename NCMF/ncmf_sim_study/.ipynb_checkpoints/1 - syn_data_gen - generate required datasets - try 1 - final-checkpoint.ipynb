{
 "cells": [
  {
   "cell_type": "code",
   "execution_count": 1,
   "metadata": {},
   "outputs": [],
   "source": [
    "# real and binary matrix generation + sparsity + noise\n",
    "# + refactored\n",
    "# + code to generate the needed datasets"
   ]
  },
  {
   "cell_type": "code",
   "execution_count": 2,
   "metadata": {},
   "outputs": [],
   "source": [
    "import numpy as np\n",
    "np.random.seed(0)\n",
    "import pandas as pd\n",
    "import os\n",
    "from datetime import datetime\n",
    "import time\n",
    "from sklearn.preprocessing import MaxAbsScaler, StandardScaler, maxabs_scale\n",
    "from math import pi\n",
    "from numpy import sin, cos, linspace\n",
    "import random\n",
    "import seaborn as sns\n",
    "import pandas as pd\n",
    "import matplotlib.pyplot as plt\n",
    "import pickle as pkl"
   ]
  },
  {
   "cell_type": "code",
   "execution_count": 3,
   "metadata": {},
   "outputs": [],
   "source": [
    "from ncmf_sim_data_generator import SyntheticDataGeneratorBioinf"
   ]
  },
  {
   "cell_type": "code",
   "execution_count": 4,
   "metadata": {},
   "outputs": [],
   "source": [
    "import bz2\n",
    "import _pickle as cPickle"
   ]
  },
  {
   "cell_type": "code",
   "execution_count": 5,
   "metadata": {},
   "outputs": [],
   "source": [
    "#https://betterprogramming.pub/load-fast-load-big-with-compressed-pickles-5f311584507e\n",
    "\n",
    "# Pickle a file and then compress it into a file with extension \n",
    "def compressed_pickle(fname, data):\n",
    "    assert fname.endswith(\"pbz2\")\n",
    "    with bz2.BZ2File(fname, \"w\") as f: \n",
    "        cPickle.dump(data, f)\n",
    "\n",
    " # Load any compressed pickle file\n",
    "def decompress_pickle(file):\n",
    "    data = bz2.BZ2File(file, \"rb\")\n",
    "    data = cPickle.load(data)\n",
    "    return data"
   ]
  },
  {
   "cell_type": "code",
   "execution_count": 6,
   "metadata": {},
   "outputs": [],
   "source": [
    "k = 100\n",
    "G = {\"0\":[\"0\",\"1\"],\"1\":[\"0\",\"2\"],\"2\":[\"0\",\"3\"],\"3\":[\"4\",\"1\"],\"4\":[\"5\",\"2\"]}\n",
    "dict_entity_size = {'0':200, '1':500, '2':300, '3':400, '4':700, '5':600}\n",
    "dict_mat_dtype = {'0':\"real\", '1':\"real\", '2':\"binary\", '3':\"real\", '4':\"binary\"}\n",
    "#key: matrix index, \n",
    "#value: list; where,\n",
    "#list[0] - row entity index, list[1] - col\n",
    "#\n",
    "list_mod_mat_id = [\"0\",\"2\"] # we modify the sparsity and the noise level only to these matrices\n",
    "#sparsity_level = 0\n",
    "# noise_level = 1\n",
    "# 0 - no modification to the sparsity/noise\n",
    "# 1 to 3 - increase in the number => increase in noise/sparsity level i.e. number of zeros"
   ]
  },
  {
   "cell_type": "code",
   "execution_count": 7,
   "metadata": {},
   "outputs": [],
   "source": [
    "#generate datasets by varying sparsity_level and noise_level"
   ]
  },
  {
   "cell_type": "code",
   "execution_count": 8,
   "metadata": {},
   "outputs": [],
   "source": [
    "dict_name_dataset = {}"
   ]
  },
  {
   "cell_type": "code",
   "execution_count": 9,
   "metadata": {},
   "outputs": [],
   "source": [
    "#dataset 1\n",
    "#dt1 - aug multiview dataset with matrices of multiple data types"
   ]
  },
  {
   "cell_type": "code",
   "execution_count": 10,
   "metadata": {},
   "outputs": [],
   "source": [
    "sparsity_level = 0\n",
    "noise_level = 0\n",
    "dname = \"dt1\""
   ]
  },
  {
   "cell_type": "code",
   "execution_count": 11,
   "metadata": {},
   "outputs": [
    {
     "name": "stdout",
     "output_type": "stream",
     "text": [
      "cur_entity:  0 , dict_entity_U[cur_entity].shape:  (200, 100) , min:  -12.2332 , max:  29.0083 , mean:  9.9809 , mu:  10 , sigma:  5\n",
      "cur_entity:  1 , dict_entity_U[cur_entity].shape:  (500, 100) , min:  -40.5465 , max:  50.2682 , mean:  5.9906 , mu:  6 , sigma:  11\n",
      "cur_entity:  2 , dict_entity_U[cur_entity].shape:  (300, 100) , min:  -35.3369 , max:  47.7539 , mean:  7.9774 , mu:  8 , sigma:  10\n",
      "cur_entity:  3 , dict_entity_U[cur_entity].shape:  (400, 100) , min:  -38.3893 , max:  51.624 , mean:  8.9697 , mu:  9 , sigma:  11\n",
      "cur_entity:  4 , dict_entity_U[cur_entity].shape:  (700, 100) , min:  -20.4138 , max:  53.3515 , mean:  12.9875 , mu:  13 , sigma:  8\n",
      "cur_entity:  5 , dict_entity_U[cur_entity].shape:  (600, 100) , min:  -44.5833 , max:  71.1039 , mean:  10.9752 , mu:  11 , sigma:  13\n",
      "cur_mat:  0 , cur_row_entity:  0 , cur_col_entity:  1 , cur_mat_dtype:  real\n",
      "#\n",
      "mat_template.shape:  (200, 500)\n",
      "#\n",
      "sparsity_level:  0 , thres:  -0.6745 , per_zeros_bef:  0.0 , per_zeros_aft:  25.716\n",
      "freal: noise_level:  0 , tot_num_entries:  100000 , num_entries_to_flip:  0\n",
      "cur_mat_id:  0 , shape:  (200, 500) , min:  -0.5879 , max:  0.9995 , mean:  0.1975 , %zeros:  25.7 , noise:  0\n",
      "#\n",
      "cur_mat:  1 , cur_row_entity:  0 , cur_col_entity:  2 , cur_mat_dtype:  real\n",
      "#\n",
      "mat_template.shape:  (200, 300)\n",
      "#\n",
      "sparsity_level:  0 , thres:  -0.6745 , per_zeros_bef:  0.0 , per_zeros_aft:  26.25\n",
      "freal: noise_level:  0 , tot_num_entries:  60000 , num_entries_to_flip:  0\n",
      "cur_mat_id:  1 , shape:  (200, 300) , min:  -0.5879 , max:  0.9992 , mean:  0.1968 , %zeros:  26.2 , noise:  0\n",
      "#\n",
      "cur_mat:  2 , cur_row_entity:  0 , cur_col_entity:  3 , cur_mat_dtype:  binary\n",
      "sparsity_level:  0 , thres:  -0.6745 , per_zeros_bef:  0.0 , per_zeros_aft:  26.56875\n",
      "cur_mat_id:  2 , shape:  (200, 400) , min:  0.0 , max:  1.0 , mean:  0.7343 , %zeros:  26.6 , noise:  0\n",
      "#\n",
      "cur_mat:  3 , cur_row_entity:  4 , cur_col_entity:  1 , cur_mat_dtype:  real\n",
      "#\n",
      "mat_template.shape:  (700, 500)\n",
      "#\n",
      "sparsity_level:  0 , thres:  -0.6745 , per_zeros_bef:  0.0 , per_zeros_aft:  25.14057142857143\n",
      "freal: noise_level:  0 , tot_num_entries:  350000 , num_entries_to_flip:  0\n",
      "cur_mat_id:  3 , shape:  (700, 500) , min:  -0.5879 , max:  0.9999 , mean:  0.1977 , %zeros:  25.1 , noise:  0\n",
      "#\n",
      "cur_mat:  4 , cur_row_entity:  5 , cur_col_entity:  2 , cur_mat_dtype:  binary\n",
      "sparsity_level:  0 , thres:  -0.6745 , per_zeros_bef:  0.0 , per_zeros_aft:  27.636666666666663\n",
      "cur_mat_id:  4 , shape:  (600, 300) , min:  0.0 , max:  1.0 , mean:  0.7236 , %zeros:  27.6 , noise:  0\n",
      "#\n"
     ]
    }
   ],
   "source": [
    "data_genrator = SyntheticDataGeneratorBioinf(k, G, dict_entity_size, dict_mat_dtype,\\\n",
    "                                                list_mod_mat_id, sparsity_level, noise_level)\n",
    "data_dict = data_genrator.get_data_dict()"
   ]
  },
  {
   "cell_type": "code",
   "execution_count": 12,
   "metadata": {},
   "outputs": [],
   "source": [
    "dict_name_dataset[dname] = data_dict"
   ]
  },
  {
   "cell_type": "code",
   "execution_count": 13,
   "metadata": {},
   "outputs": [],
   "source": [
    "#"
   ]
  },
  {
   "cell_type": "code",
   "execution_count": 14,
   "metadata": {
    "scrolled": false
   },
   "outputs": [
    {
     "name": "stdout",
     "output_type": "stream",
     "text": [
      "###\n",
      "dataset:  ds1\n",
      "###\n",
      "cur_entity:  0 , dict_entity_U[cur_entity].shape:  (200, 100) , min:  -19.6355 , max:  42.0036 , mean:  11.0058 , mu:  11 , sigma:  8\n",
      "cur_entity:  1 , dict_entity_U[cur_entity].shape:  (500, 100) , min:  -53.0938 , max:  52.1791 , mean:  6.0362 , mu:  6 , sigma:  12\n",
      "cur_entity:  2 , dict_entity_U[cur_entity].shape:  (300, 100) , min:  -43.6231 , max:  50.4819 , mean:  5.9766 , mu:  6 , sigma:  11\n",
      "cur_entity:  3 , dict_entity_U[cur_entity].shape:  (400, 100) , min:  -17.4679 , max:  39.2835 , mean:  11.0477 , mu:  11 , sigma:  7\n",
      "cur_entity:  4 , dict_entity_U[cur_entity].shape:  (700, 100) , min:  -10.1613 , max:  32.6451 , mean:  10.9864 , mu:  11 , sigma:  5\n",
      "cur_entity:  5 , dict_entity_U[cur_entity].shape:  (600, 100) , min:  -45.023 , max:  48.8417 , mean:  5.0533 , mu:  5 , sigma:  10\n",
      "cur_mat:  0 , cur_row_entity:  0 , cur_col_entity:  1 , cur_mat_dtype:  real\n",
      "#\n",
      "mat_template.shape:  (200, 500)\n",
      "#\n",
      "sparsity_level:  1 , thres:  0 , per_zeros_bef:  0.0 , per_zeros_aft:  50.31\n",
      "freal: noise_level:  0 , tot_num_entries:  100000 , num_entries_to_flip:  0\n",
      "cur_mat_id:  0 , shape:  (200, 500) , min:  0.0 , max:  0.9993 , mean:  0.2749 , %zeros:  50.3 , noise:  0\n",
      "#\n",
      "cur_mat:  1 , cur_row_entity:  0 , cur_col_entity:  2 , cur_mat_dtype:  real\n",
      "#\n",
      "mat_template.shape:  (200, 300)\n",
      "#\n",
      "sparsity_level:  0 , thres:  -0.6745 , per_zeros_bef:  0.0 , per_zeros_aft:  25.525\n",
      "freal: noise_level:  0 , tot_num_entries:  60000 , num_entries_to_flip:  0\n",
      "cur_mat_id:  1 , shape:  (200, 300) , min:  -0.5879 , max:  0.9997 , mean:  0.1968 , %zeros:  25.5 , noise:  0\n",
      "#\n",
      "cur_mat:  2 , cur_row_entity:  0 , cur_col_entity:  3 , cur_mat_dtype:  binary\n",
      "sparsity_level:  1 , thres:  0 , per_zeros_bef:  0.0 , per_zeros_aft:  53.205000000000005\n",
      "cur_mat_id:  2 , shape:  (200, 400) , min:  0.0 , max:  1.0 , mean:  0.468 , %zeros:  53.2 , noise:  0\n",
      "#\n",
      "cur_mat:  3 , cur_row_entity:  4 , cur_col_entity:  1 , cur_mat_dtype:  real\n",
      "#\n",
      "mat_template.shape:  (700, 500)\n",
      "#\n",
      "sparsity_level:  0 , thres:  -0.6745 , per_zeros_bef:  0.0 , per_zeros_aft:  25.075714285714284\n",
      "freal: noise_level:  0 , tot_num_entries:  350000 , num_entries_to_flip:  0\n",
      "cur_mat_id:  3 , shape:  (700, 500) , min:  -0.5879 , max:  0.9997 , mean:  0.1966 , %zeros:  25.1 , noise:  0\n",
      "#\n",
      "cur_mat:  4 , cur_row_entity:  5 , cur_col_entity:  2 , cur_mat_dtype:  binary\n",
      "sparsity_level:  0 , thres:  -0.6745 , per_zeros_bef:  0.0 , per_zeros_aft:  25.601666666666667\n",
      "cur_mat_id:  4 , shape:  (600, 300) , min:  0.0 , max:  1.0 , mean:  0.744 , %zeros:  25.6 , noise:  0\n",
      "#\n",
      "###\n",
      "dataset:  ds2\n",
      "###\n",
      "cur_entity:  0 , dict_entity_U[cur_entity].shape:  (200, 100) , min:  -53.9142 , max:  57.2335 , mean:  4.8996 , mu:  5 , sigma:  13\n",
      "cur_entity:  1 , dict_entity_U[cur_entity].shape:  (500, 100) , min:  -30.6613 , max:  46.2549 , mean:  5.9242 , mu:  6 , sigma:  9\n",
      "cur_entity:  2 , dict_entity_U[cur_entity].shape:  (300, 100) , min:  -9.8247 , max:  32.7252 , mean:  13.9727 , mu:  14 , sigma:  5\n",
      "cur_entity:  3 , dict_entity_U[cur_entity].shape:  (400, 100) , min:  -51.0467 , max:  62.1148 , mean:  4.9129 , mu:  5 , sigma:  14\n",
      "cur_entity:  4 , dict_entity_U[cur_entity].shape:  (700, 100) , min:  -9.1089 , max:  34.126 , mean:  12.0182 , mu:  12 , sigma:  5\n",
      "cur_entity:  5 , dict_entity_U[cur_entity].shape:  (600, 100) , min:  -35.0973 , max:  49.9669 , mean:  8.9378 , mu:  9 , sigma:  10\n",
      "cur_mat:  0 , cur_row_entity:  0 , cur_col_entity:  1 , cur_mat_dtype:  real\n",
      "#\n",
      "mat_template.shape:  (200, 500)\n",
      "#\n",
      "sparsity_level:  2 , thres:  0.5244 , per_zeros_bef:  0.0 , per_zeros_aft:  70.285\n",
      "freal: noise_level:  0 , tot_num_entries:  100000 , num_entries_to_flip:  0\n",
      "cur_mat_id:  0 , shape:  (200, 500) , min:  0.0 , max:  0.9997 , mean:  0.2278 , %zeros:  70.3 , noise:  0\n",
      "#\n",
      "cur_mat:  1 , cur_row_entity:  0 , cur_col_entity:  2 , cur_mat_dtype:  real\n",
      "#\n",
      "mat_template.shape:  (200, 300)\n",
      "#\n",
      "sparsity_level:  0 , thres:  -0.6745 , per_zeros_bef:  0.0 , per_zeros_aft:  29.868333333333336\n",
      "freal: noise_level:  0 , tot_num_entries:  60000 , num_entries_to_flip:  0\n",
      "cur_mat_id:  1 , shape:  (200, 300) , min:  -0.5879 , max:  0.9983 , mean:  0.2121 , %zeros:  29.9 , noise:  0\n",
      "#\n",
      "cur_mat:  2 , cur_row_entity:  0 , cur_col_entity:  3 , cur_mat_dtype:  binary\n",
      "sparsity_level:  2 , thres:  0.5244 , per_zeros_bef:  0.0 , per_zeros_aft:  82.865\n",
      "cur_mat_id:  2 , shape:  (200, 400) , min:  0.0 , max:  1.0 , mean:  0.1714 , %zeros:  82.9 , noise:  0\n",
      "#\n",
      "cur_mat:  3 , cur_row_entity:  4 , cur_col_entity:  1 , cur_mat_dtype:  real\n",
      "#\n",
      "mat_template.shape:  (700, 500)\n",
      "#\n",
      "sparsity_level:  0 , thres:  -0.6745 , per_zeros_bef:  0.0 , per_zeros_aft:  25.12628571428571\n",
      "freal: noise_level:  0 , tot_num_entries:  350000 , num_entries_to_flip:  0\n",
      "cur_mat_id:  3 , shape:  (700, 500) , min:  -0.5879 , max:  0.9997 , mean:  0.1986 , %zeros:  25.1 , noise:  0\n",
      "#\n",
      "cur_mat:  4 , cur_row_entity:  5 , cur_col_entity:  2 , cur_mat_dtype:  binary\n",
      "sparsity_level:  0 , thres:  -0.6745 , per_zeros_bef:  0.0 , per_zeros_aft:  26.744444444444444\n",
      "cur_mat_id:  4 , shape:  (600, 300) , min:  0.0 , max:  1.0 , mean:  0.7326 , %zeros:  26.7 , noise:  0\n",
      "#\n",
      "###\n",
      "dataset:  ds3\n",
      "###\n",
      "cur_entity:  0 , dict_entity_U[cur_entity].shape:  (200, 100) , min:  -39.2638 , max:  52.1973 , mean:  8.1037 , mu:  8 , sigma:  12\n",
      "cur_entity:  1 , dict_entity_U[cur_entity].shape:  (500, 100) , min:  -39.0519 , max:  70.434 , mean:  13.0036 , mu:  13 , sigma:  13\n",
      "cur_entity:  2 , dict_entity_U[cur_entity].shape:  (300, 100) , min:  -26.683 , max:  40.9772 , mean:  6.9874 , mu:  7 , sigma:  9\n",
      "cur_entity:  3 , dict_entity_U[cur_entity].shape:  (400, 100) , min:  -45.3941 , max:  69.628 , mean:  8.1127 , mu:  8 , sigma:  13\n",
      "cur_entity:  4 , dict_entity_U[cur_entity].shape:  (700, 100) , min:  -57.6722 , max:  66.0832 , mean:  4.9896 , mu:  5 , sigma:  13\n",
      "cur_entity:  5 , dict_entity_U[cur_entity].shape:  (600, 100) , min:  -43.3257 , max:  54.8973 , mean:  4.9798 , mu:  5 , sigma:  11\n",
      "cur_mat:  0 , cur_row_entity:  0 , cur_col_entity:  1 , cur_mat_dtype:  real\n",
      "#\n",
      "mat_template.shape:  (200, 500)\n",
      "#\n",
      "sparsity_level:  3 , thres:  0.8416 , per_zeros_bef:  0.0 , per_zeros_aft:  81.145\n",
      "freal: noise_level:  0 , tot_num_entries:  100000 , num_entries_to_flip:  0\n",
      "cur_mat_id:  0 , shape:  (200, 500) , min:  0.0 , max:  0.9998 , mean:  0.1606 , %zeros:  81.1 , noise:  0\n",
      "#\n",
      "cur_mat:  1 , cur_row_entity:  0 , cur_col_entity:  2 , cur_mat_dtype:  real\n",
      "#\n",
      "mat_template.shape:  (200, 300)\n",
      "#\n",
      "sparsity_level:  0 , thres:  -0.6745 , per_zeros_bef:  0.0 , per_zeros_aft:  24.85833333333333\n",
      "freal: noise_level:  0 , tot_num_entries:  60000 , num_entries_to_flip:  0\n",
      "cur_mat_id:  1 , shape:  (200, 300) , min:  -0.5878 , max:  0.9998 , mean:  0.168 , %zeros:  24.9 , noise:  0\n",
      "#\n",
      "cur_mat:  2 , cur_row_entity:  0 , cur_col_entity:  3 , cur_mat_dtype:  binary\n",
      "sparsity_level:  3 , thres:  0.8416 , per_zeros_bef:  0.0 , per_zeros_aft:  83.5175\n",
      "cur_mat_id:  2 , shape:  (200, 400) , min:  0.0 , max:  1.0 , mean:  0.1648 , %zeros:  83.5 , noise:  0\n",
      "#\n",
      "cur_mat:  3 , cur_row_entity:  4 , cur_col_entity:  1 , cur_mat_dtype:  real\n",
      "#\n",
      "mat_template.shape:  (700, 500)\n",
      "#\n",
      "sparsity_level:  0 , thres:  -0.6745 , per_zeros_bef:  0.0 , per_zeros_aft:  25.374000000000002\n",
      "freal: noise_level:  0 , tot_num_entries:  350000 , num_entries_to_flip:  0\n",
      "cur_mat_id:  3 , shape:  (700, 500) , min:  -0.5879 , max:  1.0 , mean:  0.1815 , %zeros:  25.4 , noise:  0\n",
      "#\n",
      "cur_mat:  4 , cur_row_entity:  5 , cur_col_entity:  2 , cur_mat_dtype:  binary\n",
      "sparsity_level:  0 , thres:  -0.6745 , per_zeros_bef:  0.0 , per_zeros_aft:  27.544999999999998\n",
      "cur_mat_id:  4 , shape:  (600, 300) , min:  0.0 , max:  1.0 , mean:  0.7246 , %zeros:  27.5 , noise:  0\n",
      "#\n"
     ]
    }
   ],
   "source": [
    "#dataset 2\n",
    "#ds1, ds2, ds3 - aug multiview dataset with matrices of multiple data types + varying sparsity\n",
    "#sparsity(ds1) < sparsity(ds2) , sparsity(ds3)\n",
    "sparsity_level_list = [1,2,3]\n",
    "for sparsity_level in sparsity_level_list:\n",
    "    noise_level = 0\n",
    "    dname = \"ds\"+str(sparsity_level)\n",
    "    #\n",
    "    print(\"###\")\n",
    "    print(\"dataset: \",dname)\n",
    "    print(\"###\")\n",
    "    #\n",
    "    data_genrator = SyntheticDataGeneratorBioinf(k, G, dict_entity_size, dict_mat_dtype,\\\n",
    "                                                list_mod_mat_id, sparsity_level, noise_level)\n",
    "    data_dict = data_genrator.get_data_dict()\n",
    "    #\n",
    "    dict_name_dataset[dname] = data_dict"
   ]
  },
  {
   "cell_type": "code",
   "execution_count": 15,
   "metadata": {
    "scrolled": false
   },
   "outputs": [
    {
     "name": "stdout",
     "output_type": "stream",
     "text": [
      "###\n",
      "dataset:  dn1\n",
      "###\n",
      "cur_entity:  0 , dict_entity_U[cur_entity].shape:  (200, 100) , min:  -36.1887 , max:  54.6381 , mean:  5.9839 , mu:  6 , sigma:  11\n",
      "cur_entity:  1 , dict_entity_U[cur_entity].shape:  (500, 100) , min:  -57.8901 , max:  69.9246 , mean:  13.0736 , mu:  13 , sigma:  14\n",
      "cur_entity:  2 , dict_entity_U[cur_entity].shape:  (300, 100) , min:  -35.4472 , max:  58.6937 , mean:  11.0029 , mu:  11 , sigma:  12\n",
      "cur_entity:  3 , dict_entity_U[cur_entity].shape:  (400, 100) , min:  -43.0685 , max:  50.7449 , mean:  7.9924 , mu:  8 , sigma:  11\n",
      "cur_entity:  4 , dict_entity_U[cur_entity].shape:  (700, 100) , min:  -29.0554 , max:  47.7737 , mean:  8.9925 , mu:  9 , sigma:  9\n",
      "cur_entity:  5 , dict_entity_U[cur_entity].shape:  (600, 100) , min:  -27.5988 , max:  50.9708 , mean:  13.986 , mu:  14 , sigma:  9\n",
      "cur_mat:  0 , cur_row_entity:  0 , cur_col_entity:  1 , cur_mat_dtype:  real\n",
      "#\n",
      "mat_template.shape:  (200, 500)\n",
      "#\n",
      "sparsity_level:  0 , thres:  -0.6745 , per_zeros_bef:  0.0 , per_zeros_aft:  25.39\n",
      "freal: noise_level:  1 , tot_num_entries:  100000 , num_entries_to_flip:  2500\n",
      "cur_mat_id:  0 , shape:  (200, 500) , min:  -1.0 , max:  1.0 , mean:  0.1999 , %zeros:  24.8 , noise:  1\n",
      "#\n",
      "cur_mat:  1 , cur_row_entity:  0 , cur_col_entity:  2 , cur_mat_dtype:  real\n",
      "#\n",
      "mat_template.shape:  (200, 300)\n",
      "#\n",
      "sparsity_level:  0 , thres:  -0.6745 , per_zeros_bef:  0.0 , per_zeros_aft:  25.606666666666666\n",
      "freal: noise_level:  0 , tot_num_entries:  60000 , num_entries_to_flip:  0\n",
      "cur_mat_id:  1 , shape:  (200, 300) , min:  -0.5878 , max:  0.9988 , mean:  0.1856 , %zeros:  25.6 , noise:  0\n",
      "#\n",
      "cur_mat:  2 , cur_row_entity:  0 , cur_col_entity:  3 , cur_mat_dtype:  binary\n",
      "sparsity_level:  0 , thres:  -0.6745 , per_zeros_bef:  0.0 , per_zeros_aft:  27.976250000000004\n",
      "fbin: noise_level:  1 , tot_num_entries:  57619 , num_entries_to_flip:  1440\n",
      "cur_mat_id:  2 , shape:  (200, 400) , min:  0.0 , max:  1.0 , mean:  0.7202 , %zeros:  28.0 , noise:  1\n",
      "#\n",
      "cur_mat:  3 , cur_row_entity:  4 , cur_col_entity:  1 , cur_mat_dtype:  real\n",
      "#\n",
      "mat_template.shape:  (700, 500)\n",
      "#\n",
      "sparsity_level:  0 , thres:  -0.6745 , per_zeros_bef:  0.0 , per_zeros_aft:  25.08142857142857\n",
      "freal: noise_level:  0 , tot_num_entries:  350000 , num_entries_to_flip:  0\n",
      "cur_mat_id:  3 , shape:  (700, 500) , min:  -0.5879 , max:  0.9998 , mean:  0.1931 , %zeros:  25.1 , noise:  0\n",
      "#\n",
      "cur_mat:  4 , cur_row_entity:  5 , cur_col_entity:  2 , cur_mat_dtype:  binary\n",
      "sparsity_level:  0 , thres:  -0.6745 , per_zeros_bef:  0.0 , per_zeros_aft:  26.545\n",
      "cur_mat_id:  4 , shape:  (600, 300) , min:  0.0 , max:  1.0 , mean:  0.7346 , %zeros:  26.5 , noise:  0\n",
      "#\n",
      "###\n",
      "dataset:  dn2\n",
      "###\n",
      "cur_entity:  0 , dict_entity_U[cur_entity].shape:  (200, 100) , min:  -47.5564 , max:  65.2817 , mean:  11.1788 , mu:  11 , sigma:  14\n",
      "cur_entity:  1 , dict_entity_U[cur_entity].shape:  (500, 100) , min:  -25.8395 , max:  39.4722 , mean:  5.0326 , mu:  5 , sigma:  8\n",
      "cur_entity:  2 , dict_entity_U[cur_entity].shape:  (300, 100) , min:  -40.2713 , max:  56.2546 , mean:  7.0832 , mu:  7 , sigma:  12\n",
      "cur_entity:  3 , dict_entity_U[cur_entity].shape:  (400, 100) , min:  -50.3936 , max:  63.2905 , mean:  6.0821 , mu:  6 , sigma:  14\n",
      "cur_entity:  4 , dict_entity_U[cur_entity].shape:  (700, 100) , min:  -22.7659 , max:  49.3904 , mean:  13.9855 , mu:  14 , sigma:  9\n",
      "cur_entity:  5 , dict_entity_U[cur_entity].shape:  (600, 100) , min:  -26.1853 , max:  35.2079 , mean:  6.9826 , mu:  7 , sigma:  7\n",
      "cur_mat:  0 , cur_row_entity:  0 , cur_col_entity:  1 , cur_mat_dtype:  real\n",
      "#\n",
      "mat_template.shape:  (200, 500)\n",
      "#\n",
      "sparsity_level:  0 , thres:  -0.6745 , per_zeros_bef:  0.0 , per_zeros_aft:  25.264999999999997\n",
      "freal: noise_level:  2 , tot_num_entries:  100000 , num_entries_to_flip:  5000\n",
      "cur_mat_id:  0 , shape:  (200, 500) , min:  -1.0 , max:  1.0 , mean:  0.2204 , %zeros:  24.0 , noise:  2\n",
      "#\n",
      "cur_mat:  1 , cur_row_entity:  0 , cur_col_entity:  2 , cur_mat_dtype:  real\n",
      "#\n",
      "mat_template.shape:  (200, 300)\n",
      "#\n",
      "sparsity_level:  0 , thres:  -0.6745 , per_zeros_bef:  0.0 , per_zeros_aft:  25.285000000000004\n",
      "freal: noise_level:  0 , tot_num_entries:  60000 , num_entries_to_flip:  0\n",
      "cur_mat_id:  1 , shape:  (200, 300) , min:  -0.5879 , max:  0.9999 , mean:  0.1929 , %zeros:  25.3 , noise:  0\n",
      "#\n",
      "cur_mat:  2 , cur_row_entity:  0 , cur_col_entity:  3 , cur_mat_dtype:  binary\n",
      "sparsity_level:  0 , thres:  -0.6745 , per_zeros_bef:  0.0 , per_zeros_aft:  27.755000000000003\n",
      "fbin: noise_level:  2 , tot_num_entries:  57796 , num_entries_to_flip:  2889\n",
      "cur_mat_id:  2 , shape:  (200, 400) , min:  0.0 , max:  1.0 , mean:  0.7224 , %zeros:  27.8 , noise:  2\n",
      "#\n",
      "cur_mat:  3 , cur_row_entity:  4 , cur_col_entity:  1 , cur_mat_dtype:  real\n",
      "#\n",
      "mat_template.shape:  (700, 500)\n",
      "#\n",
      "sparsity_level:  0 , thres:  -0.6745 , per_zeros_bef:  0.0 , per_zeros_aft:  25.68542857142857\n",
      "freal: noise_level:  0 , tot_num_entries:  350000 , num_entries_to_flip:  0\n",
      "cur_mat_id:  3 , shape:  (700, 500) , min:  -0.5879 , max:  0.9997 , mean:  0.1999 , %zeros:  25.7 , noise:  0\n",
      "#\n",
      "cur_mat:  4 , cur_row_entity:  5 , cur_col_entity:  2 , cur_mat_dtype:  binary\n",
      "sparsity_level:  0 , thres:  -0.6745 , per_zeros_bef:  0.0 , per_zeros_aft:  27.49277777777778\n",
      "cur_mat_id:  4 , shape:  (600, 300) , min:  0.0 , max:  1.0 , mean:  0.7251 , %zeros:  27.5 , noise:  0\n",
      "#\n",
      "###\n",
      "dataset:  dn3\n",
      "###\n",
      "cur_entity:  0 , dict_entity_U[cur_entity].shape:  (200, 100) , min:  -38.049 , max:  52.7854 , mean:  5.0934 , mu:  5 , sigma:  12\n",
      "cur_entity:  1 , dict_entity_U[cur_entity].shape:  (500, 100) , min:  -14.4004 , max:  39.1055 , mean:  12.0506 , mu:  12 , sigma:  6\n",
      "cur_entity:  2 , dict_entity_U[cur_entity].shape:  (300, 100) , min:  -45.738 , max:  68.6065 , mean:  11.9573 , mu:  12 , sigma:  14\n",
      "cur_entity:  3 , dict_entity_U[cur_entity].shape:  (400, 100) , min:  -39.4829 , max:  65.1618 , mean:  10.8723 , mu:  11 , sigma:  13\n",
      "cur_entity:  4 , dict_entity_U[cur_entity].shape:  (700, 100) , min:  -44.1675 , max:  58.4844 , mean:  5.0546 , mu:  5 , sigma:  12\n",
      "cur_entity:  5 , dict_entity_U[cur_entity].shape:  (600, 100) , min:  -60.105 , max:  75.5127 , mean:  7.0798 , mu:  7 , sigma:  14\n",
      "cur_mat:  0 , cur_row_entity:  0 , cur_col_entity:  1 , cur_mat_dtype:  real\n",
      "#\n",
      "mat_template.shape:  (200, 500)\n",
      "#\n",
      "sparsity_level:  0 , thres:  -0.6745 , per_zeros_bef:  0.0 , per_zeros_aft:  25.607000000000003\n",
      "freal: noise_level:  3 , tot_num_entries:  100000 , num_entries_to_flip:  10000\n",
      "cur_mat_id:  0 , shape:  (200, 500) , min:  -1.0 , max:  1.0 , mean:  0.2175 , %zeros:  23.0 , noise:  3\n",
      "#\n",
      "cur_mat:  1 , cur_row_entity:  0 , cur_col_entity:  2 , cur_mat_dtype:  real\n",
      "#\n",
      "mat_template.shape:  (200, 300)\n",
      "#\n",
      "sparsity_level:  0 , thres:  -0.6745 , per_zeros_bef:  0.0 , per_zeros_aft:  26.115\n",
      "freal: noise_level:  0 , tot_num_entries:  60000 , num_entries_to_flip:  0\n",
      "cur_mat_id:  1 , shape:  (200, 300) , min:  -0.5879 , max:  0.9992 , mean:  0.1836 , %zeros:  26.1 , noise:  0\n",
      "#\n",
      "cur_mat:  2 , cur_row_entity:  0 , cur_col_entity:  3 , cur_mat_dtype:  binary\n",
      "sparsity_level:  0 , thres:  -0.6745 , per_zeros_bef:  0.0 , per_zeros_aft:  27.8825\n",
      "fbin: noise_level:  3 , tot_num_entries:  57694 , num_entries_to_flip:  5769\n",
      "cur_mat_id:  2 , shape:  (200, 400) , min:  0.0 , max:  1.0 , mean:  0.7212 , %zeros:  27.9 , noise:  3\n",
      "#\n",
      "cur_mat:  3 , cur_row_entity:  4 , cur_col_entity:  1 , cur_mat_dtype:  real\n",
      "#\n",
      "mat_template.shape:  (700, 500)\n",
      "#\n",
      "sparsity_level:  0 , thres:  -0.6745 , per_zeros_bef:  0.0 , per_zeros_aft:  25.677142857142858\n",
      "freal: noise_level:  0 , tot_num_entries:  350000 , num_entries_to_flip:  0\n",
      "cur_mat_id:  3 , shape:  (700, 500) , min:  -0.5879 , max:  1.0 , mean:  0.1879 , %zeros:  25.7 , noise:  0\n",
      "#\n",
      "cur_mat:  4 , cur_row_entity:  5 , cur_col_entity:  2 , cur_mat_dtype:  binary\n",
      "sparsity_level:  0 , thres:  -0.6745 , per_zeros_bef:  0.0 , per_zeros_aft:  27.034444444444443\n",
      "cur_mat_id:  4 , shape:  (600, 300) , min:  0.0 , max:  1.0 , mean:  0.7297 , %zeros:  27.0 , noise:  0\n",
      "#\n"
     ]
    }
   ],
   "source": [
    "#dataset 3\n",
    "#dn1, dn2, dn3 - aug multiview dataset with matrices of multiple data types + varying noise levels\n",
    "#noise(dn1) < noise(dn2) , noise(dn3)\n",
    "noise_level_list = [1,2,3]\n",
    "for noise_level in noise_level_list:\n",
    "    sparsity_level = 0\n",
    "    dname = \"dn\"+str(noise_level)\n",
    "    #\n",
    "    print(\"###\")\n",
    "    print(\"dataset: \",dname)\n",
    "    print(\"###\")\n",
    "    #\n",
    "    data_genrator = SyntheticDataGeneratorBioinf(k, G, dict_entity_size, dict_mat_dtype,\\\n",
    "                                                list_mod_mat_id, sparsity_level, noise_level)\n",
    "    data_dict = data_genrator.get_data_dict()\n",
    "    #\n",
    "    dict_name_dataset[dname] = data_dict"
   ]
  },
  {
   "cell_type": "code",
   "execution_count": 16,
   "metadata": {},
   "outputs": [
    {
     "data": {
      "text/plain": [
       "dict_keys(['dt1', 'ds1', 'ds2', 'ds3', 'dn1', 'dn2', 'dn3'])"
      ]
     },
     "execution_count": 16,
     "metadata": {},
     "output_type": "execute_result"
    }
   ],
   "source": [
    "dict_name_dataset.keys()"
   ]
  },
  {
   "cell_type": "code",
   "execution_count": 17,
   "metadata": {},
   "outputs": [],
   "source": [
    "#"
   ]
  },
  {
   "cell_type": "code",
   "execution_count": 18,
   "metadata": {},
   "outputs": [],
   "source": [
    "fname = \"./ncmf_sim_data/dict_name_dataset.pkl\"\n",
    "pkl.dump(dict_name_dataset,open(fname,\"wb\"))"
   ]
  },
  {
   "cell_type": "code",
   "execution_count": 19,
   "metadata": {},
   "outputs": [],
   "source": [
    "# compressed_pickle(fname, dict_name_dataset)"
   ]
  },
  {
   "cell_type": "code",
   "execution_count": null,
   "metadata": {},
   "outputs": [],
   "source": []
  }
 ],
 "metadata": {
  "kernelspec": {
   "display_name": "Python 3 (ipykernel)",
   "language": "python",
   "name": "python3"
  },
  "language_info": {
   "codemirror_mode": {
    "name": "ipython",
    "version": 3
   },
   "file_extension": ".py",
   "mimetype": "text/x-python",
   "name": "python",
   "nbconvert_exporter": "python",
   "pygments_lexer": "ipython3",
   "version": "3.8.12"
  }
 },
 "nbformat": 4,
 "nbformat_minor": 4
}
