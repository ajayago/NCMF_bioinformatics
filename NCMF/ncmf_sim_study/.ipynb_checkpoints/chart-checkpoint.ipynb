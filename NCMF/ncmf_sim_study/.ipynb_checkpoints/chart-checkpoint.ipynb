{
 "cells": [
  {
   "cell_type": "code",
   "execution_count": 1,
   "metadata": {},
   "outputs": [],
   "source": [
    "import pandas as pd\n",
    "import numpy as np\n",
    "import pickle as pkl\n",
    "\n",
    "import seaborn as sns\n",
    "%matplotlib inline"
   ]
  },
  {
   "cell_type": "code",
   "execution_count": 2,
   "metadata": {},
   "outputs": [],
   "source": [
    "fname_auc = \"auc_diff.csv\"\n",
    "fname_mse = \"mse_diff.csv\""
   ]
  },
  {
   "cell_type": "code",
   "execution_count": 3,
   "metadata": {},
   "outputs": [
    {
     "name": "stderr",
     "output_type": "stream",
     "text": [
      "C:\\Users\\mragu\\AppData\\Roaming\\Python\\Python37\\site-packages\\pandas\\util\\_decorators.py:311: ParserWarning: Falling back to the 'python' engine because the 'c' engine does not support regex separators (separators > 1 char and different from '\\s+' are interpreted as regex); you can avoid this warning by specifying engine='python'.\n",
      "  return func(*args, **kwargs)\n"
     ]
    },
    {
     "data": {
      "text/html": [
       "<div>\n",
       "<style scoped>\n",
       "    .dataframe tbody tr th:only-of-type {\n",
       "        vertical-align: middle;\n",
       "    }\n",
       "\n",
       "    .dataframe tbody tr th {\n",
       "        vertical-align: top;\n",
       "    }\n",
       "\n",
       "    .dataframe thead th {\n",
       "        text-align: right;\n",
       "    }\n",
       "</style>\n",
       "<table border=\"1\" class=\"dataframe\">\n",
       "  <thead>\n",
       "    <tr style=\"text-align: right;\">\n",
       "      <th></th>\n",
       "      <th>Dataset</th>\n",
       "      <th>CMF</th>\n",
       "      <th>gCMF</th>\n",
       "      <th>DFMF</th>\n",
       "      <th>DCMF</th>\n",
       "    </tr>\n",
       "  </thead>\n",
       "  <tbody>\n",
       "    <tr>\n",
       "      <th>0</th>\n",
       "      <td>dt1</td>\n",
       "      <td>0.2611</td>\n",
       "      <td>0.2603</td>\n",
       "      <td>0.2601</td>\n",
       "      <td>0.0851</td>\n",
       "    </tr>\n",
       "    <tr>\n",
       "      <th>1</th>\n",
       "      <td>ds1</td>\n",
       "      <td>0.2370</td>\n",
       "      <td>0.2298</td>\n",
       "      <td>0.2287</td>\n",
       "      <td>0.0860</td>\n",
       "    </tr>\n",
       "    <tr>\n",
       "      <th>2</th>\n",
       "      <td>ds2</td>\n",
       "      <td>0.4185</td>\n",
       "      <td>0.4224</td>\n",
       "      <td>0.4232</td>\n",
       "      <td>0.1553</td>\n",
       "    </tr>\n",
       "    <tr>\n",
       "      <th>3</th>\n",
       "      <td>ds3</td>\n",
       "      <td>0.3983</td>\n",
       "      <td>0.4053</td>\n",
       "      <td>0.4032</td>\n",
       "      <td>0.2275</td>\n",
       "    </tr>\n",
       "    <tr>\n",
       "      <th>4</th>\n",
       "      <td>dn1</td>\n",
       "      <td>0.2259</td>\n",
       "      <td>0.2242</td>\n",
       "      <td>0.2296</td>\n",
       "      <td>0.0959</td>\n",
       "    </tr>\n",
       "    <tr>\n",
       "      <th>5</th>\n",
       "      <td>dn2</td>\n",
       "      <td>0.0817</td>\n",
       "      <td>0.0857</td>\n",
       "      <td>0.0856</td>\n",
       "      <td>0.0564</td>\n",
       "    </tr>\n",
       "    <tr>\n",
       "      <th>6</th>\n",
       "      <td>dn3</td>\n",
       "      <td>0.1572</td>\n",
       "      <td>0.1577</td>\n",
       "      <td>0.1638</td>\n",
       "      <td>0.0172</td>\n",
       "    </tr>\n",
       "  </tbody>\n",
       "</table>\n",
       "</div>"
      ],
      "text/plain": [
       "  Dataset     CMF    gCMF    DFMF    DCMF\n",
       "0     dt1  0.2611  0.2603  0.2601  0.0851\n",
       "1     ds1  0.2370  0.2298  0.2287  0.0860\n",
       "2     ds2  0.4185  0.4224  0.4232  0.1553\n",
       "3     ds3  0.3983  0.4053  0.4032  0.2275\n",
       "4     dn1  0.2259  0.2242  0.2296  0.0959\n",
       "5     dn2  0.0817  0.0857  0.0856  0.0564\n",
       "6     dn3  0.1572  0.1577  0.1638  0.0172"
      ]
     },
     "execution_count": 3,
     "metadata": {},
     "output_type": "execute_result"
    }
   ],
   "source": [
    "df_auc = pd.read_csv(fname_auc,sep=\"\\s\")\n",
    "df_auc"
   ]
  },
  {
   "cell_type": "code",
   "execution_count": 4,
   "metadata": {},
   "outputs": [
    {
     "name": "stderr",
     "output_type": "stream",
     "text": [
      "C:\\Users\\mragu\\AppData\\Roaming\\Python\\Python37\\site-packages\\pandas\\util\\_decorators.py:311: ParserWarning: Falling back to the 'python' engine because the 'c' engine does not support regex separators (separators > 1 char and different from '\\s+' are interpreted as regex); you can avoid this warning by specifying engine='python'.\n",
      "  return func(*args, **kwargs)\n"
     ]
    },
    {
     "data": {
      "text/html": [
       "<div>\n",
       "<style scoped>\n",
       "    .dataframe tbody tr th:only-of-type {\n",
       "        vertical-align: middle;\n",
       "    }\n",
       "\n",
       "    .dataframe tbody tr th {\n",
       "        vertical-align: top;\n",
       "    }\n",
       "\n",
       "    .dataframe thead th {\n",
       "        text-align: right;\n",
       "    }\n",
       "</style>\n",
       "<table border=\"1\" class=\"dataframe\">\n",
       "  <thead>\n",
       "    <tr style=\"text-align: right;\">\n",
       "      <th></th>\n",
       "      <th>Dataset</th>\n",
       "      <th>CMF</th>\n",
       "      <th>gCMF</th>\n",
       "      <th>DFMF</th>\n",
       "      <th>DCMF</th>\n",
       "    </tr>\n",
       "  </thead>\n",
       "  <tbody>\n",
       "    <tr>\n",
       "      <th>0</th>\n",
       "      <td>dt1</td>\n",
       "      <td>-0.0173</td>\n",
       "      <td>-0.0760</td>\n",
       "      <td>0.0343</td>\n",
       "      <td>-0.0038</td>\n",
       "    </tr>\n",
       "    <tr>\n",
       "      <th>1</th>\n",
       "      <td>ds1</td>\n",
       "      <td>-0.0478</td>\n",
       "      <td>-0.0570</td>\n",
       "      <td>-0.0227</td>\n",
       "      <td>-0.0217</td>\n",
       "    </tr>\n",
       "    <tr>\n",
       "      <th>2</th>\n",
       "      <td>ds2</td>\n",
       "      <td>-0.0326</td>\n",
       "      <td>-0.0690</td>\n",
       "      <td>-0.0170</td>\n",
       "      <td>-0.5768</td>\n",
       "    </tr>\n",
       "    <tr>\n",
       "      <th>3</th>\n",
       "      <td>ds3</td>\n",
       "      <td>-0.0204</td>\n",
       "      <td>-0.0539</td>\n",
       "      <td>0.0294</td>\n",
       "      <td>-0.1442</td>\n",
       "    </tr>\n",
       "    <tr>\n",
       "      <th>4</th>\n",
       "      <td>dn1</td>\n",
       "      <td>-0.0808</td>\n",
       "      <td>-0.1241</td>\n",
       "      <td>0.0090</td>\n",
       "      <td>-0.2338</td>\n",
       "    </tr>\n",
       "    <tr>\n",
       "      <th>5</th>\n",
       "      <td>dn2</td>\n",
       "      <td>-0.0542</td>\n",
       "      <td>-0.1113</td>\n",
       "      <td>0.0094</td>\n",
       "      <td>-0.2191</td>\n",
       "    </tr>\n",
       "    <tr>\n",
       "      <th>6</th>\n",
       "      <td>dn3</td>\n",
       "      <td>-0.0149</td>\n",
       "      <td>-0.0870</td>\n",
       "      <td>0.0290</td>\n",
       "      <td>-0.0852</td>\n",
       "    </tr>\n",
       "  </tbody>\n",
       "</table>\n",
       "</div>"
      ],
      "text/plain": [
       "  Dataset     CMF    gCMF    DFMF    DCMF\n",
       "0     dt1 -0.0173 -0.0760  0.0343 -0.0038\n",
       "1     ds1 -0.0478 -0.0570 -0.0227 -0.0217\n",
       "2     ds2 -0.0326 -0.0690 -0.0170 -0.5768\n",
       "3     ds3 -0.0204 -0.0539  0.0294 -0.1442\n",
       "4     dn1 -0.0808 -0.1241  0.0090 -0.2338\n",
       "5     dn2 -0.0542 -0.1113  0.0094 -0.2191\n",
       "6     dn3 -0.0149 -0.0870  0.0290 -0.0852"
      ]
     },
     "execution_count": 4,
     "metadata": {},
     "output_type": "execute_result"
    }
   ],
   "source": [
    "df_mse = pd.read_csv(fname_mse,sep=\"\\s\")\n",
    "df_mse"
   ]
  },
  {
   "cell_type": "code",
   "execution_count": 5,
   "metadata": {},
   "outputs": [],
   "source": [
    "df_auc.set_index(\"Dataset\",inplace=True)\n",
    "df_mse.set_index(\"Dataset\",inplace=True)"
   ]
  },
  {
   "cell_type": "code",
   "execution_count": 6,
   "metadata": {},
   "outputs": [
    {
     "data": {
      "image/png": "[encoded data removed]",
      "text/plain": [
       "<Figure size 432x288 with 1 Axes>"
      ]
     },
     "metadata": {
      "needs_background": "light"
     },
     "output_type": "display_data"
    }
   ],
   "source": [
    "fig = df_auc.plot.bar(title=\"Diff. AUC of NCMF and Baselines\").get_figure()\n",
    "fig.savefig('auc.pdf', bbox_inches='tight')\n",
    "fig.savefig('auc.png', bbox_inches='tight')"
   ]
  },
  {
   "cell_type": "code",
   "execution_count": 7,
   "metadata": {},
   "outputs": [
    {
     "data": {
      "image/png": "[encoded data removed]",
      "text/plain": [
       "<Figure size 432x288 with 1 Axes>"
      ]
     },
     "metadata": {
      "needs_background": "light"
     },
     "output_type": "display_data"
    }
   ],
   "source": [
    "fig2 = df_mse.plot.bar(title=\"Diff. MSE of NCMF and Baselines\").get_figure()\n",
    "fig2.savefig('mse.pdf', bbox_inches='tight')\n",
    "fig.savefig('mse.png', bbox_inches='tight')"
   ]
  },
  {
   "cell_type": "code",
   "execution_count": null,
   "metadata": {},
   "outputs": [],
   "source": []
  }
 ],
 "metadata": {
  "kernelspec": {
   "display_name": "Python 3 (ipykernel)",
   "language": "python",
   "name": "python3"
  },
  "language_info": {
   "codemirror_mode": {
    "name": "ipython",
    "version": 3
   },
   "file_extension": ".py",
   "mimetype": "text/x-python",
   "name": "python",
   "nbconvert_exporter": "python",
   "pygments_lexer": "ipython3",
   "version": "3.8.12"
  }
 },
 "nbformat": 4,
 "nbformat_minor": 4
}
