{
 "cells": [
  {
   "cell_type": "code",
   "execution_count": 1,
   "metadata": {},
   "outputs": [],
   "source": [
    "import numpy as np\n",
    "np.random.seed(0)\n",
    "import pandas as pd\n",
    "import os\n",
    "from datetime import datetime\n",
    "import time\n",
    "from sklearn.preprocessing import MaxAbsScaler, StandardScaler, maxabs_scale\n",
    "from math import pi\n",
    "from numpy import sin, cos, linspace\n",
    "import random\n",
    "import seaborn as sns\n",
    "import pandas as pd\n",
    "import matplotlib.pyplot as plt\n",
    "import pickle as pkl"
   ]
  },
  {
   "cell_type": "code",
   "execution_count": 2,
   "metadata": {},
   "outputs": [],
   "source": [
    "from sklearn.metrics import roc_auc_score, mean_squared_error"
   ]
  },
  {
   "cell_type": "code",
   "execution_count": 3,
   "metadata": {},
   "outputs": [],
   "source": [
    "sample_no = 1\n",
    "data_dir = \"./../../ncmf_sim_data/\"\n",
    "#list_dataset_names = [\"dt1\"]\n",
    "#list_dataset_names = [\"ds1\",\"ds2\",\"ds3\"]\n",
    "list_dataset_names = ['dt1', 'ds1', 'ds2', 'ds3', 'dn1', 'dn2', 'dn3']"
   ]
  },
  {
   "cell_type": "code",
   "execution_count": 4,
   "metadata": {},
   "outputs": [],
   "source": [
    "matrix_types = {\n",
    "    \"real\": [\"X0\",\"X1\",\"X3\"],\n",
    "    \"binary\": [\"X2\",\"X4\"]\n",
    "}"
   ]
  },
  {
   "cell_type": "code",
   "execution_count": 5,
   "metadata": {},
   "outputs": [],
   "source": [
    "list_test_mat_ids = [\"X0\",\"X2\"]\n",
    "list_test_mat_idx = [0,2]\n",
    "#\n",
    "# list_test_mat_ids = [\"X0\"]\n",
    "# list_test_mat_idx = [0]"
   ]
  },
  {
   "cell_type": "code",
   "execution_count": 6,
   "metadata": {},
   "outputs": [],
   "source": [
    "def get_perf_metrics(sample_no,\\\n",
    "                        data_dir,\\\n",
    "                        list_dataset_names,\\\n",
    "                        matrix_types,\\\n",
    "                        list_test_mat_ids,\\\n",
    "                        list_test_mat_idx\n",
    "                        ):\n",
    "    dict_dname_perf = {}\n",
    "    out_dir_base = data_dir + \"/dcmf/out/\"\n",
    "    #\n",
    "    for dataset_name in list_dataset_names:\n",
    "        print(\"dataset_name: \",dataset_name)\n",
    "        dict_dname_perf[dataset_name] = {}\n",
    "        #\n",
    "        out_dir_recons = out_dir_base + dataset_name + \"/\"\n",
    "        fname_recons = out_dir_recons + \"dict_out_dcmf.pkl\"\n",
    "        dict_out_dcmf = pkl.load(open(fname_recons,\"rb\"))\n",
    "        #\n",
    "        data_dir_gt = data_dir + \"/\" + dataset_name + \"/\"\n",
    "        #\n",
    "        sampled_dict_id_idx_file = data_dir_gt + f\"sampled{sample_no}_dict_id_idx.pkl\"\n",
    "        dict_id_idx = pkl.load(open(sampled_dict_id_idx_file,\"rb\"))\n",
    "        #\n",
    "        for i in np.arange(len(list_test_mat_idx)):       \n",
    "            test_mat_idx = list_test_mat_idx[i]\n",
    "            test_mat_id = list_test_mat_ids[i]\n",
    "            #\n",
    "            X_pred = dict_out_dcmf[\"X\"+str(int(test_mat_idx))] \n",
    "            #\n",
    "            fname_list_gt = data_dir_gt + \"sampled1_link.dat.test.\"+str(test_mat_idx)\n",
    "            df_list_gt = pd.read_csv(fname_list_gt,sep=\"\\t\",header=None)\n",
    "            df_list_gt.columns = [\"i_idx\",\"j_idx\",\"value\"]\n",
    "            #\n",
    "            list_gt_vals = []\n",
    "            list_pred_vals = []\n",
    "            for idx,row in df_list_gt.iterrows():\n",
    "                i = int(dict_id_idx[row[\"i_idx\"]])\n",
    "                j = int(dict_id_idx[row[\"j_idx\"]])\n",
    "                #\n",
    "                cur_val_gt = row[\"value\"]\n",
    "                list_gt_vals.append(cur_val_gt)\n",
    "                #\n",
    "                cur_val_pred = X_pred[i,j]\n",
    "                list_pred_vals.append(cur_val_pred)\n",
    "            #\n",
    "            print(\"mat_idx:\",test_mat_idx,\", list_gt_vals - min: \",np.min(list_gt_vals),\", max: \",np.max(list_gt_vals))\n",
    "            print(\"mat_idx:\",test_mat_idx,\", list_pred_vals - min: \",np.min(list_pred_vals),\", max: \",np.max(list_pred_vals))\n",
    "            #\n",
    "            if test_mat_id in matrix_types[\"real\"]:\n",
    "                eval_mat_dtype = \"real\"\n",
    "            elif test_mat_id in matrix_types[\"binary\"]:\n",
    "                eval_mat_dtype = \"binary\"\n",
    "            else:\n",
    "                assert False    \n",
    "            #\n",
    "            if eval_mat_dtype == \"real\":\n",
    "                cur_perf = mean_squared_error(list_gt_vals,list_pred_vals)\n",
    "                cur_perf_metric = \"mse\"\n",
    "            elif eval_mat_dtype == \"binary\":\n",
    "                cur_perf = roc_auc_score(list_gt_vals,list_pred_vals)\n",
    "                cur_perf_metric = \"auc\"\n",
    "            else:\n",
    "                assert False\n",
    "            #\n",
    "            dict_dname_perf[dataset_name][test_mat_idx] = {\n",
    "                \"perf\":cur_perf,\n",
    "                \"perf_metric\":cur_perf_metric\n",
    "            }\n",
    "        print(\"###\")\n",
    "    #\n",
    "    pkl.dump(dict_dname_perf,open(out_dir_base+\"dict_perf_dcmf.pkl\",\"wb\"))\n",
    "    #\n",
    "    return dict_dname_perf"
   ]
  },
  {
   "cell_type": "code",
   "execution_count": 7,
   "metadata": {},
   "outputs": [
    {
     "name": "stdout",
     "output_type": "stream",
     "text": [
      "dataset_name:  dt1\n",
      "mat_idx: 0 , list_gt_vals - min:  0.33749940426780045 , max:  0.9764821163420776\n",
      "mat_idx: 0 , list_pred_vals - min:  0.0044311886 , max:  1.2218192\n",
      "mat_idx: 2 , list_gt_vals - min:  0.0 , max:  1.0\n",
      "mat_idx: 2 , list_pred_vals - min:  0.17777808 , max:  1.8169141\n",
      "###\n",
      "dataset_name:  ds1\n",
      "mat_idx: 0 , list_gt_vals - min:  0.5 , max:  0.9769134073103886\n",
      "mat_idx: 0 , list_pred_vals - min:  0.0040628863 , max:  0.85546273\n",
      "mat_idx: 2 , list_gt_vals - min:  0.0 , max:  1.0\n",
      "mat_idx: 2 , list_pred_vals - min:  0.030028418 , max:  2.0533094\n",
      "###\n",
      "dataset_name:  ds2\n",
      "mat_idx: 0 , list_gt_vals - min:  0.5 , max:  0.9781891525915866\n",
      "mat_idx: 0 , list_pred_vals - min:  0.020837378 , max:  1.2989794\n",
      "mat_idx: 2 , list_gt_vals - min:  0.0 , max:  1.0\n",
      "mat_idx: 2 , list_pred_vals - min:  0.058959857 , max:  2.3605769\n",
      "###\n",
      "dataset_name:  ds3\n",
      "mat_idx: 0 , list_gt_vals - min:  0.5 , max:  0.9604746121079628\n",
      "mat_idx: 0 , list_pred_vals - min:  0.0041252477 , max:  0.4659956\n",
      "mat_idx: 2 , list_gt_vals - min:  0.0 , max:  1.0\n",
      "mat_idx: 2 , list_pred_vals - min:  0.006292625 , max:  3.4154294\n",
      "###\n",
      "dataset_name:  dn1\n",
      "mat_idx: 0 , list_gt_vals - min:  0.3375559992837387 , max:  0.982919817705875\n",
      "mat_idx: 0 , list_pred_vals - min:  0.011237328 , max:  0.4703918\n",
      "mat_idx: 2 , list_gt_vals - min:  0.0 , max:  1.0\n",
      "mat_idx: 2 , list_pred_vals - min:  0.10750671 , max:  2.1147861\n",
      "###\n",
      "dataset_name:  dn2\n",
      "mat_idx: 0 , list_gt_vals - min:  0.33759551762054324 , max:  0.9876689067509256\n",
      "mat_idx: 0 , list_pred_vals - min:  0.005420229 , max:  0.15995651\n",
      "mat_idx: 2 , list_gt_vals - min:  0.0 , max:  1.0\n",
      "mat_idx: 2 , list_pred_vals - min:  0.22397402 , max:  1.4925996\n",
      "###\n",
      "dataset_name:  dn3\n",
      "mat_idx: 0 , list_gt_vals - min:  0.3375032611329412 , max:  0.9756983007768846\n",
      "mat_idx: 0 , list_pred_vals - min:  0.0062821456 , max:  0.3531298\n",
      "mat_idx: 2 , list_gt_vals - min:  0.0 , max:  1.0\n",
      "mat_idx: 2 , list_pred_vals - min:  0.19905102 , max:  1.912472\n",
      "###\n"
     ]
    }
   ],
   "source": [
    "dict_perf = get_perf_metrics(sample_no,\\\n",
    "                        data_dir,\\\n",
    "                        list_dataset_names,\\\n",
    "                        matrix_types,\\\n",
    "                        list_test_mat_ids,\\\n",
    "                        list_test_mat_idx)"
   ]
  },
  {
   "cell_type": "code",
   "execution_count": 8,
   "metadata": {},
   "outputs": [
    {
     "data": {
      "text/html": [
       "<div>\n",
       "<style scoped>\n",
       "    .dataframe tbody tr th:only-of-type {\n",
       "        vertical-align: middle;\n",
       "    }\n",
       "\n",
       "    .dataframe tbody tr th {\n",
       "        vertical-align: top;\n",
       "    }\n",
       "\n",
       "    .dataframe thead th {\n",
       "        text-align: right;\n",
       "    }\n",
       "</style>\n",
       "<table border=\"1\" class=\"dataframe\">\n",
       "  <thead>\n",
       "    <tr style=\"text-align: right;\">\n",
       "      <th></th>\n",
       "      <th>dt1</th>\n",
       "      <th>ds1</th>\n",
       "      <th>ds2</th>\n",
       "      <th>ds3</th>\n",
       "      <th>dn1</th>\n",
       "      <th>dn2</th>\n",
       "      <th>dn3</th>\n",
       "    </tr>\n",
       "  </thead>\n",
       "  <tbody>\n",
       "    <tr>\n",
       "      <th>0</th>\n",
       "      <td>{'perf': 0.28542420466628426, 'perf_metric': '...</td>\n",
       "      <td>{'perf': 0.3038139478407574, 'perf_metric': 'm...</td>\n",
       "      <td>{'perf': 0.20960065673399408, 'perf_metric': '...</td>\n",
       "      <td>{'perf': 0.22119480300710248, 'perf_metric': '...</td>\n",
       "      <td>{'perf': 0.2873992495320662, 'perf_metric': 'm...</td>\n",
       "      <td>{'perf': 0.3109104846903612, 'perf_metric': 'm...</td>\n",
       "      <td>{'perf': 0.2996956088044357, 'perf_metric': 'm...</td>\n",
       "    </tr>\n",
       "    <tr>\n",
       "      <th>2</th>\n",
       "      <td>{'perf': 0.6383394539406986, 'perf_metric': 'a...</td>\n",
       "      <td>{'perf': 0.5015384234480312, 'perf_metric': 'a...</td>\n",
       "      <td>{'perf': 0.452979275830371, 'perf_metric': 'auc'}</td>\n",
       "      <td>{'perf': 0.1766540410526446, 'perf_metric': 'a...</td>\n",
       "      <td>{'perf': 0.540039077350919, 'perf_metric': 'auc'}</td>\n",
       "      <td>{'perf': 0.5124847144976513, 'perf_metric': 'a...</td>\n",
       "      <td>{'perf': 0.5112269596824073, 'perf_metric': 'a...</td>\n",
       "    </tr>\n",
       "  </tbody>\n",
       "</table>\n",
       "</div>"
      ],
      "text/plain": [
       "                                                 dt1  \\\n",
       "0  {'perf': 0.28542420466628426, 'perf_metric': '...   \n",
       "2  {'perf': 0.6383394539406986, 'perf_metric': 'a...   \n",
       "\n",
       "                                                 ds1  \\\n",
       "0  {'perf': 0.3038139478407574, 'perf_metric': 'm...   \n",
       "2  {'perf': 0.5015384234480312, 'perf_metric': 'a...   \n",
       "\n",
       "                                                 ds2  \\\n",
       "0  {'perf': 0.20960065673399408, 'perf_metric': '...   \n",
       "2  {'perf': 0.452979275830371, 'perf_metric': 'auc'}   \n",
       "\n",
       "                                                 ds3  \\\n",
       "0  {'perf': 0.22119480300710248, 'perf_metric': '...   \n",
       "2  {'perf': 0.1766540410526446, 'perf_metric': 'a...   \n",
       "\n",
       "                                                 dn1  \\\n",
       "0  {'perf': 0.2873992495320662, 'perf_metric': 'm...   \n",
       "2  {'perf': 0.540039077350919, 'perf_metric': 'auc'}   \n",
       "\n",
       "                                                 dn2  \\\n",
       "0  {'perf': 0.3109104846903612, 'perf_metric': 'm...   \n",
       "2  {'perf': 0.5124847144976513, 'perf_metric': 'a...   \n",
       "\n",
       "                                                 dn3  \n",
       "0  {'perf': 0.2996956088044357, 'perf_metric': 'm...  \n",
       "2  {'perf': 0.5112269596824073, 'perf_metric': 'a...  "
      ]
     },
     "execution_count": 8,
     "metadata": {},
     "output_type": "execute_result"
    }
   ],
   "source": [
    "pd.DataFrame(dict_perf)"
   ]
  },
  {
   "cell_type": "code",
   "execution_count": 9,
   "metadata": {},
   "outputs": [
    {
     "data": {
      "text/plain": [
       "{'dt1': {0: {'perf': 0.28542420466628426, 'perf_metric': 'mse'},\n",
       "  2: {'perf': 0.6383394539406986, 'perf_metric': 'auc'}},\n",
       " 'ds1': {0: {'perf': 0.3038139478407574, 'perf_metric': 'mse'},\n",
       "  2: {'perf': 0.5015384234480312, 'perf_metric': 'auc'}},\n",
       " 'ds2': {0: {'perf': 0.20960065673399408, 'perf_metric': 'mse'},\n",
       "  2: {'perf': 0.452979275830371, 'perf_metric': 'auc'}},\n",
       " 'ds3': {0: {'perf': 0.22119480300710248, 'perf_metric': 'mse'},\n",
       "  2: {'perf': 0.1766540410526446, 'perf_metric': 'auc'}},\n",
       " 'dn1': {0: {'perf': 0.2873992495320662, 'perf_metric': 'mse'},\n",
       "  2: {'perf': 0.540039077350919, 'perf_metric': 'auc'}},\n",
       " 'dn2': {0: {'perf': 0.3109104846903612, 'perf_metric': 'mse'},\n",
       "  2: {'perf': 0.5124847144976513, 'perf_metric': 'auc'}},\n",
       " 'dn3': {0: {'perf': 0.2996956088044357, 'perf_metric': 'mse'},\n",
       "  2: {'perf': 0.5112269596824073, 'perf_metric': 'auc'}}}"
      ]
     },
     "execution_count": 9,
     "metadata": {},
     "output_type": "execute_result"
    }
   ],
   "source": [
    "dict_perf"
   ]
  },
  {
   "cell_type": "code",
   "execution_count": null,
   "metadata": {},
   "outputs": [],
   "source": []
  }
 ],
 "metadata": {
  "kernelspec": {
   "display_name": "Python 3 (ipykernel)",
   "language": "python",
   "name": "python3"
  },
  "language_info": {
   "codemirror_mode": {
    "name": "ipython",
    "version": 3
   },
   "file_extension": ".py",
   "mimetype": "text/x-python",
   "name": "python",
   "nbconvert_exporter": "python",
   "pygments_lexer": "ipython3",
   "version": "3.8.12"
  }
 },
 "nbformat": 4,
 "nbformat_minor": 4
}
