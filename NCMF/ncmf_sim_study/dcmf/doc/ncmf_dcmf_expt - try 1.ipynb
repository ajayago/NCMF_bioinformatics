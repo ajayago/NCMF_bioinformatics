{
 "cells": [
  {
   "cell_type": "code",
   "execution_count": 1,
   "metadata": {
    "collapsed": true
   },
   "outputs": [],
   "source": [
    "import pickle as pkl\n",
    "import os\n",
    "#\n",
    "import pandas as pd\n",
    "import numpy as np\n",
    "import random"
   ]
  },
  {
   "cell_type": "code",
   "execution_count": 2,
   "metadata": {
    "collapsed": true
   },
   "outputs": [],
   "source": [
    "import sys\n",
    "sys.path.append(\"..\")"
   ]
  },
  {
   "cell_type": "code",
   "execution_count": 3,
   "metadata": {
    "collapsed": true
   },
   "outputs": [],
   "source": [
    "import pprint\n",
    "import numpy as np\n",
    "import pickle as pkl\n",
    "import time\n",
    "import itertools\n",
    "import os"
   ]
  },
  {
   "cell_type": "code",
   "execution_count": 4,
   "metadata": {
    "collapsed": true
   },
   "outputs": [],
   "source": [
    "from src.dcmf import dcmf"
   ]
  },
  {
   "cell_type": "code",
   "execution_count": 38,
   "metadata": {
    "collapsed": true
   },
   "outputs": [],
   "source": [
    "base_dname = \"./../../sample_data_NCMF/ncmf_sim_data/\"\n",
    "in_dir = base_dname + \"cmf/\"\n",
    "out_dir_base = base_dname + \"dcmf/\""
   ]
  },
  {
   "cell_type": "code",
   "execution_count": 6,
   "metadata": {
    "collapsed": true
   },
   "outputs": [],
   "source": [
    "for dataset_name in ['dt1']:\n",
    "    break"
   ]
  },
  {
   "cell_type": "code",
   "execution_count": 7,
   "metadata": {},
   "outputs": [
    {
     "data": {
      "text/plain": [
       "'dt1'"
      ]
     },
     "execution_count": 7,
     "metadata": {},
     "output_type": "execute_result"
    }
   ],
   "source": [
    "dataset_name"
   ]
  },
  {
   "cell_type": "code",
   "execution_count": 8,
   "metadata": {},
   "outputs": [],
   "source": [
    "fname = in_dir + dataset_name + \"/0.csv\"\n",
    "X0 = pd.read_csv(fname,header=None).to_numpy()\n",
    "#\n",
    "fname = in_dir + dataset_name + \"/1.csv\"\n",
    "X1 = pd.read_csv(fname,header=None).to_numpy()\n",
    "#\n",
    "fname = in_dir + dataset_name + \"/2.csv\"\n",
    "X2 = pd.read_csv(fname,header=None).to_numpy()\n",
    "#\n",
    "fname = in_dir + dataset_name + \"/3.csv\"\n",
    "X3 = pd.read_csv(fname,header=None).to_numpy()\n",
    "#\n",
    "fname = in_dir + dataset_name + \"/4.csv\"\n",
    "X4 = pd.read_csv(fname,header=None).to_numpy()"
   ]
  },
  {
   "cell_type": "code",
   "execution_count": 39,
   "metadata": {},
   "outputs": [
    {
     "data": {
      "text/plain": [
       "'./../../sample_data_NCMF/ncmf_sim_data/dcmf/dt1/'"
      ]
     },
     "execution_count": 39,
     "metadata": {},
     "output_type": "execute_result"
    }
   ],
   "source": [
    "out_dir = out_dir_base + dataset_name + \"/\"\n",
    "out_dir"
   ]
  },
  {
   "cell_type": "code",
   "execution_count": 40,
   "metadata": {
    "collapsed": true
   },
   "outputs": [],
   "source": [
    "if not os.path.exists(out_dir):\n",
    "    os.makedirs(out_dir)"
   ]
  },
  {
   "cell_type": "code",
   "execution_count": 9,
   "metadata": {},
   "outputs": [
    {
     "name": "stdout",
     "output_type": "stream",
     "text": [
      "X0.shape:  (200, 500)\n",
      "X1.shape:  (200, 300)\n",
      "X2.shape:  (200, 400)\n",
      "X3.shape:  (700, 500)\n",
      "X4.shape:  (600, 300)\n"
     ]
    }
   ],
   "source": [
    "print(\"X0.shape: \",X0.shape)\n",
    "print(\"X1.shape: \",X1.shape)\n",
    "print(\"X2.shape: \",X2.shape)\n",
    "print(\"X3.shape: \",X3.shape)\n",
    "print(\"X4.shape: \",X4.shape)"
   ]
  },
  {
   "cell_type": "code",
   "execution_count": 24,
   "metadata": {
    "collapsed": true
   },
   "outputs": [],
   "source": [
    "G = {\"e0\":[\"X0\",\"X1\",\"X2\"],\\\n",
    "     \"e1\":[\"X0\",\"X3\"],\\\n",
    "     \"e2\":[\"X1\",\"X4\"],\\\n",
    "     \"e3\":[\"X2\"],\\\n",
    "     \"e4\":[\"X3\"],\\\n",
    "     \"e5\":[\"X4\"]}"
   ]
  },
  {
   "cell_type": "code",
   "execution_count": 25,
   "metadata": {
    "collapsed": true
   },
   "outputs": [],
   "source": [
    "X_data = {\n",
    "    \"X0\":X0,\n",
    "    \"X1\":X1,\n",
    "    \"X2\":X2,\n",
    "    \"X3\":X3,\n",
    "    \"X4\":X4}"
   ]
  },
  {
   "cell_type": "code",
   "execution_count": 26,
   "metadata": {
    "collapsed": true
   },
   "outputs": [],
   "source": [
    "X_meta = {\"X0\":[\"e0\",\"e1\"],\\\n",
    "     \"X1\":[\"e0\",\"e2\"],\\\n",
    "     \"X2\":[\"e0\",\"e3\"],\\\n",
    "     \"X3\":[\"e4\",\"e1\"],\\\n",
    "     \"X4\":[\"e5\",\"e2\"]}"
   ]
  },
  {
   "cell_type": "code",
   "execution_count": 27,
   "metadata": {
    "collapsed": true
   },
   "outputs": [],
   "source": [
    "X_val = {}"
   ]
  },
  {
   "cell_type": "code",
   "execution_count": 28,
   "metadata": {
    "collapsed": true
   },
   "outputs": [],
   "source": [
    "kf = 0.5\n",
    "k = 100\n",
    "e_actf = \"tanh\"\n",
    "d_actf = \"tanh\"\n",
    "is_linear_last_enc_layer = False\n",
    "is_linear_last_dec_layer = False\n",
    "num_chunks = 2"
   ]
  },
  {
   "cell_type": "code",
   "execution_count": 29,
   "metadata": {
    "collapsed": true
   },
   "outputs": [],
   "source": [
    "learning_rate = 0.001\n",
    "weight_decay = 0.05\n",
    "max_epochs = 5\n",
    "convg_thres = 0.1"
   ]
  },
  {
   "cell_type": "code",
   "execution_count": 30,
   "metadata": {
    "collapsed": true
   },
   "outputs": [],
   "source": [
    "is_pretrain=False\n",
    "pretrain_thres= 0.1\n",
    "max_pretrain_epochs = 2"
   ]
  },
  {
   "cell_type": "code",
   "execution_count": 31,
   "metadata": {
    "collapsed": true
   },
   "outputs": [],
   "source": [
    "val_metric = \"auc\"\n",
    "is_val_transpose = True\n",
    "at_k = 10"
   ]
  },
  {
   "cell_type": "code",
   "execution_count": 32,
   "metadata": {
    "collapsed": true
   },
   "outputs": [],
   "source": [
    "is_gpu = False\n",
    "gpu_ids = \"1\""
   ]
  },
  {
   "cell_type": "code",
   "execution_count": 33,
   "metadata": {
    "collapsed": true
   },
   "outputs": [],
   "source": [
    "num_folds = 1"
   ]
  },
  {
   "cell_type": "code",
   "execution_count": 34,
   "metadata": {},
   "outputs": [
    {
     "name": "stdout",
     "output_type": "stream",
     "text": [
      "dcmf_base.__init__ - start\n",
      "dcmf_base.__init__ - end\n",
      "WARNING: The following parameters are unused since no validation data provided.\n",
      "val_metric:  auc\n",
      "at_k:  10\n",
      "is_val_transpose:  True\n",
      "#\n",
      "dCMF:\n",
      "---\n",
      "#\n",
      "dCMF: \n",
      "#\n",
      "learning_rate:  0.001\n",
      "weight_decay:  0.05\n",
      "convg_thres:  0.1\n",
      "max_epochs:  5\n",
      "isPretrain:  False\n",
      "pretrain_thres:  0.1\n",
      "max_pretrain_epochs:  2\n",
      "num_chunks:  2\n",
      "k:  100\n",
      "kf:  0.5\n",
      "e_actf:  tanh\n",
      "d_actf:  tanh\n",
      "is_gpu:  False\n",
      "gpu_ids:  1\n",
      "num entities:  6\n",
      "num matrices:  5\n",
      "num_val_sets:  1\n",
      "X_val #matrices:  0\n",
      "val_metric (used only if X_val #matrices > 0):  auc\n",
      "at_k (used only if X_val #matrices > 0 and val_metric is r@k or p@k):  10\n",
      "is_val_transpose:  True\n",
      "is_linear_last_enc_layer:  False\n",
      "is_linear_last_dec_layer:  False\n",
      "#\n"
     ]
    }
   ],
   "source": [
    "dcmf_model = dcmf(G, X_data, X_meta,\\\n",
    "            num_chunks=num_chunks,k=k, kf=kf, e_actf=e_actf, d_actf=d_actf,\\\n",
    "            learning_rate=learning_rate, weight_decay=weight_decay, convg_thres=convg_thres, max_epochs=max_epochs,\\\n",
    "            is_gpu=is_gpu,gpu_ids=gpu_ids,is_pretrain=is_pretrain, pretrain_thres=pretrain_thres,\\\n",
    "            max_pretrain_epochs=max_pretrain_epochs,X_val=X_val,val_metric=val_metric,\\\n",
    "            is_val_transpose=is_val_transpose, at_k=at_k,\\\n",
    "            is_linear_last_enc_layer=is_linear_last_enc_layer,is_linear_last_dec_layer=is_linear_last_dec_layer,num_val_sets=num_folds)"
   ]
  },
  {
   "cell_type": "code",
   "execution_count": 35,
   "metadata": {},
   "outputs": [
    {
     "name": "stdout",
     "output_type": "stream",
     "text": [
      "## fold_num:  1  ##\n",
      "dcmf_base.__init__ - start\n",
      "dcmf_base.__init__ - end\n",
      "WARNING: The following parameters are unused since no validation data provided.\n",
      "val_metric:  auc\n",
      "at_k:  10\n",
      "is_val_transpose:  True\n",
      "#\n",
      "dCMF: \n",
      "#\n",
      "learning_rate:  0.001\n",
      "weight_decay:  0.05\n",
      "convg_thres:  0.1\n",
      "max_epochs:  5\n",
      "isPretrain:  False\n",
      "pretrain_thres:  0.1\n",
      "max_pretrain_epochs:  2\n",
      "num_chunks:  2\n",
      "k:  100\n",
      "kf:  0.5\n",
      "e_actf:  tanh\n",
      "d_actf:  tanh\n",
      "is_gpu:  False\n",
      "gpu_ids:  1\n",
      "num entities:  6\n",
      "num matrices:  5\n",
      "num_val_sets:  1\n",
      "X_val #matrices:  0\n",
      "val_metric (used only if X_val #matrices > 0):  auc\n",
      "at_k (used only if X_val #matrices > 0 and val_metric is r@k or p@k):  10\n",
      "is_val_transpose:  True\n",
      "is_linear_last_enc_layer:  False\n",
      "is_linear_last_dec_layer:  False\n",
      "#\n",
      "dcmf - model construction - start\n",
      "__input_transformation - start\n",
      "#\n",
      "concatenated-matrix construction...\n",
      "e_id:  e0\n",
      "X_id_list:  ['X0', 'X1', 'X2']\n",
      "X_id:  X0\n",
      "X[X_id].shape:  (200, 500)\n",
      "X_id:  X1\n",
      "X[X_id].shape:  (200, 300)\n",
      "X_id:  X2\n",
      "X[X_id].shape:  (200, 400)\n",
      "C_dict[e].shape:  torch.Size([200, 1200])\n",
      "---\n",
      "e_id:  e1\n",
      "X_id_list:  ['X0', 'X3']\n",
      "X_id:  X0\n",
      "X[X_id].shape:  (200, 500)\n",
      "X_id:  X3\n",
      "X[X_id].shape:  (700, 500)\n",
      "C_dict[e].shape:  torch.Size([500, 900])\n",
      "---\n",
      "e_id:  e2\n",
      "X_id_list:  ['X1', 'X4']\n",
      "X_id:  X1\n",
      "X[X_id].shape:  (200, 300)\n",
      "X_id:  X4\n",
      "X[X_id].shape:  (600, 300)\n",
      "C_dict[e].shape:  torch.Size([300, 800])\n",
      "---\n",
      "e_id:  e3\n",
      "X_id_list:  ['X2']\n",
      "X_id:  X2\n",
      "X[X_id].shape:  (200, 400)\n",
      "C_dict[e].shape:  torch.Size([400, 200])\n",
      "---\n",
      "e_id:  e4\n",
      "X_id_list:  ['X3']\n",
      "X_id:  X3\n",
      "X[X_id].shape:  (700, 500)\n",
      "C_dict[e].shape:  torch.Size([700, 500])\n",
      "---\n",
      "e_id:  e5\n",
      "X_id_list:  ['X4']\n",
      "X_id:  X4\n",
      "X[X_id].shape:  (600, 300)\n",
      "C_dict[e].shape:  torch.Size([600, 300])\n",
      "---\n",
      "#\n",
      "concatenated-matrix chunking...\n",
      "#\n",
      "e_id:  e0 , min_num_datapoints:  200 , num_chunks:  2\n",
      "e_id:  e3 , min_features:  200 , k:  100\n",
      "#\n",
      "e_id:  e0  C_dict[e_id].shape:  torch.Size([200, 1200])\n",
      "C_temp_chunks_list[0].shape:  torch.Size([100, 1200])\n",
      "---\n",
      "e_id:  e1  C_dict[e_id].shape:  torch.Size([500, 900])\n",
      "C_temp_chunks_list[0].shape:  torch.Size([250, 900])\n",
      "---\n",
      "e_id:  e2  C_dict[e_id].shape:  torch.Size([300, 800])\n",
      "C_temp_chunks_list[0].shape:  torch.Size([150, 800])\n",
      "---\n",
      "e_id:  e3  C_dict[e_id].shape:  torch.Size([400, 200])\n",
      "C_temp_chunks_list[0].shape:  torch.Size([200, 200])\n",
      "---\n",
      "e_id:  e4  C_dict[e_id].shape:  torch.Size([700, 500])\n",
      "C_temp_chunks_list[0].shape:  torch.Size([350, 500])\n",
      "---\n",
      "e_id:  e5  C_dict[e_id].shape:  torch.Size([600, 300])\n",
      "C_temp_chunks_list[0].shape:  torch.Size([300, 300])\n",
      "---\n",
      "#\n",
      "creating pytorch variables of input matrices...\n",
      "#\n",
      "__input_transformation - end\n",
      "__network_construction - start\n",
      "__network_construction - end\n",
      "dcmf - model construction - end\n",
      "#\n",
      "#\n",
      "dcmf.fit - start\n",
      "epoch:  1  total loss L:  47.776655197143555  Took  0.3  secs.\n",
      "epoch:  2  total loss L:  17.52620506286621  Took  0.3  secs.\n",
      "epoch:  3  total loss L:  16.272409439086914  Took  0.3  secs.\n",
      "epoch:  4  total loss L:  11.355497360229492  Took  0.3  secs.\n",
      "epoch:  5  total loss L:  10.070772171020508  Took  0.3  secs.\n",
      "#\n",
      "dcmf.fit - end\n"
     ]
    }
   ],
   "source": [
    "dcmf_model.fit()"
   ]
  },
  {
   "cell_type": "code",
   "execution_count": 36,
   "metadata": {},
   "outputs": [
    {
     "data": {
      "text/plain": [
       "dict_keys(['X0', 'X1', 'X2', 'X3', 'X4'])"
      ]
     },
     "execution_count": 36,
     "metadata": {},
     "output_type": "execute_result"
    }
   ],
   "source": [
    "dcmf_model.out_dict_X_prime['1'].keys()"
   ]
  },
  {
   "cell_type": "code",
   "execution_count": 46,
   "metadata": {},
   "outputs": [],
   "source": [
    "dict_out = dcmf_model.out_dict_X_prime[\"1\"]\n",
    "dict_out_np = {}\n",
    "for cur_mat_id in dict_out:\n",
    "    cur_mat_tensor = dict_out[cur_mat_id]\n",
    "    cur_mat_np = cur_mat_tensor.cpu().detach().numpy()\n",
    "    dict_out_np[cur_mat_id] = cur_mat_np"
   ]
  },
  {
   "cell_type": "code",
   "execution_count": 47,
   "metadata": {},
   "outputs": [
    {
     "data": {
      "text/plain": [
       "{'X0': array([[ 0.0680435 ,  0.0542473 ,  0.06582624, ...,  0.140803  ,\n",
       "          0.12277742,  0.17640577],\n",
       "        [ 0.17328964,  0.14055291,  0.14555266, ...,  0.24317886,\n",
       "          0.21090013,  0.26040435],\n",
       "        [-0.04823001, -0.03630451, -0.02528265, ...,  0.02176935,\n",
       "          0.01100165,  0.04669435],\n",
       "        ...,\n",
       "        [ 0.01139064, -0.00322003,  0.01218239, ...,  0.07768892,\n",
       "          0.07114612,  0.11692525],\n",
       "        [-0.04154977, -0.03624707, -0.01214431, ...,  0.04561742,\n",
       "          0.04519469,  0.08138346],\n",
       "        [ 0.01418446,  0.00359574,  0.02741207, ...,  0.09478879,\n",
       "          0.09280609,  0.1354646 ]], dtype=float32),\n",
       " 'X1': array([[ 0.3482294 ,  0.39345062,  0.37266505, ...,  0.4762044 ,\n",
       "          0.5055618 ,  0.4819826 ],\n",
       "        [ 0.3819042 ,  0.4306716 ,  0.4181392 , ...,  0.5277822 ,\n",
       "          0.5375077 ,  0.51829445],\n",
       "        [ 0.0678298 ,  0.07154296,  0.07602951, ...,  0.18422021,\n",
       "          0.19418761,  0.19112921],\n",
       "        ...,\n",
       "        [ 0.0580897 ,  0.08317818,  0.06481917, ...,  0.1962187 ,\n",
       "          0.22377609,  0.20715564],\n",
       "        [-0.01418571, -0.01574923, -0.02592304, ...,  0.12803866,\n",
       "          0.1244607 ,  0.12635908],\n",
       "        [ 0.07862346,  0.11579832,  0.08593255, ...,  0.23386917,\n",
       "          0.240016  ,  0.23045163]], dtype=float32),\n",
       " 'X2': array([[-0.7097705 , -0.20084113, -0.8883259 , ..., -0.36580542,\n",
       "         -0.22966403, -0.60204333],\n",
       "        [-0.73738366, -0.09669115, -0.8855803 , ..., -0.29818973,\n",
       "         -0.13087517, -0.7403701 ],\n",
       "        [-0.558862  , -0.13781627, -0.5510166 , ..., -0.14335155,\n",
       "         -0.31817397, -0.41470546],\n",
       "        ...,\n",
       "        [-0.65463066, -0.20232518, -0.7874462 , ..., -0.31685755,\n",
       "         -0.17689227, -0.46303433],\n",
       "        [-0.74527085, -0.36886284, -0.8162508 , ..., -0.3500815 ,\n",
       "         -0.29839712, -0.5693218 ],\n",
       "        [-0.76595724, -0.35108232, -0.79291224, ..., -0.4149466 ,\n",
       "         -0.24541906, -0.5803529 ]], dtype=float32),\n",
       " 'X3': array([[ 0.04320224,  0.05931895,  0.07437854, ...,  0.08552638,\n",
       "          0.05112128,  0.05711018],\n",
       "        [-0.00598312,  0.01527258,  0.00832849, ...,  0.02594281,\n",
       "         -0.00575343, -0.00992147],\n",
       "        [ 0.43498516,  0.3742153 ,  0.40419546, ...,  0.4285467 ,\n",
       "          0.41316766,  0.3951927 ],\n",
       "        ...,\n",
       "        [ 0.4617932 ,  0.38192567,  0.41738743, ...,  0.4303109 ,\n",
       "          0.43210372,  0.38971388],\n",
       "        [ 0.04250657,  0.04111468,  0.04756211, ...,  0.0510358 ,\n",
       "          0.0408862 ,  0.0172523 ],\n",
       "        [ 0.02646607,  0.04454757,  0.03420122, ...,  0.04676379,\n",
       "          0.03196867,  0.01868316]], dtype=float32),\n",
       " 'X4': array([[-0.30439037, -0.38210216, -0.35691705, ...,  0.7950735 ,\n",
       "          0.7550096 ,  0.7157875 ],\n",
       "        [-0.3004142 , -0.29483697, -0.22057973, ...,  0.4529239 ,\n",
       "          0.40693337,  0.47875047],\n",
       "        [-0.207469  , -0.3131729 , -0.21260314, ...,  0.7005744 ,\n",
       "          0.67660093,  0.7608257 ],\n",
       "        ...,\n",
       "        [ 0.28545028,  0.2470799 ,  0.26068565, ...,  1.1889365 ,\n",
       "          1.2020364 ,  1.1487052 ],\n",
       "        [ 0.3259342 ,  0.26787046,  0.39946294, ...,  1.5078237 ,\n",
       "          1.4417338 ,  1.4738197 ],\n",
       "        [ 0.23045827,  0.21471557,  0.24543723, ...,  1.344008  ,\n",
       "          1.3173869 ,  1.3724196 ]], dtype=float32)}"
      ]
     },
     "execution_count": 47,
     "metadata": {},
     "output_type": "execute_result"
    }
   ],
   "source": [
    "dict_out_np"
   ]
  },
  {
   "cell_type": "code",
   "execution_count": 48,
   "metadata": {
    "collapsed": true
   },
   "outputs": [],
   "source": [
    "fname_out = out_dir + \"dict_out_dcmf.pkl\"\n",
    "pkl.dump(dict_out_np,open(fname_out,\"wb\"))"
   ]
  },
  {
   "cell_type": "code",
   "execution_count": null,
   "metadata": {
    "collapsed": true
   },
   "outputs": [],
   "source": []
  }
 ],
 "metadata": {
  "kernelspec": {
   "display_name": "Python 3",
   "language": "python",
   "name": "python3"
  },
  "language_info": {
   "codemirror_mode": {
    "name": "ipython",
    "version": 3
   },
   "file_extension": ".py",
   "mimetype": "text/x-python",
   "name": "python",
   "nbconvert_exporter": "python",
   "pygments_lexer": "ipython3",
   "version": "3.6.3"
  }
 },
 "nbformat": 4,
 "nbformat_minor": 2
}
