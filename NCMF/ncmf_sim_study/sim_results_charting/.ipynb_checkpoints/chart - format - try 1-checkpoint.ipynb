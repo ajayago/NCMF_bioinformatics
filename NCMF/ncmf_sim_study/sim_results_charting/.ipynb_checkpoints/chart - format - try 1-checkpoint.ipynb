{
 "cells": [
  {
   "cell_type": "code",
   "execution_count": 1,
   "metadata": {},
   "outputs": [],
   "source": [
    "import pandas as pd\n",
    "import numpy as np\n",
    "import pickle as pkl\n",
    "\n",
    "import seaborn as sns\n",
    "%matplotlib inline"
   ]
  },
  {
   "cell_type": "code",
   "execution_count": 2,
   "metadata": {},
   "outputs": [],
   "source": [
    "base_dir = \"./\""
   ]
  },
  {
   "cell_type": "code",
   "execution_count": 3,
   "metadata": {},
   "outputs": [
    {
     "name": "stdout",
     "output_type": "stream",
     "text": [
      "cur_run:  1\n",
      "fname_auc_diff:  ./run_1/auc.csv\n",
      "fname_mse_diff:  ./run_1/mse.csv\n",
      "cur_run:  2\n",
      "fname_auc_diff:  ./run_2/auc.csv\n",
      "fname_mse_diff:  ./run_2/mse.csv\n",
      "cur_run:  3\n",
      "fname_auc_diff:  ./run_3/auc.csv\n",
      "fname_mse_diff:  ./run_3/mse.csv\n"
     ]
    }
   ],
   "source": [
    "dict_run_auc_diff = {}\n",
    "dict_run_mse_diff = {}\n",
    "for cur_run in np.arange(1,4):\n",
    "    print(\"cur_run: \",cur_run)\n",
    "    fname_auc_diff = base_dir+\"run_\"+str(cur_run)+\"/auc.csv\"\n",
    "    fname_mse_diff = base_dir+\"run_\"+str(cur_run)+\"/mse.csv\"\n",
    "    print(\"fname_auc_diff: \",fname_auc_diff)\n",
    "    print(\"fname_mse_diff: \",fname_mse_diff)\n",
    "    df_auc_diff = pd.read_csv(fname_auc_diff)\n",
    "    df_auc_diff.columns = ['Dataset', 'ncmf', 'dfmf', 'dcmf', 'cmf', 'gcmf']\n",
    "    df_mse_diff = pd.read_csv(fname_mse_diff)\n",
    "    df_mse_diff.columns = ['Dataset', 'ncmf', 'dfmf', 'dcmf', 'cmf', 'gcmf']\n",
    "    df_auc_diff.set_index(\"Dataset\",inplace=True)\n",
    "    df_mse_diff.set_index(\"Dataset\",inplace=True)\n",
    "    dict_run_auc_diff[cur_run] = df_auc_diff\n",
    "    dict_run_mse_diff[cur_run] = df_mse_diff\n",
    "    "
   ]
  },
  {
   "cell_type": "code",
   "execution_count": 4,
   "metadata": {},
   "outputs": [
    {
     "data": {
      "text/plain": [
       "{1:              ncmf      dfmf      dcmf       cmf      gcmf\n",
       " Dataset                                                  \n",
       " dt1      0.694169  0.504951  0.593978  0.505565  0.492926\n",
       " ds1      0.843713  0.496876  0.645934  0.501905  0.503642\n",
       " ds2      0.602945  0.496658  0.496348  0.497094  0.499142\n",
       " ds3      0.685329  0.497261  0.488925  0.484979  0.500045\n",
       " dn1      0.704248  0.502484  0.496590  0.498392  0.496617\n",
       " dn2      0.574447  0.496970  0.507489  0.494531  0.503370\n",
       " dn3      0.623779  0.498508  0.489534  0.503001  0.498468,\n",
       " 2:              ncmf      dfmf      dcmf       cmf      gcmf\n",
       " Dataset                                                  \n",
       " dt1      0.739162  0.503397  0.526687  0.494080  0.502659\n",
       " ds1      0.712635  0.497148  0.493014  0.503326  0.503095\n",
       " ds2      0.711882  0.499620  0.491598  0.501865  0.497812\n",
       " ds3      0.719064  0.499429  0.484807  0.500250  0.503198\n",
       " dn1      0.767408  0.495991  0.499595  0.497736  0.495036\n",
       " dn2      0.788515  0.499961  0.494992  0.505733  0.502578\n",
       " dn3      0.756745  0.498558  0.479537  0.498628  0.495225,\n",
       " 3:              ncmf      dfmf      dcmf       cmf      gcmf\n",
       " Dataset                                                  \n",
       " dt1      0.682633  0.490824  0.502879  0.503937  0.502980\n",
       " ds1      0.810601  0.497772  0.503685  0.490969  0.500616\n",
       " ds2      0.914175  0.501457  0.510735  0.492278  0.497871\n",
       " ds3      0.764492  0.493933  0.523853  0.497772  0.495406\n",
       " dn1      0.716204  0.503740  0.520360  0.507420  0.514535\n",
       " dn2      0.699812  0.510064  0.486916  0.497415  0.497890\n",
       " dn3      0.614199  0.493581  0.489148  0.499113  0.500489}"
      ]
     },
     "execution_count": 4,
     "metadata": {},
     "output_type": "execute_result"
    }
   ],
   "source": [
    "dict_run_auc_diff"
   ]
  },
  {
   "cell_type": "code",
   "execution_count": 5,
   "metadata": {},
   "outputs": [],
   "source": [
    "#AUC"
   ]
  },
  {
   "cell_type": "code",
   "execution_count": 6,
   "metadata": {},
   "outputs": [
    {
     "name": "stdout",
     "output_type": "stream",
     "text": [
      "%\n",
      "%AUC run:  1\n",
      "%\n",
      "\\begin{tabular}{lrrrrr}\n",
      "\\toprule\n",
      "{} &      ncmf &      dfmf &      dcmf &       cmf &      gcmf \\\\\n",
      "Dataset &           &           &           &           &           \\\\\n",
      "\\midrule\n",
      "dt1     &  0.694169 &  0.504951 &  0.593978 &  0.505565 &  0.492926 \\\\\n",
      "ds1     &  0.843713 &  0.496876 &  0.645934 &  0.501905 &  0.503642 \\\\\n",
      "ds2     &  0.602945 &  0.496658 &  0.496348 &  0.497094 &  0.499142 \\\\\n",
      "ds3     &  0.685329 &  0.497261 &  0.488925 &  0.484979 &  0.500045 \\\\\n",
      "dn1     &  0.704248 &  0.502484 &  0.496590 &  0.498392 &  0.496617 \\\\\n",
      "dn2     &  0.574447 &  0.496970 &  0.507489 &  0.494531 &  0.503370 \\\\\n",
      "dn3     &  0.623779 &  0.498508 &  0.489534 &  0.503001 &  0.498468 \\\\\n",
      "\\bottomrule\n",
      "\\end{tabular}\n",
      "\n",
      "#\n",
      "%\n",
      "%AUC run:  2\n",
      "%\n",
      "\\begin{tabular}{lrrrrr}\n",
      "\\toprule\n",
      "{} &      ncmf &      dfmf &      dcmf &       cmf &      gcmf \\\\\n",
      "Dataset &           &           &           &           &           \\\\\n",
      "\\midrule\n",
      "dt1     &  0.739162 &  0.503397 &  0.526687 &  0.494080 &  0.502659 \\\\\n",
      "ds1     &  0.712635 &  0.497148 &  0.493014 &  0.503326 &  0.503095 \\\\\n",
      "ds2     &  0.711882 &  0.499620 &  0.491598 &  0.501865 &  0.497812 \\\\\n",
      "ds3     &  0.719064 &  0.499429 &  0.484807 &  0.500250 &  0.503198 \\\\\n",
      "dn1     &  0.767408 &  0.495991 &  0.499595 &  0.497736 &  0.495036 \\\\\n",
      "dn2     &  0.788515 &  0.499961 &  0.494992 &  0.505733 &  0.502578 \\\\\n",
      "dn3     &  0.756745 &  0.498558 &  0.479537 &  0.498628 &  0.495225 \\\\\n",
      "\\bottomrule\n",
      "\\end{tabular}\n",
      "\n",
      "#\n",
      "%\n",
      "%AUC run:  3\n",
      "%\n",
      "\\begin{tabular}{lrrrrr}\n",
      "\\toprule\n",
      "{} &      ncmf &      dfmf &      dcmf &       cmf &      gcmf \\\\\n",
      "Dataset &           &           &           &           &           \\\\\n",
      "\\midrule\n",
      "dt1     &  0.682633 &  0.490824 &  0.502879 &  0.503937 &  0.502980 \\\\\n",
      "ds1     &  0.810601 &  0.497772 &  0.503685 &  0.490969 &  0.500616 \\\\\n",
      "ds2     &  0.914175 &  0.501457 &  0.510735 &  0.492278 &  0.497871 \\\\\n",
      "ds3     &  0.764492 &  0.493933 &  0.523853 &  0.497772 &  0.495406 \\\\\n",
      "dn1     &  0.716204 &  0.503740 &  0.520360 &  0.507420 &  0.514535 \\\\\n",
      "dn2     &  0.699812 &  0.510064 &  0.486916 &  0.497415 &  0.497890 \\\\\n",
      "dn3     &  0.614199 &  0.493581 &  0.489148 &  0.499113 &  0.500489 \\\\\n",
      "\\bottomrule\n",
      "\\end{tabular}\n",
      "\n",
      "#\n"
     ]
    }
   ],
   "source": [
    "for cur_run in [1,2,3]:\n",
    "    print(\"%\")\n",
    "    print(\"%AUC run: \",cur_run)\n",
    "    print(\"%\")\n",
    "    print(dict_run_auc_diff[cur_run].to_latex())\n",
    "    print(\"%\")"
   ]
  },
  {
   "cell_type": "code",
   "execution_count": 7,
   "metadata": {},
   "outputs": [
    {
     "data": {
      "text/plain": [
       "{1:              ncmf      dfmf      dcmf       cmf      gcmf\n",
       " Dataset                                                  \n",
       " dt1      0.243734  0.225793  0.232212  0.259691  0.321207\n",
       " ds1      0.163278  0.198359  0.159278  0.180350  0.216565\n",
       " ds2      0.151509  0.182520  0.218122  0.193482  0.241195\n",
       " ds3      0.146326  0.141507  0.192163  0.199317  0.207684\n",
       " dn1      0.251849  0.246202  0.318778  0.326729  0.368790\n",
       " dn2      0.275707  0.266600  0.344924  0.295878  0.356071\n",
       " dn3      0.279937  0.304498  0.387488  0.334323  0.404740,\n",
       " 2:              ncmf      dfmf      dcmf       cmf      gcmf\n",
       " Dataset                                                  \n",
       " dt1      0.257418  0.227377  0.308329  0.264155  0.321771\n",
       " ds1      0.152765  0.202638  0.215771  0.178103  0.224079\n",
       " ds2      0.157021  0.181443  0.215600  0.190071  0.226842\n",
       " ds3      0.143442  0.148286  0.188720  0.194703  0.212371\n",
       " dn1      0.253928  0.244639  0.328240  0.351361  0.385841\n",
       " dn2      0.268239  0.269549  0.350247  0.314312  0.367881\n",
       " dn3      0.261026  0.304821  0.382614  0.338173  0.377972,\n",
       " 3:              ncmf      dfmf      dcmf       cmf      gcmf\n",
       " Dataset                                                  \n",
       " dt1      0.265427  0.231591  0.324329  0.273429  0.324526\n",
       " ds1      0.149777  0.197331  0.214594  0.184684  0.215715\n",
       " ds2      0.135578  0.181596  0.210906  0.185170  0.241224\n",
       " ds3      0.149728  0.150867  0.191792  0.187055  0.233550\n",
       " dn1      0.242211  0.243548  0.318929  0.312868  0.357457\n",
       " dn2      0.239689  0.270034  0.366113  0.336419  0.378433\n",
       " dn3      0.304632  0.306513  0.392831  0.385157  0.414315}"
      ]
     },
     "execution_count": 7,
     "metadata": {},
     "output_type": "execute_result"
    }
   ],
   "source": [
    "dict_run_mse_diff"
   ]
  },
  {
   "cell_type": "code",
   "execution_count": 8,
   "metadata": {},
   "outputs": [
    {
     "name": "stdout",
     "output_type": "stream",
     "text": [
      "%\n",
      "%MSE run:  1\n",
      "%\n",
      "\\begin{tabular}{lrrrrr}\n",
      "\\toprule\n",
      "{} &      ncmf &      dfmf &      dcmf &       cmf &      gcmf \\\\\n",
      "Dataset &           &           &           &           &           \\\\\n",
      "\\midrule\n",
      "dt1     &  0.243734 &  0.225793 &  0.232212 &  0.259691 &  0.321207 \\\\\n",
      "ds1     &  0.163278 &  0.198359 &  0.159278 &  0.180350 &  0.216565 \\\\\n",
      "ds2     &  0.151509 &  0.182520 &  0.218122 &  0.193482 &  0.241195 \\\\\n",
      "ds3     &  0.146326 &  0.141507 &  0.192163 &  0.199317 &  0.207684 \\\\\n",
      "dn1     &  0.251849 &  0.246202 &  0.318778 &  0.326729 &  0.368790 \\\\\n",
      "dn2     &  0.275707 &  0.266600 &  0.344924 &  0.295878 &  0.356071 \\\\\n",
      "dn3     &  0.279937 &  0.304498 &  0.387488 &  0.334323 &  0.404740 \\\\\n",
      "\\bottomrule\n",
      "\\end{tabular}\n",
      "\n",
      "#\n",
      "%\n",
      "%MSE run:  2\n",
      "%\n",
      "\\begin{tabular}{lrrrrr}\n",
      "\\toprule\n",
      "{} &      ncmf &      dfmf &      dcmf &       cmf &      gcmf \\\\\n",
      "Dataset &           &           &           &           &           \\\\\n",
      "\\midrule\n",
      "dt1     &  0.257418 &  0.227377 &  0.308329 &  0.264155 &  0.321771 \\\\\n",
      "ds1     &  0.152765 &  0.202638 &  0.215771 &  0.178103 &  0.224079 \\\\\n",
      "ds2     &  0.157021 &  0.181443 &  0.215600 &  0.190071 &  0.226842 \\\\\n",
      "ds3     &  0.143442 &  0.148286 &  0.188720 &  0.194703 &  0.212371 \\\\\n",
      "dn1     &  0.253928 &  0.244639 &  0.328240 &  0.351361 &  0.385841 \\\\\n",
      "dn2     &  0.268239 &  0.269549 &  0.350247 &  0.314312 &  0.367881 \\\\\n",
      "dn3     &  0.261026 &  0.304821 &  0.382614 &  0.338173 &  0.377972 \\\\\n",
      "\\bottomrule\n",
      "\\end{tabular}\n",
      "\n",
      "#\n",
      "%\n",
      "%MSE run:  3\n",
      "%\n",
      "\\begin{tabular}{lrrrrr}\n",
      "\\toprule\n",
      "{} &      ncmf &      dfmf &      dcmf &       cmf &      gcmf \\\\\n",
      "Dataset &           &           &           &           &           \\\\\n",
      "\\midrule\n",
      "dt1     &  0.265427 &  0.231591 &  0.324329 &  0.273429 &  0.324526 \\\\\n",
      "ds1     &  0.149777 &  0.197331 &  0.214594 &  0.184684 &  0.215715 \\\\\n",
      "ds2     &  0.135578 &  0.181596 &  0.210906 &  0.185170 &  0.241224 \\\\\n",
      "ds3     &  0.149728 &  0.150867 &  0.191792 &  0.187055 &  0.233550 \\\\\n",
      "dn1     &  0.242211 &  0.243548 &  0.318929 &  0.312868 &  0.357457 \\\\\n",
      "dn2     &  0.239689 &  0.270034 &  0.366113 &  0.336419 &  0.378433 \\\\\n",
      "dn3     &  0.304632 &  0.306513 &  0.392831 &  0.385157 &  0.414315 \\\\\n",
      "\\bottomrule\n",
      "\\end{tabular}\n",
      "\n",
      "#\n"
     ]
    }
   ],
   "source": [
    "for cur_run in [1,2,3]:\n",
    "    print(\"%\")\n",
    "    print(\"%MSE run: \",cur_run)\n",
    "    print(\"%\")\n",
    "    print(dict_run_mse_diff[cur_run].to_latex())\n",
    "    print(\"%\")"
   ]
  },
  {
   "cell_type": "code",
   "execution_count": null,
   "metadata": {},
   "outputs": [],
   "source": []
  }
 ],
 "metadata": {
  "kernelspec": {
   "display_name": "Python 3",
   "language": "python",
   "name": "python3"
  },
  "language_info": {
   "codemirror_mode": {
    "name": "ipython",
    "version": 3
   },
   "file_extension": ".py",
   "mimetype": "text/x-python",
   "name": "python",
   "nbconvert_exporter": "python",
   "pygments_lexer": "ipython3",
   "version": "3.7.7"
  }
 },
 "nbformat": 4,
 "nbformat_minor": 4
}
