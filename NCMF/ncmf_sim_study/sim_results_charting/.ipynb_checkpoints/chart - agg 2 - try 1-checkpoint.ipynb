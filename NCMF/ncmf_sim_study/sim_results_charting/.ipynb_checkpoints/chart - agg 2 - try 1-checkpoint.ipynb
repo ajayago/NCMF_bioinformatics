{
 "cells": [
  {
   "cell_type": "code",
   "execution_count": 1,
   "metadata": {},
   "outputs": [],
   "source": [
    "import pandas as pd\n",
    "import numpy as np\n",
    "import pickle as pkl\n",
    "\n",
    "import seaborn as sns\n",
    "%matplotlib inline"
   ]
  },
  {
   "cell_type": "code",
   "execution_count": 2,
   "metadata": {},
   "outputs": [],
   "source": [
    "base_dir = \"./\""
   ]
  },
  {
   "cell_type": "code",
   "execution_count": 3,
   "metadata": {},
   "outputs": [
    {
     "name": "stdout",
     "output_type": "stream",
     "text": [
      "cur_run:  1\n",
      "fname_auc_diff:  ./run_1/diff_auc.csv\n",
      "fname_mse_diff:  ./run_1/diff_mse.csv\n",
      "cur_run:  2\n",
      "fname_auc_diff:  ./run_2/diff_auc.csv\n",
      "fname_mse_diff:  ./run_2/diff_mse.csv\n",
      "cur_run:  3\n",
      "fname_auc_diff:  ./run_3/diff_auc.csv\n",
      "fname_mse_diff:  ./run_3/diff_mse.csv\n"
     ]
    }
   ],
   "source": [
    "dict_run_auc_diff = {}\n",
    "dict_run_mse_diff = {}\n",
    "for cur_run in np.arange(1,4):\n",
    "    print(\"cur_run: \",cur_run)\n",
    "    fname_auc_diff = base_dir+\"run_\"+str(cur_run)+\"/diff_auc.csv\"\n",
    "    fname_mse_diff = base_dir+\"run_\"+str(cur_run)+\"/diff_mse.csv\"\n",
    "    print(\"fname_auc_diff: \",fname_auc_diff)\n",
    "    print(\"fname_mse_diff: \",fname_mse_diff)\n",
    "    df_auc_diff = pd.read_csv(fname_auc_diff)\n",
    "    df_auc_diff.columns = ['Dataset', 'dfmf', 'dcmf', 'cmf', 'gcmf']\n",
    "    df_mse_diff = pd.read_csv(fname_mse_diff)\n",
    "    df_mse_diff.columns = ['Dataset', 'dfmf', 'dcmf', 'cmf', 'gcmf']\n",
    "    df_auc_diff.set_index(\"Dataset\",inplace=True)\n",
    "    df_mse_diff.set_index(\"Dataset\",inplace=True)\n",
    "    dict_run_auc_diff[cur_run] = df_auc_diff\n",
    "    dict_run_mse_diff[cur_run] = df_mse_diff\n",
    "    "
   ]
  },
  {
   "cell_type": "code",
   "execution_count": 4,
   "metadata": {},
   "outputs": [],
   "source": [
    "# def get_mean_std(dict_run_auc_diff):\n",
    "#     list_df = list(dict_run_auc_diff.values())\n",
    "#     return p.mean(list_df), np.std(np.mean(list_df))"
   ]
  },
  {
   "cell_type": "code",
   "execution_count": 47,
   "metadata": {},
   "outputs": [],
   "source": [
    "#mean\n",
    "num_runs = 3\n",
    "df_auc_diff_sum = None\n",
    "for cur_run in np.arange(1,num_runs+1):\n",
    "    if cur_run in [1]:\n",
    "        df_auc_diff_sum = dict_run_auc_diff[cur_run]\n",
    "    else:\n",
    "        df_auc_diff_sum += dict_run_auc_diff[cur_run]\n",
    "df_auc_diff_mean = df_auc_diff_sum/num_runs"
   ]
  },
  {
   "cell_type": "code",
   "execution_count": 6,
   "metadata": {},
   "outputs": [
    {
     "data": {
      "text/plain": [
       "{1:              dfmf      dcmf       cmf      gcmf\n",
       " Dataset                                        \n",
       " dt1      0.120010  0.011735  0.124643  0.132035\n",
       " ds1      0.150325  0.028607  0.156053  0.154992\n",
       " ds2      0.378303  0.067727  0.366983  0.374196\n",
       " ds3      0.366727  0.091678  0.371316  0.370081\n",
       " dn1      0.145908  0.032651  0.143417  0.128617\n",
       " dn2      0.056687  0.033203  0.056419  0.062678\n",
       " dn3      0.068832  0.015036  0.074170  0.067796,\n",
       " 2:              dfmf      dcmf       cmf      gcmf\n",
       " Dataset                                        \n",
       " dt1      0.232644  0.210303  0.235819  0.231414\n",
       " ds1      0.314851  0.339965  0.319857  0.316683\n",
       " ds2      0.241146  0.241401  0.249875  0.242826\n",
       " ds3      0.295648  0.291904  0.292058  0.299651\n",
       " dn1      0.126145  0.141069  0.133364  0.121453\n",
       " dn2      0.339452  0.353663  0.345052  0.344385\n",
       " dn3      0.255558  0.247517  0.249077  0.243974,\n",
       " 3:              dfmf      dcmf       cmf      gcmf\n",
       " Dataset                                        \n",
       " dt1      0.182487  0.162299  0.202701  0.179208\n",
       " ds1      0.117025  0.127650  0.117214  0.113005\n",
       " ds2      0.307564  0.305580  0.301419  0.299623\n",
       " ds3      0.317839  0.290195  0.321593  0.315488\n",
       " dn1      0.251661  0.250248  0.249546  0.251949\n",
       " dn2      0.166790  0.151651  0.152224  0.171771\n",
       " dn3      0.148890  0.140244  0.144196  0.140320}"
      ]
     },
     "execution_count": 6,
     "metadata": {},
     "output_type": "execute_result"
    }
   ],
   "source": [
    "dict_run_auc_diff"
   ]
  },
  {
   "cell_type": "code",
   "execution_count": 34,
   "metadata": {},
   "outputs": [],
   "source": [
    "dict_run_auc_diff_arr = {}\n",
    "#\n",
    "list_baselines = [\"dfmf\",\"dcmf\",\"cmf\",\"gcmf\"]\n",
    "list_datasets = [\"dt1\",\"ds1\",\"ds2\",\"ds3\",\"dn1\",\"dn2\",\"dn3\"]\n",
    "#\n",
    "for cur_run in dict_run_auc_diff.keys():\n",
    "    cur_df = dict_run_auc_diff[cur_run]\n",
    "    dict_run_auc_diff_arr[cur_run] = cur_df.to_numpy()    "
   ]
  },
  {
   "cell_type": "code",
   "execution_count": 35,
   "metadata": {},
   "outputs": [
    {
     "data": {
      "text/plain": [
       "{1: array([[0.53514103, 0.38433773, 0.56316367, 0.54265596],\n",
       "        [0.58220035, 0.49622214, 0.5931237 , 0.58468044],\n",
       "        [0.92701312, 0.61470763, 0.91827771, 0.9166452 ],\n",
       "        [0.98021393, 0.67377747, 0.98496592, 0.98522087],\n",
       "        [0.5237144 , 0.42396851, 0.52632622, 0.502019  ],\n",
       "        [0.56292891, 0.53851797, 0.55369476, 0.57883301],\n",
       "        [0.47327967, 0.40279785, 0.46744328, 0.45209051]]),\n",
       " 2: array([[0.23264409, 0.21030348, 0.23581897, 0.23141369],\n",
       "        [0.31485061, 0.33996478, 0.31985732, 0.31668316],\n",
       "        [0.24114641, 0.24140123, 0.24987537, 0.24282617],\n",
       "        [0.29564848, 0.29190446, 0.29205758, 0.29965134],\n",
       "        [0.12614528, 0.14106923, 0.13336368, 0.12145328],\n",
       "        [0.33945163, 0.35366344, 0.34505206, 0.34438469],\n",
       "        [0.2555581 , 0.24751713, 0.24907673, 0.24397442]]),\n",
       " 3: array([[0.18248732, 0.16229913, 0.20270131, 0.17920754],\n",
       "        [0.11702455, 0.12764996, 0.11721378, 0.1130051 ],\n",
       "        [0.30756391, 0.30557976, 0.30141929, 0.29962255],\n",
       "        [0.31783853, 0.29019461, 0.32159282, 0.31548821],\n",
       "        [0.25166093, 0.2502483 , 0.2495456 , 0.25194908],\n",
       "        [0.16679008, 0.15165104, 0.15222365, 0.17177058],\n",
       "        [0.14888995, 0.14024445, 0.14419627, 0.14032029]])}"
      ]
     },
     "execution_count": 35,
     "metadata": {},
     "output_type": "execute_result"
    }
   ],
   "source": [
    "dict_run_auc_diff_arr"
   ]
  },
  {
   "cell_type": "code",
   "execution_count": 38,
   "metadata": {},
   "outputs": [],
   "source": [
    "dict_ij_val_list = {}\n",
    "for cur_run in dict_run_auc_diff.keys():\n",
    "    for i in np.arange(len(list_datasets)):\n",
    "        for j in np.arange(len(list_baselines)):\n",
    "            dict_ij_val_list[(i,j)] = []"
   ]
  },
  {
   "cell_type": "code",
   "execution_count": 39,
   "metadata": {},
   "outputs": [],
   "source": [
    "for cur_run in dict_run_auc_diff.keys():\n",
    "    cur_arr = dict_run_auc_diff_arr[cur_run]\n",
    "    for i in np.arange(len(list_datasets)):\n",
    "        for j in np.arange(len(list_baselines)):\n",
    "            dict_ij_val_list[(i,j)].append(cur_arr[i,j])"
   ]
  },
  {
   "cell_type": "code",
   "execution_count": 41,
   "metadata": {},
   "outputs": [],
   "source": [
    "dict_ij_sd = {}\n",
    "for i in np.arange(len(list_datasets)):\n",
    "    for j in np.arange(len(list_baselines)):\n",
    "        dict_ij_sd[(i,j)] = np.std(dict_ij_val_list[(i,j)])"
   ]
  },
  {
   "cell_type": "code",
   "execution_count": 43,
   "metadata": {},
   "outputs": [
    {
     "data": {
      "text/plain": [
       "[0.5351410306507687, 0.2326440851063829, 0.1824873197983512]"
      ]
     },
     "execution_count": 43,
     "metadata": {},
     "output_type": "execute_result"
    }
   ],
   "source": [
    "dict_ij_val_list[(0,0)]"
   ]
  },
  {
   "cell_type": "code",
   "execution_count": 42,
   "metadata": {},
   "outputs": [
    {
     "data": {
      "text/plain": [
       "{(0, 0): 0.15577217799930645,\n",
       " (0, 1): 0.09539012069482877,\n",
       " (0, 2): 0.16268047878902517,\n",
       " (0, 3): 0.16044797968958607,\n",
       " (1, 0): 0.19061292010905415,\n",
       " (1, 1): 0.1510479680772421,\n",
       " (1, 2): 0.19500118852324788,\n",
       " (1, 3): 0.19315650255375683,\n",
       " (2, 0): 0.3088584255805539,\n",
       " (2, 1): 0.16297122910825732,\n",
       " (2, 2): 0.3036688191195067,\n",
       " (2, 3): 0.3051365588526092,\n",
       " (3, 0): 0.3176062258658719,\n",
       " (3, 1): 0.18042103218089897,\n",
       " (3, 2): 0.3199059173751534,\n",
       " (3, 3): 0.319513211959809,\n",
       " (4, 0): 0.16594124713983058,\n",
       " (4, 1): 0.11649071360644281,\n",
       " (4, 2): 0.16483166973947386,\n",
       " (4, 3): 0.15790094693098058,\n",
       " (5, 0): 0.1621659226286316,\n",
       " (5, 1): 0.15798953201104873,\n",
       " (5, 2): 0.16394227441108092,\n",
       " (5, 3): 0.16682041556654637,\n",
       " (6, 0): 0.13499360694298004,\n",
       " (6, 1): 0.10778261150182052,\n",
       " (6, 2): 0.13464871852758997,\n",
       " (6, 3): 0.12963930943262045}"
      ]
     },
     "execution_count": 42,
     "metadata": {},
     "output_type": "execute_result"
    }
   ],
   "source": [
    "dict_ij_sd"
   ]
  },
  {
   "cell_type": "code",
   "execution_count": 44,
   "metadata": {},
   "outputs": [],
   "source": [
    "#back to --> arr --> df\n",
    "sd_arr = np.zeros((len(list_datasets),len(list_baselines)))\n",
    "for i in np.arange(len(list_datasets)):\n",
    "    for j in np.arange(len(list_baselines)):\n",
    "        sd_arr[i,j] = dict_ij_sd[(i,j)]"
   ]
  },
  {
   "cell_type": "code",
   "execution_count": 45,
   "metadata": {},
   "outputs": [],
   "source": [
    "df_auc_diff_std = pd.DataFrame(sd_arr)\n",
    "df_auc_diff_std.columns = list_baselines\n",
    "df_auc_diff_std.index = list_datasets"
   ]
  },
  {
   "cell_type": "code",
   "execution_count": 46,
   "metadata": {},
   "outputs": [
    {
     "data": {
      "text/html": [
       "<div>\n",
       "<style scoped>\n",
       "    .dataframe tbody tr th:only-of-type {\n",
       "        vertical-align: middle;\n",
       "    }\n",
       "\n",
       "    .dataframe tbody tr th {\n",
       "        vertical-align: top;\n",
       "    }\n",
       "\n",
       "    .dataframe thead th {\n",
       "        text-align: right;\n",
       "    }\n",
       "</style>\n",
       "<table border=\"1\" class=\"dataframe\">\n",
       "  <thead>\n",
       "    <tr style=\"text-align: right;\">\n",
       "      <th></th>\n",
       "      <th>dfmf</th>\n",
       "      <th>dcmf</th>\n",
       "      <th>cmf</th>\n",
       "      <th>gcmf</th>\n",
       "    </tr>\n",
       "  </thead>\n",
       "  <tbody>\n",
       "    <tr>\n",
       "      <th>dt1</th>\n",
       "      <td>0.155772</td>\n",
       "      <td>0.095390</td>\n",
       "      <td>0.162680</td>\n",
       "      <td>0.160448</td>\n",
       "    </tr>\n",
       "    <tr>\n",
       "      <th>ds1</th>\n",
       "      <td>0.190613</td>\n",
       "      <td>0.151048</td>\n",
       "      <td>0.195001</td>\n",
       "      <td>0.193157</td>\n",
       "    </tr>\n",
       "    <tr>\n",
       "      <th>ds2</th>\n",
       "      <td>0.308858</td>\n",
       "      <td>0.162971</td>\n",
       "      <td>0.303669</td>\n",
       "      <td>0.305137</td>\n",
       "    </tr>\n",
       "    <tr>\n",
       "      <th>ds3</th>\n",
       "      <td>0.317606</td>\n",
       "      <td>0.180421</td>\n",
       "      <td>0.319906</td>\n",
       "      <td>0.319513</td>\n",
       "    </tr>\n",
       "    <tr>\n",
       "      <th>dn1</th>\n",
       "      <td>0.165941</td>\n",
       "      <td>0.116491</td>\n",
       "      <td>0.164832</td>\n",
       "      <td>0.157901</td>\n",
       "    </tr>\n",
       "    <tr>\n",
       "      <th>dn2</th>\n",
       "      <td>0.162166</td>\n",
       "      <td>0.157990</td>\n",
       "      <td>0.163942</td>\n",
       "      <td>0.166820</td>\n",
       "    </tr>\n",
       "    <tr>\n",
       "      <th>dn3</th>\n",
       "      <td>0.134994</td>\n",
       "      <td>0.107783</td>\n",
       "      <td>0.134649</td>\n",
       "      <td>0.129639</td>\n",
       "    </tr>\n",
       "  </tbody>\n",
       "</table>\n",
       "</div>"
      ],
      "text/plain": [
       "         dfmf      dcmf       cmf      gcmf\n",
       "dt1  0.155772  0.095390  0.162680  0.160448\n",
       "ds1  0.190613  0.151048  0.195001  0.193157\n",
       "ds2  0.308858  0.162971  0.303669  0.305137\n",
       "ds3  0.317606  0.180421  0.319906  0.319513\n",
       "dn1  0.165941  0.116491  0.164832  0.157901\n",
       "dn2  0.162166  0.157990  0.163942  0.166820\n",
       "dn3  0.134994  0.107783  0.134649  0.129639"
      ]
     },
     "execution_count": 46,
     "metadata": {},
     "output_type": "execute_result"
    }
   ],
   "source": [
    "df_auc_diff_std"
   ]
  },
  {
   "cell_type": "code",
   "execution_count": 10,
   "metadata": {},
   "outputs": [],
   "source": [
    "#"
   ]
  },
  {
   "cell_type": "code",
   "execution_count": 11,
   "metadata": {},
   "outputs": [
    {
     "data": {
      "text/plain": [
       "{1:              dfmf      dcmf       cmf      gcmf\n",
       " Dataset                                        \n",
       " dt1     -0.019865 -0.030460 -0.043905 -0.115279\n",
       " ds1     -0.070353 -0.017558 -0.063803 -0.091634\n",
       " ds2     -0.062957 -0.023689 -0.066876 -0.116849\n",
       " ds3     -0.048188  0.013685 -0.107880 -0.125528\n",
       " dn1     -0.058296  0.006300 -0.147409 -0.189530\n",
       " dn2     -0.053982 -0.006997 -0.104386 -0.163508\n",
       " dn3     -0.032962 -0.018680 -0.081274 -0.145046,\n",
       " 2:              dfmf      dcmf       cmf      gcmf\n",
       " Dataset                                        \n",
       " dt1      0.028264 -0.047066  0.002551 -0.074336\n",
       " ds1     -0.056274 -0.075530 -0.025507 -0.066700\n",
       " ds2     -0.027072 -0.050911 -0.039400 -0.077273\n",
       " ds3      0.002744 -0.036821 -0.088015 -0.093470\n",
       " dn1      0.009617 -0.083058 -0.053956 -0.115979\n",
       " dn2      0.029236 -0.044011 -0.023198 -0.077070\n",
       " dn3      0.033694 -0.049781 -0.011536 -0.082264,\n",
       " 3:              dfmf      dcmf       cmf      gcmf\n",
       " Dataset                                        \n",
       " dt1      0.033655 -0.050380 -0.003919 -0.057842\n",
       " ds1     -0.045333 -0.069350 -0.037149 -0.064402\n",
       " ds2     -0.038483 -0.070339 -0.047868 -0.081673\n",
       " ds3     -0.002316 -0.057758 -0.032946 -0.071293\n",
       " dn1     -0.010545 -0.107949 -0.132101 -0.138276\n",
       " dn2     -0.016340 -0.100620 -0.061631 -0.131035\n",
       " dn3      0.008480 -0.078914 -0.047970 -0.085319}"
      ]
     },
     "execution_count": 11,
     "metadata": {},
     "output_type": "execute_result"
    }
   ],
   "source": [
    "dict_run_mse_diff"
   ]
  },
  {
   "cell_type": "code",
   "execution_count": 12,
   "metadata": {},
   "outputs": [],
   "source": [
    "# df_mse_diff_mean, df_mse_diff_std = get_mean_std(dict_run_mse_diff)"
   ]
  },
  {
   "cell_type": "code",
   "execution_count": 13,
   "metadata": {},
   "outputs": [
    {
     "data": {
      "text/html": [
       "<div>\n",
       "<style scoped>\n",
       "    .dataframe tbody tr th:only-of-type {\n",
       "        vertical-align: middle;\n",
       "    }\n",
       "\n",
       "    .dataframe tbody tr th {\n",
       "        vertical-align: top;\n",
       "    }\n",
       "\n",
       "    .dataframe thead th {\n",
       "        text-align: right;\n",
       "    }\n",
       "</style>\n",
       "<table border=\"1\" class=\"dataframe\">\n",
       "  <thead>\n",
       "    <tr style=\"text-align: right;\">\n",
       "      <th></th>\n",
       "      <th>dfmf</th>\n",
       "      <th>dcmf</th>\n",
       "      <th>cmf</th>\n",
       "      <th>gcmf</th>\n",
       "    </tr>\n",
       "    <tr>\n",
       "      <th>Dataset</th>\n",
       "      <th></th>\n",
       "      <th></th>\n",
       "      <th></th>\n",
       "      <th></th>\n",
       "    </tr>\n",
       "  </thead>\n",
       "  <tbody>\n",
       "    <tr>\n",
       "      <th>dt1</th>\n",
       "      <td>0.014018</td>\n",
       "      <td>-0.042635</td>\n",
       "      <td>-0.015091</td>\n",
       "      <td>-0.082486</td>\n",
       "    </tr>\n",
       "    <tr>\n",
       "      <th>ds1</th>\n",
       "      <td>-0.057320</td>\n",
       "      <td>-0.054146</td>\n",
       "      <td>-0.042153</td>\n",
       "      <td>-0.074245</td>\n",
       "    </tr>\n",
       "    <tr>\n",
       "      <th>ds2</th>\n",
       "      <td>-0.042837</td>\n",
       "      <td>-0.048313</td>\n",
       "      <td>-0.051381</td>\n",
       "      <td>-0.091932</td>\n",
       "    </tr>\n",
       "    <tr>\n",
       "      <th>ds3</th>\n",
       "      <td>-0.015920</td>\n",
       "      <td>-0.026965</td>\n",
       "      <td>-0.076280</td>\n",
       "      <td>-0.096764</td>\n",
       "    </tr>\n",
       "    <tr>\n",
       "      <th>dn1</th>\n",
       "      <td>-0.019741</td>\n",
       "      <td>-0.061569</td>\n",
       "      <td>-0.111156</td>\n",
       "      <td>-0.147928</td>\n",
       "    </tr>\n",
       "    <tr>\n",
       "      <th>dn2</th>\n",
       "      <td>-0.013695</td>\n",
       "      <td>-0.050543</td>\n",
       "      <td>-0.063072</td>\n",
       "      <td>-0.123871</td>\n",
       "    </tr>\n",
       "    <tr>\n",
       "      <th>dn3</th>\n",
       "      <td>0.003071</td>\n",
       "      <td>-0.049125</td>\n",
       "      <td>-0.046926</td>\n",
       "      <td>-0.104210</td>\n",
       "    </tr>\n",
       "  </tbody>\n",
       "</table>\n",
       "</div>"
      ],
      "text/plain": [
       "             dfmf      dcmf       cmf      gcmf\n",
       "Dataset                                        \n",
       "dt1      0.014018 -0.042635 -0.015091 -0.082486\n",
       "ds1     -0.057320 -0.054146 -0.042153 -0.074245\n",
       "ds2     -0.042837 -0.048313 -0.051381 -0.091932\n",
       "ds3     -0.015920 -0.026965 -0.076280 -0.096764\n",
       "dn1     -0.019741 -0.061569 -0.111156 -0.147928\n",
       "dn2     -0.013695 -0.050543 -0.063072 -0.123871\n",
       "dn3      0.003071 -0.049125 -0.046926 -0.104210"
      ]
     },
     "execution_count": 13,
     "metadata": {},
     "output_type": "execute_result"
    }
   ],
   "source": [
    "# df_mse_diff_mean"
   ]
  },
  {
   "cell_type": "code",
   "execution_count": 14,
   "metadata": {},
   "outputs": [
    {
     "data": {
      "text/html": [
       "<div>\n",
       "<style scoped>\n",
       "    .dataframe tbody tr th:only-of-type {\n",
       "        vertical-align: middle;\n",
       "    }\n",
       "\n",
       "    .dataframe tbody tr th {\n",
       "        vertical-align: top;\n",
       "    }\n",
       "\n",
       "    .dataframe thead th {\n",
       "        text-align: right;\n",
       "    }\n",
       "</style>\n",
       "<table border=\"1\" class=\"dataframe\">\n",
       "  <thead>\n",
       "    <tr style=\"text-align: right;\">\n",
       "      <th></th>\n",
       "      <th>dfmf</th>\n",
       "      <th>dcmf</th>\n",
       "      <th>cmf</th>\n",
       "      <th>gcmf</th>\n",
       "    </tr>\n",
       "    <tr>\n",
       "      <th>Dataset</th>\n",
       "      <th></th>\n",
       "      <th></th>\n",
       "      <th></th>\n",
       "      <th></th>\n",
       "    </tr>\n",
       "  </thead>\n",
       "  <tbody>\n",
       "    <tr>\n",
       "      <th>dt1</th>\n",
       "      <td>0.026216</td>\n",
       "      <td>0.060625</td>\n",
       "      <td>0.025952</td>\n",
       "      <td>0.118088</td>\n",
       "    </tr>\n",
       "    <tr>\n",
       "      <th>ds1</th>\n",
       "      <td>0.081508</td>\n",
       "      <td>0.078789</td>\n",
       "      <td>0.060867</td>\n",
       "      <td>0.105364</td>\n",
       "    </tr>\n",
       "    <tr>\n",
       "      <th>ds2</th>\n",
       "      <td>0.061675</td>\n",
       "      <td>0.070102</td>\n",
       "      <td>0.073199</td>\n",
       "      <td>0.130625</td>\n",
       "    </tr>\n",
       "    <tr>\n",
       "      <th>ds3</th>\n",
       "      <td>0.027814</td>\n",
       "      <td>0.044462</td>\n",
       "      <td>0.112451</td>\n",
       "      <td>0.138045</td>\n",
       "    </tr>\n",
       "    <tr>\n",
       "      <th>dn1</th>\n",
       "      <td>0.035393</td>\n",
       "      <td>0.094276</td>\n",
       "      <td>0.162992</td>\n",
       "      <td>0.210529</td>\n",
       "    </tr>\n",
       "    <tr>\n",
       "      <th>dn2</th>\n",
       "      <td>0.036058</td>\n",
       "      <td>0.079902</td>\n",
       "      <td>0.093553</td>\n",
       "      <td>0.178350</td>\n",
       "    </tr>\n",
       "    <tr>\n",
       "      <th>dn3</th>\n",
       "      <td>0.022414</td>\n",
       "      <td>0.072598</td>\n",
       "      <td>0.070929</td>\n",
       "      <td>0.148790</td>\n",
       "    </tr>\n",
       "  </tbody>\n",
       "</table>\n",
       "</div>"
      ],
      "text/plain": [
       "             dfmf      dcmf       cmf      gcmf\n",
       "Dataset                                        \n",
       "dt1      0.026216  0.060625  0.025952  0.118088\n",
       "ds1      0.081508  0.078789  0.060867  0.105364\n",
       "ds2      0.061675  0.070102  0.073199  0.130625\n",
       "ds3      0.027814  0.044462  0.112451  0.138045\n",
       "dn1      0.035393  0.094276  0.162992  0.210529\n",
       "dn2      0.036058  0.079902  0.093553  0.178350\n",
       "dn3      0.022414  0.072598  0.070929  0.148790"
      ]
     },
     "execution_count": 14,
     "metadata": {},
     "output_type": "execute_result"
    }
   ],
   "source": [
    "# df_mse_diff_std"
   ]
  },
  {
   "cell_type": "code",
   "execution_count": 15,
   "metadata": {},
   "outputs": [
    {
     "data": {
      "image/png": "[encoded data removed]",
      "text/plain": [
       "<Figure size 432x288 with 1 Axes>"
      ]
     },
     "metadata": {
      "needs_background": "light"
     },
     "output_type": "display_data"
    }
   ],
   "source": [
    "fig = df_auc_diff_mean.plot.bar(title=\"Diff. AUC of NCMF and Baselines\",yerr=df_auc_diff_std,error_kw=dict(ls=\"--\", lw=.25)).get_figure()\n",
    "#fig = df_auc_diff_mean.plot.bar(title=\"Diff. AUC of NCMF and Baselines\").get_figure()\n",
    "fig.savefig('auc_diff_err_bar.pdf', bbox_inches='tight')\n",
    "fig.savefig('auc_diff_err_bar.png', bbox_inches='tight')\n"
   ]
  },
  {
   "cell_type": "code",
   "execution_count": 16,
   "metadata": {},
   "outputs": [
    {
     "data": {
      "image/png": "[encoded data removed]",
      "text/plain": [
       "<Figure size 432x288 with 1 Axes>"
      ]
     },
     "metadata": {
      "needs_background": "light"
     },
     "output_type": "display_data"
    }
   ],
   "source": [
    "# fig2 = df_mse_diff_mean.plot.bar(title=\"Diff. MSE of NCMF and Baselines\",yerr=df_mse_diff_std,error_kw=dict(ls=\"--\", lw=0.25)).get_figure()\n",
    "# #fig2 = df_mse_diff_mean.plot.bar(title=\"Diff. MSE of NCMF and Baselines\").get_figure()\n",
    "# fig2.savefig('mse_diff_err_bar.pdf', bbox_inches='tight')\n",
    "# fig2.savefig('mse_diff_err_bar.png', bbox_inches='tight')"
   ]
  },
  {
   "cell_type": "code",
   "execution_count": null,
   "metadata": {},
   "outputs": [],
   "source": []
  }
 ],
 "metadata": {
  "kernelspec": {
   "display_name": "Python 3",
   "language": "python",
   "name": "python3"
  },
  "language_info": {
   "codemirror_mode": {
    "name": "ipython",
    "version": 3
   },
   "file_extension": ".py",
   "mimetype": "text/x-python",
   "name": "python",
   "nbconvert_exporter": "python",
   "pygments_lexer": "ipython3",
   "version": "3.7.7"
  }
 },
 "nbformat": 4,
 "nbformat_minor": 4
}
