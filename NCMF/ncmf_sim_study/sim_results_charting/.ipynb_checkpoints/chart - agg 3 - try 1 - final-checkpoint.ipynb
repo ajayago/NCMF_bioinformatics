{
 "cells": [
  {
   "cell_type": "code",
   "execution_count": 4,
   "metadata": {},
   "outputs": [],
   "source": [
    "import pandas as pd\n",
    "import numpy as np\n",
    "import pickle as pkl\n",
    "\n",
    "import seaborn as sns\n",
    "%matplotlib inline"
   ]
  },
  {
   "cell_type": "code",
   "execution_count": 5,
   "metadata": {},
   "outputs": [],
   "source": [
    "base_dir = \"./\""
   ]
  },
  {
   "cell_type": "code",
   "execution_count": 8,
   "metadata": {},
   "outputs": [
    {
     "name": "stdout",
     "output_type": "stream",
     "text": [
      "cur_run:  1\n",
      "fname_auc_diff:  ./run_1/auc.csv\n",
      "fname_mse_diff:  ./run_1/mse.csv\n",
      "cur_run:  2\n",
      "fname_auc_diff:  ./run_2/auc.csv\n",
      "fname_mse_diff:  ./run_2/mse.csv\n",
      "cur_run:  3\n",
      "fname_auc_diff:  ./run_3/auc.csv\n",
      "fname_mse_diff:  ./run_3/mse.csv\n"
     ]
    }
   ],
   "source": [
    "dict_run_auc_diff = {}\n",
    "dict_run_mse_diff = {}\n",
    "for cur_run in np.arange(1,4):\n",
    "    print(\"cur_run: \",cur_run)\n",
    "    fname_auc_diff = base_dir+\"run_\"+str(cur_run)+\"/auc.csv\"\n",
    "    fname_mse_diff = base_dir+\"run_\"+str(cur_run)+\"/mse.csv\"\n",
    "    print(\"fname_auc_diff: \",fname_auc_diff)\n",
    "    print(\"fname_mse_diff: \",fname_mse_diff)\n",
    "    df_auc_diff = pd.read_csv(fname_auc_diff)\n",
    "    df_auc_diff.columns = ['Dataset', 'ncmf', 'dfmf', 'dcmf', 'cmf', 'gcmf']\n",
    "    df_mse_diff = pd.read_csv(fname_mse_diff)\n",
    "    df_mse_diff.columns = ['Dataset', 'ncmf', 'dfmf', 'dcmf', 'cmf', 'gcmf']\n",
    "    df_auc_diff.set_index(\"Dataset\",inplace=True)\n",
    "    df_mse_diff.set_index(\"Dataset\",inplace=True)\n",
    "    dict_run_auc_diff[cur_run] = df_auc_diff\n",
    "    dict_run_mse_diff[cur_run] = df_mse_diff\n",
    "    "
   ]
  },
  {
   "cell_type": "code",
   "execution_count": 9,
   "metadata": {},
   "outputs": [
    {
     "data": {
      "text/html": [
       "<div>\n",
       "<style scoped>\n",
       "    .dataframe tbody tr th:only-of-type {\n",
       "        vertical-align: middle;\n",
       "    }\n",
       "\n",
       "    .dataframe tbody tr th {\n",
       "        vertical-align: top;\n",
       "    }\n",
       "\n",
       "    .dataframe thead th {\n",
       "        text-align: right;\n",
       "    }\n",
       "</style>\n",
       "<table border=\"1\" class=\"dataframe\">\n",
       "  <thead>\n",
       "    <tr style=\"text-align: right;\">\n",
       "      <th></th>\n",
       "      <th>ncmf</th>\n",
       "      <th>dfmf</th>\n",
       "      <th>dcmf</th>\n",
       "      <th>cmf</th>\n",
       "      <th>gcmf</th>\n",
       "    </tr>\n",
       "    <tr>\n",
       "      <th>Dataset</th>\n",
       "      <th></th>\n",
       "      <th></th>\n",
       "      <th></th>\n",
       "      <th></th>\n",
       "      <th></th>\n",
       "    </tr>\n",
       "  </thead>\n",
       "  <tbody>\n",
       "    <tr>\n",
       "      <th>dt1</th>\n",
       "      <td>0.682630</td>\n",
       "      <td>0.500143</td>\n",
       "      <td>0.520331</td>\n",
       "      <td>0.479929</td>\n",
       "      <td>0.503423</td>\n",
       "    </tr>\n",
       "    <tr>\n",
       "      <th>ds1</th>\n",
       "      <td>0.617313</td>\n",
       "      <td>0.500289</td>\n",
       "      <td>0.489663</td>\n",
       "      <td>0.500099</td>\n",
       "      <td>0.504308</td>\n",
       "    </tr>\n",
       "    <tr>\n",
       "      <th>ds2</th>\n",
       "      <td>0.802526</td>\n",
       "      <td>0.494962</td>\n",
       "      <td>0.496947</td>\n",
       "      <td>0.501107</td>\n",
       "      <td>0.502904</td>\n",
       "    </tr>\n",
       "    <tr>\n",
       "      <th>ds3</th>\n",
       "      <td>0.818119</td>\n",
       "      <td>0.500281</td>\n",
       "      <td>0.527925</td>\n",
       "      <td>0.496526</td>\n",
       "      <td>0.502631</td>\n",
       "    </tr>\n",
       "    <tr>\n",
       "      <th>dn1</th>\n",
       "      <td>0.752544</td>\n",
       "      <td>0.500883</td>\n",
       "      <td>0.502296</td>\n",
       "      <td>0.502999</td>\n",
       "      <td>0.500595</td>\n",
       "    </tr>\n",
       "    <tr>\n",
       "      <th>dn2</th>\n",
       "      <td>0.667559</td>\n",
       "      <td>0.500769</td>\n",
       "      <td>0.515908</td>\n",
       "      <td>0.515335</td>\n",
       "      <td>0.495788</td>\n",
       "    </tr>\n",
       "    <tr>\n",
       "      <th>dn3</th>\n",
       "      <td>0.640797</td>\n",
       "      <td>0.491907</td>\n",
       "      <td>0.500552</td>\n",
       "      <td>0.496601</td>\n",
       "      <td>0.500477</td>\n",
       "    </tr>\n",
       "  </tbody>\n",
       "</table>\n",
       "</div>"
      ],
      "text/plain": [
       "             ncmf      dfmf      dcmf       cmf      gcmf\n",
       "Dataset                                                  \n",
       "dt1      0.682630  0.500143  0.520331  0.479929  0.503423\n",
       "ds1      0.617313  0.500289  0.489663  0.500099  0.504308\n",
       "ds2      0.802526  0.494962  0.496947  0.501107  0.502904\n",
       "ds3      0.818119  0.500281  0.527925  0.496526  0.502631\n",
       "dn1      0.752544  0.500883  0.502296  0.502999  0.500595\n",
       "dn2      0.667559  0.500769  0.515908  0.515335  0.495788\n",
       "dn3      0.640797  0.491907  0.500552  0.496601  0.500477"
      ]
     },
     "execution_count": 9,
     "metadata": {},
     "output_type": "execute_result"
    }
   ],
   "source": [
    "df_auc_diff"
   ]
  },
  {
   "cell_type": "code",
   "execution_count": 10,
   "metadata": {},
   "outputs": [
    {
     "data": {
      "text/html": [
       "<div>\n",
       "<style scoped>\n",
       "    .dataframe tbody tr th:only-of-type {\n",
       "        vertical-align: middle;\n",
       "    }\n",
       "\n",
       "    .dataframe tbody tr th {\n",
       "        vertical-align: top;\n",
       "    }\n",
       "\n",
       "    .dataframe thead th {\n",
       "        text-align: right;\n",
       "    }\n",
       "</style>\n",
       "<table border=\"1\" class=\"dataframe\">\n",
       "  <thead>\n",
       "    <tr style=\"text-align: right;\">\n",
       "      <th></th>\n",
       "      <th>ncmf</th>\n",
       "      <th>dfmf</th>\n",
       "      <th>dcmf</th>\n",
       "      <th>cmf</th>\n",
       "      <th>gcmf</th>\n",
       "    </tr>\n",
       "    <tr>\n",
       "      <th>Dataset</th>\n",
       "      <th></th>\n",
       "      <th></th>\n",
       "      <th></th>\n",
       "      <th></th>\n",
       "      <th></th>\n",
       "    </tr>\n",
       "  </thead>\n",
       "  <tbody>\n",
       "    <tr>\n",
       "      <th>dt1</th>\n",
       "      <td>0.265425</td>\n",
       "      <td>0.231771</td>\n",
       "      <td>0.315805</td>\n",
       "      <td>0.269344</td>\n",
       "      <td>0.323268</td>\n",
       "    </tr>\n",
       "    <tr>\n",
       "      <th>ds1</th>\n",
       "      <td>0.150527</td>\n",
       "      <td>0.195860</td>\n",
       "      <td>0.219877</td>\n",
       "      <td>0.187676</td>\n",
       "      <td>0.214929</td>\n",
       "    </tr>\n",
       "    <tr>\n",
       "      <th>ds2</th>\n",
       "      <td>0.144303</td>\n",
       "      <td>0.182787</td>\n",
       "      <td>0.214643</td>\n",
       "      <td>0.192171</td>\n",
       "      <td>0.225976</td>\n",
       "    </tr>\n",
       "    <tr>\n",
       "      <th>ds3</th>\n",
       "      <td>0.151271</td>\n",
       "      <td>0.153587</td>\n",
       "      <td>0.209030</td>\n",
       "      <td>0.184217</td>\n",
       "      <td>0.222564</td>\n",
       "    </tr>\n",
       "    <tr>\n",
       "      <th>dn1</th>\n",
       "      <td>0.215938</td>\n",
       "      <td>0.226483</td>\n",
       "      <td>0.323887</td>\n",
       "      <td>0.348039</td>\n",
       "      <td>0.354214</td>\n",
       "    </tr>\n",
       "    <tr>\n",
       "      <th>dn2</th>\n",
       "      <td>0.215844</td>\n",
       "      <td>0.232184</td>\n",
       "      <td>0.316464</td>\n",
       "      <td>0.277475</td>\n",
       "      <td>0.346879</td>\n",
       "    </tr>\n",
       "    <tr>\n",
       "      <th>dn3</th>\n",
       "      <td>0.238928</td>\n",
       "      <td>0.230448</td>\n",
       "      <td>0.317841</td>\n",
       "      <td>0.286897</td>\n",
       "      <td>0.324247</td>\n",
       "    </tr>\n",
       "  </tbody>\n",
       "</table>\n",
       "</div>"
      ],
      "text/plain": [
       "             ncmf      dfmf      dcmf       cmf      gcmf\n",
       "Dataset                                                  \n",
       "dt1      0.265425  0.231771  0.315805  0.269344  0.323268\n",
       "ds1      0.150527  0.195860  0.219877  0.187676  0.214929\n",
       "ds2      0.144303  0.182787  0.214643  0.192171  0.225976\n",
       "ds3      0.151271  0.153587  0.209030  0.184217  0.222564\n",
       "dn1      0.215938  0.226483  0.323887  0.348039  0.354214\n",
       "dn2      0.215844  0.232184  0.316464  0.277475  0.346879\n",
       "dn3      0.238928  0.230448  0.317841  0.286897  0.324247"
      ]
     },
     "execution_count": 10,
     "metadata": {},
     "output_type": "execute_result"
    }
   ],
   "source": [
    "df_mse_diff"
   ]
  },
  {
   "cell_type": "code",
   "execution_count": 11,
   "metadata": {},
   "outputs": [
    {
     "data": {
      "text/plain": [
       "{1:              ncmf      dfmf      dcmf       cmf      gcmf\n",
       " Dataset                                                  \n",
       " dt1      0.624961  0.504951  0.613226  0.500317  0.492926\n",
       " ds1      0.654237  0.503912  0.625630  0.498185  0.499245\n",
       " ds2      0.874182  0.495880  0.806456  0.507199  0.499986\n",
       " ds3      0.871193  0.504466  0.779514  0.499877  0.501111\n",
       " dn1      0.634998  0.489090  0.602347  0.491581  0.506381\n",
       " dn2      0.559068  0.502381  0.525865  0.502649  0.496390\n",
       " dn3      0.568770  0.499939  0.553734  0.494600  0.500975,\n",
       " 2:              ncmf      dfmf      dcmf       cmf      gcmf\n",
       " Dataset                                                  \n",
       " dt1      0.739193  0.506549  0.528890  0.503374  0.507779\n",
       " ds1      0.820452  0.505601  0.480487  0.500595  0.503769\n",
       " ds2      0.740376  0.499230  0.498975  0.490501  0.497550\n",
       " ds3      0.797859  0.502210  0.505954  0.505801  0.498208\n",
       " dn1      0.631370  0.505225  0.490301  0.498007  0.509917\n",
       " dn2      0.843594  0.504143  0.489931  0.498542  0.499210\n",
       " dn3      0.746366  0.490808  0.498849  0.497289  0.502392,\n",
       " 3:              ncmf      dfmf      dcmf       cmf      gcmf\n",
       " Dataset                                                  \n",
       " dt1      0.682630  0.500143  0.520331  0.479929  0.503423\n",
       " ds1      0.617313  0.500289  0.489663  0.500099  0.504308\n",
       " ds2      0.802526  0.494962  0.496947  0.501107  0.502904\n",
       " ds3      0.818119  0.500281  0.527925  0.496526  0.502631\n",
       " dn1      0.752544  0.500883  0.502296  0.502999  0.500595\n",
       " dn2      0.667559  0.500769  0.515908  0.515335  0.495788\n",
       " dn3      0.640797  0.491907  0.500552  0.496601  0.500477}"
      ]
     },
     "execution_count": 11,
     "metadata": {},
     "output_type": "execute_result"
    }
   ],
   "source": [
    "dict_run_auc_diff"
   ]
  },
  {
   "cell_type": "code",
   "execution_count": null,
   "metadata": {},
   "outputs": [],
   "source": []
  },
  {
   "cell_type": "code",
   "execution_count": null,
   "metadata": {},
   "outputs": [],
   "source": []
  },
  {
   "cell_type": "code",
   "execution_count": null,
   "metadata": {},
   "outputs": [],
   "source": []
  },
  {
   "cell_type": "code",
   "execution_count": 4,
   "metadata": {},
   "outputs": [],
   "source": [
    "# def get_mean_std(dict_run_auc_diff):\n",
    "#     list_df = list(dict_run_auc_diff.values())\n",
    "#     return p.mean(list_df), np.std(np.mean(list_df))"
   ]
  },
  {
   "cell_type": "code",
   "execution_count": 12,
   "metadata": {},
   "outputs": [],
   "source": [
    "def get_mean_sd(dict_run_auc_diff):\n",
    "    #\n",
    "    #mean\n",
    "    #\n",
    "    num_runs = 3\n",
    "    df_auc_diff_sum = None\n",
    "    for cur_run in np.arange(1,num_runs+1):\n",
    "        if cur_run in [1]:\n",
    "            df_auc_diff_sum = dict_run_auc_diff[cur_run]\n",
    "        else:\n",
    "            df_auc_diff_sum += dict_run_auc_diff[cur_run]\n",
    "    df_auc_diff_mean = df_auc_diff_sum/num_runs\n",
    "    #\n",
    "    #var/sd\n",
    "    #\n",
    "    dict_run_auc_diff_arr = {}\n",
    "    #\n",
    "    list_baselines = [\"ncmf\",\"dfmf\",\"dcmf\",\"cmf\",\"gcmf\"]\n",
    "    list_datasets = [\"dt1\",\"ds1\",\"ds2\",\"ds3\",\"dn1\",\"dn2\",\"dn3\"]\n",
    "    #\n",
    "    for cur_run in dict_run_auc_diff.keys():\n",
    "        cur_df = dict_run_auc_diff[cur_run]\n",
    "        dict_run_auc_diff_arr[cur_run] = cur_df.to_numpy()    \n",
    "    #\n",
    "    dict_ij_val_list = {}\n",
    "    for cur_run in dict_run_auc_diff.keys():\n",
    "        for i in np.arange(len(list_datasets)):\n",
    "            for j in np.arange(len(list_baselines)):\n",
    "                dict_ij_val_list[(i,j)] = []\n",
    "    #\n",
    "    for cur_run in dict_run_auc_diff.keys():\n",
    "        cur_arr = dict_run_auc_diff_arr[cur_run]\n",
    "        for i in np.arange(len(list_datasets)):\n",
    "            for j in np.arange(len(list_baselines)):\n",
    "                dict_ij_val_list[(i,j)].append(cur_arr[i,j])\n",
    "    #\n",
    "    dict_ij_sd = {}\n",
    "    for i in np.arange(len(list_datasets)):\n",
    "        for j in np.arange(len(list_baselines)):\n",
    "            dict_ij_sd[(i,j)] = np.std(dict_ij_val_list[(i,j)])\n",
    "    #\n",
    "    #back to --> arr --> df\n",
    "    sd_arr = np.zeros((len(list_datasets),len(list_baselines)))\n",
    "    for i in np.arange(len(list_datasets)):\n",
    "        for j in np.arange(len(list_baselines)):\n",
    "            sd_arr[i,j] = dict_ij_sd[(i,j)]\n",
    "    #\n",
    "    df_auc_diff_std = pd.DataFrame(sd_arr)\n",
    "    df_auc_diff_std.columns = list_baselines\n",
    "    df_auc_diff_std.index = list_datasets\n",
    "    #\n",
    "    return df_auc_diff_mean, df_auc_diff_std"
   ]
  },
  {
   "cell_type": "code",
   "execution_count": 13,
   "metadata": {},
   "outputs": [
    {
     "data": {
      "text/plain": [
       "{1:              ncmf      dfmf      dcmf       cmf      gcmf\n",
       " Dataset                                                  \n",
       " dt1      0.624961  0.504951  0.613226  0.500317  0.492926\n",
       " ds1      0.654237  0.503912  0.625630  0.498185  0.499245\n",
       " ds2      0.874182  0.495880  0.806456  0.507199  0.499986\n",
       " ds3      0.871193  0.504466  0.779514  0.499877  0.501111\n",
       " dn1      0.634998  0.489090  0.602347  0.491581  0.506381\n",
       " dn2      0.559068  0.502381  0.525865  0.502649  0.496390\n",
       " dn3      0.568770  0.499939  0.553734  0.494600  0.500975,\n",
       " 2:              ncmf      dfmf      dcmf       cmf      gcmf\n",
       " Dataset                                                  \n",
       " dt1      0.739193  0.506549  0.528890  0.503374  0.507779\n",
       " ds1      0.820452  0.505601  0.480487  0.500595  0.503769\n",
       " ds2      0.740376  0.499230  0.498975  0.490501  0.497550\n",
       " ds3      0.797859  0.502210  0.505954  0.505801  0.498208\n",
       " dn1      0.631370  0.505225  0.490301  0.498007  0.509917\n",
       " dn2      0.843594  0.504143  0.489931  0.498542  0.499210\n",
       " dn3      0.746366  0.490808  0.498849  0.497289  0.502392,\n",
       " 3:              ncmf      dfmf      dcmf       cmf      gcmf\n",
       " Dataset                                                  \n",
       " dt1      0.682630  0.500143  0.520331  0.479929  0.503423\n",
       " ds1      0.617313  0.500289  0.489663  0.500099  0.504308\n",
       " ds2      0.802526  0.494962  0.496947  0.501107  0.502904\n",
       " ds3      0.818119  0.500281  0.527925  0.496526  0.502631\n",
       " dn1      0.752544  0.500883  0.502296  0.502999  0.500595\n",
       " dn2      0.667559  0.500769  0.515908  0.515335  0.495788\n",
       " dn3      0.640797  0.491907  0.500552  0.496601  0.500477}"
      ]
     },
     "execution_count": 13,
     "metadata": {},
     "output_type": "execute_result"
    }
   ],
   "source": [
    "dict_run_auc_diff"
   ]
  },
  {
   "cell_type": "code",
   "execution_count": 14,
   "metadata": {},
   "outputs": [],
   "source": [
    "df_auc_diff_mean, df_auc_diff_std = get_mean_sd(dict_run_auc_diff)"
   ]
  },
  {
   "cell_type": "code",
   "execution_count": 15,
   "metadata": {},
   "outputs": [],
   "source": [
    "#"
   ]
  },
  {
   "cell_type": "code",
   "execution_count": 16,
   "metadata": {},
   "outputs": [
    {
     "data": {
      "text/plain": [
       "{1:              ncmf      dfmf      dcmf       cmf      gcmf\n",
       " Dataset                                                  \n",
       " dt1      0.205928  0.225793  0.236388  0.249833  0.321207\n",
       " ds1      0.125734  0.196087  0.143292  0.189537  0.217367\n",
       " ds2      0.120086  0.183043  0.143775  0.186963  0.236936\n",
       " ds3      0.109412  0.157600  0.095727  0.217291  0.234940\n",
       " dn1      0.166140  0.224436  0.159840  0.313549  0.355669\n",
       " dn2      0.176131  0.230113  0.183127  0.280517  0.339639\n",
       " dn3      0.198673  0.231635  0.217353  0.279947  0.343719,\n",
       " 2:              ncmf      dfmf      dcmf       cmf      gcmf\n",
       " Dataset                                                  \n",
       " dt1      0.257421  0.229156  0.304487  0.254870  0.331757\n",
       " ds1      0.146624  0.202898  0.222155  0.172132  0.213324\n",
       " ds2      0.148324  0.175396  0.199235  0.187724  0.225596\n",
       " ds3      0.145724  0.142980  0.182546  0.233740  0.239195\n",
       " dn1      0.239432  0.229815  0.322491  0.293389  0.355411\n",
       " dn2      0.254345  0.225108  0.298356  0.277543  0.331414\n",
       " dn3      0.261171  0.227477  0.310952  0.272707  0.343435,\n",
       " 3:              ncmf      dfmf      dcmf       cmf      gcmf\n",
       " Dataset                                                  \n",
       " dt1      0.265425  0.231771  0.315805  0.269344  0.323268\n",
       " ds1      0.150527  0.195860  0.219877  0.187676  0.214929\n",
       " ds2      0.144303  0.182787  0.214643  0.192171  0.225976\n",
       " ds3      0.151271  0.153587  0.209030  0.184217  0.222564\n",
       " dn1      0.215938  0.226483  0.323887  0.348039  0.354214\n",
       " dn2      0.215844  0.232184  0.316464  0.277475  0.346879\n",
       " dn3      0.238928  0.230448  0.317841  0.286897  0.324247}"
      ]
     },
     "execution_count": 16,
     "metadata": {},
     "output_type": "execute_result"
    }
   ],
   "source": [
    "dict_run_mse_diff"
   ]
  },
  {
   "cell_type": "code",
   "execution_count": 17,
   "metadata": {},
   "outputs": [],
   "source": [
    "df_mse_diff_mean, df_mse_diff_std = get_mean_sd(dict_run_mse_diff)"
   ]
  },
  {
   "cell_type": "code",
   "execution_count": 18,
   "metadata": {},
   "outputs": [
    {
     "data": {
      "text/html": [
       "<div>\n",
       "<style scoped>\n",
       "    .dataframe tbody tr th:only-of-type {\n",
       "        vertical-align: middle;\n",
       "    }\n",
       "\n",
       "    .dataframe tbody tr th {\n",
       "        vertical-align: top;\n",
       "    }\n",
       "\n",
       "    .dataframe thead th {\n",
       "        text-align: right;\n",
       "    }\n",
       "</style>\n",
       "<table border=\"1\" class=\"dataframe\">\n",
       "  <thead>\n",
       "    <tr style=\"text-align: right;\">\n",
       "      <th></th>\n",
       "      <th>ncmf</th>\n",
       "      <th>dfmf</th>\n",
       "      <th>dcmf</th>\n",
       "      <th>cmf</th>\n",
       "      <th>gcmf</th>\n",
       "    </tr>\n",
       "    <tr>\n",
       "      <th>Dataset</th>\n",
       "      <th></th>\n",
       "      <th></th>\n",
       "      <th></th>\n",
       "      <th></th>\n",
       "      <th></th>\n",
       "    </tr>\n",
       "  </thead>\n",
       "  <tbody>\n",
       "    <tr>\n",
       "      <th>dt1</th>\n",
       "      <td>0.242925</td>\n",
       "      <td>0.228907</td>\n",
       "      <td>0.285560</td>\n",
       "      <td>0.258016</td>\n",
       "      <td>0.325411</td>\n",
       "    </tr>\n",
       "    <tr>\n",
       "      <th>ds1</th>\n",
       "      <td>0.140962</td>\n",
       "      <td>0.198282</td>\n",
       "      <td>0.195108</td>\n",
       "      <td>0.183115</td>\n",
       "      <td>0.215207</td>\n",
       "    </tr>\n",
       "    <tr>\n",
       "      <th>ds2</th>\n",
       "      <td>0.137571</td>\n",
       "      <td>0.180409</td>\n",
       "      <td>0.185884</td>\n",
       "      <td>0.188953</td>\n",
       "      <td>0.229503</td>\n",
       "    </tr>\n",
       "    <tr>\n",
       "      <th>ds3</th>\n",
       "      <td>0.135469</td>\n",
       "      <td>0.151389</td>\n",
       "      <td>0.162434</td>\n",
       "      <td>0.211749</td>\n",
       "      <td>0.232233</td>\n",
       "    </tr>\n",
       "    <tr>\n",
       "      <th>dn1</th>\n",
       "      <td>0.207170</td>\n",
       "      <td>0.226911</td>\n",
       "      <td>0.268739</td>\n",
       "      <td>0.318326</td>\n",
       "      <td>0.355098</td>\n",
       "    </tr>\n",
       "    <tr>\n",
       "      <th>dn2</th>\n",
       "      <td>0.215440</td>\n",
       "      <td>0.229135</td>\n",
       "      <td>0.265983</td>\n",
       "      <td>0.278512</td>\n",
       "      <td>0.339311</td>\n",
       "    </tr>\n",
       "    <tr>\n",
       "      <th>dn3</th>\n",
       "      <td>0.232924</td>\n",
       "      <td>0.229853</td>\n",
       "      <td>0.282049</td>\n",
       "      <td>0.279850</td>\n",
       "      <td>0.337134</td>\n",
       "    </tr>\n",
       "  </tbody>\n",
       "</table>\n",
       "</div>"
      ],
      "text/plain": [
       "             ncmf      dfmf      dcmf       cmf      gcmf\n",
       "Dataset                                                  \n",
       "dt1      0.242925  0.228907  0.285560  0.258016  0.325411\n",
       "ds1      0.140962  0.198282  0.195108  0.183115  0.215207\n",
       "ds2      0.137571  0.180409  0.185884  0.188953  0.229503\n",
       "ds3      0.135469  0.151389  0.162434  0.211749  0.232233\n",
       "dn1      0.207170  0.226911  0.268739  0.318326  0.355098\n",
       "dn2      0.215440  0.229135  0.265983  0.278512  0.339311\n",
       "dn3      0.232924  0.229853  0.282049  0.279850  0.337134"
      ]
     },
     "execution_count": 18,
     "metadata": {},
     "output_type": "execute_result"
    }
   ],
   "source": [
    "df_mse_diff_mean"
   ]
  },
  {
   "cell_type": "code",
   "execution_count": 19,
   "metadata": {},
   "outputs": [
    {
     "data": {
      "text/html": [
       "<div>\n",
       "<style scoped>\n",
       "    .dataframe tbody tr th:only-of-type {\n",
       "        vertical-align: middle;\n",
       "    }\n",
       "\n",
       "    .dataframe tbody tr th {\n",
       "        vertical-align: top;\n",
       "    }\n",
       "\n",
       "    .dataframe thead th {\n",
       "        text-align: right;\n",
       "    }\n",
       "</style>\n",
       "<table border=\"1\" class=\"dataframe\">\n",
       "  <thead>\n",
       "    <tr style=\"text-align: right;\">\n",
       "      <th></th>\n",
       "      <th>ncmf</th>\n",
       "      <th>dfmf</th>\n",
       "      <th>dcmf</th>\n",
       "      <th>cmf</th>\n",
       "      <th>gcmf</th>\n",
       "    </tr>\n",
       "  </thead>\n",
       "  <tbody>\n",
       "    <tr>\n",
       "      <th>dt1</th>\n",
       "      <td>0.220336</td>\n",
       "      <td>0.215084</td>\n",
       "      <td>0.257680</td>\n",
       "      <td>0.241403</td>\n",
       "      <td>0.305829</td>\n",
       "    </tr>\n",
       "    <tr>\n",
       "      <th>ds1</th>\n",
       "      <td>0.129321</td>\n",
       "      <td>0.186447</td>\n",
       "      <td>0.171739</td>\n",
       "      <td>0.174272</td>\n",
       "      <td>0.203409</td>\n",
       "    </tr>\n",
       "    <tr>\n",
       "      <th>ds2</th>\n",
       "      <td>0.125593</td>\n",
       "      <td>0.170739</td>\n",
       "      <td>0.165448</td>\n",
       "      <td>0.177686</td>\n",
       "      <td>0.218129</td>\n",
       "    </tr>\n",
       "    <tr>\n",
       "      <th>ds3</th>\n",
       "      <td>0.121601</td>\n",
       "      <td>0.144260</td>\n",
       "      <td>0.137846</td>\n",
       "      <td>0.201960</td>\n",
       "      <td>0.219694</td>\n",
       "    </tr>\n",
       "    <tr>\n",
       "      <th>dn1</th>\n",
       "      <td>0.185899</td>\n",
       "      <td>0.213355</td>\n",
       "      <td>0.227703</td>\n",
       "      <td>0.299826</td>\n",
       "      <td>0.334925</td>\n",
       "    </tr>\n",
       "    <tr>\n",
       "      <th>dn2</th>\n",
       "      <td>0.194489</td>\n",
       "      <td>0.216280</td>\n",
       "      <td>0.231360</td>\n",
       "      <td>0.263056</td>\n",
       "      <td>0.320045</td>\n",
       "    </tr>\n",
       "    <tr>\n",
       "      <th>dn3</th>\n",
       "      <td>0.211725</td>\n",
       "      <td>0.217131</td>\n",
       "      <td>0.250685</td>\n",
       "      <td>0.263932</td>\n",
       "      <td>0.319501</td>\n",
       "    </tr>\n",
       "  </tbody>\n",
       "</table>\n",
       "</div>"
      ],
      "text/plain": [
       "         ncmf      dfmf      dcmf       cmf      gcmf\n",
       "dt1  0.220336  0.215084  0.257680  0.241403  0.305829\n",
       "ds1  0.129321  0.186447  0.171739  0.174272  0.203409\n",
       "ds2  0.125593  0.170739  0.165448  0.177686  0.218129\n",
       "ds3  0.121601  0.144260  0.137846  0.201960  0.219694\n",
       "dn1  0.185899  0.213355  0.227703  0.299826  0.334925\n",
       "dn2  0.194489  0.216280  0.231360  0.263056  0.320045\n",
       "dn3  0.211725  0.217131  0.250685  0.263932  0.319501"
      ]
     },
     "execution_count": 19,
     "metadata": {},
     "output_type": "execute_result"
    }
   ],
   "source": [
    "df_mse_diff_std"
   ]
  },
  {
   "cell_type": "code",
   "execution_count": 25,
   "metadata": {},
   "outputs": [
    {
     "data": {
      "image/png": "[encoded data removed]",
      "text/plain": [
       "<Figure size 432x288 with 1 Axes>"
      ]
     },
     "metadata": {
      "needs_background": "light"
     },
     "output_type": "display_data"
    }
   ],
   "source": [
    "fig = df_auc_diff_mean.plot.bar(title=\"AUC of NCMF and Baselines\",yerr=df_auc_diff_std,error_kw=dict(ls=\"--\", lw=.35)).get_figure()\n",
    "#fig = df_auc_diff_mean.plot.bar(title=\"Diff. AUC of NCMF and Baselines\").get_figure()\n",
    "fig.savefig('auc_err_bar.pdf', bbox_inches='tight')\n",
    "fig.savefig('auc_err_bar.png', bbox_inches='tight')\n"
   ]
  },
  {
   "cell_type": "code",
   "execution_count": 26,
   "metadata": {},
   "outputs": [
    {
     "data": {
      "image/png": "[encoded data removed]",
      "text/plain": [
       "<Figure size 432x288 with 1 Axes>"
      ]
     },
     "metadata": {
      "needs_background": "light"
     },
     "output_type": "display_data"
    }
   ],
   "source": [
    "fig2 = df_mse_diff_mean.plot.bar(title=\"MSE of NCMF and Baselines\",yerr=df_mse_diff_std,error_kw=dict(ls=\"--\", lw=0.35)).get_figure()\n",
    "#fig2 = df_mse_diff_mean.plot.bar(title=\"Diff. MSE of NCMF and Baselines\").get_figure()\n",
    "fig2.savefig('mse_err_bar.pdf', bbox_inches='tight')\n",
    "fig2.savefig('mse_err_bar.png', bbox_inches='tight')"
   ]
  },
  {
   "cell_type": "code",
   "execution_count": 23,
   "metadata": {},
   "outputs": [
    {
     "data": {
      "image/png": "[encoded data removed]",
      "text/plain": [
       "<Figure size 432x288 with 1 Axes>"
      ]
     },
     "metadata": {
      "needs_background": "light"
     },
     "output_type": "display_data"
    }
   ],
   "source": [
    "fig = df_auc_diff_mean.plot.bar(title=\"Diff. AUC of NCMF and Baselines\").get_figure()\n",
    "fig.savefig('auc.pdf', bbox_inches='tight')\n",
    "fig.savefig('auc.png', bbox_inches='tight')"
   ]
  },
  {
   "cell_type": "code",
   "execution_count": 24,
   "metadata": {},
   "outputs": [
    {
     "data": {
      "image/png": "[encoded data removed]",
      "text/plain": [
       "<Figure size 432x288 with 1 Axes>"
      ]
     },
     "metadata": {
      "needs_background": "light"
     },
     "output_type": "display_data"
    }
   ],
   "source": [
    "fig2 = df_mse_diff_mean.plot.bar(title=\"Diff. MSE of NCMF and Baselines\").get_figure()\n",
    "fig2.savefig('mse.pdf', bbox_inches='tight')\n",
    "fig2.savefig('mse.png', bbox_inches='tight')"
   ]
  },
  {
   "cell_type": "code",
   "execution_count": null,
   "metadata": {},
   "outputs": [],
   "source": []
  }
 ],
 "metadata": {
  "kernelspec": {
   "display_name": "Python 3",
   "language": "python",
   "name": "python3"
  },
  "language_info": {
   "codemirror_mode": {
    "name": "ipython",
    "version": 3
   },
   "file_extension": ".py",
   "mimetype": "text/x-python",
   "name": "python",
   "nbconvert_exporter": "python",
   "pygments_lexer": "ipython3",
   "version": "3.7.7"
  }
 },
 "nbformat": 4,
 "nbformat_minor": 4
}
