{
 "cells": [
  {
   "cell_type": "code",
   "execution_count": 1,
   "metadata": {},
   "outputs": [],
   "source": [
    "import pandas as pd\n",
    "import numpy as np\n",
    "import pickle as pkl\n",
    "\n",
    "import seaborn as sns\n",
    "%matplotlib inline"
   ]
  },
  {
   "cell_type": "code",
   "execution_count": 2,
   "metadata": {},
   "outputs": [],
   "source": [
    "base_dir = \"./\""
   ]
  },
  {
   "cell_type": "code",
   "execution_count": 3,
   "metadata": {},
   "outputs": [
    {
     "name": "stdout",
     "output_type": "stream",
     "text": [
      "cur_run:  1\n",
      "fname_auc_diff:  ./run_1/diff_auc.csv\n",
      "fname_mse_diff:  ./run_1/diff_mse.csv\n",
      "cur_run:  2\n",
      "fname_auc_diff:  ./run_2/diff_auc.csv\n",
      "fname_mse_diff:  ./run_2/diff_mse.csv\n",
      "cur_run:  3\n",
      "fname_auc_diff:  ./run_3/diff_auc.csv\n",
      "fname_mse_diff:  ./run_3/diff_mse.csv\n"
     ]
    }
   ],
   "source": [
    "dict_run_auc_diff = {}\n",
    "dict_run_mse_diff = {}\n",
    "for cur_run in np.arange(1,4):\n",
    "    print(\"cur_run: \",cur_run)\n",
    "    fname_auc_diff = base_dir+\"run_\"+str(cur_run)+\"/diff_auc.csv\"\n",
    "    fname_mse_diff = base_dir+\"run_\"+str(cur_run)+\"/diff_mse.csv\"\n",
    "    print(\"fname_auc_diff: \",fname_auc_diff)\n",
    "    print(\"fname_mse_diff: \",fname_mse_diff)\n",
    "    df_auc_diff = pd.read_csv(fname_auc_diff)\n",
    "    df_auc_diff.columns = ['Dataset', 'dfmf', 'dcmf', 'cmf', 'gcmf']\n",
    "    df_mse_diff = pd.read_csv(fname_mse_diff)\n",
    "    df_mse_diff.columns = ['Dataset', 'dfmf', 'dcmf', 'cmf', 'gcmf']\n",
    "    df_auc_diff.set_index(\"Dataset\",inplace=True)\n",
    "    df_mse_diff.set_index(\"Dataset\",inplace=True)\n",
    "    dict_run_auc_diff[cur_run] = df_auc_diff\n",
    "    dict_run_mse_diff[cur_run] = df_mse_diff\n",
    "    "
   ]
  },
  {
   "cell_type": "code",
   "execution_count": 4,
   "metadata": {},
   "outputs": [],
   "source": [
    "# def get_mean_std(dict_run_auc_diff):\n",
    "#     list_df = list(dict_run_auc_diff.values())\n",
    "#     return p.mean(list_df), np.std(np.mean(list_df))"
   ]
  },
  {
   "cell_type": "code",
   "execution_count": 5,
   "metadata": {},
   "outputs": [],
   "source": [
    "def get_mean_sd(dict_run_auc_diff):\n",
    "    #\n",
    "    #mean\n",
    "    #\n",
    "    num_runs = 3\n",
    "    df_auc_diff_sum = None\n",
    "    for cur_run in np.arange(1,num_runs+1):\n",
    "        if cur_run in [1]:\n",
    "            df_auc_diff_sum = dict_run_auc_diff[cur_run]\n",
    "        else:\n",
    "            df_auc_diff_sum += dict_run_auc_diff[cur_run]\n",
    "    df_auc_diff_mean = df_auc_diff_sum/num_runs\n",
    "    #\n",
    "    #var/sd\n",
    "    #\n",
    "    dict_run_auc_diff_arr = {}\n",
    "    #\n",
    "    list_baselines = [\"dfmf\",\"dcmf\",\"cmf\",\"gcmf\"]\n",
    "    list_datasets = [\"dt1\",\"ds1\",\"ds2\",\"ds3\",\"dn1\",\"dn2\",\"dn3\"]\n",
    "    #\n",
    "    for cur_run in dict_run_auc_diff.keys():\n",
    "        cur_df = dict_run_auc_diff[cur_run]\n",
    "        dict_run_auc_diff_arr[cur_run] = cur_df.to_numpy()    \n",
    "    #\n",
    "    dict_ij_val_list = {}\n",
    "    for cur_run in dict_run_auc_diff.keys():\n",
    "        for i in np.arange(len(list_datasets)):\n",
    "            for j in np.arange(len(list_baselines)):\n",
    "                dict_ij_val_list[(i,j)] = []\n",
    "    #\n",
    "    for cur_run in dict_run_auc_diff.keys():\n",
    "        cur_arr = dict_run_auc_diff_arr[cur_run]\n",
    "        for i in np.arange(len(list_datasets)):\n",
    "            for j in np.arange(len(list_baselines)):\n",
    "                dict_ij_val_list[(i,j)].append(cur_arr[i,j])\n",
    "    #\n",
    "    dict_ij_sd = {}\n",
    "    for i in np.arange(len(list_datasets)):\n",
    "        for j in np.arange(len(list_baselines)):\n",
    "            dict_ij_sd[(i,j)] = np.std(dict_ij_val_list[(i,j)])\n",
    "    #\n",
    "    #back to --> arr --> df\n",
    "    sd_arr = np.zeros((len(list_datasets),len(list_baselines)))\n",
    "    for i in np.arange(len(list_datasets)):\n",
    "        for j in np.arange(len(list_baselines)):\n",
    "            sd_arr[i,j] = dict_ij_sd[(i,j)]\n",
    "    #\n",
    "    df_auc_diff_std = pd.DataFrame(sd_arr)\n",
    "    df_auc_diff_std.columns = list_baselines\n",
    "    df_auc_diff_std.index = list_datasets\n",
    "    #\n",
    "    return df_auc_diff_mean, df_auc_diff_std"
   ]
  },
  {
   "cell_type": "code",
   "execution_count": 6,
   "metadata": {},
   "outputs": [
    {
     "data": {
      "text/plain": [
       "{1:              dfmf      dcmf       cmf      gcmf\n",
       " Dataset                                        \n",
       " dt1      0.189218  0.100191  0.188604  0.201243\n",
       " ds1      0.346837  0.197779  0.341809  0.340072\n",
       " ds2      0.106287  0.106597  0.105852  0.103803\n",
       " ds3      0.188069  0.196405  0.200350  0.185285\n",
       " dn1      0.201764  0.207658  0.205855  0.207630\n",
       " dn2      0.077477  0.066959  0.079916  0.071077\n",
       " dn3      0.125271  0.134245  0.120778  0.125312,\n",
       " 2:              dfmf      dcmf       cmf      gcmf\n",
       " Dataset                                        \n",
       " dt1      0.235765  0.212475  0.245082  0.236503\n",
       " ds1      0.215488  0.219622  0.209310  0.209541\n",
       " ds2      0.212262  0.220285  0.210018  0.214071\n",
       " ds3      0.219635  0.234257  0.218815  0.215866\n",
       " dn1      0.271417  0.267813  0.269672  0.272373\n",
       " dn2      0.288554  0.293524  0.282782  0.285937\n",
       " dn3      0.258187  0.277209  0.258117  0.261520,\n",
       " 3:              dfmf      dcmf       cmf      gcmf\n",
       " Dataset                                        \n",
       " dt1      0.191809  0.179754  0.178696  0.179653\n",
       " ds1      0.312829  0.306916  0.319632  0.309985\n",
       " ds2      0.412718  0.403440  0.421898  0.416304\n",
       " ds3      0.270559  0.240638  0.266720  0.269086\n",
       " dn1      0.212464  0.195844  0.208784  0.201669\n",
       " dn2      0.189748  0.212896  0.202397  0.201922\n",
       " dn3      0.120618  0.125051  0.115086  0.113710}"
      ]
     },
     "execution_count": 6,
     "metadata": {},
     "output_type": "execute_result"
    }
   ],
   "source": [
    "dict_run_auc_diff"
   ]
  },
  {
   "cell_type": "code",
   "execution_count": 7,
   "metadata": {},
   "outputs": [],
   "source": [
    "df_auc_diff_mean, df_auc_diff_std = get_mean_sd(dict_run_auc_diff)"
   ]
  },
  {
   "cell_type": "code",
   "execution_count": 8,
   "metadata": {},
   "outputs": [],
   "source": [
    "#"
   ]
  },
  {
   "cell_type": "code",
   "execution_count": 9,
   "metadata": {},
   "outputs": [
    {
     "data": {
      "text/plain": [
       "{1:              dfmf      dcmf       cmf      gcmf\n",
       " Dataset                                        \n",
       " dt1      0.017941  0.011521 -0.015957 -0.077473\n",
       " ds1     -0.035081  0.004000 -0.017072 -0.053287\n",
       " ds2     -0.031011 -0.066613 -0.041973 -0.089686\n",
       " ds3      0.004819 -0.045837 -0.052991 -0.061358\n",
       " dn1      0.005647 -0.066929 -0.074880 -0.116941\n",
       " dn2      0.009108 -0.069217 -0.020171 -0.080364\n",
       " dn3     -0.024561 -0.107551 -0.054386 -0.124803,\n",
       " 2:              dfmf      dcmf       cmf      gcmf\n",
       " Dataset                                        \n",
       " dt1      0.030041 -0.050911 -0.006737 -0.064353\n",
       " ds1     -0.049873 -0.063006 -0.025338 -0.071314\n",
       " ds2     -0.024422 -0.058579 -0.033050 -0.069820\n",
       " ds3     -0.004845 -0.045279 -0.051261 -0.068929\n",
       " dn1      0.009289 -0.074312 -0.097433 -0.131913\n",
       " dn2     -0.001310 -0.082008 -0.046073 -0.099643\n",
       " dn3     -0.043795 -0.121588 -0.077147 -0.116946,\n",
       " 3:              dfmf      dcmf       cmf      gcmf\n",
       " Dataset                                        \n",
       " dt1      0.033836 -0.058902 -0.008002 -0.059099\n",
       " ds1     -0.047554 -0.064818 -0.034908 -0.065938\n",
       " ds2     -0.046017 -0.075328 -0.049591 -0.105645\n",
       " ds3     -0.001139 -0.042063 -0.037326 -0.083822\n",
       " dn1     -0.001337 -0.076718 -0.070657 -0.115246\n",
       " dn2     -0.030345 -0.126424 -0.096730 -0.138744\n",
       " dn3     -0.001881 -0.088199 -0.080525 -0.109683}"
      ]
     },
     "execution_count": 9,
     "metadata": {},
     "output_type": "execute_result"
    }
   ],
   "source": [
    "dict_run_mse_diff"
   ]
  },
  {
   "cell_type": "code",
   "execution_count": 10,
   "metadata": {},
   "outputs": [],
   "source": [
    "df_mse_diff_mean, df_mse_diff_std = get_mean_sd(dict_run_mse_diff)"
   ]
  },
  {
   "cell_type": "code",
   "execution_count": 11,
   "metadata": {},
   "outputs": [
    {
     "data": {
      "text/html": [
       "<div>\n",
       "<style scoped>\n",
       "    .dataframe tbody tr th:only-of-type {\n",
       "        vertical-align: middle;\n",
       "    }\n",
       "\n",
       "    .dataframe tbody tr th {\n",
       "        vertical-align: top;\n",
       "    }\n",
       "\n",
       "    .dataframe thead th {\n",
       "        text-align: right;\n",
       "    }\n",
       "</style>\n",
       "<table border=\"1\" class=\"dataframe\">\n",
       "  <thead>\n",
       "    <tr style=\"text-align: right;\">\n",
       "      <th></th>\n",
       "      <th>dfmf</th>\n",
       "      <th>dcmf</th>\n",
       "      <th>cmf</th>\n",
       "      <th>gcmf</th>\n",
       "    </tr>\n",
       "    <tr>\n",
       "      <th>Dataset</th>\n",
       "      <th></th>\n",
       "      <th></th>\n",
       "      <th></th>\n",
       "      <th></th>\n",
       "    </tr>\n",
       "  </thead>\n",
       "  <tbody>\n",
       "    <tr>\n",
       "      <th>dt1</th>\n",
       "      <td>0.027273</td>\n",
       "      <td>-0.032764</td>\n",
       "      <td>-0.010232</td>\n",
       "      <td>-0.066975</td>\n",
       "    </tr>\n",
       "    <tr>\n",
       "      <th>ds1</th>\n",
       "      <td>-0.044169</td>\n",
       "      <td>-0.041275</td>\n",
       "      <td>-0.025772</td>\n",
       "      <td>-0.063513</td>\n",
       "    </tr>\n",
       "    <tr>\n",
       "      <th>ds2</th>\n",
       "      <td>-0.033817</td>\n",
       "      <td>-0.066840</td>\n",
       "      <td>-0.041538</td>\n",
       "      <td>-0.088384</td>\n",
       "    </tr>\n",
       "    <tr>\n",
       "      <th>ds3</th>\n",
       "      <td>-0.000388</td>\n",
       "      <td>-0.044393</td>\n",
       "      <td>-0.047193</td>\n",
       "      <td>-0.071370</td>\n",
       "    </tr>\n",
       "    <tr>\n",
       "      <th>dn1</th>\n",
       "      <td>0.004533</td>\n",
       "      <td>-0.072653</td>\n",
       "      <td>-0.080990</td>\n",
       "      <td>-0.121367</td>\n",
       "    </tr>\n",
       "    <tr>\n",
       "      <th>dn2</th>\n",
       "      <td>-0.007516</td>\n",
       "      <td>-0.092550</td>\n",
       "      <td>-0.054325</td>\n",
       "      <td>-0.106250</td>\n",
       "    </tr>\n",
       "    <tr>\n",
       "      <th>dn3</th>\n",
       "      <td>-0.023412</td>\n",
       "      <td>-0.105779</td>\n",
       "      <td>-0.070686</td>\n",
       "      <td>-0.117144</td>\n",
       "    </tr>\n",
       "  </tbody>\n",
       "</table>\n",
       "</div>"
      ],
      "text/plain": [
       "             dfmf      dcmf       cmf      gcmf\n",
       "Dataset                                        \n",
       "dt1      0.027273 -0.032764 -0.010232 -0.066975\n",
       "ds1     -0.044169 -0.041275 -0.025772 -0.063513\n",
       "ds2     -0.033817 -0.066840 -0.041538 -0.088384\n",
       "ds3     -0.000388 -0.044393 -0.047193 -0.071370\n",
       "dn1      0.004533 -0.072653 -0.080990 -0.121367\n",
       "dn2     -0.007516 -0.092550 -0.054325 -0.106250\n",
       "dn3     -0.023412 -0.105779 -0.070686 -0.117144"
      ]
     },
     "execution_count": 11,
     "metadata": {},
     "output_type": "execute_result"
    }
   ],
   "source": [
    "df_mse_diff_mean"
   ]
  },
  {
   "cell_type": "code",
   "execution_count": 12,
   "metadata": {},
   "outputs": [
    {
     "data": {
      "text/html": [
       "<div>\n",
       "<style scoped>\n",
       "    .dataframe tbody tr th:only-of-type {\n",
       "        vertical-align: middle;\n",
       "    }\n",
       "\n",
       "    .dataframe tbody tr th {\n",
       "        vertical-align: top;\n",
       "    }\n",
       "\n",
       "    .dataframe thead th {\n",
       "        text-align: right;\n",
       "    }\n",
       "</style>\n",
       "<table border=\"1\" class=\"dataframe\">\n",
       "  <thead>\n",
       "    <tr style=\"text-align: right;\">\n",
       "      <th></th>\n",
       "      <th>dfmf</th>\n",
       "      <th>dcmf</th>\n",
       "      <th>cmf</th>\n",
       "      <th>gcmf</th>\n",
       "    </tr>\n",
       "  </thead>\n",
       "  <tbody>\n",
       "    <tr>\n",
       "      <th>dt1</th>\n",
       "      <td>0.023564</td>\n",
       "      <td>0.020711</td>\n",
       "      <td>0.011008</td>\n",
       "      <td>0.065654</td>\n",
       "    </tr>\n",
       "    <tr>\n",
       "      <th>ds1</th>\n",
       "      <td>0.039512</td>\n",
       "      <td>0.028252</td>\n",
       "      <td>0.022588</td>\n",
       "      <td>0.057512</td>\n",
       "    </tr>\n",
       "    <tr>\n",
       "      <th>ds2</th>\n",
       "      <td>0.032442</td>\n",
       "      <td>0.063334</td>\n",
       "      <td>0.039842</td>\n",
       "      <td>0.084905</td>\n",
       "    </tr>\n",
       "    <tr>\n",
       "      <th>ds3</th>\n",
       "      <td>0.001741</td>\n",
       "      <td>0.042215</td>\n",
       "      <td>0.046212</td>\n",
       "      <td>0.065212</td>\n",
       "    </tr>\n",
       "    <tr>\n",
       "      <th>dn1</th>\n",
       "      <td>0.006277</td>\n",
       "      <td>0.067156</td>\n",
       "      <td>0.075711</td>\n",
       "      <td>0.113587</td>\n",
       "    </tr>\n",
       "    <tr>\n",
       "      <th>dn2</th>\n",
       "      <td>0.012269</td>\n",
       "      <td>0.083744</td>\n",
       "      <td>0.047866</td>\n",
       "      <td>0.095417</td>\n",
       "    </tr>\n",
       "    <tr>\n",
       "      <th>dn3</th>\n",
       "      <td>0.028143</td>\n",
       "      <td>0.101071</td>\n",
       "      <td>0.062816</td>\n",
       "      <td>0.112289</td>\n",
       "    </tr>\n",
       "  </tbody>\n",
       "</table>\n",
       "</div>"
      ],
      "text/plain": [
       "         dfmf      dcmf       cmf      gcmf\n",
       "dt1  0.023564  0.020711  0.011008  0.065654\n",
       "ds1  0.039512  0.028252  0.022588  0.057512\n",
       "ds2  0.032442  0.063334  0.039842  0.084905\n",
       "ds3  0.001741  0.042215  0.046212  0.065212\n",
       "dn1  0.006277  0.067156  0.075711  0.113587\n",
       "dn2  0.012269  0.083744  0.047866  0.095417\n",
       "dn3  0.028143  0.101071  0.062816  0.112289"
      ]
     },
     "execution_count": 12,
     "metadata": {},
     "output_type": "execute_result"
    }
   ],
   "source": [
    "df_mse_diff_std"
   ]
  },
  {
   "cell_type": "code",
   "execution_count": 13,
   "metadata": {},
   "outputs": [
    {
     "data": {
      "image/png": "[encoded data removed]",
      "text/plain": [
       "<Figure size 432x288 with 1 Axes>"
      ]
     },
     "metadata": {
      "needs_background": "light"
     },
     "output_type": "display_data"
    }
   ],
   "source": [
    "fig = df_auc_diff_mean.plot.bar(title=\"Avg. Diff. AUC of NCMF and Baselines\",yerr=df_auc_diff_std,error_kw=dict(ls=\"--\", lw=.25)).get_figure()\n",
    "#fig = df_auc_diff_mean.plot.bar(title=\"Diff. AUC of NCMF and Baselines\").get_figure()\n",
    "fig.savefig('auc_diff_err_bar.pdf', bbox_inches='tight')\n",
    "fig.savefig('auc_diff_err_bar.png', bbox_inches='tight')\n"
   ]
  },
  {
   "cell_type": "code",
   "execution_count": 14,
   "metadata": {},
   "outputs": [
    {
     "data": {
      "image/png": "[encoded data removed]",
      "text/plain": [
       "<Figure size 432x288 with 1 Axes>"
      ]
     },
     "metadata": {
      "needs_background": "light"
     },
     "output_type": "display_data"
    }
   ],
   "source": [
    "fig2 = df_mse_diff_mean.plot.bar(title=\"Avg. Diff. MSE of NCMF and Baselines\",yerr=df_mse_diff_std,error_kw=dict(ls=\"--\", lw=0.25)).get_figure()\n",
    "#fig2 = df_mse_diff_mean.plot.bar(title=\"Diff. MSE of NCMF and Baselines\").get_figure()\n",
    "fig2.savefig('mse_diff_err_bar.pdf', bbox_inches='tight')\n",
    "fig2.savefig('mse_diff_err_bar.png', bbox_inches='tight')"
   ]
  },
  {
   "cell_type": "code",
   "execution_count": 17,
   "metadata": {},
   "outputs": [
    {
     "data": {
      "image/png": "[encoded data removed]",
      "text/plain": [
       "<Figure size 432x288 with 1 Axes>"
      ]
     },
     "metadata": {
      "needs_background": "light"
     },
     "output_type": "display_data"
    }
   ],
   "source": [
    "#fig = df_auc_diff_mean.plot.bar(title=\"Avg. Diff. AUC of NCMF and Baselines\").get_figure()\n",
    "fig = df_auc_diff_mean.plot.bar().get_figure()\n",
    "fig.savefig('auc_diff.pdf', bbox_inches='tight')\n",
    "fig.savefig('auc_diff.png', bbox_inches='tight')"
   ]
  },
  {
   "cell_type": "code",
   "execution_count": 18,
   "metadata": {},
   "outputs": [
    {
     "data": {
      "image/png": "[encoded data removed]",
      "text/plain": [
       "<Figure size 432x288 with 1 Axes>"
      ]
     },
     "metadata": {
      "needs_background": "light"
     },
     "output_type": "display_data"
    }
   ],
   "source": [
    "#fig2 = df_mse_diff_mean.plot.bar(title=\"Avg. Diff. MSE of NCMF and Baselines\").get_figure()\n",
    "fig2 = df_mse_diff_mean.plot.bar().get_figure()\n",
    "fig2.savefig('mse_diff.pdf', bbox_inches='tight')\n",
    "fig2.savefig('mse_diff.png', bbox_inches='tight')"
   ]
  },
  {
   "cell_type": "code",
   "execution_count": null,
   "metadata": {},
   "outputs": [],
   "source": []
  }
 ],
 "metadata": {
  "kernelspec": {
   "display_name": "Python 3",
   "language": "python",
   "name": "python3"
  },
  "language_info": {
   "codemirror_mode": {
    "name": "ipython",
    "version": 3
   },
   "file_extension": ".py",
   "mimetype": "text/x-python",
   "name": "python",
   "nbconvert_exporter": "python",
   "pygments_lexer": "ipython3",
   "version": "3.7.7"
  }
 },
 "nbformat": 4,
 "nbformat_minor": 4
}
