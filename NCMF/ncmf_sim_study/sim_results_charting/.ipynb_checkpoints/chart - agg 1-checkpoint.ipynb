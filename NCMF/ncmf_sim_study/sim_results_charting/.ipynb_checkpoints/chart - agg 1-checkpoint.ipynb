{
 "cells": [
  {
   "cell_type": "code",
   "execution_count": null,
   "metadata": {},
   "outputs": [],
   "source": [
    "import pandas as pd\n",
    "import numpy as np\n",
    "import pickle as pkl\n",
    "\n",
    "import seaborn as sns\n",
    "%matplotlib inline"
   ]
  },
  {
   "cell_type": "code",
   "execution_count": null,
   "metadata": {},
   "outputs": [],
   "source": [
    "base_dir = \"./\""
   ]
  },
  {
   "cell_type": "code",
   "execution_count": null,
   "metadata": {},
   "outputs": [],
   "source": [
    "dict_run_auc_diff = {}\n",
    "dict_run_mse_diff = {}\n",
    "for cur_run in np.arange(1,4):\n",
    "    print(\"cur_run: \",cur_run)\n",
    "    fname_auc_diff = base_dir+\"run_\"+str(cur_run)+\"/diff_auc.csv\"\n",
    "    fname_mse_diff = base_dir+\"run_\"+str(cur_run)+\"/diff_mse.csv\"\n",
    "    print(\"fname_auc_diff: \",fname_auc_diff)\n",
    "    print(\"fname_mse_diff: \",fname_mse_diff)\n",
    "    df_auc_diff = pd.read_csv(fname_auc_diff)\n",
    "    df_auc_diff.columns = ['Dataset', 'dfmf', 'dcmf', 'cmf', 'gcmf']\n",
    "    df_mse_diff = pd.read_csv(fname_mse_diff)\n",
    "    df_mse_diff.columns = ['Dataset', 'dfmf', 'dcmf', 'cmf', 'gcmf']\n",
    "    df_auc_diff.set_index(\"Dataset\",inplace=True)\n",
    "    df_mse_diff.set_index(\"Dataset\",inplace=True)\n",
    "    dict_run_auc_diff[cur_run] = df_auc_diff\n",
    "    dict_run_mse_diff[cur_run] = df_mse_diff\n",
    "    "
   ]
  },
  {
   "cell_type": "code",
   "execution_count": null,
   "metadata": {},
   "outputs": [],
   "source": [
    "# def get_mean_std(dict_run_auc_diff):\n",
    "#     list_df = list(dict_run_auc_diff.values())\n",
    "#     return p.mean(list_df), np.std(np.mean(list_df))"
   ]
  },
  {
   "cell_type": "code",
   "execution_count": null,
   "metadata": {},
   "outputs": [],
   "source": [
    "def get_mean_std(dict_run_auc_diff,is_mse=False):\n",
    "    #mean\n",
    "    num_runs = 3\n",
    "    df_auc_diff_sum = None\n",
    "    for cur_run in np.arange(1,num_runs+1):\n",
    "        if cur_run in [1]:\n",
    "            df_auc_diff_sum = dict_run_auc_diff[cur_run]\n",
    "        else:\n",
    "            df_auc_diff_sum += dict_run_auc_diff[cur_run]\n",
    "    df_auc_diff_mean = df_auc_diff_sum/num_runs\n",
    "    #var\n",
    "    dict_run_diff_sq = {}\n",
    "    for cur_run in np.arange(1,num_runs+1):\n",
    "        dict_run_diff_sq[cur_run] = (dict_run_auc_diff[cur_run] - df_auc_diff_mean)**2\n",
    "    #\n",
    "    df_run_diff_sq_sum = None\n",
    "    for cur_run in np.arange(1,num_runs+1):\n",
    "        if cur_run in [1]:\n",
    "            df_run_diff_sq_sum = dict_run_diff_sq[cur_run]\n",
    "        else:\n",
    "            df_run_diff_sq_sum += dict_run_diff_sq[cur_run]\n",
    "    df_auc_diff_sd = np.sqrt(df_run_diff_sq_sum/(num_runs-1))\n",
    "    #\n",
    "    return df_auc_diff_mean, df_auc_diff_sd"
   ]
  },
  {
   "cell_type": "code",
   "execution_count": null,
   "metadata": {},
   "outputs": [],
   "source": [
    "dict_run_auc_diff"
   ]
  },
  {
   "cell_type": "code",
   "execution_count": null,
   "metadata": {},
   "outputs": [],
   "source": [
    "df_auc_diff_mean, df_auc_diff_std = get_mean_std(dict_run_auc_diff)"
   ]
  },
  {
   "cell_type": "code",
   "execution_count": null,
   "metadata": {},
   "outputs": [],
   "source": [
    "df_auc_diff_mean"
   ]
  },
  {
   "cell_type": "code",
   "execution_count": null,
   "metadata": {},
   "outputs": [],
   "source": [
    "df_auc_diff_std"
   ]
  },
  {
   "cell_type": "code",
   "execution_count": null,
   "metadata": {},
   "outputs": [],
   "source": [
    "#"
   ]
  },
  {
   "cell_type": "code",
   "execution_count": null,
   "metadata": {},
   "outputs": [],
   "source": [
    "dict_run_mse_diff"
   ]
  },
  {
   "cell_type": "code",
   "execution_count": null,
   "metadata": {},
   "outputs": [],
   "source": [
    "df_mse_diff_mean, df_mse_diff_std = get_mean_std(dict_run_mse_diff)"
   ]
  },
  {
   "cell_type": "code",
   "execution_count": null,
   "metadata": {},
   "outputs": [],
   "source": [
    "df_mse_diff_mean"
   ]
  },
  {
   "cell_type": "code",
   "execution_count": null,
   "metadata": {},
   "outputs": [],
   "source": [
    "df_mse_diff_std"
   ]
  },
  {
   "cell_type": "code",
   "execution_count": null,
   "metadata": {},
   "outputs": [],
   "source": [
    "fig = df_auc_diff_mean.plot.bar(title=\"Diff. AUC of NCMF and Baselines\",yerr=df_auc_diff_std,error_kw=dict(ls=\"--\", lw=.25)).get_figure()\n",
    "#fig = df_auc_diff_mean.plot.bar(title=\"Diff. AUC of NCMF and Baselines\").get_figure()\n",
    "fig.savefig('auc_diff_err_bar.pdf', bbox_inches='tight')\n",
    "fig.savefig('auc_diff_err_bar.png', bbox_inches='tight')\n"
   ]
  },
  {
   "cell_type": "code",
   "execution_count": null,
   "metadata": {},
   "outputs": [],
   "source": [
    "fig2 = df_mse_diff_mean.plot.bar(title=\"Diff. MSE of NCMF and Baselines\",yerr=df_mse_diff_std,error_kw=dict(ls=\"--\", lw=0.25)).get_figure()\n",
    "#fig2 = df_mse_diff_mean.plot.bar(title=\"Diff. MSE of NCMF and Baselines\").get_figure()\n",
    "fig2.savefig('mse_diff_err_bar.pdf', bbox_inches='tight')\n",
    "fig2.savefig('mse_diff_err_bar.png', bbox_inches='tight')"
   ]
  },
  {
   "cell_type": "code",
   "execution_count": null,
   "metadata": {},
   "outputs": [],
   "source": []
  }
 ],
 "metadata": {
  "kernelspec": {
   "display_name": "Python 3",
   "language": "python",
   "name": "python3"
  },
  "language_info": {
   "codemirror_mode": {
    "name": "ipython",
    "version": 3
   },
   "file_extension": ".py",
   "mimetype": "text/x-python",
   "name": "python",
   "nbconvert_exporter": "python",
   "pygments_lexer": "ipython3",
   "version": "3.7.7"
  }
 },
 "nbformat": 4,
 "nbformat_minor": 4
}
